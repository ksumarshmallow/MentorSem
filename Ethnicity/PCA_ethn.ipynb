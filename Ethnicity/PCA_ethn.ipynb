{
 "cells": [
  {
   "cell_type": "code",
   "execution_count": 1,
   "id": "964c41be-8c22-43e8-8d7a-0fc619703fc0",
   "metadata": {},
   "outputs": [],
   "source": [
    "import os\n",
    "import subprocess\n",
    "\n",
    "import numpy as np\n",
    "import pandas as pd\n",
    "import scipy.stats as sps\n",
    "from tqdm import tqdm\n",
    "from bed_reader import open_bed\n",
    "from sklearn.decomposition import PCA\n",
    "\n",
    "import matplotlib.pyplot as plt\n",
    "import plotly.express as px\n",
    "import seaborn as sns\n",
    "sns.set(style=\"whitegrid\", context=\"notebook\", palette=\"pastel\")\n",
    "\n",
    "import warnings\n",
    "warnings.simplefilter('ignore')"
   ]
  },
  {
   "cell_type": "markdown",
   "id": "2f790bf5-040e-4bdd-8b06-14f6d9201bc0",
   "metadata": {},
   "source": [
    "1. [plink LD arguments](https://www.cog-genomics.org/plink/1.9/ld):\n",
    "    - **window size** - a window size in variant count or kilobase units\n",
    "    - **step size** - a variant count to shift the window at the end of each step\n",
    "    - **r2 thresold** - a pairwise r2 threshold: at each step, pairs of variants in the current window with squared correlation greater than the threshold are noted, and variants are greedily pruned from the window until no such pairs remain\n",
    "2. \n"
   ]
  },
  {
   "cell_type": "code",
   "execution_count": 2,
   "id": "35824d94-51ed-4be8-bff2-5cf58294cfab",
   "metadata": {},
   "outputs": [],
   "source": [
    "PLINK_PATH = '/bin/plink'\n",
    "DATA_PATH = 'data'\n",
    "\n",
    "PREFIX = 'biengi'\n",
    "\n",
    "# WC arguments\n",
    "MAF_THRESHOLD = 0.05\n",
    "\n",
    "# Prunning argument\n",
    "LD_WINDOW = 50\n",
    "LD_STEP = 5\n",
    "LD_R2_THRESHOLD = 0.2"
   ]
  },
  {
   "cell_type": "markdown",
   "id": "9b2b8eae-1e24-47ed-8b28-819f4548d9c7",
   "metadata": {},
   "source": [
    "## Quality Control and Prunning"
   ]
  },
  {
   "cell_type": "code",
   "execution_count": 22,
   "id": "5e91273a-73af-48f4-8e4f-d244a0e2b5fe",
   "metadata": {},
   "outputs": [],
   "source": [
    "# QC + prunning with plink\n",
    "QC_cmd = (\n",
    "    f\"{PLINK_PATH} \"\n",
    "    f\"--bfile {DATA_PATH}/{PREFIX} \"\n",
    "    f\"--indep-pairwise {LD_WINDOW} {LD_STEP} {LD_R2_THRESHOLD} \"\n",
    "    f\"--maf {MAF_THRESHOLD} \"\n",
    "    f\"--make-bed \"\n",
    "    f\"--out {DATA_PATH}/{PREFIX}_clean\"\n",
    ")\n",
    "\n",
    "# Prunning\n",
    "prune_cmd = (\n",
    "    f\"{PLINK_PATH} \"\n",
    "    f\"--bfile {DATA_PATH}/{PREFIX}_clean \"\n",
    "    f\"--extract {DATA_PATH}/{PREFIX}_clean.prune.out \"\n",
    "    f\"--make-bed \"\n",
    "    f\"--out {DATA_PATH}/{PREFIX}_prunned\"\n",
    ")"
   ]
  },
  {
   "cell_type": "code",
   "execution_count": 23,
   "id": "8c5282c0-c9ce-4d17-9450-018b78f6952d",
   "metadata": {},
   "outputs": [
    {
     "name": "stdout",
     "output_type": "stream",
     "text": [
      "PLINK v1.90b7.4 64-bit (18 Aug 2024)           www.cog-genomics.org/plink/1.9/\n",
      "(C) 2005-2024 Shaun Purcell, Christopher Chang   GNU General Public License v3\n",
      "Logging to data/biengi_clean.log.\n",
      "Options in effect:\n",
      "  --bfile data/biengi\n",
      "  --indep-pairwise 50 5 0.2\n",
      "  --maf 0.05\n",
      "  --make-bed\n",
      "  --out data/biengi_clean\n",
      "\n",
      "96550 MB RAM detected; reserving 48275 MB for main workspace.\n",
      "242180 variants loaded from .bim file.\n",
      "894 people (574 males, 320 females) loaded from .fam.\n",
      "Using 1 thread (no multithreaded calculations invoked).\n",
      "Before main variant filters, 894 founders and 0 nonfounders present.\n",
      "Calculating allele frequencies... 10111213141516171819202122232425262728293031323334353637383940414243444546474849505152535455565758596061626364656667686970717273747576777879808182838485868788899091929394959697989 done.\n",
      "Total genotyping rate is 0.999006.\n",
      "7474 variants removed due to minor allele threshold(s)\n",
      "(--maf/--max-maf/--mac/--max-mac).\n",
      "234706 variants and 894 people pass filters and QC.\n",
      "Note: No phenotypes present.\n",
      "--make-bed to data/biengi_clean.bed + data/biengi_clean.bim +\n",
      "data/biengi_clean.fam ... 101112131415161718192021222324252627282930313233343536373839404142434445464748495051525354555657585960616263646566676869707172737475767778798081828384858687888990919293949596979899done.\n",
      "Pruned 12175 variants from chromosome 1, leaving 5996.\n",
      "Pruned 13505 variants from chromosome 2, leaving 5869.\n",
      "Pruned 11313 variants from chromosome 3, leaving 5053.\n",
      "Pruned 9226 variants from chromosome 4, leaving 4564.\n",
      "Pruned 9915 variants from chromosome 5, leaving 4576.\n",
      "Pruned 10989 variants from chromosome 6, leaving 4601.\n",
      "Pruned 8445 variants from chromosome 7, leaving 4104.\n",
      "Pruned 9813 variants from chromosome 8, leaving 3939.\n",
      "Pruned 8407 variants from chromosome 9, leaving 3737.\n",
      "Pruned 8234 variants from chromosome 10, leaving 3892.\n",
      "Pruned 7739 variants from chromosome 11, leaving 3602.\n",
      "Pruned 7723 variants from chromosome 12, leaving 3739.\n",
      "Pruned 5525 variants from chromosome 13, leaving 2847.\n",
      "Pruned 4962 variants from chromosome 14, leaving 2611.\n",
      "Pruned 4558 variants from chromosome 15, leaving 2359.\n",
      "Pruned 4483 variants from chromosome 16, leaving 2613.\n",
      "Pruned 4061 variants from chromosome 17, leaving 2476.\n",
      "Pruned 5259 variants from chromosome 18, leaving 2605.\n",
      "Pruned 2690 variants from chromosome 19, leaving 1939.\n",
      "Pruned 3857 variants from chromosome 20, leaving 2263.\n",
      "Pruned 2841 variants from chromosome 21, leaving 1316.\n",
      "Pruned 2875 variants from chromosome 22, leaving 1410.\n",
      "Pruning complete.  158595 of 234706 variants removed.\n",
      "Marker lists written to data/biengi_clean.prune.in and\n",
      "data/biengi_clean.prune.out .\n",
      "PLINK v1.90b7.4 64-bit (18 Aug 2024)           www.cog-genomics.org/plink/1.9/\n",
      "(C) 2005-2024 Shaun Purcell, Christopher Chang   GNU General Public License v3\n",
      "Logging to data/biengi_prunned.log.\n",
      "Options in effect:\n",
      "  --bfile data/biengi_clean\n",
      "  --extract data/biengi_clean.prune.out\n",
      "  --make-bed\n",
      "  --out data/biengi_prunned\n",
      "\n",
      "96550 MB RAM detected; reserving 48275 MB for main workspace.\n",
      "234706 variants loaded from .bim file.\n",
      "894 people (574 males, 320 females) loaded from .fam.\n",
      "--extract: 158595 variants remaining.\n",
      "Using 1 thread (no multithreaded calculations invoked).\n",
      "Before main variant filters, 894 founders and 0 nonfounders present.\n",
      "Calculating allele frequencies... 10111213141516171819202122232425262728293031323334353637383940414243444546474849505152535455565758596061626364656667686970717273747576777879808182838485868788899091929394959697989 done.\n",
      "Total genotyping rate is 0.998996.\n",
      "158595 variants and 894 people pass filters and QC.\n",
      "Note: No phenotypes present.\n",
      "--make-bed to data/biengi_prunned.bed + data/biengi_prunned.bim +\n",
      "data/biengi_prunned.fam ... 101112131415161718192021222324252627282930313233343536373839404142434445464748495051525354555657585960616263646566676869707172737475767778798081828384858687888990919293949596979899done.\n"
     ]
    },
    {
     "data": {
      "text/plain": [
       "CompletedProcess(args='/bin/plink --bfile data/biengi_clean --extract data/biengi_clean.prune.out --make-bed --out data/biengi_prunned', returncode=0)"
      ]
     },
     "execution_count": 23,
     "metadata": {},
     "output_type": "execute_result"
    }
   ],
   "source": [
    "subprocess.run(QC_cmd, shell=True)\n",
    "subprocess.run(prune_cmd, shell=True)"
   ]
  },
  {
   "cell_type": "markdown",
   "id": "bf4d2c15-e736-48b1-bdfa-bbe7aa0c9e32",
   "metadata": {},
   "source": [
    "## Read preprocessed data"
   ]
  },
  {
   "cell_type": "code",
   "execution_count": 26,
   "id": "0f06c651-4189-4ef7-b94f-17c9c56934fa",
   "metadata": {},
   "outputs": [],
   "source": [
    "# table with population annotation\n",
    "data_pop = pd.read_csv(f'{DATA_PATH}/{PREFIX}.pedind', sep='\\t', names=['c1', 'c2', 'c3', 'c4', 'c5', 'Population'])\n",
    "\n",
    "# .bed file \n",
    "data = open_bed(f'{DATA_PATH}/{PREFIX}_clean.bed').read()"
   ]
  },
  {
   "cell_type": "code",
   "execution_count": 4,
   "id": "00d43c56-3788-4fa3-b139-e4690733da35",
   "metadata": {},
   "outputs": [
    {
     "name": "stdout",
     "output_type": "stream",
     "text": [
      "Number of samples: 894\n",
      "Number of SNPs after prunning and QC: 234706\n",
      "Number of populations: 28\n"
     ]
    }
   ],
   "source": [
    "print(f'Number of samples: {data.shape[0]}')\n",
    "print(f'Number of SNPs after prunning and QC: {data.shape[1]}')\n",
    "print(f'Number of populations: {data_pop['Population'].nunique()}')"
   ]
  },
  {
   "cell_type": "markdown",
   "id": "ada0c0eb-3947-44a8-9831-eee292979c51",
   "metadata": {},
   "source": [
    "## Imputation"
   ]
  },
  {
   "cell_type": "code",
   "execution_count": 5,
   "id": "3d556c8e-e158-4d87-85fb-ea47fd62f160",
   "metadata": {},
   "outputs": [
    {
     "data": {
      "image/png": "[encoded data removed]",
      "text/plain": [
       "<Figure size 800x400 with 2 Axes>"
      ]
     },
     "metadata": {},
     "output_type": "display_data"
    }
   ],
   "source": [
    "fig, axs = plt.subplots(1, 2, figsize=(8, 4))\n",
    "\n",
    "sns.boxplot(np.isnan(data).sum(axis=1), ax=axs[0])\n",
    "sns.boxplot(np.isnan(data).sum(axis=0), ax=axs[1])\n",
    "\n",
    "axs[0].set_title('Missed data per sample')\n",
    "axs[1].set_title('Missed data per SNP');"
   ]
  },
  {
   "cell_type": "markdown",
   "id": "1d3db116-53ee-4ede-8ccf-f24a0d9e12b8",
   "metadata": {},
   "source": [
    "Impute by SNP with mode"
   ]
  },
  {
   "cell_type": "code",
   "execution_count": 9,
   "id": "9e510dbb-e410-4b9c-bb49-44b1c97779d7",
   "metadata": {},
   "outputs": [],
   "source": [
    "# Calculate the mode for each SNP\n",
    "SNP_mode = sps.mode(data, axis=0, nan_policy='omit').mode[0]\n",
    "\n",
    "# Impute missing values in each column with the mode\n",
    "data_imputed = np.where(np.isnan(data), SNP_mode, data)"
   ]
  },
  {
   "cell_type": "code",
   "execution_count": 10,
   "id": "044cfcd3-2e95-4c25-86fc-d571a23d7e5f",
   "metadata": {},
   "outputs": [],
   "source": [
    "assert np.isnan(data_imputed).sum()==0, 'You failed'"
   ]
  },
  {
   "cell_type": "markdown",
   "id": "71e3bf6f-4844-4825-9a12-469638217e48",
   "metadata": {},
   "source": [
    "## Run PCA"
   ]
  },
  {
   "cell_type": "markdown",
   "id": "62dcb87b-769f-434c-95ae-072a8bce1e99",
   "metadata": {},
   "source": [
    "Find the best number of components - **Elbow method**"
   ]
  },
  {
   "cell_type": "code",
   "execution_count": 77,
   "id": "1da99077-3b13-4972-b0a8-b34c847c57d5",
   "metadata": {},
   "outputs": [
    {
     "name": "stderr",
     "output_type": "stream",
     "text": [
      "100%|\u001b[32m██████████\u001b[0m| 30/30 [02:05<00:00,  4.18s/it]\n"
     ]
    }
   ],
   "source": [
    "explained_variance_ratios = []\n",
    "\n",
    "for k in tqdm(range(1, 31), colour='GREEN'):\n",
    "    pca = PCA(n_components=k)\n",
    "    data_transformed = pca.fit_transform(data_imputed)\n",
    "    explained_variance_ratios.append(pca.explained_variance_ratio_.sum().item()) # .explained_variance_"
   ]
  },
  {
   "cell_type": "code",
   "execution_count": 83,
   "id": "80beae97-0d9d-4595-a718-cf8d048ac2da",
   "metadata": {},
   "outputs": [
    {
     "data": {
      "image/png": "[encoded data removed]",
      "text/plain": [
       "<Figure size 800x400 with 1 Axes>"
      ]
     },
     "metadata": {},
     "output_type": "display_data"
    }
   ],
   "source": [
    "plt.figure(figsize=(8, 4))\n",
    "plt.plot(range(1, 31), explained_variance_ratios)\n",
    "plt.scatter(range(1, 31), explained_variance_ratios)\n",
    "plt.xlabel('Number of components')\n",
    "plt.ylabel('Explained ratio');"
   ]
  },
  {
   "cell_type": "markdown",
   "id": "9b895fc6-86b0-4f70-a01b-8fb33311d4f7",
   "metadata": {},
   "source": [
    "Very low explained ratio... Okay, run with 10 components, btw we'll plot only 2-3 components"
   ]
  },
  {
   "cell_type": "code",
   "execution_count": 11,
   "id": "7dfe07ef-5a38-4e1f-b103-b8a960819f7f",
   "metadata": {},
   "outputs": [
    {
     "data": {
      "text/plain": [
       "(894, 10)"
      ]
     },
     "execution_count": 11,
     "metadata": {},
     "output_type": "execute_result"
    }
   ],
   "source": [
    "pca = PCA(n_components=10)\n",
    "data_transformed = pca.fit_transform(data_imputed)\n",
    "\n",
    "data_transformed.shape"
   ]
  },
  {
   "cell_type": "markdown",
   "id": "5311f85e-b3b7-4be6-a663-4ae5e36427f2",
   "metadata": {},
   "source": [
    "## Plot main components"
   ]
  },
  {
   "cell_type": "code",
   "execution_count": 32,
   "id": "02d18b3d-a744-44a9-b114-6a0b776ef895",
   "metadata": {},
   "outputs": [
    {
     "data": {
      "text/html": [
       "<div>\n",
       "<style scoped>\n",
       "    .dataframe tbody tr th:only-of-type {\n",
       "        vertical-align: middle;\n",
       "    }\n",
       "\n",
       "    .dataframe tbody tr th {\n",
       "        vertical-align: top;\n",
       "    }\n",
       "\n",
       "    .dataframe thead th {\n",
       "        text-align: right;\n",
       "    }\n",
       "</style>\n",
       "<table border=\"1\" class=\"dataframe\">\n",
       "  <thead>\n",
       "    <tr style=\"text-align: right;\">\n",
       "      <th></th>\n",
       "      <th>PC1</th>\n",
       "      <th>PC2</th>\n",
       "      <th>PC3</th>\n",
       "      <th>Population</th>\n",
       "    </tr>\n",
       "  </thead>\n",
       "  <tbody>\n",
       "    <tr>\n",
       "      <th>888</th>\n",
       "      <td>113.958583</td>\n",
       "      <td>9.321972</td>\n",
       "      <td>13.365103</td>\n",
       "      <td>Yakut</td>\n",
       "    </tr>\n",
       "    <tr>\n",
       "      <th>288</th>\n",
       "      <td>-60.766603</td>\n",
       "      <td>48.852994</td>\n",
       "      <td>-16.768931</td>\n",
       "      <td>Megrel</td>\n",
       "    </tr>\n",
       "    <tr>\n",
       "      <th>66</th>\n",
       "      <td>-59.915667</td>\n",
       "      <td>48.968380</td>\n",
       "      <td>-19.403317</td>\n",
       "      <td>Tatar</td>\n",
       "    </tr>\n",
       "    <tr>\n",
       "      <th>193</th>\n",
       "      <td>-60.450735</td>\n",
       "      <td>-23.661655</td>\n",
       "      <td>17.038256</td>\n",
       "      <td>Belarus</td>\n",
       "    </tr>\n",
       "    <tr>\n",
       "      <th>302</th>\n",
       "      <td>-58.009276</td>\n",
       "      <td>49.651147</td>\n",
       "      <td>-16.464988</td>\n",
       "      <td>Megrel</td>\n",
       "    </tr>\n",
       "  </tbody>\n",
       "</table>\n",
       "</div>"
      ],
      "text/plain": [
       "            PC1        PC2        PC3 Population\n",
       "888  113.958583   9.321972  13.365103      Yakut\n",
       "288  -60.766603  48.852994 -16.768931     Megrel\n",
       "66   -59.915667  48.968380 -19.403317      Tatar\n",
       "193  -60.450735 -23.661655  17.038256    Belarus\n",
       "302  -58.009276  49.651147 -16.464988     Megrel"
      ]
     },
     "execution_count": 32,
     "metadata": {},
     "output_type": "execute_result"
    }
   ],
   "source": [
    "data_pca = pd.DataFrame({'PC1': data_transformed[:, 0],\n",
    "                         'PC2': data_transformed[:, 1],\n",
    "                         'PC3': data_transformed[:, 2],\n",
    "                         'Population': data_pop['Population'].values\n",
    "                        })\n",
    "\n",
    "data_pca.sample(5)"
   ]
  },
  {
   "cell_type": "code",
   "execution_count": 33,
   "id": "d68cb93c-5495-4f61-a6fb-eda204625b43",
   "metadata": {},
   "outputs": [
    {
     "data": {
      "image/png": "[encoded data removed]",
      "text/plain": [
       "<Figure size 1000x600 with 1 Axes>"
      ]
     },
     "metadata": {},
     "output_type": "display_data"
    }
   ],
   "source": [
    "plt.figure(figsize=(10, 6))\n",
    "\n",
    "scatter = sns.scatterplot(\n",
    "    x='PC1', y='PC2', \n",
    "    hue='Population', \n",
    "    data=data_pca,\n",
    "    s=40,\n",
    "    edgecolor='k',\n",
    "    alpha=0.8\n",
    ")\n",
    "\n",
    "plt.legend(\n",
    "    title='Population', title_fontsize='13', fontsize='11', \n",
    "    loc='upper center', bbox_to_anchor=(0.5, -0.15), ncol=5, \n",
    "    frameon=True, framealpha=0.8\n",
    ")\n",
    "\n",
    "plt.xlabel(\"Principal Component 1\", fontsize=14, labelpad=10)\n",
    "plt.ylabel(\"Principal Component 2\", fontsize=14, labelpad=10)\n",
    "plt.title(\"PCA Scatter Plot by Population\", fontsize=16, fontweight='bold', pad=15)\n",
    "\n",
    "plt.grid(True, which='both', linestyle='--', linewidth=0.5)\n",
    "plt.gca().set_facecolor('whitesmoke');"
   ]
  },
  {
   "cell_type": "code",
   "execution_count": 36,
   "id": "08ede74d-12e6-4231-97f3-ff69eb30587b",
   "metadata": {},
   "outputs": [
    {
     "data": {
      "application/vnd.plotly.v1+json": {
       "config": {
        "plotlyServerURL": "https://plot.ly"
       },
       "data": [
        {
         "hovertemplate": "Population=Karel<br>PC1=%{x}<br>PC2=%{y}<br>PC3=%{z}<extra></extra>",
         "legendgroup": "Karel",
         "marker": {
          "color": "#636efa",
          "opacity": 0.8,
          "size": 4,
          "symbol": "circle"
         },
         "mode": "markers",
         "name": "Karel",
         "scene": "scene",
         "showlegend": true,
         "type": "scatter3d",
         "x": [
          -42.13341711463961,
          -53.14261242457114,
          -48.0366756706272,
          -41.15362585251535,
          -44.6708211864081,
          -41.973349397040145,
          -45.16244630555844,
          -54.26206026157157,
          -52.12732791731184,
          -42.26559113882445,
          -38.70481917934372,
          -40.40893690706763,
          -44.90735340510051,
          -46.388893919692315,
          -46.46174714298782,
          -39.25807149825819,
          -43.79861621254812,
          -42.79158135057491,
          -47.78385080469018,
          -43.240200131703226,
          -44.692283082210885,
          -45.55804756957822,
          -44.110035068750996,
          -50.356367373285366,
          -44.30953717784081,
          -45.915196178667394
         ],
         "y": [
          -35.990191217101135,
          -23.538366369781983,
          -33.04494479072176,
          -34.40435506521747,
          -33.24036916658041,
          -35.797076765316284,
          -33.41683993814548,
          -25.910701521125166,
          -29.678081744600174,
          -34.703790552311304,
          -33.14106034599163,
          -36.57482743993075,
          -33.492889311132195,
          -33.73371998362398,
          -35.27617701218574,
          -36.40897310928651,
          -32.909752174472914,
          -34.05611392519443,
          -31.934582919596618,
          -32.21694880492527,
          -32.24178135648683,
          -31.861173728112366,
          -27.506774521231907,
          -30.193649800550443,
          -34.943775103965876,
          -33.6683989056016
         ],
         "z": [
          16.35144699693636,
          19.596394411197767,
          15.394848863915726,
          15.346323988588392,
          10.419576405217814,
          15.51971261637744,
          16.188926958238103,
          17.506008419872106,
          15.850174092189285,
          15.92883281682823,
          15.037037040077035,
          15.135341608225026,
          16.688694004323022,
          17.366677214701447,
          12.068511132577372,
          16.620576993092957,
          11.511562312249609,
          16.86651067904513,
          15.720064913559588,
          16.492196132186386,
          16.657791216611255,
          12.848217164069727,
          14.821220997301825,
          11.026168776064253,
          18.81154377137033,
          14.498849166887547
         ]
        },
        {
         "hovertemplate": "Population=Moldovan<br>PC1=%{x}<br>PC2=%{y}<br>PC3=%{z}<extra></extra>",
         "legendgroup": "Moldovan",
         "marker": {
          "color": "#EF553B",
          "opacity": 0.8,
          "size": 4,
          "symbol": "diamond"
         },
         "mode": "markers",
         "name": "Moldovan",
         "scene": "scene",
         "showlegend": true,
         "type": "scatter3d",
         "x": [
          -59.08168746487717,
          -57.80543006303658,
          -61.52762021647398,
          -59.57365216737258,
          -58.522311904643075,
          -60.49445913785534,
          -59.42946494139578,
          -56.27145229493878,
          -61.476927471871896,
          -57.840871615846794,
          -58.751248061389326,
          -58.662900662893314,
          -59.520708364132645,
          -59.49969487389996,
          -60.55977734264342,
          -56.36563226241964,
          -56.967246254929414,
          -60.05981644791438,
          -56.68241831101598,
          -58.589636366275535,
          -60.806600840365,
          -61.828065615866564,
          -61.09855347645394,
          -59.83419471669021,
          -57.98509537016858,
          -60.259354840667,
          -53.973920832768876,
          -59.743242737361776,
          -58.74655610506841,
          -59.796533418430485,
          -58.47345620380764,
          -57.927365125882886
         ],
         "y": [
          -6.421148154637516,
          -4.710803144773738,
          -8.067798101827819,
          -9.32216821072279,
          -3.5022206385334074,
          -2.978458860471549,
          -8.053243282788115,
          -6.9971739899883225,
          -4.268875092929656,
          -6.484741639470749,
          -5.283142778201417,
          -11.431931130598395,
          -2.324712400110616,
          -9.163749452212256,
          -8.153419768402536,
          -6.959037699165054,
          -6.010295519525542,
          -5.943736301893176,
          -9.119214355362532,
          -6.259869206763532,
          -6.792870970446586,
          -8.271091356250487,
          1.6790335234287723,
          -5.954680937600305,
          -9.791953373911408,
          -4.404256893805394,
          -0.890946285688533,
          -6.505726830840102,
          -8.82843010364964,
          -7.597934209852729,
          -11.948660587945247,
          -7.357810852741427
         ],
         "z": [
          13.131256680827335,
          10.898780889204254,
          11.148444912908015,
          13.661320553184487,
          9.331997838929901,
          8.264307611200952,
          7.440479826884806,
          13.772337834054294,
          11.303431304786798,
          10.779417132644866,
          10.979878959235334,
          11.520580261750343,
          12.127076986832181,
          13.90978883016749,
          11.663151900328652,
          13.84573651744199,
          9.042248124019121,
          12.883099261180574,
          10.721993555334551,
          11.585758097903309,
          11.135573784466397,
          13.321094916065586,
          7.6436898922567025,
          9.206011754845214,
          10.261734927437143,
          11.524521915068432,
          11.728521266228304,
          10.593052027162102,
          13.47600329281771,
          14.966853613977984,
          13.839716283621318,
          12.609755719165815
         ]
        },
        {
         "hovertemplate": "Population=Tatar<br>PC1=%{x}<br>PC2=%{y}<br>PC3=%{z}<extra></extra>",
         "legendgroup": "Tatar",
         "marker": {
          "color": "#00cc96",
          "opacity": 0.8,
          "size": 4,
          "symbol": "square"
         },
         "mode": "markers",
         "name": "Tatar",
         "scene": "scene",
         "showlegend": true,
         "type": "scatter3d",
         "x": [
          -22.801896456384,
          -19.07529556896048,
          -21.512109449838796,
          -26.120524048861583,
          -18.49437624995926,
          -28.548724649907324,
          -22.173025617435833,
          -23.218245811019514,
          -59.91566744320654,
          -30.65971126778524,
          -11.799206886931442,
          -36.88789428626197,
          -42.81310844989605,
          -28.47484857744511,
          -32.20014255682131,
          -22.344492367300003,
          -18.327755561767717,
          -26.543593639569718,
          -26.232772265355937,
          -20.967892607436198,
          -19.700261158162924,
          -24.660720359483342,
          -15.252547906517613,
          -13.83143871250442,
          -27.36177165332642,
          -18.969231692014485,
          -19.098187861065206,
          -14.247107459077613,
          -25.37372689855782,
          -18.01372766472012,
          -22.108258832922907,
          -37.19262128559018,
          -17.007844541723525,
          -24.602992401726954
         ],
         "y": [
          -18.565489351475325,
          -13.921573868508426,
          -15.405518331060948,
          -13.312165232316566,
          -15.340443902477702,
          -12.256222977792584,
          -15.172031922203804,
          -7.232655516412416,
          48.968379564136534,
          -14.482584458001412,
          -14.275465702970251,
          7.284741555524585,
          -15.802870039935597,
          -11.745206419515936,
          -15.961895397494661,
          -9.102822467728801,
          -15.06596265511158,
          -15.854796225288206,
          -12.534985979477748,
          -11.843110580852779,
          -15.139938271778549,
          -12.663277964897189,
          -12.754763277383578,
          -17.216922878926372,
          -11.188572145819789,
          -16.433453981174868,
          -17.354877529073875,
          -13.006259710094104,
          -13.375252570126264,
          -11.695154451901134,
          -12.981026816020126,
          -14.275747985664125,
          -16.3333765029763,
          -15.265864870281229
         ],
         "z": [
          8.394014769299204,
          7.194096480780012,
          2.6529890353051746,
          9.482777309093946,
          7.857717742903604,
          7.444250367866252,
          0.7768080833201587,
          6.641913467500403,
          -19.403316874144597,
          6.297088813497852,
          1.918584538844609,
          0.5692361315995609,
          13.284723220832781,
          7.97018605218217,
          12.38052555378092,
          4.026204369887319,
          5.079396913790335,
          6.593137282351904,
          3.9131594041589057,
          6.165452540066416,
          5.069418717923503,
          3.3875793922062094,
          1.1184856543341761,
          3.5856169767984465,
          2.441487175520661,
          5.943922875958615,
          3.1363500643190485,
          5.416740195552083,
          3.9227407138806325,
          6.241014241084035,
          4.518566352835051,
          8.925653683431879,
          2.3035937505117317,
          5.8739103034856335
         ]
        },
        {
         "hovertemplate": "Population=Bashkir<br>PC1=%{x}<br>PC2=%{y}<br>PC3=%{z}<extra></extra>",
         "legendgroup": "Bashkir",
         "marker": {
          "color": "#ab63fa",
          "opacity": 0.8,
          "size": 4,
          "symbol": "x"
         },
         "mode": "markers",
         "name": "Bashkir",
         "scene": "scene",
         "showlegend": true,
         "type": "scatter3d",
         "x": [
          21.038165258913267,
          22.814886204933938,
          21.17689903827251,
          18.77175324392209,
          19.765464880127347,
          15.87642988958176,
          28.13693851106563,
          13.990151592495732,
          15.465883664535593,
          15.9174050384699,
          21.078393084539837,
          19.664660506756785,
          28.697257698798467,
          19.787906610277396,
          22.342044277278205,
          19.79173372914265,
          -1.1616461362135933,
          16.886390584741864,
          11.829988835144087,
          21.413140972828657,
          23.92215337933881,
          26.610310429039593,
          22.69237671268786,
          8.64145463918891,
          24.935827636103536,
          29.35521895233171,
          19.58796532473404,
          -1.214528551548795,
          16.17023955866318,
          19.757049833083656,
          33.46164146632968,
          21.213643878828243,
          23.585324904666702,
          24.370164701512714
         ],
         "y": [
          -9.611424313397915,
          -6.665700339928282,
          -8.950257120229217,
          -9.91112151022431,
          -9.552026930508982,
          -11.543058680981233,
          -7.333129993109225,
          -9.418040247482043,
          -11.759940745327928,
          -8.224874980320754,
          -9.166215588379206,
          -13.766163225096676,
          -8.188506931275372,
          -6.0546241917827786,
          -6.15284675610944,
          -5.593860688281939,
          -10.82100758367697,
          -9.041776572798529,
          -12.60467372526037,
          -6.775847248618,
          -9.021590725464824,
          -5.581007240195188,
          -14.297360414102123,
          -9.876507911694661,
          -8.839177727868778,
          -7.177522956531491,
          -9.62314205924522,
          -15.73892192574079,
          -11.886770136394547,
          -9.67922328849284,
          -7.887141299964448,
          -9.38402496495736,
          -10.155287995295266,
          -9.494093240248842
         ],
         "z": [
          -1.0438947353831671,
          -1.8743558476301798,
          -2.7998109288911515,
          -2.7251058606825267,
          -3.536328490388834,
          -4.348831472392066,
          0.5850025288038475,
          2.6960287219281662,
          -5.355400629780244,
          0.07003537255223236,
          -3.481618027656468,
          0.2393884735951041,
          -2.5787849256790505,
          -4.4728973031602175,
          -3.9597845999986427,
          -3.0026683928529754,
          1.6893937426186678,
          -3.5777261783512477,
          -3.208583638871054,
          -1.0195006263034512,
          -1.9430615605382533,
          -2.3540459824642834,
          -2.415384264370196,
          0.620067888857008,
          -2.222522595556998,
          -1.4551057692646656,
          -0.8082048085439419,
          2.5439010643217315,
          -1.6909226033474678,
          -4.150123594500385,
          -4.961614630970415,
          -0.7058911572309914,
          -0.4263181108913208,
          -0.15476667915380957
         ]
        },
        {
         "hovertemplate": "Population=Mordva<br>PC1=%{x}<br>PC2=%{y}<br>PC3=%{z}<extra></extra>",
         "legendgroup": "Mordva",
         "marker": {
          "color": "#FFA15A",
          "opacity": 0.8,
          "size": 4,
          "symbol": "cross"
         },
         "mode": "markers",
         "name": "Mordva",
         "scene": "scene",
         "showlegend": true,
         "type": "scatter3d",
         "x": [
          -42.465288529503134,
          -44.83854901217538,
          -45.700058181353405,
          -43.87524157811807,
          -43.52822651559916,
          -46.92442547047172,
          -43.1891002155352,
          -45.344293277232936,
          -45.2085992229287,
          -49.06846824427063,
          -49.413691926765246,
          -47.82933670749564,
          -46.29148180598503,
          -48.64813013296558,
          -47.052572594543264,
          -43.95774458517751,
          -43.666403841341285,
          -47.11124833083492,
          -45.683507582017725,
          -49.161419765144785,
          -41.38304548663707,
          -44.05675937228974,
          -46.54570709210397,
          -44.607072104921876,
          -46.34722415574649,
          -42.435952696892016,
          -45.60351535912318,
          -46.23544598536734,
          -44.84644221122588,
          -46.227009329699264,
          -46.910673110136536,
          -47.58915123867028,
          -47.30155771016828
         ],
         "y": [
          -23.468212927603993,
          -21.75309651420984,
          -19.276879781471827,
          -23.229584167841203,
          -21.281944292607967,
          -22.662997188266914,
          -21.276592226054643,
          -20.807861692671196,
          -20.00521878945914,
          -19.86526313238548,
          -22.774200800001097,
          -24.567181305089917,
          -21.934960301595456,
          7.558425168963188,
          -22.30500134098497,
          -24.16255660587947,
          -20.055572401803644,
          -23.125841573065674,
          -23.624735581786556,
          -24.01946733637935,
          -23.870566239023606,
          -19.97900969634413,
          -24.75654520975627,
          -21.08732699643701,
          -20.930385237055418,
          -23.52664461418049,
          -22.79745472970324,
          -22.076559505856114,
          -21.720778240773953,
          -20.085320097394355,
          -21.541779982982902,
          -25.15098850260852,
          -21.968288467925458
         ],
         "z": [
          9.811774166230427,
          12.381523601081417,
          10.538251527314706,
          13.625527646288312,
          13.298490142451788,
          12.77161863560864,
          11.117209362937778,
          13.833980599627308,
          14.450973553717589,
          13.27291664754608,
          17.108625534697687,
          14.45716631520285,
          11.934652544846726,
          1.274665683577656,
          12.917781676252154,
          11.479666473211038,
          15.07102854086736,
          14.3465346650315,
          11.646832725331333,
          14.02696016847534,
          13.153988039782575,
          16.97593561554239,
          13.347289221426472,
          10.629120809540037,
          16.38640785805263,
          12.426576046516718,
          10.798972210311788,
          14.58762458386587,
          8.855387774580942,
          11.572555316053592,
          11.733036506197573,
          13.82687722578575,
          13.038147638586851
         ]
        },
        {
         "hovertemplate": "Population=Chuvash<br>PC1=%{x}<br>PC2=%{y}<br>PC3=%{z}<extra></extra>",
         "legendgroup": "Chuvash",
         "marker": {
          "color": "#19d3f3",
          "opacity": 0.8,
          "size": 4,
          "symbol": "circle"
         },
         "mode": "markers",
         "name": "Chuvash",
         "scene": "scene",
         "showlegend": true,
         "type": "scatter3d",
         "x": [
          -16.892439884891775,
          -13.012292930277583,
          -8.55695918483646,
          -20.483127124431334,
          -18.97845356374657,
          -13.381923793491117,
          -18.84029309946975,
          -13.629176679781006,
          -10.333577023365189,
          -14.860586195746928,
          -7.826257520829658,
          -53.82566438757491,
          -12.850640922907225,
          -9.97863520181276,
          -14.194599732410724,
          -16.99093341191762,
          -8.453497634611438,
          -12.642550588245447,
          -12.657997624826136,
          -13.75076451240732,
          -8.7037236721206,
          -10.202982457040067,
          -13.970092606829178,
          -12.895126783278053,
          -15.43361194541996,
          -18.414765030007537,
          -10.345981523862557,
          -13.295566071918287
         ],
         "y": [
          -20.89206566950894,
          -23.565365957789588,
          -17.733314975756674,
          -22.08863582779132,
          -21.780928011514785,
          -21.345895589978227,
          -20.26570106942287,
          -21.65435581410693,
          -19.37673805695625,
          -23.169047548293918,
          -23.334023556258735,
          -23.46899150033048,
          -20.695510094687233,
          -25.099140686509088,
          -21.47381037414704,
          -22.101888259597587,
          -23.560675163315228,
          -19.642531124452137,
          -23.027596629736998,
          -23.915440569425567,
          -23.116307234698848,
          -20.715307348422268,
          -19.184542378384084,
          -21.960719176102142,
          -21.013867829746463,
          -22.286734658940528,
          -21.05544853445393,
          -18.596193193151564
         ],
         "z": [
          -1.667680564997902,
          -0.507088742230661,
          0.40051483765769613,
          3.4425436456803657,
          2.9342487242403377,
          -2.2178140024393804,
          3.5275748070082544,
          0.4243149961697617,
          -2.319787742067813,
          0.24979406637109097,
          0.784361227061838,
          16.00316265336064,
          0.7538454247714617,
          -2.8780406672468146,
          2.706591937160176,
          -0.5727083171241836,
          -1.7821722494223697,
          1.8615193710104605,
          -1.0231389550576426,
          -0.24834363407477464,
          -0.13629269238850888,
          -2.353427248328367,
          -2.7554817852997324,
          -0.7605465936059284,
          -0.9006212626721387,
          4.04418413784479,
          -0.13749738283303556,
          -0.1307341753358651
         ]
        },
        {
         "hovertemplate": "Population=Ukrainian<br>PC1=%{x}<br>PC2=%{y}<br>PC3=%{z}<extra></extra>",
         "legendgroup": "Ukrainian",
         "marker": {
          "color": "#FF6692",
          "opacity": 0.8,
          "size": 4,
          "symbol": "diamond"
         },
         "mode": "markers",
         "name": "Ukrainian",
         "scene": "scene",
         "showlegend": true,
         "type": "scatter3d",
         "x": [
          -63.36544292934671,
          -60.24717077533904,
          -59.75020765311848,
          -58.21204868413141,
          -64.620866651218,
          -60.81035760630542,
          -53.981781411812996,
          -59.550910288437315,
          -62.40333179375369,
          -61.920521169130396,
          -57.11699468066853,
          -57.12885422904672,
          -58.83764497318925,
          -60.36533574778269,
          -60.11136239399381,
          -61.677916756987536,
          -58.394025933680986,
          -57.0009593224653,
          -61.39546686741159,
          -33.150923079855325,
          -56.81286490894435,
          -59.64581923719216,
          -61.26333977943061,
          -61.601637247699585,
          -59.610947646053894,
          -59.86092591452331,
          -62.03943732345292,
          -61.83665491749958,
          -61.65915820783654
         ],
         "y": [
          -18.26090562638832,
          -16.715151999056378,
          -21.036931135017976,
          -23.28055619996616,
          -17.28833758210918,
          -21.85683070704081,
          -21.05004376860104,
          -17.402249659399526,
          -12.65688406498844,
          -21.343466178323464,
          -19.23531315673246,
          -17.23994359759832,
          -16.967548017322894,
          -21.91567063712424,
          -15.857129143289228,
          -20.20326247151604,
          -15.580490591529879,
          -22.757705380704486,
          -22.510657642390562,
          -21.708071580549348,
          -8.803007237172475,
          -19.134642132972168,
          -19.40518295001808,
          -11.409629428780436,
          -17.73288174090181,
          -21.143363607955884,
          -17.204998701259917,
          -20.00812712538979,
          -18.90079064393719
         ],
         "z": [
          12.446794860356565,
          14.79717457823773,
          16.01041028964783,
          14.69892483082783,
          16.50045642627993,
          15.243780037020322,
          13.707534487019517,
          18.54007569198196,
          13.331172172401411,
          17.874548548452907,
          15.465875932141783,
          10.90254524570743,
          14.773899696204607,
          14.791341655184858,
          14.37862883714998,
          15.417050567289284,
          17.02200980148913,
          18.918503887255703,
          17.55796109873838,
          4.334771117550153,
          7.407238939147574,
          18.15318590568045,
          14.90280417480209,
          12.310730693292218,
          15.811415232558387,
          17.011990635143732,
          15.30537814303479,
          17.553952493848136,
          15.887608376919722
         ]
        },
        {
         "hovertemplate": "Population=Belarus<br>PC1=%{x}<br>PC2=%{y}<br>PC3=%{z}<extra></extra>",
         "legendgroup": "Belarus",
         "marker": {
          "color": "#B6E880",
          "opacity": 0.8,
          "size": 4,
          "symbol": "square"
         },
         "mode": "markers",
         "name": "Belarus",
         "scene": "scene",
         "showlegend": true,
         "type": "scatter3d",
         "x": [
          -60.15210360546426,
          -61.35837140959424,
          -61.31751413402057,
          -58.828455067543686,
          -59.1616517939911,
          -62.64529764433643,
          -59.574024048794364,
          -61.20404096817356,
          -59.22989072600132,
          -61.14702870650847,
          -59.921221472975255,
          -62.269468610975025,
          -62.53227434883525,
          -61.20494162505046,
          -59.66804402549738,
          -59.53446597582934,
          -60.71284485610922,
          -62.59978845435182,
          -62.509538246460856,
          -59.867218904438005,
          -59.295646449538246,
          -59.54491118321857,
          -58.39429257874859,
          -55.887554888619405,
          -60.45073531467043,
          -61.25023318348221,
          -58.17728036893918,
          -58.9668421847086
         ],
         "y": [
          -22.03477519385922,
          -26.756525027108054,
          -20.78121345034918,
          -24.402753371177262,
          -27.088692301385834,
          -24.457240491125695,
          -23.635143057481464,
          -23.194575472003574,
          -20.461546189530228,
          -12.236309308470526,
          -22.99088093142763,
          -25.682847171809676,
          -21.607489196173002,
          -20.928972035509737,
          -26.424621334421335,
          -21.832709489955697,
          -25.36810419123627,
          -25.957366347479965,
          -23.740801601321813,
          -22.642684079499983,
          -22.934436735243416,
          -25.533157465952595,
          -19.44348991635493,
          -5.816481043668984,
          -23.661655283390136,
          -20.638042905589884,
          -23.794302224474816,
          -20.71074702322
         ],
         "z": [
          19.408783327001636,
          19.250363438025303,
          17.63686198037965,
          18.65996699647724,
          18.058664659808173,
          20.489698653825446,
          17.593748203810602,
          18.88159759500277,
          19.615256172436773,
          13.140751017079095,
          17.48379570554048,
          16.47317267614896,
          17.859904188958733,
          16.126286637136037,
          17.06494142839859,
          17.299297948586474,
          16.765682724405785,
          20.777784203386332,
          14.965483277596034,
          17.682616033034734,
          21.93563980692938,
          18.836330835950612,
          17.077507919874442,
          11.274253693954085,
          17.038255812828744,
          17.016214728503783,
          18.42554415335476,
          16.123930979205344
         ]
        },
        {
         "hovertemplate": "Population=Chechen<br>PC1=%{x}<br>PC2=%{y}<br>PC3=%{z}<extra></extra>",
         "legendgroup": "Chechen",
         "marker": {
          "color": "#FF97FF",
          "opacity": 0.8,
          "size": 4,
          "symbol": "x"
         },
         "mode": "markers",
         "name": "Chechen",
         "scene": "scene",
         "showlegend": true,
         "type": "scatter3d",
         "x": [
          -51.09618010095908,
          -53.61675469551347,
          -51.530810324987684,
          -48.57515049894832,
          -50.84714712998629,
          -52.7939447174847,
          -50.669831966788756,
          -52.78810650936699,
          -56.04001001820733,
          -51.07346721161456,
          -49.10396780829514,
          -53.53892529412271,
          -50.806139755143334,
          -52.18810081015712,
          -54.58158903013611,
          -52.58284403184182,
          -53.92313158538624,
          -54.8404468949053
         ],
         "y": [
          28.814160783640062,
          26.057171585054913,
          27.859234152754777,
          28.629887448090926,
          29.48798394272688,
          28.105674622909863,
          27.27970383245326,
          30.29331728945524,
          28.97563228340639,
          27.59036574066351,
          28.824642045142514,
          29.28004535552551,
          29.416925477743174,
          29.699937141799577,
          26.505563866505383,
          27.518395822349234,
          21.9018911942964,
          30.06233496089181
         ],
         "z": [
          -13.387885129018517,
          -12.160079598882255,
          -11.368516435675886,
          -12.01571832422658,
          -12.038572127868775,
          -12.8251136859021,
          -9.66794335210528,
          -9.169777417904912,
          -10.29609019037898,
          -9.705502727477036,
          -14.483790613012552,
          -9.481156975389354,
          -15.667785182742007,
          -12.013703465416425,
          -8.987102558292808,
          -11.501601005517179,
          -8.506064837831525,
          -12.253354353602152
         ]
        },
        {
         "hovertemplate": "Population=Adygei<br>PC1=%{x}<br>PC2=%{y}<br>PC3=%{z}<extra></extra>",
         "legendgroup": "Adygei",
         "marker": {
          "color": "#FECB52",
          "opacity": 0.8,
          "size": 4,
          "symbol": "cross"
         },
         "mode": "markers",
         "name": "Adygei",
         "scene": "scene",
         "showlegend": true,
         "type": "scatter3d",
         "x": [
          -55.43577660899627,
          -56.47286477921809,
          -50.330780297153964,
          -53.67634800616658,
          -56.48012259316369,
          -52.019154341297046,
          -49.35765493942541,
          -52.358254707325656,
          -53.97415952188366,
          -55.100195551394854,
          -53.13448053584754,
          -41.761935640433094,
          -56.954633851915844,
          -52.51315198654689,
          -44.667673029792105,
          -53.271537016203936,
          -49.68901514913791,
          -52.19806101041404,
          -54.527447888012965,
          -54.520579891636665,
          -57.14961944290025,
          -55.23633527310284,
          -52.59397809810649,
          -50.0338565997687,
          -51.55891719862639,
          -52.61139965297034,
          -51.357373210491076,
          -51.05321563395325,
          -50.61319005118103,
          -53.29973171674007,
          -54.98837427220994
         ],
         "y": [
          36.17895566017128,
          37.505360324181424,
          32.38044775170372,
          36.92512759077789,
          39.276202817653434,
          35.84643125573936,
          32.92094148003841,
          34.590506575467685,
          38.58554054455694,
          36.412347571718904,
          35.74634225570256,
          6.905233147307097,
          36.8416327028559,
          35.208168723817664,
          33.03506195148502,
          37.51944602397467,
          35.9910894479494,
          30.1562139142378,
          36.79585066498425,
          37.608783273964924,
          36.021841009554095,
          36.314557294487486,
          37.87443840396757,
          34.29927280827748,
          37.21438280136249,
          36.909099330352284,
          37.34550155618327,
          35.54826358110129,
          34.055487273996384,
          34.81721086845245,
          34.07010610944412
         ],
         "z": [
          -14.175261789343342,
          -12.671726030823663,
          -10.616012571223486,
          -16.52808199988764,
          -13.49520684315936,
          -13.616521587231405,
          -12.922375833977808,
          -17.62620649669792,
          -13.802014105487647,
          -15.713752654794597,
          -12.033619630770787,
          -0.8414314750490866,
          -14.00462478019162,
          -13.185096572974,
          -10.682439178800879,
          -13.279841341983234,
          -16.15685163844606,
          -10.681654887483303,
          -13.576015805571037,
          -14.544809808497885,
          -15.064241296448216,
          -14.882801648256919,
          -15.10469751051173,
          -11.84531906351464,
          -16.601909350363538,
          -12.740756062165348,
          -15.931042799809418,
          -12.472548757781507,
          -14.439192872501138,
          -14.011496493776093,
          -12.223366543736997
         ]
        },
        {
         "hovertemplate": "Population=Kabardin<br>PC1=%{x}<br>PC2=%{y}<br>PC3=%{z}<extra></extra>",
         "legendgroup": "Kabardin",
         "marker": {
          "color": "#636efa",
          "opacity": 0.8,
          "size": 4,
          "symbol": "circle"
         },
         "mode": "markers",
         "name": "Kabardin",
         "scene": "scene",
         "showlegend": true,
         "type": "scatter3d",
         "x": [
          -42.50298413714776,
          -42.45347081384081,
          -42.86884786631035,
          -45.7668958737614,
          -41.6230107613551,
          -46.7667849022309,
          -48.327761557913156,
          -48.617880124108304,
          -42.64659096309881,
          -47.67920085621771,
          -45.24674189195087,
          -45.10995402549291,
          -48.53673197662339,
          -45.250706194862865,
          -46.53372439029566,
          -44.27316261556103,
          -44.351842190360394,
          -44.566610554570985,
          -43.57691334589703,
          -46.55032325191021,
          -43.13647438172495,
          -48.04750875408583,
          -44.067444009992165,
          -47.375179166836,
          -46.56207399892972,
          -46.140634759520026,
          -46.09325599230775,
          -43.47568503932607,
          -52.221127364113265,
          -44.00397738191446,
          -41.137439798071675,
          -47.118001697296144,
          -41.303247069396406,
          -48.89723328176755,
          -46.96272492657832
         ],
         "y": [
          27.6395917845823,
          28.53297110887597,
          29.920236893896178,
          32.14865249232496,
          27.316680329973618,
          29.49278682995431,
          30.764752934676846,
          27.41398355372636,
          25.462767268464063,
          32.155068082589544,
          29.716509598409697,
          33.29677345180906,
          27.319694427303574,
          29.10551427226913,
          31.44023929527397,
          34.802098989611416,
          31.091505570856935,
          32.94726230137059,
          31.431683454033447,
          26.950287881764584,
          27.451092609217582,
          31.036918464819827,
          30.014834964657098,
          31.699482583305702,
          25.79227400247143,
          31.905766854888117,
          32.37336326497466,
          29.659885281805966,
          27.310247786316797,
          28.912845417823902,
          30.729344527447868,
          33.224911591202485,
          28.199637383853847,
          30.10465042222867,
          32.45384016761788
         ],
         "z": [
          -8.877856803813218,
          -13.38751359481527,
          -7.976546885105868,
          -11.486013355871636,
          -6.7987272240470045,
          -7.260707159835505,
          -9.587480419320872,
          -11.66406139739031,
          -8.966163152236438,
          -10.936116711045058,
          -10.30506374387755,
          -10.270935116516151,
          -8.178340476540816,
          -8.28488054174281,
          -9.731185540590744,
          -12.950291100995779,
          -8.697880185914112,
          -11.068856445990063,
          -7.668036134571728,
          -7.305340682158714,
          -6.982924886398325,
          -9.680207788246118,
          -8.591116117445344,
          -11.543196983481552,
          -9.962513581416207,
          -11.00305866088835,
          -10.695643174085633,
          -6.7086872247407365,
          -8.793556320457945,
          -13.067134290346372,
          -6.936375685287223,
          -11.172090901544214,
          -5.93671005858455,
          -11.36391151243655,
          -12.546929961695591
         ]
        },
        {
         "hovertemplate": "Population=Megrel<br>PC1=%{x}<br>PC2=%{y}<br>PC3=%{z}<extra></extra>",
         "legendgroup": "Megrel",
         "marker": {
          "color": "#EF553B",
          "opacity": 0.8,
          "size": 4,
          "symbol": "diamond"
         },
         "mode": "markers",
         "name": "Megrel",
         "scene": "scene",
         "showlegend": true,
         "type": "scatter3d",
         "x": [
          -61.252387723085576,
          -63.83073138867815,
          -60.00209796737956,
          -57.5449629206378,
          -61.4181316316921,
          -60.496565046253494,
          -58.37697704470987,
          -60.76660292257392,
          -59.32159091453884,
          -62.90751901899742,
          -59.9284395615381,
          -63.47426216101696,
          -61.86060828795406,
          -62.89041578448532,
          -58.23685582685516,
          -61.72143180577595,
          -61.529073230966446,
          -61.186911801707474,
          -61.381735099137195,
          -61.03521926063467,
          -60.821526721171196,
          -58.00927560922203,
          -61.23449669489628,
          -60.607881867701174,
          -60.86561116505936,
          -62.65567773812588,
          -43.10140983759246,
          -59.005063421532526,
          -63.64445110004295,
          -60.62552746903343,
          -61.44326257820366,
          -41.477356428700325,
          -42.33445850781557,
          -60.20258713954182,
          -59.58841057580837,
          -63.16491636651524
         ],
         "y": [
          48.42517736245031,
          48.597397108059674,
          48.058805912997194,
          45.240064932294636,
          47.82923542225,
          47.33860568951173,
          38.61331202371905,
          48.85299418970737,
          49.93236551113822,
          50.32921799205695,
          49.347697597118206,
          48.49334486647926,
          48.039885695478986,
          46.87999178999712,
          47.36453168031858,
          38.70202127028363,
          48.72546868707043,
          48.60355973800345,
          46.644251563001085,
          38.55082124308447,
          51.32319624554649,
          49.651146676546865,
          49.37827755778493,
          47.62620774107794,
          50.67323051209925,
          46.38547001870884,
          19.839108084463515,
          48.76305115042058,
          46.68612133861916,
          47.630859026773905,
          45.672658704716454,
          27.008120625928342,
          27.396083538959328,
          46.2347069936527,
          49.81636116817605,
          47.04301930738356
         ],
         "z": [
          -15.767515749037956,
          -17.009945114818485,
          -14.783112736789745,
          -16.502998064876564,
          -18.254336242428057,
          -18.40225903020569,
          -16.410793350124415,
          -16.768931221920496,
          -18.496363479843815,
          -18.583774019353523,
          -16.583502099083645,
          -12.7546692101279,
          -19.356050545366422,
          -17.05394481041113,
          -16.769386178883067,
          -14.190146848423488,
          -19.242213590311977,
          -16.1339095699024,
          -17.510494291111087,
          -15.758357574723712,
          -17.885130632956653,
          -16.46498827328285,
          -17.41295982751235,
          -17.54220699353549,
          -18.145850537693065,
          -15.425058121927927,
          -6.350699890054391,
          -19.054271024689,
          -17.22795794111887,
          -17.167531230292095,
          -17.43921080898718,
          -9.909328454142491,
          -10.20091076091863,
          -16.29764385866693,
          -20.475570683264774,
          -19.02652590290841
         ]
        },
        {
         "hovertemplate": "Population=Karachay<br>PC1=%{x}<br>PC2=%{y}<br>PC3=%{z}<extra></extra>",
         "legendgroup": "Karachay",
         "marker": {
          "color": "#00cc96",
          "opacity": 0.8,
          "size": 4,
          "symbol": "square"
         },
         "mode": "markers",
         "name": "Karachay",
         "scene": "scene",
         "showlegend": true,
         "type": "scatter3d",
         "x": [
          -45.625210305090356,
          -48.106493456200106,
          -50.19551279923855,
          -37.224380855574566,
          -44.73471341115705,
          -44.464914229265034,
          -46.0854833535339,
          -43.401003857033444,
          -45.271573982464794,
          -42.229855073924504,
          -47.34449309352368,
          -47.496668153145734,
          -46.67067151067842,
          -47.028985321170666,
          -48.18136246919325,
          9.40770279099945,
          -48.28800771994827,
          -47.3519873391904,
          -43.438192368240564,
          -46.841442991044545,
          -41.26206694451584,
          -44.69866746333165,
          -45.829026971589826
         ],
         "y": [
          36.00124533406559,
          34.99923557094959,
          34.76483526090245,
          39.01575390259695,
          37.17790101740148,
          35.2691400430192,
          38.315878655800724,
          35.96511534199721,
          31.777307310024575,
          34.16316144392555,
          37.07549304316332,
          33.75152481983403,
          33.050943210269004,
          32.43476505974483,
          35.210927431394495,
          23.760072176554836,
          37.597570742828275,
          31.413734456520448,
          34.75990706079823,
          37.51183814605717,
          33.917662051375856,
          36.59851280143878,
          34.77504588254831
         ],
         "z": [
          -12.288474242563815,
          -13.257703212814013,
          -14.984638927923584,
          -10.413521516286284,
          -11.090390055537997,
          -12.209340747173101,
          -15.123104264919135,
          -10.819058996237384,
          -12.089721250798624,
          -11.764620363120033,
          -14.457443251246561,
          -13.735137525791853,
          -8.908114192060063,
          -12.629286790091603,
          -14.418908192014541,
          -0.7641394604966031,
          -14.588465598854725,
          -7.634780618516149,
          -13.380763498478002,
          -13.076255414456002,
          -11.566889870587207,
          -14.428409605612593,
          -17.230286305633804
         ]
        },
        {
         "hovertemplate": "Population=Komi<br>PC1=%{x}<br>PC2=%{y}<br>PC3=%{z}<extra></extra>",
         "legendgroup": "Komi",
         "marker": {
          "color": "#ab63fa",
          "opacity": 0.8,
          "size": 4,
          "symbol": "x"
         },
         "mode": "markers",
         "name": "Komi",
         "scene": "scene",
         "showlegend": true,
         "type": "scatter3d",
         "x": [
          -27.28787489274104,
          -23.770019308005384,
          -27.741734108441015,
          -27.64460848683663,
          -28.555064724746725,
          -27.884796332642065,
          -26.969500899918877,
          -28.073534458905492,
          -26.08233201404451,
          -29.097445694124094,
          -27.20809920500938,
          -29.484736300805345,
          -30.906896529897775,
          -30.789299196759586,
          -23.626331900756714,
          -31.97313036925336,
          -29.8125009489357,
          -29.705729796757467,
          -27.677009060772487,
          -26.53202598361226,
          -27.497173989497828,
          -26.405558376088905,
          -28.762837597631787,
          -27.272163390963204,
          -25.050778198550873,
          -26.717923552522482,
          -29.71770654413487,
          -27.177690328523507,
          -30.454840244677847,
          -23.92936440383502,
          -32.69025528443345,
          -27.50649350495399
         ],
         "y": [
          -34.508845618678876,
          -31.718261949264058,
          -35.41979752576152,
          -30.222873192554392,
          -30.79789262866227,
          -33.63497960460589,
          -29.59624747186211,
          -30.01390213949006,
          -30.209447441658988,
          -30.516969696106553,
          -26.094616360111687,
          -28.322224919535923,
          -29.95559647115918,
          -30.13883750507032,
          -27.73419117773355,
          -28.92734797239319,
          -28.649161154704725,
          -30.992832514129887,
          -32.313201503191685,
          -30.484451481400104,
          -33.32272234398363,
          -32.10318479002253,
          -25.897416756140103,
          -31.2637122864277,
          -28.499776942688545,
          -31.40538274027875,
          -33.12916235947325,
          -30.726202658822775,
          -29.58738996862698,
          -32.52526422407742,
          -30.017293968077098,
          -32.07453928165797
         ],
         "z": [
          1.4587537015572791,
          3.290694060193514,
          3.33871032620726,
          1.6007834948427861,
          4.613884571589319,
          1.6447622013520393,
          3.7222050389394514,
          0.22208983474176058,
          3.5560198967737935,
          5.909735636883913,
          1.52138832113692,
          3.6881241679158725,
          3.86414756034866,
          8.572792783869831,
          -0.38400048239715606,
          7.568790887732852,
          3.7147255842211337,
          4.833891087639863,
          5.250285304473743,
          -0.1273829831200464,
          6.5373604044763995,
          5.567082302720594,
          -0.3435770245312852,
          3.867550755473098,
          3.2632789774644007,
          3.9252702236583183,
          6.409800940439081,
          4.932044449423861,
          6.849767317130056,
          6.55655479343852,
          6.33830310201485,
          2.671723637609207
         ]
        },
        {
         "hovertemplate": "Population=Cherkes<br>PC1=%{x}<br>PC2=%{y}<br>PC3=%{z}<extra></extra>",
         "legendgroup": "Cherkes",
         "marker": {
          "color": "#FFA15A",
          "opacity": 0.8,
          "size": 4,
          "symbol": "cross"
         },
         "mode": "markers",
         "name": "Cherkes",
         "scene": "scene",
         "showlegend": true,
         "type": "scatter3d",
         "x": [
          -41.710225638376656,
          -44.891371177320956,
          -43.615074244306776,
          -43.91063869047754,
          -47.89542123438333,
          -39.14909270507404,
          -44.364163110878486,
          -48.84652943228731,
          -45.959325771539,
          -45.24228854941588,
          -46.27337644613417,
          -46.5708659801111,
          -46.67186283586888,
          -48.78257637028512,
          -41.42889721418959,
          -42.872200570621665,
          -46.714962104791034,
          -46.055254138352396,
          -42.41779703184298,
          -45.91984962269378,
          -42.88957789204481,
          -49.15618972420624,
          -37.93532785458216,
          -48.241960705011856,
          -47.47859025927509,
          -46.25931124073449,
          -49.03153425217309,
          -41.51189121363683,
          -46.23352401191296,
          -45.7992308043884,
          -43.55425077817256,
          -52.75824714049356,
          -46.12705840697171
         ],
         "y": [
          29.645235678249836,
          23.740440796572674,
          31.7397693202062,
          39.69030350451177,
          31.88681343797231,
          29.66705269100076,
          32.5595067188281,
          28.621241996705553,
          29.309201928489827,
          27.05009322392623,
          35.59162131221316,
          30.557842212446623,
          30.338961291205596,
          28.27983794363247,
          31.29889862174104,
          33.51932863272663,
          29.270091081349612,
          28.483003250627362,
          29.288928297704057,
          26.33740164925989,
          28.586213123628614,
          28.55076233835549,
          31.080042390727957,
          27.411201505204314,
          31.325366904450416,
          31.75288419852796,
          28.479392077560124,
          31.630523986032294,
          30.328105699932998,
          29.76093928266011,
          29.766958405758228,
          30.43070268294278,
          33.062434983315306
         ],
         "z": [
          -8.286712624852766,
          -11.149659417125669,
          -8.294908104545735,
          -15.381553948764711,
          -11.907867155505455,
          -10.083017262541349,
          -9.35023279215629,
          -11.255177907771788,
          -7.235424219958063,
          -10.24872255496018,
          -14.426586626460333,
          -10.93679326835337,
          -10.265006515558325,
          -7.678303912644806,
          -7.917610923227124,
          -10.459778086616545,
          -10.384615735241072,
          -7.159703846591376,
          -11.796205102884791,
          -7.0064677862828475,
          -8.523119393539112,
          -11.215290203579718,
          -8.979680518772438,
          -15.15859132957071,
          -8.271696896216703,
          -11.761585897395554,
          -7.649447243576563,
          -10.032683272176989,
          -10.817836904079215,
          -8.10194136470375,
          -10.969768927817016,
          -13.50386901448492,
          -11.278465092000623
         ]
        },
        {
         "hovertemplate": "Population=Abkhaz<br>PC1=%{x}<br>PC2=%{y}<br>PC3=%{z}<extra></extra>",
         "legendgroup": "Abkhaz",
         "marker": {
          "color": "#19d3f3",
          "opacity": 0.8,
          "size": 4,
          "symbol": "circle"
         },
         "mode": "markers",
         "name": "Abkhaz",
         "scene": "scene",
         "showlegend": true,
         "type": "scatter3d",
         "x": [
          -55.502938820349335,
          -57.24607697187596,
          -54.95121424983605,
          -58.866319053561305,
          -59.30366720469393,
          -58.46757161520803,
          -53.88865742690911,
          -57.37295700550576,
          -58.335153482400166,
          -57.88490107383854,
          -51.99965484415301,
          -58.97410703363385,
          -55.740000197141235,
          -56.843908847608915,
          -55.555492187000205,
          -55.63847022658973,
          -60.92635141589498,
          -55.638331515979644,
          -56.965822553220065,
          -59.20650393566825,
          -58.17312094761226,
          -60.963851432140416,
          -53.36197659344819,
          -57.6035282825153,
          -58.95460589461598,
          -59.60833504495789
         ],
         "y": [
          45.18916165148165,
          41.353808232015496,
          48.92827014273075,
          46.554307383936795,
          45.458070894329886,
          47.810634403520915,
          45.8814795251431,
          46.628518421501056,
          46.790852264966254,
          46.13217752751174,
          45.56222562698283,
          43.20476143121505,
          47.80045741020878,
          32.859939033717815,
          43.53986776471309,
          43.57138106114948,
          47.746719045797576,
          44.986330357494694,
          11.77655462136873,
          48.44301933637005,
          42.3355113862422,
          44.77656397591165,
          44.20426674329795,
          43.85693400059358,
          43.67255623778786,
          44.88815150386756
         ],
         "z": [
          -19.271668185314166,
          -18.983982661446703,
          -18.94786388757781,
          -18.714523781937615,
          -18.363857075016814,
          -18.904899307893043,
          -17.082611975419233,
          -17.111177150743092,
          -18.964684105590795,
          -19.460632627196713,
          -18.390748468191912,
          -16.699161489153504,
          -19.555698702754857,
          -8.778308549489951,
          -18.382982904722994,
          -15.443166458219176,
          -16.688121672778998,
          -15.209089777509956,
          -0.695968445491575,
          -18.071972968798892,
          -14.005162186759529,
          -20.806528383504364,
          -15.628731444526121,
          -16.28313712584512,
          -17.030747124159753,
          -15.962364968186133
         ]
        },
        {
         "hovertemplate": "Population=Udmurt<br>PC1=%{x}<br>PC2=%{y}<br>PC3=%{z}<extra></extra>",
         "legendgroup": "Udmurt",
         "marker": {
          "color": "#FF6692",
          "opacity": 0.8,
          "size": 4,
          "symbol": "diamond"
         },
         "mode": "markers",
         "name": "Udmurt",
         "scene": "scene",
         "showlegend": true,
         "type": "scatter3d",
         "x": [
          -6.951642879462053,
          -12.280511665465806,
          -9.541522305075476,
          -6.31821585066978,
          -5.79313510445664,
          -9.589488104397645,
          -16.030207410633274,
          -4.688469502453713,
          -6.760957637340111,
          -8.917194362313206,
          -8.418524266777666,
          -3.8898785426194538,
          -8.980677002414545,
          -14.26245722653146,
          -10.903067777996704,
          -6.102111633712878,
          -6.868891472439046,
          -32.27106876206813,
          -9.279712229645721,
          -29.250629382771965,
          -9.568809133221222,
          -9.858334946460763,
          -4.6102692511609975,
          -5.618578613816788,
          -22.438478068364976
         ],
         "y": [
          -28.667259666609546,
          -25.296562575191185,
          -26.689965763558867,
          -26.077207657215084,
          -27.195575308708744,
          -25.92680021044233,
          -27.843408830249018,
          -29.81883219537904,
          -28.60487354863462,
          -27.18369024390197,
          -27.75497894769417,
          -25.777167684793262,
          -28.487260771970107,
          -28.574279277632932,
          -25.316859085547357,
          -29.732725162411395,
          -27.981673951495235,
          -24.75723132074724,
          -29.913124196685033,
          -26.350865524419646,
          -28.58136606822745,
          -25.78131961574297,
          -29.079670155275718,
          -24.22141204743577,
          -30.236584042537906
         ],
         "z": [
          -9.957780476552074,
          -8.786872723059545,
          -4.439860868812311,
          -12.17522150036411,
          -11.601969129021006,
          -12.516287213686264,
          -0.6156353525906431,
          -14.968434189360229,
          -7.613700383169555,
          -8.871958739763576,
          -14.579376317137726,
          -10.345706342447535,
          -8.42723385329581,
          -2.91762230371029,
          -6.395442314122088,
          -6.902323577248825,
          -10.164127524218044,
          3.9186697264988286,
          -7.108264333567287,
          2.2816627779698857,
          -7.585931850888051,
          -13.357525141728646,
          -14.559689947100171,
          -12.759395591833806,
          -2.3017993552243663
         ]
        },
        {
         "hovertemplate": "Population=Uzbek<br>PC1=%{x}<br>PC2=%{y}<br>PC3=%{z}<extra></extra>",
         "legendgroup": "Uzbek",
         "marker": {
          "color": "#B6E880",
          "opacity": 0.8,
          "size": 4,
          "symbol": "square"
         },
         "mode": "markers",
         "name": "Uzbek",
         "scene": "scene",
         "showlegend": true,
         "type": "scatter3d",
         "x": [
          15.49067981026624,
          32.10427342911093,
          22.609754522509604,
          17.726095081182173,
          10.122705931796524,
          18.750330075894134,
          25.621517688037496,
          15.408133320259285,
          -8.866203813940434,
          -1.8857849902492467,
          21.65571140554027,
          5.859238015510627,
          13.862639829026136,
          26.67730779482168,
          6.307165625722559,
          24.671706903763006,
          26.2372311996614,
          23.68029024741451,
          17.842540678945788,
          14.515688546479828,
          14.59259282834829,
          26.385358722252835,
          17.610818901742505,
          25.986287760749338,
          18.370185664578198,
          21.835284920234987,
          18.663459491786895,
          29.160343470346522,
          19.765787039137937,
          18.7681488008266,
          31.240169910327374,
          22.85304025671608,
          14.786981495118752,
          19.70846469244652,
          3.0579383371300826,
          14.41854384096699,
          22.634738083783443,
          15.596664140362837,
          69.42570423746973
         ],
         "y": [
          16.459815807524205,
          16.503495220640083,
          18.88716454666323,
          14.414139571745022,
          16.978880374937972,
          20.14322292012572,
          17.24518268465554,
          16.133427281072382,
          2.0199822369350318,
          2.1941326867106183,
          17.682265481817698,
          21.174181333986667,
          19.897065885331457,
          17.28123938878915,
          6.963579664632906,
          17.079753824365643,
          14.02119467523797,
          18.647596393519965,
          17.123412609990893,
          16.954240565724973,
          16.692986593725237,
          19.995483426281815,
          18.284142403393002,
          21.203873318283943,
          18.373611806154756,
          20.792382871508213,
          18.87252481903405,
          17.759987608144055,
          17.06489117842629,
          17.441127362519264,
          15.424262687571973,
          17.426990040300968,
          17.189769332498596,
          15.272193761911195,
          -2.827987621081035,
          20.169671732884936,
          17.14058923332606,
          13.5848768352339,
          10.705351583412657
         ],
         "z": [
          1.2936367615119242,
          8.099988599758014,
          5.0753654310788585,
          3.887429602160898,
          2.0155452791857247,
          3.7511394912601714,
          4.792109089191037,
          2.9922431098288436,
          5.4419370146524,
          3.0991227535091475,
          7.579947728845333,
          0.44987475223069445,
          1.7233761623457113,
          2.5739401256127623,
          6.496797734227286,
          8.991558491395114,
          3.003668942423993,
          6.079599654986711,
          3.7642501147550687,
          5.1660527473507,
          6.492727323272291,
          6.612415055157031,
          5.698290332726721,
          5.216105399885982,
          2.197277942466089,
          2.836185028559529,
          3.3830140196497056,
          8.686429929337733,
          5.356066020635415,
          5.429470521375041,
          3.799652645151339,
          4.921815025368333,
          2.4899302050257224,
          2.578732397247727,
          2.631388272789176,
          1.835746316650955,
          3.8901061518093702,
          1.8083441435334477,
          13.879332160747854
         ]
        },
        {
         "hovertemplate": "Population=Ket<br>PC1=%{x}<br>PC2=%{y}<br>PC3=%{z}<extra></extra>",
         "legendgroup": "Ket",
         "marker": {
          "color": "#FF97FF",
          "opacity": 0.8,
          "size": 4,
          "symbol": "x"
         },
         "mode": "markers",
         "name": "Ket",
         "scene": "scene",
         "showlegend": true,
         "type": "scatter3d",
         "x": [
          78.78874864122834,
          13.676475766726805,
          69.41548772159027,
          84.01863943254189,
          93.97211400754297,
          0.47028457408707197,
          73.82207599059764,
          83.72639376417744,
          79.88345347833857,
          64.36455539355703,
          22.1978207559249,
          83.5167714569675,
          78.95671504741125,
          73.88199195049508,
          70.80575454580928,
          76.88118843058962,
          7.470999234999073,
          71.08478844932282,
          83.49129920149115,
          83.33122168353867,
          63.50178340844539,
          96.48047639288701,
          77.43769848264996,
          83.30406920630698,
          70.47677874226615,
          78.1735680603265,
          77.354462242574,
          14.752181973858987,
          71.91665059330616,
          78.02309512083684,
          83.84429226481026
         ],
         "y": [
          -34.920125774156524,
          -27.355414408814504,
          -35.886316625562905,
          -27.590605033481985,
          -29.35801393152471,
          -29.736988692817633,
          -42.30273891883319,
          -40.303789005832456,
          -38.009664253501505,
          -39.139202417348336,
          -25.342386184595107,
          -36.922455922704174,
          -44.59980687971475,
          -35.784255484595846,
          -36.46764389098773,
          -38.63114271108789,
          -28.04734151261641,
          -37.000671810158245,
          -42.732136973358806,
          -40.871462263532464,
          -35.32821243087502,
          -29.44585873496,
          -38.08356600593606,
          -40.33283454866159,
          -37.93009221382759,
          -35.164399797451914,
          -41.70349839653262,
          -32.70055663711663,
          -37.95223026453033,
          -34.898534663519605,
          -36.91354025585618
         ],
         "z": [
          -72.66761558884205,
          -27.965849498979853,
          -65.85560810842259,
          -41.3548517666021,
          -52.122198592643024,
          -15.448281186784682,
          -86.21108645959838,
          -82.02848887346207,
          -82.01371089991957,
          -79.2211478765053,
          -12.48188630025749,
          -75.93946569473904,
          -89.78438881748204,
          -70.94646758351377,
          -61.06603956119477,
          -86.10438177613928,
          -16.90526886987552,
          -76.43861066778818,
          -93.23824091779967,
          -84.09409827821118,
          -72.12762426564319,
          -57.43818413728931,
          -81.04525898310499,
          -85.08291595646907,
          -75.94063254407573,
          -62.43017918395123,
          -90.34335856475016,
          -50.98647076828222,
          -77.07206118433989,
          -60.232471415461134,
          -80.94119707785362
         ]
        },
        {
         "hovertemplate": "Population=Kirgiz<br>PC1=%{x}<br>PC2=%{y}<br>PC3=%{z}<extra></extra>",
         "legendgroup": "Kirgiz",
         "marker": {
          "color": "#FECB52",
          "opacity": 0.8,
          "size": 4,
          "symbol": "cross"
         },
         "mode": "markers",
         "name": "Kirgiz",
         "scene": "scene",
         "showlegend": true,
         "type": "scatter3d",
         "x": [
          78.37235850605856,
          69.45705521984789,
          70.46801781314083,
          57.09193389603243,
          73.10482178283164,
          61.0234243985717,
          70.58136398027466,
          53.27274198255191,
          61.31160098025054,
          46.608625711193746,
          68.40851960683852,
          68.01507223529977,
          70.74068344865623,
          79.33858152549084,
          76.83834617918646,
          69.18871411486882,
          64.73119579113686,
          70.88486931468424,
          -56.49391324212585,
          -53.00945563930631,
          55.93982761742268,
          62.10564774438585,
          71.3145729130873,
          75.98444345531816,
          68.71362341513034,
          71.43521046749851,
          65.49343889216424,
          66.6553906361121
         ],
         "y": [
          12.315298683855133,
          15.345435183340406,
          13.143632248116386,
          13.43696720960263,
          11.313104093960055,
          14.549449649488706,
          12.409576666061678,
          6.589431144412732,
          16.189744406661255,
          9.92511681410016,
          11.198110605679613,
          13.040380464796682,
          11.55841987249593,
          13.036755663834892,
          14.9576281992859,
          12.43134483489964,
          15.80300107740009,
          12.026338193073107,
          -23.21316342882896,
          -23.697140522071972,
          13.270625048332667,
          14.975961664707727,
          13.402648308579046,
          9.970753567625156,
          10.764026332669731,
          12.113528473328381,
          11.29563056612969,
          10.156341501757527
         ],
         "z": [
          7.661708537980079,
          13.176265464734616,
          13.620024621181834,
          11.309154783185699,
          12.117425551516604,
          10.161393937854623,
          13.269326640530037,
          10.358999256988165,
          11.467122049177473,
          10.623885502393938,
          13.43165106720186,
          9.98554846463111,
          11.254562733557734,
          12.330246252902755,
          11.760844227692344,
          13.774280933260526,
          11.336352519106496,
          11.695942031766057,
          15.903915117881303,
          15.070296474812402,
          10.072349432978587,
          11.338202150227813,
          13.808888801792312,
          9.550674470469033,
          13.177436214617451,
          16.739951039995436,
          10.326919131324155,
          13.260904245539553
         ]
        },
        {
         "hovertemplate": "Population=Khanty<br>PC1=%{x}<br>PC2=%{y}<br>PC3=%{z}<extra></extra>",
         "legendgroup": "Khanty",
         "marker": {
          "color": "#636efa",
          "opacity": 0.8,
          "size": 4,
          "symbol": "circle"
         },
         "mode": "markers",
         "name": "Khanty",
         "scene": "scene",
         "showlegend": true,
         "type": "scatter3d",
         "x": [
          72.11443925459547,
          51.629265744949336,
          62.2117058758979,
          50.423825800917285,
          56.58310298487713,
          46.43510725352248,
          44.560518245667296,
          56.06601751323509,
          46.94245489681083,
          48.810412358613924,
          46.626385845439955,
          63.50545759810123,
          49.47819096944709,
          48.61050925131096,
          46.14158995903716,
          48.91402364155702,
          43.981331257822106,
          54.49014098088221,
          48.95116700321636,
          46.32071521050762,
          58.39472182533665,
          52.71847885650827,
          53.40190594278137,
          52.345699764582484,
          49.28196147938507,
          43.08429200991408,
          8.237431807877826,
          15.823236561340236,
          48.57248862711865
         ],
         "y": [
          -35.02278088507501,
          -40.569751795614316,
          -37.389606986007564,
          -44.78686152161691,
          -37.714825341967234,
          -38.763202830640346,
          -39.051182170119915,
          -38.67756279164622,
          -41.90481145058575,
          -37.737335856796015,
          -44.22669210544357,
          -35.97760235081136,
          -39.54851557983248,
          -37.145384058805675,
          -39.69627221886873,
          -46.421779097102544,
          -40.09713830061096,
          -41.914118135081544,
          -42.26799788420244,
          -38.87303144742102,
          -35.44628406035068,
          -43.10362141923519,
          -42.21425136885602,
          -42.43073655214311,
          -42.06411298355686,
          -40.10716364286405,
          -32.82511318351511,
          -36.21387646805149,
          -37.93601783844226
         ],
         "z": [
          -40.421683577529436,
          -49.28664144853817,
          -45.51346705377623,
          -54.72176801097684,
          -47.707050219384506,
          -43.27141109565094,
          -47.88130634675255,
          -50.58734791481528,
          -47.94597067960423,
          -48.52145621918211,
          -52.28620688523595,
          -46.24790202009314,
          -43.26292672328002,
          -43.77349170714501,
          -45.80665469363688,
          -46.89592943288754,
          -38.093993808266056,
          -52.41644980203869,
          -46.035014713549465,
          -40.2335750431804,
          -43.66032838593762,
          -49.437074459717515,
          -50.51291958262696,
          -48.75399500672369,
          -46.1887123148081,
          -44.02125003479477,
          -23.48814796197554,
          -26.82534472091339,
          -50.38292289934645
         ]
        },
        {
         "hovertemplate": "Population=Tuva<br>PC1=%{x}<br>PC2=%{y}<br>PC3=%{z}<extra></extra>",
         "legendgroup": "Tuva",
         "marker": {
          "color": "#EF553B",
          "opacity": 0.8,
          "size": 4,
          "symbol": "diamond"
         },
         "mode": "markers",
         "name": "Tuva",
         "scene": "scene",
         "showlegend": true,
         "type": "scatter3d",
         "x": [
          95.47671640423714,
          83.47485162775185,
          99.20488155117687,
          102.92956247441639,
          100.4510605614684,
          94.54612993496484,
          101.59214156332662,
          105.07542885702621,
          103.89081612120884,
          100.45054598309764,
          98.09965363923934,
          100.71543760810957,
          103.54593754060919,
          100.62333502138364,
          100.37193701008627,
          101.09049534781646,
          103.65539575099247,
          100.99696596687238,
          32.587231682753156,
          93.32178286202127,
          99.51777134465262,
          100.39327027933048,
          102.37948086981477,
          97.92381940923467,
          100.02980789103734,
          106.50918593997879,
          98.95215190321896,
          98.09723141128384,
          104.06045006622695,
          99.60046154428895,
          96.79190169750832,
          102.88844465003693,
          101.83687280543062,
          105.2815160510441,
          98.63274164214229,
          95.25552162451586,
          97.95317618525462,
          87.5401901152393,
          95.0041556273557,
          103.19910455830524,
          102.57748133399048,
          91.30666088712577,
          96.05618770305661,
          106.77677480527252
         ],
         "y": [
          2.907833411708469,
          5.927406158096524,
          7.155227182285054,
          6.585965246650715,
          7.690982503967396,
          0.7136243539237543,
          6.745776969156761,
          3.391599706349722,
          3.546447169496204,
          0.9966273406306887,
          4.837432411087787,
          3.5805423019717333,
          5.182536960470928,
          5.487610042561226,
          6.717769612587908,
          6.40253278028861,
          4.920272050691477,
          4.028178721810987,
          -7.7808817161017805,
          4.29630901548475,
          5.641353658769831,
          5.341343540655531,
          6.8376448664962775,
          1.759031268522956,
          3.7582360174505016,
          9.634818595306719,
          5.178687474357634,
          5.6294792385641985,
          2.275872147318638,
          3.3321464839006785,
          0.007901975538128318,
          4.568733021783328,
          5.218879431686192,
          6.644420861243651,
          7.004530944568975,
          4.877600643030164,
          4.707298982664439,
          6.002439686569693,
          3.9510973142747035,
          4.972259077184199,
          5.8423266642466105,
          2.386866742591526,
          5.031898189930872,
          7.604775200467849
         ],
         "z": [
          0.9223383560159016,
          2.1420788632511023,
          4.955588916266351,
          2.663654101167911,
          6.2070433664368005,
          2.580571469476003,
          2.5832867982438836,
          0.5173939955515111,
          2.3104533615039053,
          2.3246434282153077,
          2.2670343727647575,
          -2.214121755037884,
          2.770496682762352,
          2.6918934842169797,
          6.97358314271385,
          1.258031982271442,
          3.8629263285415782,
          0.7141694307699294,
          3.151160935958359,
          -0.4586082554880158,
          -1.1088943725418214,
          2.5433612759987976,
          2.672409758036204,
          -0.14381837663103297,
          -0.09499545241501152,
          9.171275859722927,
          3.178333675827792,
          1.2186503923950207,
          -0.6860074228440323,
          -1.3425288850952906,
          -4.206464208728109,
          1.1376745125142755,
          5.86624416673212,
          5.172942760999506,
          0.8381906811651318,
          2.664909713013407,
          0.21515899185316117,
          3.2726832067360876,
          1.4790240514498367,
          1.1920073339034987,
          4.369062502188968,
          4.729661426397491,
          3.088273560981099,
          2.5764673236943296
         ]
        },
        {
         "hovertemplate": "Population=Buryat<br>PC1=%{x}<br>PC2=%{y}<br>PC3=%{z}<extra></extra>",
         "legendgroup": "Buryat",
         "marker": {
          "color": "#00cc96",
          "opacity": 0.8,
          "size": 4,
          "symbol": "square"
         },
         "mode": "markers",
         "name": "Buryat",
         "scene": "scene",
         "showlegend": true,
         "type": "scatter3d",
         "x": [
          109.7183568405103,
          71.25563001863983,
          106.69191673324477,
          107.17906806849167,
          108.07221702917141,
          106.80911720830905,
          85.13562707503998,
          109.22621502091577,
          109.92374574359452,
          111.20355926219817,
          106.07643890058426,
          106.02829058275505,
          22.5505383531138,
          110.22696843423809,
          111.03608792196843,
          105.91263771930059,
          54.376502818442695,
          78.19472821012154,
          104.1777435426233,
          109.76973990841864,
          109.58197947797358,
          112.40678576763982,
          107.86653177919361,
          32.858689705054964,
          108.6892572354079,
          109.71759592318003,
          109.94085358788115,
          110.32039416236005,
          109.77395270771346,
          104.08457465569612,
          111.74853482574443,
          107.89313770337817,
          112.27122471053318,
          107.72736606424498,
          108.16721527072892,
          71.39136547390933,
          109.97250344041797,
          94.9017349126526,
          104.37835257367126,
          105.12461095054992,
          109.77995029911936,
          108.73014626951918,
          106.132944084214,
          106.97570958999034
         ],
         "y": [
          13.687470294744328,
          4.807827763788294,
          14.407809157182921,
          12.156898037295775,
          15.573756958443493,
          10.639079585753807,
          12.061192163325124,
          12.575290152371565,
          13.504798034544688,
          14.26850641519984,
          10.194455382501376,
          17.121909240418326,
          -3.709862141231829,
          16.65837973788904,
          11.419983066348411,
          14.237416754028951,
          1.452296226315383,
          16.257773076374406,
          13.40617446115488,
          14.012563847122625,
          11.350975550464728,
          18.130799444168638,
          13.122896248371456,
          -11.474160149100967,
          12.848948065522707,
          13.093996341132835,
          12.7753477906379,
          16.528120217721305,
          15.838695433932221,
          15.016287956998866,
          14.723265796140872,
          14.350284432145816,
          14.53131049438261,
          12.93720849349872,
          12.51147350528327,
          4.981403902226041,
          11.274725484623271,
          10.646023764048643,
          9.415173385484774,
          15.638220204517905,
          16.426827763712993,
          16.693780260694936,
          14.065561911123199,
          9.671789387104251
         ],
         "z": [
          18.846734932760565,
          16.171194461698526,
          20.884612254733554,
          21.85057901488809,
          18.18547648444837,
          17.115782664415146,
          18.89941823339984,
          18.659035681361203,
          19.241525548653627,
          19.49228371388512,
          21.074635681807422,
          21.589921166661405,
          20.950498166141546,
          23.784777144021444,
          14.253318767229361,
          16.97752479134581,
          16.397199130335366,
          15.661015035598357,
          22.331566029077955,
          17.43359416930286,
          13.47957248053731,
          21.74863941916642,
          18.374303473738422,
          4.308387085853773,
          17.909986318779058,
          21.713073759119347,
          21.28990706923051,
          21.422419049071898,
          19.48439947739992,
          18.232852748107558,
          17.55536591408935,
          18.93601994080726,
          19.331476579575764,
          20.979331157894194,
          20.987212578652997,
          16.35449314381647,
          20.060083256997128,
          22.141528077473886,
          12.58794716225397,
          20.35203382650415,
          25.484086847821285,
          21.169160756087912,
          20.77264878906629,
          18.528444094103136
         ]
        },
        {
         "hovertemplate": "Population=Chinese<br>PC1=%{x}<br>PC2=%{y}<br>PC3=%{z}<extra></extra>",
         "legendgroup": "Chinese",
         "marker": {
          "color": "#ab63fa",
          "opacity": 0.8,
          "size": 4,
          "symbol": "x"
         },
         "mode": "markers",
         "name": "Chinese",
         "scene": "scene",
         "showlegend": true,
         "type": "scatter3d",
         "x": [
          123.15943879909001,
          124.01201227962981,
          122.00231378821906,
          124.03688702957682,
          122.08178781404922,
          120.53368399339799,
          121.8405003339258,
          120.8167755477889,
          122.33123387389043,
          119.71707930780958,
          115.72400749815904,
          122.54529747529834,
          117.57002160722985
         ],
         "y": [
          28.694821041770137,
          27.411957677654016,
          27.620913233554457,
          28.673589586588022,
          27.24824194023207,
          26.463802146112272,
          29.51022531047229,
          27.458091693051557,
          30.43941107842367,
          28.43133924503783,
          23.70888090895789,
          27.74486595678329,
          26.04558523862753
         ],
         "z": [
          35.506366870476285,
          34.19694372060387,
          31.624069320545484,
          33.38389134225192,
          31.609256666593563,
          37.244362082463915,
          34.94629957685524,
          31.50884596512512,
          33.08168547480254,
          36.064726857553815,
          34.04077201084815,
          33.35050717970319,
          31.580697891447258
         ]
        },
        {
         "hovertemplate": "Population=Kazakh<br>PC1=%{x}<br>PC2=%{y}<br>PC3=%{z}<extra></extra>",
         "legendgroup": "Kazakh",
         "marker": {
          "color": "#FFA15A",
          "opacity": 0.8,
          "size": 4,
          "symbol": "cross"
         },
         "mode": "markers",
         "name": "Kazakh",
         "scene": "scene",
         "showlegend": true,
         "type": "scatter3d",
         "x": [
          57.67801001552924,
          56.2498496484466,
          63.56937361382442,
          55.34148052569363,
          52.00764400204338,
          54.93142804510516,
          65.49967773396111,
          59.08321657643113,
          60.05718449079927,
          63.83753459937739,
          63.0622029258032,
          29.93715578393532,
          54.0399217720071,
          57.24244295143055,
          59.98392658423981,
          70.0018726203407,
          53.73560933168859,
          57.002454182553215,
          55.090227092761985,
          41.01560380992375,
          50.58042102263941,
          55.789172759093944,
          52.55763369939075,
          63.55935138462265,
          55.50287214725125,
          57.478227341855096,
          57.775274043351104,
          61.684550717521816,
          51.097416701713506,
          60.65712797857278,
          47.761893476312494,
          67.9577487687664,
          58.67393220865048,
          3.5175074389651937,
          57.887852406256656,
          56.23375752292626,
          54.66292875960647,
          53.468987549339545,
          55.82813802983969,
          58.67435733366473,
          77.44386205504605,
          59.60269774810176,
          56.686795349452396,
          52.32431818472989,
          53.413046081020134
         ],
         "y": [
          11.46492827824244,
          9.615391798820706,
          15.525121403905553,
          12.882512255578135,
          12.632819697153431,
          11.68681258806986,
          12.177109923911745,
          8.807000843650538,
          11.720245303778944,
          14.083241555139885,
          15.240293893703448,
          12.336992102630658,
          10.463059162162342,
          10.504269663658425,
          10.521942450679978,
          15.480760025804825,
          9.61862821174738,
          11.521115369767374,
          9.833397147182252,
          11.903045222317644,
          11.901313619001101,
          13.61217031937495,
          9.518169766292452,
          9.801587228899923,
          10.506527342843839,
          11.475405254243785,
          10.7998059744877,
          10.230708147964457,
          7.466058444984433,
          10.896445269684015,
          8.080525431320325,
          14.672364735407317,
          12.982881571086889,
          -8.974991342533334,
          11.601868673933659,
          12.202483561485131,
          9.189096426821942,
          14.228590632894157,
          12.567712760863076,
          13.023806741656765,
          14.474088894413708,
          11.234229983051664,
          11.634277965551592,
          11.404985726479229,
          11.229258113512618
         ],
         "z": [
          8.40452985164605,
          12.207562690006167,
          13.73073389726089,
          9.914705269914903,
          9.297982246492296,
          10.546400357209144,
          11.575465366235226,
          13.965693165375503,
          16.804444473287102,
          13.144856459322327,
          13.920665603093635,
          9.227909154629515,
          12.001761930967293,
          10.628076681905727,
          13.291613022174822,
          12.108881366339533,
          8.576994166940864,
          13.199174116793904,
          8.973449721885547,
          8.921431160656752,
          10.728165288328501,
          10.026096738101213,
          11.832435427297087,
          12.524650700574986,
          8.871215543674998,
          13.961018901940019,
          12.897547556338148,
          9.630992589469214,
          10.18557439047495,
          11.50661459137247,
          6.044050579360237,
          15.78063701802413,
          12.718968620314067,
          16.613362488559403,
          9.876621659985737,
          12.964672102202092,
          12.219636001062522,
          12.600852220257856,
          11.488447666100692,
          10.7041624236707,
          12.286568296126948,
          10.81143248377087,
          10.989135966684026,
          7.03291475657123,
          9.163218123232253
         ]
        },
        {
         "hovertemplate": "Population=Russian_NSK<br>PC1=%{x}<br>PC2=%{y}<br>PC3=%{z}<extra></extra>",
         "legendgroup": "Russian_NSK",
         "marker": {
          "color": "#19d3f3",
          "opacity": 0.8,
          "size": 4,
          "symbol": "circle"
         },
         "mode": "markers",
         "name": "Russian_NSK",
         "scene": "scene",
         "showlegend": true,
         "type": "scatter3d",
         "x": [
          -54.30613276998394,
          -56.73047381739856,
          -46.75243635113524,
          -60.766219712190086,
          -57.37972915995519,
          -43.232568841445456,
          26.077819373364143,
          -39.51232142448551,
          -54.490050670729445,
          -55.330948888254305,
          -45.68152348181593,
          -56.856532421804815,
          23.779574108882272,
          -52.347120035807485,
          -42.305972494124894,
          -42.18238176808018,
          -63.26789703569606,
          -55.967712055204665,
          -47.6419491603144,
          -50.086646259918666,
          -46.968326803340766,
          -53.18272375297719,
          -50.62233119963474,
          -13.287225437194994,
          -44.115387632607245,
          -51.441874925756835,
          -60.39761714312631,
          -8.316341068300245,
          -60.500867933944434,
          -50.68729439178259,
          -47.686798133887145,
          -54.78525670374109,
          -45.63047027125146,
          -41.10303931388666,
          -15.977152889079306,
          -40.40398414697476,
          -42.809566920867304,
          -51.11551531213715
         ],
         "y": [
          -21.2028335995972,
          -23.7005977319877,
          -25.34087129005905,
          -19.325941109814053,
          -22.376870662920712,
          -25.931248983554617,
          -1.3445946493086636,
          -24.435912201623943,
          -22.74782275835176,
          -25.276065778734516,
          -22.901013097015827,
          -25.56994069330306,
          -6.737942265836388,
          -25.472395352691805,
          -24.82965532065661,
          -25.390094136993955,
          -16.187375317105005,
          -22.569785170419593,
          -25.513734080458672,
          -26.012678077307047,
          -5.632587832283116,
          -19.193805911952293,
          -20.39034788331764,
          -21.020069886486738,
          -26.822278842162834,
          -23.43560489642355,
          -28.641032158786288,
          -21.093276405306536,
          -21.508304742100744,
          -22.548235885896812,
          -25.510470509208147,
          -22.984861727429536,
          -24.251540292229574,
          -30.637294716776378,
          -22.791642234905183,
          -28.468864396237286,
          -17.68025920420294,
          -22.429727295410135
         ],
         "z": [
          18.154914130922503,
          14.345959033598497,
          11.856068288667071,
          17.729832235340925,
          16.198330134900942,
          14.251593735590728,
          1.1783492897042358,
          8.185776901779114,
          16.32507330974523,
          12.681353839266821,
          15.53437458094271,
          19.40086843863855,
          -6.300412480309656,
          15.652810610684124,
          12.619737432031126,
          10.710583671608191,
          13.51646707989118,
          14.877007374304606,
          15.222396014688242,
          15.48288419559667,
          9.45799082294607,
          16.692765102144342,
          13.216102427677983,
          2.2606032295254077,
          12.141677615082727,
          13.28607192928998,
          17.476921883376,
          1.5502081508780203,
          20.818525133668345,
          17.162415045298147,
          11.62853084750239,
          14.24912559777058,
          16.185807868478076,
          11.708828161345181,
          0.9873434063789371,
          9.960790131508816,
          12.763555177404992,
          15.489431879871255
         ]
        },
        {
         "hovertemplate": "Population=Russian_STV<br>PC1=%{x}<br>PC2=%{y}<br>PC3=%{z}<extra></extra>",
         "legendgroup": "Russian_STV",
         "marker": {
          "color": "#FF6692",
          "opacity": 0.8,
          "size": 4,
          "symbol": "diamond"
         },
         "mode": "markers",
         "name": "Russian_STV",
         "scene": "scene",
         "showlegend": true,
         "type": "scatter3d",
         "x": [
          -45.57522705976231,
          -44.12756926771344,
          -43.563424261837255,
          -40.33091420995469,
          -45.283992983920996,
          -42.288278702622364,
          -42.199762059122456,
          -41.91267334207175,
          -54.66798690825941,
          -49.547964614994584,
          -49.32529851791682,
          -44.16294200050913,
          -39.67708113616643,
          -36.63935684244008,
          -31.92750975656996,
          -53.413930027891105,
          -42.74624705502087,
          -39.58295605173712,
          -49.7655866910314,
          -53.714280397030066,
          -51.656230794158844,
          -49.444089485532416,
          -43.84234109220393,
          -45.91612656930215,
          -39.97122265644665,
          -44.81241883392003,
          -43.62828242758105,
          -48.49364584126194,
          -46.963484232021194,
          -56.9156299302032,
          -47.00854782855252,
          -45.00652611310193,
          -47.5017741770214,
          -48.52645621857489,
          -46.18207084237311,
          -41.76456180535407,
          -45.088840306633706,
          -43.87415240010983,
          -43.754780649232394
         ],
         "y": [
          -27.346411669653378,
          -26.39909691642325,
          -27.550936429726644,
          -29.06691137341291,
          -29.642128594637526,
          -26.37274947700306,
          -26.534287298341013,
          -27.414625129572944,
          -28.050740508134353,
          -27.436314176218996,
          -25.47916079221907,
          -26.981092829581293,
          -26.88161490244687,
          -25.932485426129276,
          -9.765648637553442,
          -22.917394668681492,
          -32.00166032795067,
          -22.361823454694,
          -22.02199433662387,
          -27.153781718060905,
          -12.505911917520516,
          -25.729382127832157,
          -29.109410603338,
          -27.014212495889574,
          -28.06996311848474,
          -31.766239738538722,
          -27.61762530271932,
          -23.723426960683312,
          -26.752371623425432,
          -25.344868166719966,
          -26.346370941567905,
          -26.821781461496673,
          -26.533271240612386,
          -27.02422492387248,
          -26.58696293122022,
          -26.92152560242813,
          -29.238877202833155,
          -28.607813816700585,
          -22.77724956342294
         ],
         "z": [
          12.324704657179444,
          11.440936543039935,
          13.947785395976908,
          13.255559927403576,
          13.704975030163432,
          13.696630324118376,
          14.524904957312575,
          10.582712373753074,
          14.82894892323241,
          16.535442475532275,
          12.653259976230396,
          13.881532965177593,
          11.375141177869722,
          8.674400667612314,
          10.161040087964436,
          15.99793997252841,
          13.683014592876818,
          11.260725786983903,
          13.572512368047397,
          18.69327606889581,
          11.274100714099895,
          13.74399163458529,
          11.654416290855785,
          6.557477914450063,
          10.239200629881575,
          13.105387893091203,
          14.669400538734406,
          13.592932161402357,
          9.964261573311417,
          18.679717355257498,
          14.042706285936454,
          10.76529120549646,
          12.465382818987091,
          16.15669496743834,
          14.813066299140566,
          11.628535549195833,
          15.392790447241824,
          10.950733947363867,
          13.119016080167729
         ]
        },
        {
         "hovertemplate": "Population=Yakut<br>PC1=%{x}<br>PC2=%{y}<br>PC3=%{z}<extra></extra>",
         "legendgroup": "Yakut",
         "marker": {
          "color": "#B6E880",
          "opacity": 0.8,
          "size": 4,
          "symbol": "square"
         },
         "mode": "markers",
         "name": "Yakut",
         "scene": "scene",
         "showlegend": true,
         "type": "scatter3d",
         "x": [
          112.53306461540635,
          118.3045683086287,
          116.32750388680964,
          119.24669822087056,
          118.03234565804513,
          119.43253210911989,
          117.02757887374962,
          121.62116085816098,
          113.38652095015142,
          115.01631156792587,
          119.13796485971575,
          95.70992001936969,
          98.20972753770945,
          116.74172625578844,
          123.14351885920638,
          119.11631992988521,
          121.12298910142034,
          121.39456308769837,
          116.61767701391896,
          116.0908263776934,
          102.42430663665014,
          117.22764978371609,
          118.45141741418331,
          117.831322329878,
          106.12362843417523,
          102.10453119276855,
          105.9634935147899,
          116.5822404360449,
          121.88427082295645,
          119.97905576324607,
          110.79515466421368,
          104.07645547109965,
          118.63130647958545,
          122.14696206007477,
          122.67909661203191,
          113.95858329357583,
          117.17842018540728,
          120.59836098750745,
          111.8561816355042,
          104.26737399612401,
          121.34701024399034
         ],
         "y": [
          7.531359755741268,
          7.021173942582865,
          9.610013950158159,
          6.760249600440002,
          7.490350264839109,
          10.970182266787837,
          6.434679752286425,
          6.619745335238567,
          6.198029340063295,
          6.717268394146371,
          8.622846469957228,
          3.3891457191850054,
          7.981750060988376,
          9.154168947269406,
          8.864016857035137,
          10.787711345331186,
          8.325654245196798,
          11.430898496720895,
          8.107947827327733,
          7.902660108550293,
          6.774762314495695,
          8.291696492378785,
          8.723926810952447,
          10.54374592977026,
          7.104330575018295,
          7.471733309744651,
          2.908936383689374,
          10.236160575129237,
          7.605838384420993,
          10.089531091020568,
          6.582235402247547,
          6.888990191828335,
          8.643438221843386,
          12.228012063802893,
          6.964289795252159,
          9.321972387269835,
          6.156394564023689,
          8.541004950213967,
          6.111545170770587,
          6.825558609069049,
          8.418463083505648
         ],
         "z": [
          9.82047087948271,
          12.05304515910713,
          9.40336795669879,
          9.055095983422884,
          12.188327686386502,
          11.057850486625474,
          12.669016676511369,
          8.402363899597342,
          11.473325052257966,
          10.129266667652347,
          10.07103564932911,
          12.155777245976138,
          9.911737755651602,
          9.19489047639531,
          11.436115124452863,
          13.33363042178708,
          12.747007443806352,
          15.0578249473561,
          10.986379976169193,
          13.9276466082472,
          11.401951634590569,
          9.487924871421818,
          14.893076782914681,
          8.50794952855548,
          8.578157850540444,
          6.492599605588856,
          7.806737836891872,
          13.02514674416822,
          9.393146886053335,
          10.168805281495576,
          12.852749447582797,
          8.194773073809126,
          11.7375832904029,
          17.182197865989746,
          6.999363683315247,
          13.36510259408579,
          10.25780184952613,
          15.571316709549238,
          6.9373255577834305,
          15.660229162176226,
          12.675937382217558
         ]
        }
       ],
       "layout": {
        "autosize": true,
        "legend": {
         "bgcolor": "rgba(255, 255, 255, 0.8)",
         "title": {
          "text": "Population"
         },
         "tracegroupgap": 0,
         "x": 1.05,
         "y": 1
        },
        "margin": {
         "b": 0,
         "l": 0,
         "r": 0,
         "t": 30
        },
        "scene": {
         "aspectmode": "auto",
         "aspectratio": {
          "x": 1.4078857772298454,
          "y": 0.729436017845507,
          "z": 0.9737452999192602
         },
         "domain": {
          "x": [
           0,
           1
          ],
          "y": [
           0,
           1
          ]
         },
         "xaxis": {
          "title": {
           "text": "PC1"
          },
          "type": "linear"
         },
         "yaxis": {
          "title": {
           "text": "PC2"
          },
          "type": "linear"
         },
         "zaxis": {
          "title": {
           "text": "PC3"
          },
          "type": "linear"
         }
        },
        "template": {
         "data": {
          "bar": [
           {
            "error_x": {
             "color": "#2a3f5f"
            },
            "error_y": {
             "color": "#2a3f5f"
            },
            "marker": {
             "line": {
              "color": "#E5ECF6",
              "width": 0.5
             },
             "pattern": {
              "fillmode": "overlay",
              "size": 10,
              "solidity": 0.2
             }
            },
            "type": "bar"
           }
          ],
          "barpolar": [
           {
            "marker": {
             "line": {
              "color": "#E5ECF6",
              "width": 0.5
             },
             "pattern": {
              "fillmode": "overlay",
              "size": 10,
              "solidity": 0.2
             }
            },
            "type": "barpolar"
           }
          ],
          "carpet": [
           {
            "aaxis": {
             "endlinecolor": "#2a3f5f",
             "gridcolor": "white",
             "linecolor": "white",
             "minorgridcolor": "white",
             "startlinecolor": "#2a3f5f"
            },
            "baxis": {
             "endlinecolor": "#2a3f5f",
             "gridcolor": "white",
             "linecolor": "white",
             "minorgridcolor": "white",
             "startlinecolor": "#2a3f5f"
            },
            "type": "carpet"
           }
          ],
          "choropleth": [
           {
            "colorbar": {
             "outlinewidth": 0,
             "ticks": ""
            },
            "type": "choropleth"
           }
          ],
          "contour": [
           {
            "colorbar": {
             "outlinewidth": 0,
             "ticks": ""
            },
            "colorscale": [
             [
              0,
              "#0d0887"
             ],
             [
              0.1111111111111111,
              "#46039f"
             ],
             [
              0.2222222222222222,
              "#7201a8"
             ],
             [
              0.3333333333333333,
              "#9c179e"
             ],
             [
              0.4444444444444444,
              "#bd3786"
             ],
             [
              0.5555555555555556,
              "#d8576b"
             ],
             [
              0.6666666666666666,
              "#ed7953"
             ],
             [
              0.7777777777777778,
              "#fb9f3a"
             ],
             [
              0.8888888888888888,
              "#fdca26"
             ],
             [
              1,
              "#f0f921"
             ]
            ],
            "type": "contour"
           }
          ],
          "contourcarpet": [
           {
            "colorbar": {
             "outlinewidth": 0,
             "ticks": ""
            },
            "type": "contourcarpet"
           }
          ],
          "heatmap": [
           {
            "colorbar": {
             "outlinewidth": 0,
             "ticks": ""
            },
            "colorscale": [
             [
              0,
              "#0d0887"
             ],
             [
              0.1111111111111111,
              "#46039f"
             ],
             [
              0.2222222222222222,
              "#7201a8"
             ],
             [
              0.3333333333333333,
              "#9c179e"
             ],
             [
              0.4444444444444444,
              "#bd3786"
             ],
             [
              0.5555555555555556,
              "#d8576b"
             ],
             [
              0.6666666666666666,
              "#ed7953"
             ],
             [
              0.7777777777777778,
              "#fb9f3a"
             ],
             [
              0.8888888888888888,
              "#fdca26"
             ],
             [
              1,
              "#f0f921"
             ]
            ],
            "type": "heatmap"
           }
          ],
          "heatmapgl": [
           {
            "colorbar": {
             "outlinewidth": 0,
             "ticks": ""
            },
            "colorscale": [
             [
              0,
              "#0d0887"
             ],
             [
              0.1111111111111111,
              "#46039f"
             ],
             [
              0.2222222222222222,
              "#7201a8"
             ],
             [
              0.3333333333333333,
              "#9c179e"
             ],
             [
              0.4444444444444444,
              "#bd3786"
             ],
             [
              0.5555555555555556,
              "#d8576b"
             ],
             [
              0.6666666666666666,
              "#ed7953"
             ],
             [
              0.7777777777777778,
              "#fb9f3a"
             ],
             [
              0.8888888888888888,
              "#fdca26"
             ],
             [
              1,
              "#f0f921"
             ]
            ],
            "type": "heatmapgl"
           }
          ],
          "histogram": [
           {
            "marker": {
             "pattern": {
              "fillmode": "overlay",
              "size": 10,
              "solidity": 0.2
             }
            },
            "type": "histogram"
           }
          ],
          "histogram2d": [
           {
            "colorbar": {
             "outlinewidth": 0,
             "ticks": ""
            },
            "colorscale": [
             [
              0,
              "#0d0887"
             ],
             [
              0.1111111111111111,
              "#46039f"
             ],
             [
              0.2222222222222222,
              "#7201a8"
             ],
             [
              0.3333333333333333,
              "#9c179e"
             ],
             [
              0.4444444444444444,
              "#bd3786"
             ],
             [
              0.5555555555555556,
              "#d8576b"
             ],
             [
              0.6666666666666666,
              "#ed7953"
             ],
             [
              0.7777777777777778,
              "#fb9f3a"
             ],
             [
              0.8888888888888888,
              "#fdca26"
             ],
             [
              1,
              "#f0f921"
             ]
            ],
            "type": "histogram2d"
           }
          ],
          "histogram2dcontour": [
           {
            "colorbar": {
             "outlinewidth": 0,
             "ticks": ""
            },
            "colorscale": [
             [
              0,
              "#0d0887"
             ],
             [
              0.1111111111111111,
              "#46039f"
             ],
             [
              0.2222222222222222,
              "#7201a8"
             ],
             [
              0.3333333333333333,
              "#9c179e"
             ],
             [
              0.4444444444444444,
              "#bd3786"
             ],
             [
              0.5555555555555556,
              "#d8576b"
             ],
             [
              0.6666666666666666,
              "#ed7953"
             ],
             [
              0.7777777777777778,
              "#fb9f3a"
             ],
             [
              0.8888888888888888,
              "#fdca26"
             ],
             [
              1,
              "#f0f921"
             ]
            ],
            "type": "histogram2dcontour"
           }
          ],
          "mesh3d": [
           {
            "colorbar": {
             "outlinewidth": 0,
             "ticks": ""
            },
            "type": "mesh3d"
           }
          ],
          "parcoords": [
           {
            "line": {
             "colorbar": {
              "outlinewidth": 0,
              "ticks": ""
             }
            },
            "type": "parcoords"
           }
          ],
          "pie": [
           {
            "automargin": true,
            "type": "pie"
           }
          ],
          "scatter": [
           {
            "fillpattern": {
             "fillmode": "overlay",
             "size": 10,
             "solidity": 0.2
            },
            "type": "scatter"
           }
          ],
          "scatter3d": [
           {
            "line": {
             "colorbar": {
              "outlinewidth": 0,
              "ticks": ""
             }
            },
            "marker": {
             "colorbar": {
              "outlinewidth": 0,
              "ticks": ""
             }
            },
            "type": "scatter3d"
           }
          ],
          "scattercarpet": [
           {
            "marker": {
             "colorbar": {
              "outlinewidth": 0,
              "ticks": ""
             }
            },
            "type": "scattercarpet"
           }
          ],
          "scattergeo": [
           {
            "marker": {
             "colorbar": {
              "outlinewidth": 0,
              "ticks": ""
             }
            },
            "type": "scattergeo"
           }
          ],
          "scattergl": [
           {
            "marker": {
             "colorbar": {
              "outlinewidth": 0,
              "ticks": ""
             }
            },
            "type": "scattergl"
           }
          ],
          "scattermapbox": [
           {
            "marker": {
             "colorbar": {
              "outlinewidth": 0,
              "ticks": ""
             }
            },
            "type": "scattermapbox"
           }
          ],
          "scatterpolar": [
           {
            "marker": {
             "colorbar": {
              "outlinewidth": 0,
              "ticks": ""
             }
            },
            "type": "scatterpolar"
           }
          ],
          "scatterpolargl": [
           {
            "marker": {
             "colorbar": {
              "outlinewidth": 0,
              "ticks": ""
             }
            },
            "type": "scatterpolargl"
           }
          ],
          "scatterternary": [
           {
            "marker": {
             "colorbar": {
              "outlinewidth": 0,
              "ticks": ""
             }
            },
            "type": "scatterternary"
           }
          ],
          "surface": [
           {
            "colorbar": {
             "outlinewidth": 0,
             "ticks": ""
            },
            "colorscale": [
             [
              0,
              "#0d0887"
             ],
             [
              0.1111111111111111,
              "#46039f"
             ],
             [
              0.2222222222222222,
              "#7201a8"
             ],
             [
              0.3333333333333333,
              "#9c179e"
             ],
             [
              0.4444444444444444,
              "#bd3786"
             ],
             [
              0.5555555555555556,
              "#d8576b"
             ],
             [
              0.6666666666666666,
              "#ed7953"
             ],
             [
              0.7777777777777778,
              "#fb9f3a"
             ],
             [
              0.8888888888888888,
              "#fdca26"
             ],
             [
              1,
              "#f0f921"
             ]
            ],
            "type": "surface"
           }
          ],
          "table": [
           {
            "cells": {
             "fill": {
              "color": "#EBF0F8"
             },
             "line": {
              "color": "white"
             }
            },
            "header": {
             "fill": {
              "color": "#C8D4E3"
             },
             "line": {
              "color": "white"
             }
            },
            "type": "table"
           }
          ]
         },
         "layout": {
          "annotationdefaults": {
           "arrowcolor": "#2a3f5f",
           "arrowhead": 0,
           "arrowwidth": 1
          },
          "autotypenumbers": "strict",
          "coloraxis": {
           "colorbar": {
            "outlinewidth": 0,
            "ticks": ""
           }
          },
          "colorscale": {
           "diverging": [
            [
             0,
             "#8e0152"
            ],
            [
             0.1,
             "#c51b7d"
            ],
            [
             0.2,
             "#de77ae"
            ],
            [
             0.3,
             "#f1b6da"
            ],
            [
             0.4,
             "#fde0ef"
            ],
            [
             0.5,
             "#f7f7f7"
            ],
            [
             0.6,
             "#e6f5d0"
            ],
            [
             0.7,
             "#b8e186"
            ],
            [
             0.8,
             "#7fbc41"
            ],
            [
             0.9,
             "#4d9221"
            ],
            [
             1,
             "#276419"
            ]
           ],
           "sequential": [
            [
             0,
             "#0d0887"
            ],
            [
             0.1111111111111111,
             "#46039f"
            ],
            [
             0.2222222222222222,
             "#7201a8"
            ],
            [
             0.3333333333333333,
             "#9c179e"
            ],
            [
             0.4444444444444444,
             "#bd3786"
            ],
            [
             0.5555555555555556,
             "#d8576b"
            ],
            [
             0.6666666666666666,
             "#ed7953"
            ],
            [
             0.7777777777777778,
             "#fb9f3a"
            ],
            [
             0.8888888888888888,
             "#fdca26"
            ],
            [
             1,
             "#f0f921"
            ]
           ],
           "sequentialminus": [
            [
             0,
             "#0d0887"
            ],
            [
             0.1111111111111111,
             "#46039f"
            ],
            [
             0.2222222222222222,
             "#7201a8"
            ],
            [
             0.3333333333333333,
             "#9c179e"
            ],
            [
             0.4444444444444444,
             "#bd3786"
            ],
            [
             0.5555555555555556,
             "#d8576b"
            ],
            [
             0.6666666666666666,
             "#ed7953"
            ],
            [
             0.7777777777777778,
             "#fb9f3a"
            ],
            [
             0.8888888888888888,
             "#fdca26"
            ],
            [
             1,
             "#f0f921"
            ]
           ]
          },
          "colorway": [
           "#636efa",
           "#EF553B",
           "#00cc96",
           "#ab63fa",
           "#FFA15A",
           "#19d3f3",
           "#FF6692",
           "#B6E880",
           "#FF97FF",
           "#FECB52"
          ],
          "font": {
           "color": "#2a3f5f"
          },
          "geo": {
           "bgcolor": "white",
           "lakecolor": "white",
           "landcolor": "#E5ECF6",
           "showlakes": true,
           "showland": true,
           "subunitcolor": "white"
          },
          "hoverlabel": {
           "align": "left"
          },
          "hovermode": "closest",
          "mapbox": {
           "style": "light"
          },
          "paper_bgcolor": "white",
          "plot_bgcolor": "#E5ECF6",
          "polar": {
           "angularaxis": {
            "gridcolor": "white",
            "linecolor": "white",
            "ticks": ""
           },
           "bgcolor": "#E5ECF6",
           "radialaxis": {
            "gridcolor": "white",
            "linecolor": "white",
            "ticks": ""
           }
          },
          "scene": {
           "xaxis": {
            "backgroundcolor": "#E5ECF6",
            "gridcolor": "white",
            "gridwidth": 2,
            "linecolor": "white",
            "showbackground": true,
            "ticks": "",
            "zerolinecolor": "white"
           },
           "yaxis": {
            "backgroundcolor": "#E5ECF6",
            "gridcolor": "white",
            "gridwidth": 2,
            "linecolor": "white",
            "showbackground": true,
            "ticks": "",
            "zerolinecolor": "white"
           },
           "zaxis": {
            "backgroundcolor": "#E5ECF6",
            "gridcolor": "white",
            "gridwidth": 2,
            "linecolor": "white",
            "showbackground": true,
            "ticks": "",
            "zerolinecolor": "white"
           }
          },
          "shapedefaults": {
           "line": {
            "color": "#2a3f5f"
           }
          },
          "ternary": {
           "aaxis": {
            "gridcolor": "white",
            "linecolor": "white",
            "ticks": ""
           },
           "baxis": {
            "gridcolor": "white",
            "linecolor": "white",
            "ticks": ""
           },
           "bgcolor": "#E5ECF6",
           "caxis": {
            "gridcolor": "white",
            "linecolor": "white",
            "ticks": ""
           }
          },
          "title": {
           "x": 0.05
          },
          "xaxis": {
           "automargin": true,
           "gridcolor": "white",
           "linecolor": "white",
           "ticks": "",
           "title": {
            "standoff": 15
           },
           "zerolinecolor": "white",
           "zerolinewidth": 2
          },
          "yaxis": {
           "automargin": true,
           "gridcolor": "white",
           "linecolor": "white",
           "ticks": "",
           "title": {
            "standoff": 15
           },
           "zerolinecolor": "white",
           "zerolinewidth": 2
          }
         }
        },
        "title": {
         "text": "PCA Ethnicity aggregation"
        }
       }
      },
      "image/png": "[encoded data removed]",
      "text/html": [
       "<div>                            <div id=\"f0475c51-ce49-4306-befc-e2902ec4741f\" class=\"plotly-graph-div\" style=\"height:525px; width:100%;\"></div>            <script type=\"text/javascript\">                require([\"plotly\"], function(Plotly) {                    window.PLOTLYENV=window.PLOTLYENV || {};                                    if (document.getElementById(\"f0475c51-ce49-4306-befc-e2902ec4741f\")) {                    Plotly.newPlot(                        \"f0475c51-ce49-4306-befc-e2902ec4741f\",                        [{\"hovertemplate\":\"Population=Karel\\u003cbr\\u003ePC1=%{x}\\u003cbr\\u003ePC2=%{y}\\u003cbr\\u003ePC3=%{z}\\u003cextra\\u003e\\u003c\\u002fextra\\u003e\",\"legendgroup\":\"Karel\",\"marker\":{\"color\":\"#636efa\",\"opacity\":0.8,\"symbol\":\"circle\",\"size\":4},\"mode\":\"markers\",\"name\":\"Karel\",\"scene\":\"scene\",\"showlegend\":true,\"x\":[-42.13341711463961,-53.14261242457114,-48.0366756706272,-41.15362585251535,-44.6708211864081,-41.973349397040145,-45.16244630555844,-54.26206026157157,-52.12732791731184,-42.26559113882445,-38.70481917934372,-40.40893690706763,-44.90735340510051,-46.388893919692315,-46.46174714298782,-39.25807149825819,-43.79861621254812,-42.79158135057491,-47.78385080469018,-43.240200131703226,-44.692283082210885,-45.55804756957822,-44.110035068750996,-50.356367373285366,-44.30953717784081,-45.915196178667394],\"y\":[-35.990191217101135,-23.538366369781983,-33.04494479072176,-34.40435506521747,-33.24036916658041,-35.797076765316284,-33.41683993814548,-25.910701521125166,-29.678081744600174,-34.703790552311304,-33.14106034599163,-36.57482743993075,-33.492889311132195,-33.73371998362398,-35.27617701218574,-36.40897310928651,-32.909752174472914,-34.05611392519443,-31.934582919596618,-32.21694880492527,-32.24178135648683,-31.861173728112366,-27.506774521231907,-30.193649800550443,-34.943775103965876,-33.6683989056016],\"z\":[16.35144699693636,19.596394411197767,15.394848863915726,15.346323988588392,10.419576405217814,15.51971261637744,16.188926958238103,17.506008419872106,15.850174092189285,15.92883281682823,15.037037040077035,15.135341608225026,16.688694004323022,17.366677214701447,12.068511132577372,16.620576993092957,11.511562312249609,16.86651067904513,15.720064913559588,16.492196132186386,16.657791216611255,12.848217164069727,14.821220997301825,11.026168776064253,18.81154377137033,14.498849166887547],\"type\":\"scatter3d\"},{\"hovertemplate\":\"Population=Moldovan\\u003cbr\\u003ePC1=%{x}\\u003cbr\\u003ePC2=%{y}\\u003cbr\\u003ePC3=%{z}\\u003cextra\\u003e\\u003c\\u002fextra\\u003e\",\"legendgroup\":\"Moldovan\",\"marker\":{\"color\":\"#EF553B\",\"opacity\":0.8,\"symbol\":\"diamond\",\"size\":4},\"mode\":\"markers\",\"name\":\"Moldovan\",\"scene\":\"scene\",\"showlegend\":true,\"x\":[-59.08168746487717,-57.80543006303658,-61.52762021647398,-59.57365216737258,-58.522311904643075,-60.49445913785534,-59.42946494139578,-56.27145229493878,-61.476927471871896,-57.840871615846794,-58.751248061389326,-58.662900662893314,-59.520708364132645,-59.49969487389996,-60.55977734264342,-56.36563226241964,-56.967246254929414,-60.05981644791438,-56.68241831101598,-58.589636366275535,-60.806600840365,-61.828065615866564,-61.09855347645394,-59.83419471669021,-57.98509537016858,-60.259354840667,-53.973920832768876,-59.743242737361776,-58.74655610506841,-59.796533418430485,-58.47345620380764,-57.927365125882886],\"y\":[-6.421148154637516,-4.710803144773738,-8.067798101827819,-9.32216821072279,-3.5022206385334074,-2.978458860471549,-8.053243282788115,-6.9971739899883225,-4.268875092929656,-6.484741639470749,-5.283142778201417,-11.431931130598395,-2.324712400110616,-9.163749452212256,-8.153419768402536,-6.959037699165054,-6.010295519525542,-5.943736301893176,-9.119214355362532,-6.259869206763532,-6.792870970446586,-8.271091356250487,1.6790335234287723,-5.954680937600305,-9.791953373911408,-4.404256893805394,-0.890946285688533,-6.505726830840102,-8.82843010364964,-7.597934209852729,-11.948660587945247,-7.357810852741427],\"z\":[13.131256680827335,10.898780889204254,11.148444912908015,13.661320553184487,9.331997838929901,8.264307611200952,7.440479826884806,13.772337834054294,11.303431304786798,10.779417132644866,10.979878959235334,11.520580261750343,12.127076986832181,13.90978883016749,11.663151900328652,13.84573651744199,9.042248124019121,12.883099261180574,10.721993555334551,11.585758097903309,11.135573784466397,13.321094916065586,7.6436898922567025,9.206011754845214,10.261734927437143,11.524521915068432,11.728521266228304,10.593052027162102,13.47600329281771,14.966853613977984,13.839716283621318,12.609755719165815],\"type\":\"scatter3d\"},{\"hovertemplate\":\"Population=Tatar\\u003cbr\\u003ePC1=%{x}\\u003cbr\\u003ePC2=%{y}\\u003cbr\\u003ePC3=%{z}\\u003cextra\\u003e\\u003c\\u002fextra\\u003e\",\"legendgroup\":\"Tatar\",\"marker\":{\"color\":\"#00cc96\",\"opacity\":0.8,\"symbol\":\"square\",\"size\":4},\"mode\":\"markers\",\"name\":\"Tatar\",\"scene\":\"scene\",\"showlegend\":true,\"x\":[-22.801896456384,-19.07529556896048,-21.512109449838796,-26.120524048861583,-18.49437624995926,-28.548724649907324,-22.173025617435833,-23.218245811019514,-59.91566744320654,-30.65971126778524,-11.799206886931442,-36.88789428626197,-42.81310844989605,-28.47484857744511,-32.20014255682131,-22.344492367300003,-18.327755561767717,-26.543593639569718,-26.232772265355937,-20.967892607436198,-19.700261158162924,-24.660720359483342,-15.252547906517613,-13.83143871250442,-27.36177165332642,-18.969231692014485,-19.098187861065206,-14.247107459077613,-25.37372689855782,-18.01372766472012,-22.108258832922907,-37.19262128559018,-17.007844541723525,-24.602992401726954],\"y\":[-18.565489351475325,-13.921573868508426,-15.405518331060948,-13.312165232316566,-15.340443902477702,-12.256222977792584,-15.172031922203804,-7.232655516412416,48.968379564136534,-14.482584458001412,-14.275465702970251,7.284741555524585,-15.802870039935597,-11.745206419515936,-15.961895397494661,-9.102822467728801,-15.06596265511158,-15.854796225288206,-12.534985979477748,-11.843110580852779,-15.139938271778549,-12.663277964897189,-12.754763277383578,-17.216922878926372,-11.188572145819789,-16.433453981174868,-17.354877529073875,-13.006259710094104,-13.375252570126264,-11.695154451901134,-12.981026816020126,-14.275747985664125,-16.3333765029763,-15.265864870281229],\"z\":[8.394014769299204,7.194096480780012,2.6529890353051746,9.482777309093946,7.857717742903604,7.444250367866252,0.7768080833201587,6.641913467500403,-19.403316874144597,6.297088813497852,1.918584538844609,0.5692361315995609,13.284723220832781,7.97018605218217,12.38052555378092,4.026204369887319,5.079396913790335,6.593137282351904,3.9131594041589057,6.165452540066416,5.069418717923503,3.3875793922062094,1.1184856543341761,3.5856169767984465,2.441487175520661,5.943922875958615,3.1363500643190485,5.416740195552083,3.9227407138806325,6.241014241084035,4.518566352835051,8.925653683431879,2.3035937505117317,5.8739103034856335],\"type\":\"scatter3d\"},{\"hovertemplate\":\"Population=Bashkir\\u003cbr\\u003ePC1=%{x}\\u003cbr\\u003ePC2=%{y}\\u003cbr\\u003ePC3=%{z}\\u003cextra\\u003e\\u003c\\u002fextra\\u003e\",\"legendgroup\":\"Bashkir\",\"marker\":{\"color\":\"#ab63fa\",\"opacity\":0.8,\"symbol\":\"x\",\"size\":4},\"mode\":\"markers\",\"name\":\"Bashkir\",\"scene\":\"scene\",\"showlegend\":true,\"x\":[21.038165258913267,22.814886204933938,21.17689903827251,18.77175324392209,19.765464880127347,15.87642988958176,28.13693851106563,13.990151592495732,15.465883664535593,15.9174050384699,21.078393084539837,19.664660506756785,28.697257698798467,19.787906610277396,22.342044277278205,19.79173372914265,-1.1616461362135933,16.886390584741864,11.829988835144087,21.413140972828657,23.92215337933881,26.610310429039593,22.69237671268786,8.64145463918891,24.935827636103536,29.35521895233171,19.58796532473404,-1.214528551548795,16.17023955866318,19.757049833083656,33.46164146632968,21.213643878828243,23.585324904666702,24.370164701512714],\"y\":[-9.611424313397915,-6.665700339928282,-8.950257120229217,-9.91112151022431,-9.552026930508982,-11.543058680981233,-7.333129993109225,-9.418040247482043,-11.759940745327928,-8.224874980320754,-9.166215588379206,-13.766163225096676,-8.188506931275372,-6.0546241917827786,-6.15284675610944,-5.593860688281939,-10.82100758367697,-9.041776572798529,-12.60467372526037,-6.775847248618,-9.021590725464824,-5.581007240195188,-14.297360414102123,-9.876507911694661,-8.839177727868778,-7.177522956531491,-9.62314205924522,-15.73892192574079,-11.886770136394547,-9.67922328849284,-7.887141299964448,-9.38402496495736,-10.155287995295266,-9.494093240248842],\"z\":[-1.0438947353831671,-1.8743558476301798,-2.7998109288911515,-2.7251058606825267,-3.536328490388834,-4.348831472392066,0.5850025288038475,2.6960287219281662,-5.355400629780244,0.07003537255223236,-3.481618027656468,0.2393884735951041,-2.5787849256790505,-4.4728973031602175,-3.9597845999986427,-3.0026683928529754,1.6893937426186678,-3.5777261783512477,-3.208583638871054,-1.0195006263034512,-1.9430615605382533,-2.3540459824642834,-2.415384264370196,0.620067888857008,-2.222522595556998,-1.4551057692646656,-0.8082048085439419,2.5439010643217315,-1.6909226033474678,-4.150123594500385,-4.961614630970415,-0.7058911572309914,-0.4263181108913208,-0.15476667915380957],\"type\":\"scatter3d\"},{\"hovertemplate\":\"Population=Mordva\\u003cbr\\u003ePC1=%{x}\\u003cbr\\u003ePC2=%{y}\\u003cbr\\u003ePC3=%{z}\\u003cextra\\u003e\\u003c\\u002fextra\\u003e\",\"legendgroup\":\"Mordva\",\"marker\":{\"color\":\"#FFA15A\",\"opacity\":0.8,\"symbol\":\"cross\",\"size\":4},\"mode\":\"markers\",\"name\":\"Mordva\",\"scene\":\"scene\",\"showlegend\":true,\"x\":[-42.465288529503134,-44.83854901217538,-45.700058181353405,-43.87524157811807,-43.52822651559916,-46.92442547047172,-43.1891002155352,-45.344293277232936,-45.2085992229287,-49.06846824427063,-49.413691926765246,-47.82933670749564,-46.29148180598503,-48.64813013296558,-47.052572594543264,-43.95774458517751,-43.666403841341285,-47.11124833083492,-45.683507582017725,-49.161419765144785,-41.38304548663707,-44.05675937228974,-46.54570709210397,-44.607072104921876,-46.34722415574649,-42.435952696892016,-45.60351535912318,-46.23544598536734,-44.84644221122588,-46.227009329699264,-46.910673110136536,-47.58915123867028,-47.30155771016828],\"y\":[-23.468212927603993,-21.75309651420984,-19.276879781471827,-23.229584167841203,-21.281944292607967,-22.662997188266914,-21.276592226054643,-20.807861692671196,-20.00521878945914,-19.86526313238548,-22.774200800001097,-24.567181305089917,-21.934960301595456,7.558425168963188,-22.30500134098497,-24.16255660587947,-20.055572401803644,-23.125841573065674,-23.624735581786556,-24.01946733637935,-23.870566239023606,-19.97900969634413,-24.75654520975627,-21.08732699643701,-20.930385237055418,-23.52664461418049,-22.79745472970324,-22.076559505856114,-21.720778240773953,-20.085320097394355,-21.541779982982902,-25.15098850260852,-21.968288467925458],\"z\":[9.811774166230427,12.381523601081417,10.538251527314706,13.625527646288312,13.298490142451788,12.77161863560864,11.117209362937778,13.833980599627308,14.450973553717589,13.27291664754608,17.108625534697687,14.45716631520285,11.934652544846726,1.274665683577656,12.917781676252154,11.479666473211038,15.07102854086736,14.3465346650315,11.646832725331333,14.02696016847534,13.153988039782575,16.97593561554239,13.347289221426472,10.629120809540037,16.38640785805263,12.426576046516718,10.798972210311788,14.58762458386587,8.855387774580942,11.572555316053592,11.733036506197573,13.82687722578575,13.038147638586851],\"type\":\"scatter3d\"},{\"hovertemplate\":\"Population=Chuvash\\u003cbr\\u003ePC1=%{x}\\u003cbr\\u003ePC2=%{y}\\u003cbr\\u003ePC3=%{z}\\u003cextra\\u003e\\u003c\\u002fextra\\u003e\",\"legendgroup\":\"Chuvash\",\"marker\":{\"color\":\"#19d3f3\",\"opacity\":0.8,\"symbol\":\"circle\",\"size\":4},\"mode\":\"markers\",\"name\":\"Chuvash\",\"scene\":\"scene\",\"showlegend\":true,\"x\":[-16.892439884891775,-13.012292930277583,-8.55695918483646,-20.483127124431334,-18.97845356374657,-13.381923793491117,-18.84029309946975,-13.629176679781006,-10.333577023365189,-14.860586195746928,-7.826257520829658,-53.82566438757491,-12.850640922907225,-9.97863520181276,-14.194599732410724,-16.99093341191762,-8.453497634611438,-12.642550588245447,-12.657997624826136,-13.75076451240732,-8.7037236721206,-10.202982457040067,-13.970092606829178,-12.895126783278053,-15.43361194541996,-18.414765030007537,-10.345981523862557,-13.295566071918287],\"y\":[-20.89206566950894,-23.565365957789588,-17.733314975756674,-22.08863582779132,-21.780928011514785,-21.345895589978227,-20.26570106942287,-21.65435581410693,-19.37673805695625,-23.169047548293918,-23.334023556258735,-23.46899150033048,-20.695510094687233,-25.099140686509088,-21.47381037414704,-22.101888259597587,-23.560675163315228,-19.642531124452137,-23.027596629736998,-23.915440569425567,-23.116307234698848,-20.715307348422268,-19.184542378384084,-21.960719176102142,-21.013867829746463,-22.286734658940528,-21.05544853445393,-18.596193193151564],\"z\":[-1.667680564997902,-0.507088742230661,0.40051483765769613,3.4425436456803657,2.9342487242403377,-2.2178140024393804,3.5275748070082544,0.4243149961697617,-2.319787742067813,0.24979406637109097,0.784361227061838,16.00316265336064,0.7538454247714617,-2.8780406672468146,2.706591937160176,-0.5727083171241836,-1.7821722494223697,1.8615193710104605,-1.0231389550576426,-0.24834363407477464,-0.13629269238850888,-2.353427248328367,-2.7554817852997324,-0.7605465936059284,-0.9006212626721387,4.04418413784479,-0.13749738283303556,-0.1307341753358651],\"type\":\"scatter3d\"},{\"hovertemplate\":\"Population=Ukrainian\\u003cbr\\u003ePC1=%{x}\\u003cbr\\u003ePC2=%{y}\\u003cbr\\u003ePC3=%{z}\\u003cextra\\u003e\\u003c\\u002fextra\\u003e\",\"legendgroup\":\"Ukrainian\",\"marker\":{\"color\":\"#FF6692\",\"opacity\":0.8,\"symbol\":\"diamond\",\"size\":4},\"mode\":\"markers\",\"name\":\"Ukrainian\",\"scene\":\"scene\",\"showlegend\":true,\"x\":[-63.36544292934671,-60.24717077533904,-59.75020765311848,-58.21204868413141,-64.620866651218,-60.81035760630542,-53.981781411812996,-59.550910288437315,-62.40333179375369,-61.920521169130396,-57.11699468066853,-57.12885422904672,-58.83764497318925,-60.36533574778269,-60.11136239399381,-61.677916756987536,-58.394025933680986,-57.0009593224653,-61.39546686741159,-33.150923079855325,-56.81286490894435,-59.64581923719216,-61.26333977943061,-61.601637247699585,-59.610947646053894,-59.86092591452331,-62.03943732345292,-61.83665491749958,-61.65915820783654],\"y\":[-18.26090562638832,-16.715151999056378,-21.036931135017976,-23.28055619996616,-17.28833758210918,-21.85683070704081,-21.05004376860104,-17.402249659399526,-12.65688406498844,-21.343466178323464,-19.23531315673246,-17.23994359759832,-16.967548017322894,-21.91567063712424,-15.857129143289228,-20.20326247151604,-15.580490591529879,-22.757705380704486,-22.510657642390562,-21.708071580549348,-8.803007237172475,-19.134642132972168,-19.40518295001808,-11.409629428780436,-17.73288174090181,-21.143363607955884,-17.204998701259917,-20.00812712538979,-18.90079064393719],\"z\":[12.446794860356565,14.79717457823773,16.01041028964783,14.69892483082783,16.50045642627993,15.243780037020322,13.707534487019517,18.54007569198196,13.331172172401411,17.874548548452907,15.465875932141783,10.90254524570743,14.773899696204607,14.791341655184858,14.37862883714998,15.417050567289284,17.02200980148913,18.918503887255703,17.55796109873838,4.334771117550153,7.407238939147574,18.15318590568045,14.90280417480209,12.310730693292218,15.811415232558387,17.011990635143732,15.30537814303479,17.553952493848136,15.887608376919722],\"type\":\"scatter3d\"},{\"hovertemplate\":\"Population=Belarus\\u003cbr\\u003ePC1=%{x}\\u003cbr\\u003ePC2=%{y}\\u003cbr\\u003ePC3=%{z}\\u003cextra\\u003e\\u003c\\u002fextra\\u003e\",\"legendgroup\":\"Belarus\",\"marker\":{\"color\":\"#B6E880\",\"opacity\":0.8,\"symbol\":\"square\",\"size\":4},\"mode\":\"markers\",\"name\":\"Belarus\",\"scene\":\"scene\",\"showlegend\":true,\"x\":[-60.15210360546426,-61.35837140959424,-61.31751413402057,-58.828455067543686,-59.1616517939911,-62.64529764433643,-59.574024048794364,-61.20404096817356,-59.22989072600132,-61.14702870650847,-59.921221472975255,-62.269468610975025,-62.53227434883525,-61.20494162505046,-59.66804402549738,-59.53446597582934,-60.71284485610922,-62.59978845435182,-62.509538246460856,-59.867218904438005,-59.295646449538246,-59.54491118321857,-58.39429257874859,-55.887554888619405,-60.45073531467043,-61.25023318348221,-58.17728036893918,-58.9668421847086],\"y\":[-22.03477519385922,-26.756525027108054,-20.78121345034918,-24.402753371177262,-27.088692301385834,-24.457240491125695,-23.635143057481464,-23.194575472003574,-20.461546189530228,-12.236309308470526,-22.99088093142763,-25.682847171809676,-21.607489196173002,-20.928972035509737,-26.424621334421335,-21.832709489955697,-25.36810419123627,-25.957366347479965,-23.740801601321813,-22.642684079499983,-22.934436735243416,-25.533157465952595,-19.44348991635493,-5.816481043668984,-23.661655283390136,-20.638042905589884,-23.794302224474816,-20.71074702322],\"z\":[19.408783327001636,19.250363438025303,17.63686198037965,18.65996699647724,18.058664659808173,20.489698653825446,17.593748203810602,18.88159759500277,19.615256172436773,13.140751017079095,17.48379570554048,16.47317267614896,17.859904188958733,16.126286637136037,17.06494142839859,17.299297948586474,16.765682724405785,20.777784203386332,14.965483277596034,17.682616033034734,21.93563980692938,18.836330835950612,17.077507919874442,11.274253693954085,17.038255812828744,17.016214728503783,18.42554415335476,16.123930979205344],\"type\":\"scatter3d\"},{\"hovertemplate\":\"Population=Chechen\\u003cbr\\u003ePC1=%{x}\\u003cbr\\u003ePC2=%{y}\\u003cbr\\u003ePC3=%{z}\\u003cextra\\u003e\\u003c\\u002fextra\\u003e\",\"legendgroup\":\"Chechen\",\"marker\":{\"color\":\"#FF97FF\",\"opacity\":0.8,\"symbol\":\"x\",\"size\":4},\"mode\":\"markers\",\"name\":\"Chechen\",\"scene\":\"scene\",\"showlegend\":true,\"x\":[-51.09618010095908,-53.61675469551347,-51.530810324987684,-48.57515049894832,-50.84714712998629,-52.7939447174847,-50.669831966788756,-52.78810650936699,-56.04001001820733,-51.07346721161456,-49.10396780829514,-53.53892529412271,-50.806139755143334,-52.18810081015712,-54.58158903013611,-52.58284403184182,-53.92313158538624,-54.8404468949053],\"y\":[28.814160783640062,26.057171585054913,27.859234152754777,28.629887448090926,29.48798394272688,28.105674622909863,27.27970383245326,30.29331728945524,28.97563228340639,27.59036574066351,28.824642045142514,29.28004535552551,29.416925477743174,29.699937141799577,26.505563866505383,27.518395822349234,21.9018911942964,30.06233496089181],\"z\":[-13.387885129018517,-12.160079598882255,-11.368516435675886,-12.01571832422658,-12.038572127868775,-12.8251136859021,-9.66794335210528,-9.169777417904912,-10.29609019037898,-9.705502727477036,-14.483790613012552,-9.481156975389354,-15.667785182742007,-12.013703465416425,-8.987102558292808,-11.501601005517179,-8.506064837831525,-12.253354353602152],\"type\":\"scatter3d\"},{\"hovertemplate\":\"Population=Adygei\\u003cbr\\u003ePC1=%{x}\\u003cbr\\u003ePC2=%{y}\\u003cbr\\u003ePC3=%{z}\\u003cextra\\u003e\\u003c\\u002fextra\\u003e\",\"legendgroup\":\"Adygei\",\"marker\":{\"color\":\"#FECB52\",\"opacity\":0.8,\"symbol\":\"cross\",\"size\":4},\"mode\":\"markers\",\"name\":\"Adygei\",\"scene\":\"scene\",\"showlegend\":true,\"x\":[-55.43577660899627,-56.47286477921809,-50.330780297153964,-53.67634800616658,-56.48012259316369,-52.019154341297046,-49.35765493942541,-52.358254707325656,-53.97415952188366,-55.100195551394854,-53.13448053584754,-41.761935640433094,-56.954633851915844,-52.51315198654689,-44.667673029792105,-53.271537016203936,-49.68901514913791,-52.19806101041404,-54.527447888012965,-54.520579891636665,-57.14961944290025,-55.23633527310284,-52.59397809810649,-50.0338565997687,-51.55891719862639,-52.61139965297034,-51.357373210491076,-51.05321563395325,-50.61319005118103,-53.29973171674007,-54.98837427220994],\"y\":[36.17895566017128,37.505360324181424,32.38044775170372,36.92512759077789,39.276202817653434,35.84643125573936,32.92094148003841,34.590506575467685,38.58554054455694,36.412347571718904,35.74634225570256,6.905233147307097,36.8416327028559,35.208168723817664,33.03506195148502,37.51944602397467,35.9910894479494,30.1562139142378,36.79585066498425,37.608783273964924,36.021841009554095,36.314557294487486,37.87443840396757,34.29927280827748,37.21438280136249,36.909099330352284,37.34550155618327,35.54826358110129,34.055487273996384,34.81721086845245,34.07010610944412],\"z\":[-14.175261789343342,-12.671726030823663,-10.616012571223486,-16.52808199988764,-13.49520684315936,-13.616521587231405,-12.922375833977808,-17.62620649669792,-13.802014105487647,-15.713752654794597,-12.033619630770787,-0.8414314750490866,-14.00462478019162,-13.185096572974,-10.682439178800879,-13.279841341983234,-16.15685163844606,-10.681654887483303,-13.576015805571037,-14.544809808497885,-15.064241296448216,-14.882801648256919,-15.10469751051173,-11.84531906351464,-16.601909350363538,-12.740756062165348,-15.931042799809418,-12.472548757781507,-14.439192872501138,-14.011496493776093,-12.223366543736997],\"type\":\"scatter3d\"},{\"hovertemplate\":\"Population=Kabardin\\u003cbr\\u003ePC1=%{x}\\u003cbr\\u003ePC2=%{y}\\u003cbr\\u003ePC3=%{z}\\u003cextra\\u003e\\u003c\\u002fextra\\u003e\",\"legendgroup\":\"Kabardin\",\"marker\":{\"color\":\"#636efa\",\"opacity\":0.8,\"symbol\":\"circle\",\"size\":4},\"mode\":\"markers\",\"name\":\"Kabardin\",\"scene\":\"scene\",\"showlegend\":true,\"x\":[-42.50298413714776,-42.45347081384081,-42.86884786631035,-45.7668958737614,-41.6230107613551,-46.7667849022309,-48.327761557913156,-48.617880124108304,-42.64659096309881,-47.67920085621771,-45.24674189195087,-45.10995402549291,-48.53673197662339,-45.250706194862865,-46.53372439029566,-44.27316261556103,-44.351842190360394,-44.566610554570985,-43.57691334589703,-46.55032325191021,-43.13647438172495,-48.04750875408583,-44.067444009992165,-47.375179166836,-46.56207399892972,-46.140634759520026,-46.09325599230775,-43.47568503932607,-52.221127364113265,-44.00397738191446,-41.137439798071675,-47.118001697296144,-41.303247069396406,-48.89723328176755,-46.96272492657832],\"y\":[27.6395917845823,28.53297110887597,29.920236893896178,32.14865249232496,27.316680329973618,29.49278682995431,30.764752934676846,27.41398355372636,25.462767268464063,32.155068082589544,29.716509598409697,33.29677345180906,27.319694427303574,29.10551427226913,31.44023929527397,34.802098989611416,31.091505570856935,32.94726230137059,31.431683454033447,26.950287881764584,27.451092609217582,31.036918464819827,30.014834964657098,31.699482583305702,25.79227400247143,31.905766854888117,32.37336326497466,29.659885281805966,27.310247786316797,28.912845417823902,30.729344527447868,33.224911591202485,28.199637383853847,30.10465042222867,32.45384016761788],\"z\":[-8.877856803813218,-13.38751359481527,-7.976546885105868,-11.486013355871636,-6.7987272240470045,-7.260707159835505,-9.587480419320872,-11.66406139739031,-8.966163152236438,-10.936116711045058,-10.30506374387755,-10.270935116516151,-8.178340476540816,-8.28488054174281,-9.731185540590744,-12.950291100995779,-8.697880185914112,-11.068856445990063,-7.668036134571728,-7.305340682158714,-6.982924886398325,-9.680207788246118,-8.591116117445344,-11.543196983481552,-9.962513581416207,-11.00305866088835,-10.695643174085633,-6.7086872247407365,-8.793556320457945,-13.067134290346372,-6.936375685287223,-11.172090901544214,-5.93671005858455,-11.36391151243655,-12.546929961695591],\"type\":\"scatter3d\"},{\"hovertemplate\":\"Population=Megrel\\u003cbr\\u003ePC1=%{x}\\u003cbr\\u003ePC2=%{y}\\u003cbr\\u003ePC3=%{z}\\u003cextra\\u003e\\u003c\\u002fextra\\u003e\",\"legendgroup\":\"Megrel\",\"marker\":{\"color\":\"#EF553B\",\"opacity\":0.8,\"symbol\":\"diamond\",\"size\":4},\"mode\":\"markers\",\"name\":\"Megrel\",\"scene\":\"scene\",\"showlegend\":true,\"x\":[-61.252387723085576,-63.83073138867815,-60.00209796737956,-57.5449629206378,-61.4181316316921,-60.496565046253494,-58.37697704470987,-60.76660292257392,-59.32159091453884,-62.90751901899742,-59.9284395615381,-63.47426216101696,-61.86060828795406,-62.89041578448532,-58.23685582685516,-61.72143180577595,-61.529073230966446,-61.186911801707474,-61.381735099137195,-61.03521926063467,-60.821526721171196,-58.00927560922203,-61.23449669489628,-60.607881867701174,-60.86561116505936,-62.65567773812588,-43.10140983759246,-59.005063421532526,-63.64445110004295,-60.62552746903343,-61.44326257820366,-41.477356428700325,-42.33445850781557,-60.20258713954182,-59.58841057580837,-63.16491636651524],\"y\":[48.42517736245031,48.597397108059674,48.058805912997194,45.240064932294636,47.82923542225,47.33860568951173,38.61331202371905,48.85299418970737,49.93236551113822,50.32921799205695,49.347697597118206,48.49334486647926,48.039885695478986,46.87999178999712,47.36453168031858,38.70202127028363,48.72546868707043,48.60355973800345,46.644251563001085,38.55082124308447,51.32319624554649,49.651146676546865,49.37827755778493,47.62620774107794,50.67323051209925,46.38547001870884,19.839108084463515,48.76305115042058,46.68612133861916,47.630859026773905,45.672658704716454,27.008120625928342,27.396083538959328,46.2347069936527,49.81636116817605,47.04301930738356],\"z\":[-15.767515749037956,-17.009945114818485,-14.783112736789745,-16.502998064876564,-18.254336242428057,-18.40225903020569,-16.410793350124415,-16.768931221920496,-18.496363479843815,-18.583774019353523,-16.583502099083645,-12.7546692101279,-19.356050545366422,-17.05394481041113,-16.769386178883067,-14.190146848423488,-19.242213590311977,-16.1339095699024,-17.510494291111087,-15.758357574723712,-17.885130632956653,-16.46498827328285,-17.41295982751235,-17.54220699353549,-18.145850537693065,-15.425058121927927,-6.350699890054391,-19.054271024689,-17.22795794111887,-17.167531230292095,-17.43921080898718,-9.909328454142491,-10.20091076091863,-16.29764385866693,-20.475570683264774,-19.02652590290841],\"type\":\"scatter3d\"},{\"hovertemplate\":\"Population=Karachay\\u003cbr\\u003ePC1=%{x}\\u003cbr\\u003ePC2=%{y}\\u003cbr\\u003ePC3=%{z}\\u003cextra\\u003e\\u003c\\u002fextra\\u003e\",\"legendgroup\":\"Karachay\",\"marker\":{\"color\":\"#00cc96\",\"opacity\":0.8,\"symbol\":\"square\",\"size\":4},\"mode\":\"markers\",\"name\":\"Karachay\",\"scene\":\"scene\",\"showlegend\":true,\"x\":[-45.625210305090356,-48.106493456200106,-50.19551279923855,-37.224380855574566,-44.73471341115705,-44.464914229265034,-46.0854833535339,-43.401003857033444,-45.271573982464794,-42.229855073924504,-47.34449309352368,-47.496668153145734,-46.67067151067842,-47.028985321170666,-48.18136246919325,9.40770279099945,-48.28800771994827,-47.3519873391904,-43.438192368240564,-46.841442991044545,-41.26206694451584,-44.69866746333165,-45.829026971589826],\"y\":[36.00124533406559,34.99923557094959,34.76483526090245,39.01575390259695,37.17790101740148,35.2691400430192,38.315878655800724,35.96511534199721,31.777307310024575,34.16316144392555,37.07549304316332,33.75152481983403,33.050943210269004,32.43476505974483,35.210927431394495,23.760072176554836,37.597570742828275,31.413734456520448,34.75990706079823,37.51183814605717,33.917662051375856,36.59851280143878,34.77504588254831],\"z\":[-12.288474242563815,-13.257703212814013,-14.984638927923584,-10.413521516286284,-11.090390055537997,-12.209340747173101,-15.123104264919135,-10.819058996237384,-12.089721250798624,-11.764620363120033,-14.457443251246561,-13.735137525791853,-8.908114192060063,-12.629286790091603,-14.418908192014541,-0.7641394604966031,-14.588465598854725,-7.634780618516149,-13.380763498478002,-13.076255414456002,-11.566889870587207,-14.428409605612593,-17.230286305633804],\"type\":\"scatter3d\"},{\"hovertemplate\":\"Population=Komi\\u003cbr\\u003ePC1=%{x}\\u003cbr\\u003ePC2=%{y}\\u003cbr\\u003ePC3=%{z}\\u003cextra\\u003e\\u003c\\u002fextra\\u003e\",\"legendgroup\":\"Komi\",\"marker\":{\"color\":\"#ab63fa\",\"opacity\":0.8,\"symbol\":\"x\",\"size\":4},\"mode\":\"markers\",\"name\":\"Komi\",\"scene\":\"scene\",\"showlegend\":true,\"x\":[-27.28787489274104,-23.770019308005384,-27.741734108441015,-27.64460848683663,-28.555064724746725,-27.884796332642065,-26.969500899918877,-28.073534458905492,-26.08233201404451,-29.097445694124094,-27.20809920500938,-29.484736300805345,-30.906896529897775,-30.789299196759586,-23.626331900756714,-31.97313036925336,-29.8125009489357,-29.705729796757467,-27.677009060772487,-26.53202598361226,-27.497173989497828,-26.405558376088905,-28.762837597631787,-27.272163390963204,-25.050778198550873,-26.717923552522482,-29.71770654413487,-27.177690328523507,-30.454840244677847,-23.92936440383502,-32.69025528443345,-27.50649350495399],\"y\":[-34.508845618678876,-31.718261949264058,-35.41979752576152,-30.222873192554392,-30.79789262866227,-33.63497960460589,-29.59624747186211,-30.01390213949006,-30.209447441658988,-30.516969696106553,-26.094616360111687,-28.322224919535923,-29.95559647115918,-30.13883750507032,-27.73419117773355,-28.92734797239319,-28.649161154704725,-30.992832514129887,-32.313201503191685,-30.484451481400104,-33.32272234398363,-32.10318479002253,-25.897416756140103,-31.2637122864277,-28.499776942688545,-31.40538274027875,-33.12916235947325,-30.726202658822775,-29.58738996862698,-32.52526422407742,-30.017293968077098,-32.07453928165797],\"z\":[1.4587537015572791,3.290694060193514,3.33871032620726,1.6007834948427861,4.613884571589319,1.6447622013520393,3.7222050389394514,0.22208983474176058,3.5560198967737935,5.909735636883913,1.52138832113692,3.6881241679158725,3.86414756034866,8.572792783869831,-0.38400048239715606,7.568790887732852,3.7147255842211337,4.833891087639863,5.250285304473743,-0.1273829831200464,6.5373604044763995,5.567082302720594,-0.3435770245312852,3.867550755473098,3.2632789774644007,3.9252702236583183,6.409800940439081,4.932044449423861,6.849767317130056,6.55655479343852,6.33830310201485,2.671723637609207],\"type\":\"scatter3d\"},{\"hovertemplate\":\"Population=Cherkes\\u003cbr\\u003ePC1=%{x}\\u003cbr\\u003ePC2=%{y}\\u003cbr\\u003ePC3=%{z}\\u003cextra\\u003e\\u003c\\u002fextra\\u003e\",\"legendgroup\":\"Cherkes\",\"marker\":{\"color\":\"#FFA15A\",\"opacity\":0.8,\"symbol\":\"cross\",\"size\":4},\"mode\":\"markers\",\"name\":\"Cherkes\",\"scene\":\"scene\",\"showlegend\":true,\"x\":[-41.710225638376656,-44.891371177320956,-43.615074244306776,-43.91063869047754,-47.89542123438333,-39.14909270507404,-44.364163110878486,-48.84652943228731,-45.959325771539,-45.24228854941588,-46.27337644613417,-46.5708659801111,-46.67186283586888,-48.78257637028512,-41.42889721418959,-42.872200570621665,-46.714962104791034,-46.055254138352396,-42.41779703184298,-45.91984962269378,-42.88957789204481,-49.15618972420624,-37.93532785458216,-48.241960705011856,-47.47859025927509,-46.25931124073449,-49.03153425217309,-41.51189121363683,-46.23352401191296,-45.7992308043884,-43.55425077817256,-52.75824714049356,-46.12705840697171],\"y\":[29.645235678249836,23.740440796572674,31.7397693202062,39.69030350451177,31.88681343797231,29.66705269100076,32.5595067188281,28.621241996705553,29.309201928489827,27.05009322392623,35.59162131221316,30.557842212446623,30.338961291205596,28.27983794363247,31.29889862174104,33.51932863272663,29.270091081349612,28.483003250627362,29.288928297704057,26.33740164925989,28.586213123628614,28.55076233835549,31.080042390727957,27.411201505204314,31.325366904450416,31.75288419852796,28.479392077560124,31.630523986032294,30.328105699932998,29.76093928266011,29.766958405758228,30.43070268294278,33.062434983315306],\"z\":[-8.286712624852766,-11.149659417125669,-8.294908104545735,-15.381553948764711,-11.907867155505455,-10.083017262541349,-9.35023279215629,-11.255177907771788,-7.235424219958063,-10.24872255496018,-14.426586626460333,-10.93679326835337,-10.265006515558325,-7.678303912644806,-7.917610923227124,-10.459778086616545,-10.384615735241072,-7.159703846591376,-11.796205102884791,-7.0064677862828475,-8.523119393539112,-11.215290203579718,-8.979680518772438,-15.15859132957071,-8.271696896216703,-11.761585897395554,-7.649447243576563,-10.032683272176989,-10.817836904079215,-8.10194136470375,-10.969768927817016,-13.50386901448492,-11.278465092000623],\"type\":\"scatter3d\"},{\"hovertemplate\":\"Population=Abkhaz\\u003cbr\\u003ePC1=%{x}\\u003cbr\\u003ePC2=%{y}\\u003cbr\\u003ePC3=%{z}\\u003cextra\\u003e\\u003c\\u002fextra\\u003e\",\"legendgroup\":\"Abkhaz\",\"marker\":{\"color\":\"#19d3f3\",\"opacity\":0.8,\"symbol\":\"circle\",\"size\":4},\"mode\":\"markers\",\"name\":\"Abkhaz\",\"scene\":\"scene\",\"showlegend\":true,\"x\":[-55.502938820349335,-57.24607697187596,-54.95121424983605,-58.866319053561305,-59.30366720469393,-58.46757161520803,-53.88865742690911,-57.37295700550576,-58.335153482400166,-57.88490107383854,-51.99965484415301,-58.97410703363385,-55.740000197141235,-56.843908847608915,-55.555492187000205,-55.63847022658973,-60.92635141589498,-55.638331515979644,-56.965822553220065,-59.20650393566825,-58.17312094761226,-60.963851432140416,-53.36197659344819,-57.6035282825153,-58.95460589461598,-59.60833504495789],\"y\":[45.18916165148165,41.353808232015496,48.92827014273075,46.554307383936795,45.458070894329886,47.810634403520915,45.8814795251431,46.628518421501056,46.790852264966254,46.13217752751174,45.56222562698283,43.20476143121505,47.80045741020878,32.859939033717815,43.53986776471309,43.57138106114948,47.746719045797576,44.986330357494694,11.77655462136873,48.44301933637005,42.3355113862422,44.77656397591165,44.20426674329795,43.85693400059358,43.67255623778786,44.88815150386756],\"z\":[-19.271668185314166,-18.983982661446703,-18.94786388757781,-18.714523781937615,-18.363857075016814,-18.904899307893043,-17.082611975419233,-17.111177150743092,-18.964684105590795,-19.460632627196713,-18.390748468191912,-16.699161489153504,-19.555698702754857,-8.778308549489951,-18.382982904722994,-15.443166458219176,-16.688121672778998,-15.209089777509956,-0.695968445491575,-18.071972968798892,-14.005162186759529,-20.806528383504364,-15.628731444526121,-16.28313712584512,-17.030747124159753,-15.962364968186133],\"type\":\"scatter3d\"},{\"hovertemplate\":\"Population=Udmurt\\u003cbr\\u003ePC1=%{x}\\u003cbr\\u003ePC2=%{y}\\u003cbr\\u003ePC3=%{z}\\u003cextra\\u003e\\u003c\\u002fextra\\u003e\",\"legendgroup\":\"Udmurt\",\"marker\":{\"color\":\"#FF6692\",\"opacity\":0.8,\"symbol\":\"diamond\",\"size\":4},\"mode\":\"markers\",\"name\":\"Udmurt\",\"scene\":\"scene\",\"showlegend\":true,\"x\":[-6.951642879462053,-12.280511665465806,-9.541522305075476,-6.31821585066978,-5.79313510445664,-9.589488104397645,-16.030207410633274,-4.688469502453713,-6.760957637340111,-8.917194362313206,-8.418524266777666,-3.8898785426194538,-8.980677002414545,-14.26245722653146,-10.903067777996704,-6.102111633712878,-6.868891472439046,-32.27106876206813,-9.279712229645721,-29.250629382771965,-9.568809133221222,-9.858334946460763,-4.6102692511609975,-5.618578613816788,-22.438478068364976],\"y\":[-28.667259666609546,-25.296562575191185,-26.689965763558867,-26.077207657215084,-27.195575308708744,-25.92680021044233,-27.843408830249018,-29.81883219537904,-28.60487354863462,-27.18369024390197,-27.75497894769417,-25.777167684793262,-28.487260771970107,-28.574279277632932,-25.316859085547357,-29.732725162411395,-27.981673951495235,-24.75723132074724,-29.913124196685033,-26.350865524419646,-28.58136606822745,-25.78131961574297,-29.079670155275718,-24.22141204743577,-30.236584042537906],\"z\":[-9.957780476552074,-8.786872723059545,-4.439860868812311,-12.17522150036411,-11.601969129021006,-12.516287213686264,-0.6156353525906431,-14.968434189360229,-7.613700383169555,-8.871958739763576,-14.579376317137726,-10.345706342447535,-8.42723385329581,-2.91762230371029,-6.395442314122088,-6.902323577248825,-10.164127524218044,3.9186697264988286,-7.108264333567287,2.2816627779698857,-7.585931850888051,-13.357525141728646,-14.559689947100171,-12.759395591833806,-2.3017993552243663],\"type\":\"scatter3d\"},{\"hovertemplate\":\"Population=Uzbek\\u003cbr\\u003ePC1=%{x}\\u003cbr\\u003ePC2=%{y}\\u003cbr\\u003ePC3=%{z}\\u003cextra\\u003e\\u003c\\u002fextra\\u003e\",\"legendgroup\":\"Uzbek\",\"marker\":{\"color\":\"#B6E880\",\"opacity\":0.8,\"symbol\":\"square\",\"size\":4},\"mode\":\"markers\",\"name\":\"Uzbek\",\"scene\":\"scene\",\"showlegend\":true,\"x\":[15.49067981026624,32.10427342911093,22.609754522509604,17.726095081182173,10.122705931796524,18.750330075894134,25.621517688037496,15.408133320259285,-8.866203813940434,-1.8857849902492467,21.65571140554027,5.859238015510627,13.862639829026136,26.67730779482168,6.307165625722559,24.671706903763006,26.2372311996614,23.68029024741451,17.842540678945788,14.515688546479828,14.59259282834829,26.385358722252835,17.610818901742505,25.986287760749338,18.370185664578198,21.835284920234987,18.663459491786895,29.160343470346522,19.765787039137937,18.7681488008266,31.240169910327374,22.85304025671608,14.786981495118752,19.70846469244652,3.0579383371300826,14.41854384096699,22.634738083783443,15.596664140362837,69.42570423746973],\"y\":[16.459815807524205,16.503495220640083,18.88716454666323,14.414139571745022,16.978880374937972,20.14322292012572,17.24518268465554,16.133427281072382,2.0199822369350318,2.1941326867106183,17.682265481817698,21.174181333986667,19.897065885331457,17.28123938878915,6.963579664632906,17.079753824365643,14.02119467523797,18.647596393519965,17.123412609990893,16.954240565724973,16.692986593725237,19.995483426281815,18.284142403393002,21.203873318283943,18.373611806154756,20.792382871508213,18.87252481903405,17.759987608144055,17.06489117842629,17.441127362519264,15.424262687571973,17.426990040300968,17.189769332498596,15.272193761911195,-2.827987621081035,20.169671732884936,17.14058923332606,13.5848768352339,10.705351583412657],\"z\":[1.2936367615119242,8.099988599758014,5.0753654310788585,3.887429602160898,2.0155452791857247,3.7511394912601714,4.792109089191037,2.9922431098288436,5.4419370146524,3.0991227535091475,7.579947728845333,0.44987475223069445,1.7233761623457113,2.5739401256127623,6.496797734227286,8.991558491395114,3.003668942423993,6.079599654986711,3.7642501147550687,5.1660527473507,6.492727323272291,6.612415055157031,5.698290332726721,5.216105399885982,2.197277942466089,2.836185028559529,3.3830140196497056,8.686429929337733,5.356066020635415,5.429470521375041,3.799652645151339,4.921815025368333,2.4899302050257224,2.578732397247727,2.631388272789176,1.835746316650955,3.8901061518093702,1.8083441435334477,13.879332160747854],\"type\":\"scatter3d\"},{\"hovertemplate\":\"Population=Ket\\u003cbr\\u003ePC1=%{x}\\u003cbr\\u003ePC2=%{y}\\u003cbr\\u003ePC3=%{z}\\u003cextra\\u003e\\u003c\\u002fextra\\u003e\",\"legendgroup\":\"Ket\",\"marker\":{\"color\":\"#FF97FF\",\"opacity\":0.8,\"symbol\":\"x\",\"size\":4},\"mode\":\"markers\",\"name\":\"Ket\",\"scene\":\"scene\",\"showlegend\":true,\"x\":[78.78874864122834,13.676475766726805,69.41548772159027,84.01863943254189,93.97211400754297,0.47028457408707197,73.82207599059764,83.72639376417744,79.88345347833857,64.36455539355703,22.1978207559249,83.5167714569675,78.95671504741125,73.88199195049508,70.80575454580928,76.88118843058962,7.470999234999073,71.08478844932282,83.49129920149115,83.33122168353867,63.50178340844539,96.48047639288701,77.43769848264996,83.30406920630698,70.47677874226615,78.1735680603265,77.354462242574,14.752181973858987,71.91665059330616,78.02309512083684,83.84429226481026],\"y\":[-34.920125774156524,-27.355414408814504,-35.886316625562905,-27.590605033481985,-29.35801393152471,-29.736988692817633,-42.30273891883319,-40.303789005832456,-38.009664253501505,-39.139202417348336,-25.342386184595107,-36.922455922704174,-44.59980687971475,-35.784255484595846,-36.46764389098773,-38.63114271108789,-28.04734151261641,-37.000671810158245,-42.732136973358806,-40.871462263532464,-35.32821243087502,-29.44585873496,-38.08356600593606,-40.33283454866159,-37.93009221382759,-35.164399797451914,-41.70349839653262,-32.70055663711663,-37.95223026453033,-34.898534663519605,-36.91354025585618],\"z\":[-72.66761558884205,-27.965849498979853,-65.85560810842259,-41.3548517666021,-52.122198592643024,-15.448281186784682,-86.21108645959838,-82.02848887346207,-82.01371089991957,-79.2211478765053,-12.48188630025749,-75.93946569473904,-89.78438881748204,-70.94646758351377,-61.06603956119477,-86.10438177613928,-16.90526886987552,-76.43861066778818,-93.23824091779967,-84.09409827821118,-72.12762426564319,-57.43818413728931,-81.04525898310499,-85.08291595646907,-75.94063254407573,-62.43017918395123,-90.34335856475016,-50.98647076828222,-77.07206118433989,-60.232471415461134,-80.94119707785362],\"type\":\"scatter3d\"},{\"hovertemplate\":\"Population=Kirgiz\\u003cbr\\u003ePC1=%{x}\\u003cbr\\u003ePC2=%{y}\\u003cbr\\u003ePC3=%{z}\\u003cextra\\u003e\\u003c\\u002fextra\\u003e\",\"legendgroup\":\"Kirgiz\",\"marker\":{\"color\":\"#FECB52\",\"opacity\":0.8,\"symbol\":\"cross\",\"size\":4},\"mode\":\"markers\",\"name\":\"Kirgiz\",\"scene\":\"scene\",\"showlegend\":true,\"x\":[78.37235850605856,69.45705521984789,70.46801781314083,57.09193389603243,73.10482178283164,61.0234243985717,70.58136398027466,53.27274198255191,61.31160098025054,46.608625711193746,68.40851960683852,68.01507223529977,70.74068344865623,79.33858152549084,76.83834617918646,69.18871411486882,64.73119579113686,70.88486931468424,-56.49391324212585,-53.00945563930631,55.93982761742268,62.10564774438585,71.3145729130873,75.98444345531816,68.71362341513034,71.43521046749851,65.49343889216424,66.6553906361121],\"y\":[12.315298683855133,15.345435183340406,13.143632248116386,13.43696720960263,11.313104093960055,14.549449649488706,12.409576666061678,6.589431144412732,16.189744406661255,9.92511681410016,11.198110605679613,13.040380464796682,11.55841987249593,13.036755663834892,14.9576281992859,12.43134483489964,15.80300107740009,12.026338193073107,-23.21316342882896,-23.697140522071972,13.270625048332667,14.975961664707727,13.402648308579046,9.970753567625156,10.764026332669731,12.113528473328381,11.29563056612969,10.156341501757527],\"z\":[7.661708537980079,13.176265464734616,13.620024621181834,11.309154783185699,12.117425551516604,10.161393937854623,13.269326640530037,10.358999256988165,11.467122049177473,10.623885502393938,13.43165106720186,9.98554846463111,11.254562733557734,12.330246252902755,11.760844227692344,13.774280933260526,11.336352519106496,11.695942031766057,15.903915117881303,15.070296474812402,10.072349432978587,11.338202150227813,13.808888801792312,9.550674470469033,13.177436214617451,16.739951039995436,10.326919131324155,13.260904245539553],\"type\":\"scatter3d\"},{\"hovertemplate\":\"Population=Khanty\\u003cbr\\u003ePC1=%{x}\\u003cbr\\u003ePC2=%{y}\\u003cbr\\u003ePC3=%{z}\\u003cextra\\u003e\\u003c\\u002fextra\\u003e\",\"legendgroup\":\"Khanty\",\"marker\":{\"color\":\"#636efa\",\"opacity\":0.8,\"symbol\":\"circle\",\"size\":4},\"mode\":\"markers\",\"name\":\"Khanty\",\"scene\":\"scene\",\"showlegend\":true,\"x\":[72.11443925459547,51.629265744949336,62.2117058758979,50.423825800917285,56.58310298487713,46.43510725352248,44.560518245667296,56.06601751323509,46.94245489681083,48.810412358613924,46.626385845439955,63.50545759810123,49.47819096944709,48.61050925131096,46.14158995903716,48.91402364155702,43.981331257822106,54.49014098088221,48.95116700321636,46.32071521050762,58.39472182533665,52.71847885650827,53.40190594278137,52.345699764582484,49.28196147938507,43.08429200991408,8.237431807877826,15.823236561340236,48.57248862711865],\"y\":[-35.02278088507501,-40.569751795614316,-37.389606986007564,-44.78686152161691,-37.714825341967234,-38.763202830640346,-39.051182170119915,-38.67756279164622,-41.90481145058575,-37.737335856796015,-44.22669210544357,-35.97760235081136,-39.54851557983248,-37.145384058805675,-39.69627221886873,-46.421779097102544,-40.09713830061096,-41.914118135081544,-42.26799788420244,-38.87303144742102,-35.44628406035068,-43.10362141923519,-42.21425136885602,-42.43073655214311,-42.06411298355686,-40.10716364286405,-32.82511318351511,-36.21387646805149,-37.93601783844226],\"z\":[-40.421683577529436,-49.28664144853817,-45.51346705377623,-54.72176801097684,-47.707050219384506,-43.27141109565094,-47.88130634675255,-50.58734791481528,-47.94597067960423,-48.52145621918211,-52.28620688523595,-46.24790202009314,-43.26292672328002,-43.77349170714501,-45.80665469363688,-46.89592943288754,-38.093993808266056,-52.41644980203869,-46.035014713549465,-40.2335750431804,-43.66032838593762,-49.437074459717515,-50.51291958262696,-48.75399500672369,-46.1887123148081,-44.02125003479477,-23.48814796197554,-26.82534472091339,-50.38292289934645],\"type\":\"scatter3d\"},{\"hovertemplate\":\"Population=Tuva\\u003cbr\\u003ePC1=%{x}\\u003cbr\\u003ePC2=%{y}\\u003cbr\\u003ePC3=%{z}\\u003cextra\\u003e\\u003c\\u002fextra\\u003e\",\"legendgroup\":\"Tuva\",\"marker\":{\"color\":\"#EF553B\",\"opacity\":0.8,\"symbol\":\"diamond\",\"size\":4},\"mode\":\"markers\",\"name\":\"Tuva\",\"scene\":\"scene\",\"showlegend\":true,\"x\":[95.47671640423714,83.47485162775185,99.20488155117687,102.92956247441639,100.4510605614684,94.54612993496484,101.59214156332662,105.07542885702621,103.89081612120884,100.45054598309764,98.09965363923934,100.71543760810957,103.54593754060919,100.62333502138364,100.37193701008627,101.09049534781646,103.65539575099247,100.99696596687238,32.587231682753156,93.32178286202127,99.51777134465262,100.39327027933048,102.37948086981477,97.92381940923467,100.02980789103734,106.50918593997879,98.95215190321896,98.09723141128384,104.06045006622695,99.60046154428895,96.79190169750832,102.88844465003693,101.83687280543062,105.2815160510441,98.63274164214229,95.25552162451586,97.95317618525462,87.5401901152393,95.0041556273557,103.19910455830524,102.57748133399048,91.30666088712577,96.05618770305661,106.77677480527252],\"y\":[2.907833411708469,5.927406158096524,7.155227182285054,6.585965246650715,7.690982503967396,0.7136243539237543,6.745776969156761,3.391599706349722,3.546447169496204,0.9966273406306887,4.837432411087787,3.5805423019717333,5.182536960470928,5.487610042561226,6.717769612587908,6.40253278028861,4.920272050691477,4.028178721810987,-7.7808817161017805,4.29630901548475,5.641353658769831,5.341343540655531,6.8376448664962775,1.759031268522956,3.7582360174505016,9.634818595306719,5.178687474357634,5.6294792385641985,2.275872147318638,3.3321464839006785,0.007901975538128318,4.568733021783328,5.218879431686192,6.644420861243651,7.004530944568975,4.877600643030164,4.707298982664439,6.002439686569693,3.9510973142747035,4.972259077184199,5.8423266642466105,2.386866742591526,5.031898189930872,7.604775200467849],\"z\":[0.9223383560159016,2.1420788632511023,4.955588916266351,2.663654101167911,6.2070433664368005,2.580571469476003,2.5832867982438836,0.5173939955515111,2.3104533615039053,2.3246434282153077,2.2670343727647575,-2.214121755037884,2.770496682762352,2.6918934842169797,6.97358314271385,1.258031982271442,3.8629263285415782,0.7141694307699294,3.151160935958359,-0.4586082554880158,-1.1088943725418214,2.5433612759987976,2.672409758036204,-0.14381837663103297,-0.09499545241501152,9.171275859722927,3.178333675827792,1.2186503923950207,-0.6860074228440323,-1.3425288850952906,-4.206464208728109,1.1376745125142755,5.86624416673212,5.172942760999506,0.8381906811651318,2.664909713013407,0.21515899185316117,3.2726832067360876,1.4790240514498367,1.1920073339034987,4.369062502188968,4.729661426397491,3.088273560981099,2.5764673236943296],\"type\":\"scatter3d\"},{\"hovertemplate\":\"Population=Buryat\\u003cbr\\u003ePC1=%{x}\\u003cbr\\u003ePC2=%{y}\\u003cbr\\u003ePC3=%{z}\\u003cextra\\u003e\\u003c\\u002fextra\\u003e\",\"legendgroup\":\"Buryat\",\"marker\":{\"color\":\"#00cc96\",\"opacity\":0.8,\"symbol\":\"square\",\"size\":4},\"mode\":\"markers\",\"name\":\"Buryat\",\"scene\":\"scene\",\"showlegend\":true,\"x\":[109.7183568405103,71.25563001863983,106.69191673324477,107.17906806849167,108.07221702917141,106.80911720830905,85.13562707503998,109.22621502091577,109.92374574359452,111.20355926219817,106.07643890058426,106.02829058275505,22.5505383531138,110.22696843423809,111.03608792196843,105.91263771930059,54.376502818442695,78.19472821012154,104.1777435426233,109.76973990841864,109.58197947797358,112.40678576763982,107.86653177919361,32.858689705054964,108.6892572354079,109.71759592318003,109.94085358788115,110.32039416236005,109.77395270771346,104.08457465569612,111.74853482574443,107.89313770337817,112.27122471053318,107.72736606424498,108.16721527072892,71.39136547390933,109.97250344041797,94.9017349126526,104.37835257367126,105.12461095054992,109.77995029911936,108.73014626951918,106.132944084214,106.97570958999034],\"y\":[13.687470294744328,4.807827763788294,14.407809157182921,12.156898037295775,15.573756958443493,10.639079585753807,12.061192163325124,12.575290152371565,13.504798034544688,14.26850641519984,10.194455382501376,17.121909240418326,-3.709862141231829,16.65837973788904,11.419983066348411,14.237416754028951,1.452296226315383,16.257773076374406,13.40617446115488,14.012563847122625,11.350975550464728,18.130799444168638,13.122896248371456,-11.474160149100967,12.848948065522707,13.093996341132835,12.7753477906379,16.528120217721305,15.838695433932221,15.016287956998866,14.723265796140872,14.350284432145816,14.53131049438261,12.93720849349872,12.51147350528327,4.981403902226041,11.274725484623271,10.646023764048643,9.415173385484774,15.638220204517905,16.426827763712993,16.693780260694936,14.065561911123199,9.671789387104251],\"z\":[18.846734932760565,16.171194461698526,20.884612254733554,21.85057901488809,18.18547648444837,17.115782664415146,18.89941823339984,18.659035681361203,19.241525548653627,19.49228371388512,21.074635681807422,21.589921166661405,20.950498166141546,23.784777144021444,14.253318767229361,16.97752479134581,16.397199130335366,15.661015035598357,22.331566029077955,17.43359416930286,13.47957248053731,21.74863941916642,18.374303473738422,4.308387085853773,17.909986318779058,21.713073759119347,21.28990706923051,21.422419049071898,19.48439947739992,18.232852748107558,17.55536591408935,18.93601994080726,19.331476579575764,20.979331157894194,20.987212578652997,16.35449314381647,20.060083256997128,22.141528077473886,12.58794716225397,20.35203382650415,25.484086847821285,21.169160756087912,20.77264878906629,18.528444094103136],\"type\":\"scatter3d\"},{\"hovertemplate\":\"Population=Chinese\\u003cbr\\u003ePC1=%{x}\\u003cbr\\u003ePC2=%{y}\\u003cbr\\u003ePC3=%{z}\\u003cextra\\u003e\\u003c\\u002fextra\\u003e\",\"legendgroup\":\"Chinese\",\"marker\":{\"color\":\"#ab63fa\",\"opacity\":0.8,\"symbol\":\"x\",\"size\":4},\"mode\":\"markers\",\"name\":\"Chinese\",\"scene\":\"scene\",\"showlegend\":true,\"x\":[123.15943879909001,124.01201227962981,122.00231378821906,124.03688702957682,122.08178781404922,120.53368399339799,121.8405003339258,120.8167755477889,122.33123387389043,119.71707930780958,115.72400749815904,122.54529747529834,117.57002160722985],\"y\":[28.694821041770137,27.411957677654016,27.620913233554457,28.673589586588022,27.24824194023207,26.463802146112272,29.51022531047229,27.458091693051557,30.43941107842367,28.43133924503783,23.70888090895789,27.74486595678329,26.04558523862753],\"z\":[35.506366870476285,34.19694372060387,31.624069320545484,33.38389134225192,31.609256666593563,37.244362082463915,34.94629957685524,31.50884596512512,33.08168547480254,36.064726857553815,34.04077201084815,33.35050717970319,31.580697891447258],\"type\":\"scatter3d\"},{\"hovertemplate\":\"Population=Kazakh\\u003cbr\\u003ePC1=%{x}\\u003cbr\\u003ePC2=%{y}\\u003cbr\\u003ePC3=%{z}\\u003cextra\\u003e\\u003c\\u002fextra\\u003e\",\"legendgroup\":\"Kazakh\",\"marker\":{\"color\":\"#FFA15A\",\"opacity\":0.8,\"symbol\":\"cross\",\"size\":4},\"mode\":\"markers\",\"name\":\"Kazakh\",\"scene\":\"scene\",\"showlegend\":true,\"x\":[57.67801001552924,56.2498496484466,63.56937361382442,55.34148052569363,52.00764400204338,54.93142804510516,65.49967773396111,59.08321657643113,60.05718449079927,63.83753459937739,63.0622029258032,29.93715578393532,54.0399217720071,57.24244295143055,59.98392658423981,70.0018726203407,53.73560933168859,57.002454182553215,55.090227092761985,41.01560380992375,50.58042102263941,55.789172759093944,52.55763369939075,63.55935138462265,55.50287214725125,57.478227341855096,57.775274043351104,61.684550717521816,51.097416701713506,60.65712797857278,47.761893476312494,67.9577487687664,58.67393220865048,3.5175074389651937,57.887852406256656,56.23375752292626,54.66292875960647,53.468987549339545,55.82813802983969,58.67435733366473,77.44386205504605,59.60269774810176,56.686795349452396,52.32431818472989,53.413046081020134],\"y\":[11.46492827824244,9.615391798820706,15.525121403905553,12.882512255578135,12.632819697153431,11.68681258806986,12.177109923911745,8.807000843650538,11.720245303778944,14.083241555139885,15.240293893703448,12.336992102630658,10.463059162162342,10.504269663658425,10.521942450679978,15.480760025804825,9.61862821174738,11.521115369767374,9.833397147182252,11.903045222317644,11.901313619001101,13.61217031937495,9.518169766292452,9.801587228899923,10.506527342843839,11.475405254243785,10.7998059744877,10.230708147964457,7.466058444984433,10.896445269684015,8.080525431320325,14.672364735407317,12.982881571086889,-8.974991342533334,11.601868673933659,12.202483561485131,9.189096426821942,14.228590632894157,12.567712760863076,13.023806741656765,14.474088894413708,11.234229983051664,11.634277965551592,11.404985726479229,11.229258113512618],\"z\":[8.40452985164605,12.207562690006167,13.73073389726089,9.914705269914903,9.297982246492296,10.546400357209144,11.575465366235226,13.965693165375503,16.804444473287102,13.144856459322327,13.920665603093635,9.227909154629515,12.001761930967293,10.628076681905727,13.291613022174822,12.108881366339533,8.576994166940864,13.199174116793904,8.973449721885547,8.921431160656752,10.728165288328501,10.026096738101213,11.832435427297087,12.524650700574986,8.871215543674998,13.961018901940019,12.897547556338148,9.630992589469214,10.18557439047495,11.50661459137247,6.044050579360237,15.78063701802413,12.718968620314067,16.613362488559403,9.876621659985737,12.964672102202092,12.219636001062522,12.600852220257856,11.488447666100692,10.7041624236707,12.286568296126948,10.81143248377087,10.989135966684026,7.03291475657123,9.163218123232253],\"type\":\"scatter3d\"},{\"hovertemplate\":\"Population=Russian_NSK\\u003cbr\\u003ePC1=%{x}\\u003cbr\\u003ePC2=%{y}\\u003cbr\\u003ePC3=%{z}\\u003cextra\\u003e\\u003c\\u002fextra\\u003e\",\"legendgroup\":\"Russian_NSK\",\"marker\":{\"color\":\"#19d3f3\",\"opacity\":0.8,\"symbol\":\"circle\",\"size\":4},\"mode\":\"markers\",\"name\":\"Russian_NSK\",\"scene\":\"scene\",\"showlegend\":true,\"x\":[-54.30613276998394,-56.73047381739856,-46.75243635113524,-60.766219712190086,-57.37972915995519,-43.232568841445456,26.077819373364143,-39.51232142448551,-54.490050670729445,-55.330948888254305,-45.68152348181593,-56.856532421804815,23.779574108882272,-52.347120035807485,-42.305972494124894,-42.18238176808018,-63.26789703569606,-55.967712055204665,-47.6419491603144,-50.086646259918666,-46.968326803340766,-53.18272375297719,-50.62233119963474,-13.287225437194994,-44.115387632607245,-51.441874925756835,-60.39761714312631,-8.316341068300245,-60.500867933944434,-50.68729439178259,-47.686798133887145,-54.78525670374109,-45.63047027125146,-41.10303931388666,-15.977152889079306,-40.40398414697476,-42.809566920867304,-51.11551531213715],\"y\":[-21.2028335995972,-23.7005977319877,-25.34087129005905,-19.325941109814053,-22.376870662920712,-25.931248983554617,-1.3445946493086636,-24.435912201623943,-22.74782275835176,-25.276065778734516,-22.901013097015827,-25.56994069330306,-6.737942265836388,-25.472395352691805,-24.82965532065661,-25.390094136993955,-16.187375317105005,-22.569785170419593,-25.513734080458672,-26.012678077307047,-5.632587832283116,-19.193805911952293,-20.39034788331764,-21.020069886486738,-26.822278842162834,-23.43560489642355,-28.641032158786288,-21.093276405306536,-21.508304742100744,-22.548235885896812,-25.510470509208147,-22.984861727429536,-24.251540292229574,-30.637294716776378,-22.791642234905183,-28.468864396237286,-17.68025920420294,-22.429727295410135],\"z\":[18.154914130922503,14.345959033598497,11.856068288667071,17.729832235340925,16.198330134900942,14.251593735590728,1.1783492897042358,8.185776901779114,16.32507330974523,12.681353839266821,15.53437458094271,19.40086843863855,-6.300412480309656,15.652810610684124,12.619737432031126,10.710583671608191,13.51646707989118,14.877007374304606,15.222396014688242,15.48288419559667,9.45799082294607,16.692765102144342,13.216102427677983,2.2606032295254077,12.141677615082727,13.28607192928998,17.476921883376,1.5502081508780203,20.818525133668345,17.162415045298147,11.62853084750239,14.24912559777058,16.185807868478076,11.708828161345181,0.9873434063789371,9.960790131508816,12.763555177404992,15.489431879871255],\"type\":\"scatter3d\"},{\"hovertemplate\":\"Population=Russian_STV\\u003cbr\\u003ePC1=%{x}\\u003cbr\\u003ePC2=%{y}\\u003cbr\\u003ePC3=%{z}\\u003cextra\\u003e\\u003c\\u002fextra\\u003e\",\"legendgroup\":\"Russian_STV\",\"marker\":{\"color\":\"#FF6692\",\"opacity\":0.8,\"symbol\":\"diamond\",\"size\":4},\"mode\":\"markers\",\"name\":\"Russian_STV\",\"scene\":\"scene\",\"showlegend\":true,\"x\":[-45.57522705976231,-44.12756926771344,-43.563424261837255,-40.33091420995469,-45.283992983920996,-42.288278702622364,-42.199762059122456,-41.91267334207175,-54.66798690825941,-49.547964614994584,-49.32529851791682,-44.16294200050913,-39.67708113616643,-36.63935684244008,-31.92750975656996,-53.413930027891105,-42.74624705502087,-39.58295605173712,-49.7655866910314,-53.714280397030066,-51.656230794158844,-49.444089485532416,-43.84234109220393,-45.91612656930215,-39.97122265644665,-44.81241883392003,-43.62828242758105,-48.49364584126194,-46.963484232021194,-56.9156299302032,-47.00854782855252,-45.00652611310193,-47.5017741770214,-48.52645621857489,-46.18207084237311,-41.76456180535407,-45.088840306633706,-43.87415240010983,-43.754780649232394],\"y\":[-27.346411669653378,-26.39909691642325,-27.550936429726644,-29.06691137341291,-29.642128594637526,-26.37274947700306,-26.534287298341013,-27.414625129572944,-28.050740508134353,-27.436314176218996,-25.47916079221907,-26.981092829581293,-26.88161490244687,-25.932485426129276,-9.765648637553442,-22.917394668681492,-32.00166032795067,-22.361823454694,-22.02199433662387,-27.153781718060905,-12.505911917520516,-25.729382127832157,-29.109410603338,-27.014212495889574,-28.06996311848474,-31.766239738538722,-27.61762530271932,-23.723426960683312,-26.752371623425432,-25.344868166719966,-26.346370941567905,-26.821781461496673,-26.533271240612386,-27.02422492387248,-26.58696293122022,-26.92152560242813,-29.238877202833155,-28.607813816700585,-22.77724956342294],\"z\":[12.324704657179444,11.440936543039935,13.947785395976908,13.255559927403576,13.704975030163432,13.696630324118376,14.524904957312575,10.582712373753074,14.82894892323241,16.535442475532275,12.653259976230396,13.881532965177593,11.375141177869722,8.674400667612314,10.161040087964436,15.99793997252841,13.683014592876818,11.260725786983903,13.572512368047397,18.69327606889581,11.274100714099895,13.74399163458529,11.654416290855785,6.557477914450063,10.239200629881575,13.105387893091203,14.669400538734406,13.592932161402357,9.964261573311417,18.679717355257498,14.042706285936454,10.76529120549646,12.465382818987091,16.15669496743834,14.813066299140566,11.628535549195833,15.392790447241824,10.950733947363867,13.119016080167729],\"type\":\"scatter3d\"},{\"hovertemplate\":\"Population=Yakut\\u003cbr\\u003ePC1=%{x}\\u003cbr\\u003ePC2=%{y}\\u003cbr\\u003ePC3=%{z}\\u003cextra\\u003e\\u003c\\u002fextra\\u003e\",\"legendgroup\":\"Yakut\",\"marker\":{\"color\":\"#B6E880\",\"opacity\":0.8,\"symbol\":\"square\",\"size\":4},\"mode\":\"markers\",\"name\":\"Yakut\",\"scene\":\"scene\",\"showlegend\":true,\"x\":[112.53306461540635,118.3045683086287,116.32750388680964,119.24669822087056,118.03234565804513,119.43253210911989,117.02757887374962,121.62116085816098,113.38652095015142,115.01631156792587,119.13796485971575,95.70992001936969,98.20972753770945,116.74172625578844,123.14351885920638,119.11631992988521,121.12298910142034,121.39456308769837,116.61767701391896,116.0908263776934,102.42430663665014,117.22764978371609,118.45141741418331,117.831322329878,106.12362843417523,102.10453119276855,105.9634935147899,116.5822404360449,121.88427082295645,119.97905576324607,110.79515466421368,104.07645547109965,118.63130647958545,122.14696206007477,122.67909661203191,113.95858329357583,117.17842018540728,120.59836098750745,111.8561816355042,104.26737399612401,121.34701024399034],\"y\":[7.531359755741268,7.021173942582865,9.610013950158159,6.760249600440002,7.490350264839109,10.970182266787837,6.434679752286425,6.619745335238567,6.198029340063295,6.717268394146371,8.622846469957228,3.3891457191850054,7.981750060988376,9.154168947269406,8.864016857035137,10.787711345331186,8.325654245196798,11.430898496720895,8.107947827327733,7.902660108550293,6.774762314495695,8.291696492378785,8.723926810952447,10.54374592977026,7.104330575018295,7.471733309744651,2.908936383689374,10.236160575129237,7.605838384420993,10.089531091020568,6.582235402247547,6.888990191828335,8.643438221843386,12.228012063802893,6.964289795252159,9.321972387269835,6.156394564023689,8.541004950213967,6.111545170770587,6.825558609069049,8.418463083505648],\"z\":[9.82047087948271,12.05304515910713,9.40336795669879,9.055095983422884,12.188327686386502,11.057850486625474,12.669016676511369,8.402363899597342,11.473325052257966,10.129266667652347,10.07103564932911,12.155777245976138,9.911737755651602,9.19489047639531,11.436115124452863,13.33363042178708,12.747007443806352,15.0578249473561,10.986379976169193,13.9276466082472,11.401951634590569,9.487924871421818,14.893076782914681,8.50794952855548,8.578157850540444,6.492599605588856,7.806737836891872,13.02514674416822,9.393146886053335,10.168805281495576,12.852749447582797,8.194773073809126,11.7375832904029,17.182197865989746,6.999363683315247,13.36510259408579,10.25780184952613,15.571316709549238,6.9373255577834305,15.660229162176226,12.675937382217558],\"type\":\"scatter3d\"}],                        {\"template\":{\"data\":{\"histogram2dcontour\":[{\"type\":\"histogram2dcontour\",\"colorbar\":{\"outlinewidth\":0,\"ticks\":\"\"},\"colorscale\":[[0.0,\"#0d0887\"],[0.1111111111111111,\"#46039f\"],[0.2222222222222222,\"#7201a8\"],[0.3333333333333333,\"#9c179e\"],[0.4444444444444444,\"#bd3786\"],[0.5555555555555556,\"#d8576b\"],[0.6666666666666666,\"#ed7953\"],[0.7777777777777778,\"#fb9f3a\"],[0.8888888888888888,\"#fdca26\"],[1.0,\"#f0f921\"]]}],\"choropleth\":[{\"type\":\"choropleth\",\"colorbar\":{\"outlinewidth\":0,\"ticks\":\"\"}}],\"histogram2d\":[{\"type\":\"histogram2d\",\"colorbar\":{\"outlinewidth\":0,\"ticks\":\"\"},\"colorscale\":[[0.0,\"#0d0887\"],[0.1111111111111111,\"#46039f\"],[0.2222222222222222,\"#7201a8\"],[0.3333333333333333,\"#9c179e\"],[0.4444444444444444,\"#bd3786\"],[0.5555555555555556,\"#d8576b\"],[0.6666666666666666,\"#ed7953\"],[0.7777777777777778,\"#fb9f3a\"],[0.8888888888888888,\"#fdca26\"],[1.0,\"#f0f921\"]]}],\"heatmap\":[{\"type\":\"heatmap\",\"colorbar\":{\"outlinewidth\":0,\"ticks\":\"\"},\"colorscale\":[[0.0,\"#0d0887\"],[0.1111111111111111,\"#46039f\"],[0.2222222222222222,\"#7201a8\"],[0.3333333333333333,\"#9c179e\"],[0.4444444444444444,\"#bd3786\"],[0.5555555555555556,\"#d8576b\"],[0.6666666666666666,\"#ed7953\"],[0.7777777777777778,\"#fb9f3a\"],[0.8888888888888888,\"#fdca26\"],[1.0,\"#f0f921\"]]}],\"heatmapgl\":[{\"type\":\"heatmapgl\",\"colorbar\":{\"outlinewidth\":0,\"ticks\":\"\"},\"colorscale\":[[0.0,\"#0d0887\"],[0.1111111111111111,\"#46039f\"],[0.2222222222222222,\"#7201a8\"],[0.3333333333333333,\"#9c179e\"],[0.4444444444444444,\"#bd3786\"],[0.5555555555555556,\"#d8576b\"],[0.6666666666666666,\"#ed7953\"],[0.7777777777777778,\"#fb9f3a\"],[0.8888888888888888,\"#fdca26\"],[1.0,\"#f0f921\"]]}],\"contourcarpet\":[{\"type\":\"contourcarpet\",\"colorbar\":{\"outlinewidth\":0,\"ticks\":\"\"}}],\"contour\":[{\"type\":\"contour\",\"colorbar\":{\"outlinewidth\":0,\"ticks\":\"\"},\"colorscale\":[[0.0,\"#0d0887\"],[0.1111111111111111,\"#46039f\"],[0.2222222222222222,\"#7201a8\"],[0.3333333333333333,\"#9c179e\"],[0.4444444444444444,\"#bd3786\"],[0.5555555555555556,\"#d8576b\"],[0.6666666666666666,\"#ed7953\"],[0.7777777777777778,\"#fb9f3a\"],[0.8888888888888888,\"#fdca26\"],[1.0,\"#f0f921\"]]}],\"surface\":[{\"type\":\"surface\",\"colorbar\":{\"outlinewidth\":0,\"ticks\":\"\"},\"colorscale\":[[0.0,\"#0d0887\"],[0.1111111111111111,\"#46039f\"],[0.2222222222222222,\"#7201a8\"],[0.3333333333333333,\"#9c179e\"],[0.4444444444444444,\"#bd3786\"],[0.5555555555555556,\"#d8576b\"],[0.6666666666666666,\"#ed7953\"],[0.7777777777777778,\"#fb9f3a\"],[0.8888888888888888,\"#fdca26\"],[1.0,\"#f0f921\"]]}],\"mesh3d\":[{\"type\":\"mesh3d\",\"colorbar\":{\"outlinewidth\":0,\"ticks\":\"\"}}],\"scatter\":[{\"fillpattern\":{\"fillmode\":\"overlay\",\"size\":10,\"solidity\":0.2},\"type\":\"scatter\"}],\"parcoords\":[{\"type\":\"parcoords\",\"line\":{\"colorbar\":{\"outlinewidth\":0,\"ticks\":\"\"}}}],\"scatterpolargl\":[{\"type\":\"scatterpolargl\",\"marker\":{\"colorbar\":{\"outlinewidth\":0,\"ticks\":\"\"}}}],\"bar\":[{\"error_x\":{\"color\":\"#2a3f5f\"},\"error_y\":{\"color\":\"#2a3f5f\"},\"marker\":{\"line\":{\"color\":\"#E5ECF6\",\"width\":0.5},\"pattern\":{\"fillmode\":\"overlay\",\"size\":10,\"solidity\":0.2}},\"type\":\"bar\"}],\"scattergeo\":[{\"type\":\"scattergeo\",\"marker\":{\"colorbar\":{\"outlinewidth\":0,\"ticks\":\"\"}}}],\"scatterpolar\":[{\"type\":\"scatterpolar\",\"marker\":{\"colorbar\":{\"outlinewidth\":0,\"ticks\":\"\"}}}],\"histogram\":[{\"marker\":{\"pattern\":{\"fillmode\":\"overlay\",\"size\":10,\"solidity\":0.2}},\"type\":\"histogram\"}],\"scattergl\":[{\"type\":\"scattergl\",\"marker\":{\"colorbar\":{\"outlinewidth\":0,\"ticks\":\"\"}}}],\"scatter3d\":[{\"type\":\"scatter3d\",\"line\":{\"colorbar\":{\"outlinewidth\":0,\"ticks\":\"\"}},\"marker\":{\"colorbar\":{\"outlinewidth\":0,\"ticks\":\"\"}}}],\"scattermapbox\":[{\"type\":\"scattermapbox\",\"marker\":{\"colorbar\":{\"outlinewidth\":0,\"ticks\":\"\"}}}],\"scatterternary\":[{\"type\":\"scatterternary\",\"marker\":{\"colorbar\":{\"outlinewidth\":0,\"ticks\":\"\"}}}],\"scattercarpet\":[{\"type\":\"scattercarpet\",\"marker\":{\"colorbar\":{\"outlinewidth\":0,\"ticks\":\"\"}}}],\"carpet\":[{\"aaxis\":{\"endlinecolor\":\"#2a3f5f\",\"gridcolor\":\"white\",\"linecolor\":\"white\",\"minorgridcolor\":\"white\",\"startlinecolor\":\"#2a3f5f\"},\"baxis\":{\"endlinecolor\":\"#2a3f5f\",\"gridcolor\":\"white\",\"linecolor\":\"white\",\"minorgridcolor\":\"white\",\"startlinecolor\":\"#2a3f5f\"},\"type\":\"carpet\"}],\"table\":[{\"cells\":{\"fill\":{\"color\":\"#EBF0F8\"},\"line\":{\"color\":\"white\"}},\"header\":{\"fill\":{\"color\":\"#C8D4E3\"},\"line\":{\"color\":\"white\"}},\"type\":\"table\"}],\"barpolar\":[{\"marker\":{\"line\":{\"color\":\"#E5ECF6\",\"width\":0.5},\"pattern\":{\"fillmode\":\"overlay\",\"size\":10,\"solidity\":0.2}},\"type\":\"barpolar\"}],\"pie\":[{\"automargin\":true,\"type\":\"pie\"}]},\"layout\":{\"autotypenumbers\":\"strict\",\"colorway\":[\"#636efa\",\"#EF553B\",\"#00cc96\",\"#ab63fa\",\"#FFA15A\",\"#19d3f3\",\"#FF6692\",\"#B6E880\",\"#FF97FF\",\"#FECB52\"],\"font\":{\"color\":\"#2a3f5f\"},\"hovermode\":\"closest\",\"hoverlabel\":{\"align\":\"left\"},\"paper_bgcolor\":\"white\",\"plot_bgcolor\":\"#E5ECF6\",\"polar\":{\"bgcolor\":\"#E5ECF6\",\"angularaxis\":{\"gridcolor\":\"white\",\"linecolor\":\"white\",\"ticks\":\"\"},\"radialaxis\":{\"gridcolor\":\"white\",\"linecolor\":\"white\",\"ticks\":\"\"}},\"ternary\":{\"bgcolor\":\"#E5ECF6\",\"aaxis\":{\"gridcolor\":\"white\",\"linecolor\":\"white\",\"ticks\":\"\"},\"baxis\":{\"gridcolor\":\"white\",\"linecolor\":\"white\",\"ticks\":\"\"},\"caxis\":{\"gridcolor\":\"white\",\"linecolor\":\"white\",\"ticks\":\"\"}},\"coloraxis\":{\"colorbar\":{\"outlinewidth\":0,\"ticks\":\"\"}},\"colorscale\":{\"sequential\":[[0.0,\"#0d0887\"],[0.1111111111111111,\"#46039f\"],[0.2222222222222222,\"#7201a8\"],[0.3333333333333333,\"#9c179e\"],[0.4444444444444444,\"#bd3786\"],[0.5555555555555556,\"#d8576b\"],[0.6666666666666666,\"#ed7953\"],[0.7777777777777778,\"#fb9f3a\"],[0.8888888888888888,\"#fdca26\"],[1.0,\"#f0f921\"]],\"sequentialminus\":[[0.0,\"#0d0887\"],[0.1111111111111111,\"#46039f\"],[0.2222222222222222,\"#7201a8\"],[0.3333333333333333,\"#9c179e\"],[0.4444444444444444,\"#bd3786\"],[0.5555555555555556,\"#d8576b\"],[0.6666666666666666,\"#ed7953\"],[0.7777777777777778,\"#fb9f3a\"],[0.8888888888888888,\"#fdca26\"],[1.0,\"#f0f921\"]],\"diverging\":[[0,\"#8e0152\"],[0.1,\"#c51b7d\"],[0.2,\"#de77ae\"],[0.3,\"#f1b6da\"],[0.4,\"#fde0ef\"],[0.5,\"#f7f7f7\"],[0.6,\"#e6f5d0\"],[0.7,\"#b8e186\"],[0.8,\"#7fbc41\"],[0.9,\"#4d9221\"],[1,\"#276419\"]]},\"xaxis\":{\"gridcolor\":\"white\",\"linecolor\":\"white\",\"ticks\":\"\",\"title\":{\"standoff\":15},\"zerolinecolor\":\"white\",\"automargin\":true,\"zerolinewidth\":2},\"yaxis\":{\"gridcolor\":\"white\",\"linecolor\":\"white\",\"ticks\":\"\",\"title\":{\"standoff\":15},\"zerolinecolor\":\"white\",\"automargin\":true,\"zerolinewidth\":2},\"scene\":{\"xaxis\":{\"backgroundcolor\":\"#E5ECF6\",\"gridcolor\":\"white\",\"linecolor\":\"white\",\"showbackground\":true,\"ticks\":\"\",\"zerolinecolor\":\"white\",\"gridwidth\":2},\"yaxis\":{\"backgroundcolor\":\"#E5ECF6\",\"gridcolor\":\"white\",\"linecolor\":\"white\",\"showbackground\":true,\"ticks\":\"\",\"zerolinecolor\":\"white\",\"gridwidth\":2},\"zaxis\":{\"backgroundcolor\":\"#E5ECF6\",\"gridcolor\":\"white\",\"linecolor\":\"white\",\"showbackground\":true,\"ticks\":\"\",\"zerolinecolor\":\"white\",\"gridwidth\":2}},\"shapedefaults\":{\"line\":{\"color\":\"#2a3f5f\"}},\"annotationdefaults\":{\"arrowcolor\":\"#2a3f5f\",\"arrowhead\":0,\"arrowwidth\":1},\"geo\":{\"bgcolor\":\"white\",\"landcolor\":\"#E5ECF6\",\"subunitcolor\":\"white\",\"showland\":true,\"showlakes\":true,\"lakecolor\":\"white\"},\"title\":{\"x\":0.05},\"mapbox\":{\"style\":\"light\"}}},\"scene\":{\"domain\":{\"x\":[0.0,1.0],\"y\":[0.0,1.0]},\"xaxis\":{\"title\":{\"text\":\"PC1\"}},\"yaxis\":{\"title\":{\"text\":\"PC2\"}},\"zaxis\":{\"title\":{\"text\":\"PC3\"}}},\"legend\":{\"title\":{\"text\":\"Population\"},\"tracegroupgap\":0,\"x\":1.05,\"y\":1,\"bgcolor\":\"rgba(255, 255, 255, 0.8)\"},\"title\":{\"text\":\"PCA Ethnicity aggregation\"},\"margin\":{\"l\":0,\"r\":0,\"b\":0,\"t\":30}},                        {\"responsive\": true}                    ).then(function(){\n",
       "                            \n",
       "var gd = document.getElementById('f0475c51-ce49-4306-befc-e2902ec4741f');\n",
       "var x = new MutationObserver(function (mutations, observer) {{\n",
       "        var display = window.getComputedStyle(gd).display;\n",
       "        if (!display || display === 'none') {{\n",
       "            console.log([gd, 'removed!']);\n",
       "            Plotly.purge(gd);\n",
       "            observer.disconnect();\n",
       "        }}\n",
       "}});\n",
       "\n",
       "// Listen for the removal of the full notebook cells\n",
       "var notebookContainer = gd.closest('#notebook-container');\n",
       "if (notebookContainer) {{\n",
       "    x.observe(notebookContainer, {childList: true});\n",
       "}}\n",
       "\n",
       "// Listen for the clearing of the current output cell\n",
       "var outputEl = gd.closest('.output');\n",
       "if (outputEl) {{\n",
       "    x.observe(outputEl, {childList: true});\n",
       "}}\n",
       "\n",
       "                        })                };                });            </script>        </div>"
      ]
     },
     "metadata": {},
     "output_type": "display_data"
    }
   ],
   "source": [
    "fig = px.scatter_3d(\n",
    "    data_pca, \n",
    "    x='PC1', y='PC2', z='PC3', \n",
    "    color='Population',\n",
    "    title=\"PCA Ethnicity aggregation\",\n",
    "    opacity=0.8,  \n",
    "    symbol='Population',\n",
    ")\n",
    "\n",
    "fig.update_traces(marker=dict(size=4))\n",
    "\n",
    "fig.update_layout(\n",
    "    scene=dict(\n",
    "        xaxis_title='PC1',\n",
    "        yaxis_title='PC2',\n",
    "        zaxis_title='PC3',\n",
    "    ),\n",
    "    legend=dict(\n",
    "        title=\"Population\",\n",
    "        x=1.05, y=1,\n",
    "        bgcolor=\"rgba(255, 255, 255, 0.8)\",\n",
    "    ),\n",
    "    margin=dict(l=0, r=0, b=0, t=30)\n",
    ")\n",
    "\n",
    "# fig.show()"
   ]
  },
  {
   "cell_type": "code",
   "execution_count": 38,
   "id": "da176302-4c1a-4705-b93b-7cb4074d3b35",
   "metadata": {},
   "outputs": [],
   "source": [
    "fig.write_html(\"3d_PCA.html\")\n",
    "# fig.write_html(f\"{DATA_PATH}{PREFIX}_3d_PCA.html\")"
   ]
  },
  {
   "cell_type": "code",
   "execution_count": null,
   "id": "364de806-be41-4c12-8776-6e6f8cc7b50c",
   "metadata": {},
   "outputs": [],
   "source": []
  }
 ],
 "metadata": {
  "kernelspec": {
   "display_name": "plink",
   "language": "python",
   "name": "plink"
  },
  "language_info": {
   "codemirror_mode": {
    "name": "ipython",
    "version": 3
   },
   "file_extension": ".py",
   "mimetype": "text/x-python",
   "name": "python",
   "nbconvert_exporter": "python",
   "pygments_lexer": "ipython3",
   "version": "3.13.0"
  }
 },
 "nbformat": 4,
 "nbformat_minor": 5
}
