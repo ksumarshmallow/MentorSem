{
 "cells": [
  {
   "cell_type": "code",
   "execution_count": 1,
   "id": "964c41be-8c22-43e8-8d7a-0fc619703fc0",
   "metadata": {},
   "outputs": [],
   "source": [
    "import os\n",
    "import subprocess\n",
    "\n",
    "import numpy as np\n",
    "import pandas as pd\n",
    "import scipy.stats as sps\n",
    "from tqdm import tqdm\n",
    "from bed_reader import open_bed\n",
    "from sklearn.decomposition import PCA\n",
    "\n",
    "import matplotlib.pyplot as plt\n",
    "import plotly.express as px\n",
    "import seaborn as sns\n",
    "sns.set(style=\"whitegrid\", context=\"notebook\", palette=\"pastel\")\n",
    "\n",
    "import warnings\n",
    "warnings.simplefilter('ignore')"
   ]
  },
  {
   "cell_type": "markdown",
   "id": "2f790bf5-040e-4bdd-8b06-14f6d9201bc0",
   "metadata": {},
   "source": [
    "1. [plink LD arguments](https://www.cog-genomics.org/plink/1.9/ld):\n",
    "    - **window size** - a window size in variant count or kilobase units\n",
    "    - **step size** - a variant count to shift the window at the end of each step\n",
    "    - **r2 thresold** - a pairwise r2 threshold: at each step, pairs of variants in the current window with squared correlation greater than the threshold are noted, and variants are greedily pruned from the window until no such pairs remain"
   ]
  },
  {
   "cell_type": "code",
   "execution_count": 2,
   "id": "35824d94-51ed-4be8-bff2-5cf58294cfab",
   "metadata": {},
   "outputs": [],
   "source": [
    "PLINK_PATH = '/bin/plink'\n",
    "DATA_PATH = 'data'\n",
    "\n",
    "PREFIX = 'biengi'\n",
    "\n",
    "# WC arguments\n",
    "MAF_THRESHOLD = 0.05\n",
    "\n",
    "# Prunning argument\n",
    "LD_WINDOW = 50\n",
    "LD_STEP = 5\n",
    "LD_R2_THRESHOLD = 0.2"
   ]
  },
  {
   "cell_type": "markdown",
   "id": "9b2b8eae-1e24-47ed-8b28-819f4548d9c7",
   "metadata": {},
   "source": [
    "## Quality Control and Prunning"
   ]
  },
  {
   "cell_type": "code",
   "execution_count": 3,
   "id": "5e91273a-73af-48f4-8e4f-d244a0e2b5fe",
   "metadata": {},
   "outputs": [],
   "source": [
    "# QC + prunning with plink\n",
    "QC_cmd = (\n",
    "    f\"{PLINK_PATH} \"\n",
    "    f\"--bfile {DATA_PATH}/{PREFIX} \"\n",
    "    f\"--indep-pairwise {LD_WINDOW} {LD_STEP} {LD_R2_THRESHOLD} \"\n",
    "    f\"--maf {MAF_THRESHOLD} \"\n",
    "    f\"--make-bed \"\n",
    "    f\"--out {DATA_PATH}/{PREFIX}_clean\"\n",
    ")\n",
    "\n",
    "# Prunning\n",
    "prune_cmd = (\n",
    "    f\"{PLINK_PATH} \"\n",
    "    f\"--bfile {DATA_PATH}/{PREFIX}_clean \"\n",
    "    f\"--extract {DATA_PATH}/{PREFIX}_clean.prune.out \"\n",
    "    f\"--make-bed \"\n",
    "    f\"--out {DATA_PATH}/{PREFIX}_prunned\"\n",
    ")"
   ]
  },
  {
   "cell_type": "code",
   "execution_count": 4,
   "id": "8c5282c0-c9ce-4d17-9450-018b78f6952d",
   "metadata": {},
   "outputs": [
    {
     "name": "stdout",
     "output_type": "stream",
     "text": [
      "PLINK v1.90b7.4 64-bit (18 Aug 2024)           www.cog-genomics.org/plink/1.9/\n",
      "(C) 2005-2024 Shaun Purcell, Christopher Chang   GNU General Public License v3\n",
      "Logging to data/biengi_clean.log.\n",
      "Options in effect:\n",
      "  --bfile data/biengi\n",
      "  --indep-pairwise 50 5 0.2\n",
      "  --maf 0.05\n",
      "  --make-bed\n",
      "  --out data/biengi_clean\n",
      "\n",
      "96550 MB RAM detected; reserving 48275 MB for main workspace.\n",
      "242180 variants loaded from .bim file.\n",
      "894 people (574 males, 320 females) loaded from .fam.\n",
      "Using 1 thread (no multithreaded calculations invoked).\n",
      "Before main variant filters, 894 founders and 0 nonfounders present.\n",
      "Calculating allele frequencies... 10111213141516171819202122232425262728293031323334353637383940414243444546474849505152535455565758596061626364656667686970717273747576777879808182838485868788899091929394959697989 done.\n",
      "Total genotyping rate is 0.999006.\n",
      "7474 variants removed due to minor allele threshold(s)\n",
      "(--maf/--max-maf/--mac/--max-mac).\n",
      "234706 variants and 894 people pass filters and QC.\n",
      "Note: No phenotypes present.\n",
      "--make-bed to data/biengi_clean.bed + data/biengi_clean.bim +\n",
      "data/biengi_clean.fam ... 101112131415161718192021222324252627282930313233343536373839404142434445464748495051525354555657585960616263646566676869707172737475767778798081828384858687888990919293949596979899done.\n",
      "Pruned 12175 variants from chromosome 1, leaving 5996.\n",
      "Pruned 13505 variants from chromosome 2, leaving 5869.\n",
      "Pruned 11313 variants from chromosome 3, leaving 5053.\n",
      "Pruned 9226 variants from chromosome 4, leaving 4564.\n",
      "Pruned 9915 variants from chromosome 5, leaving 4576.\n",
      "Pruned 10989 variants from chromosome 6, leaving 4601.\n",
      "Pruned 8445 variants from chromosome 7, leaving 4104.\n",
      "Pruned 9813 variants from chromosome 8, leaving 3939.\n",
      "Pruned 8407 variants from chromosome 9, leaving 3737.\n",
      "Pruned 8234 variants from chromosome 10, leaving 3892.\n",
      "Pruned 7739 variants from chromosome 11, leaving 3602.\n",
      "Pruned 7723 variants from chromosome 12, leaving 3739.\n",
      "Pruned 5525 variants from chromosome 13, leaving 2847.\n",
      "Pruned 4962 variants from chromosome 14, leaving 2611.\n",
      "Pruned 4558 variants from chromosome 15, leaving 2359.\n",
      "Pruned 4483 variants from chromosome 16, leaving 2613.\n",
      "Pruned 4061 variants from chromosome 17, leaving 2476.\n",
      "Pruned 5259 variants from chromosome 18, leaving 2605.\n",
      "Pruned 2690 variants from chromosome 19, leaving 1939.\n",
      "Pruned 3857 variants from chromosome 20, leaving 2263.\n",
      "Pruned 2841 variants from chromosome 21, leaving 1316.\n",
      "Pruned 2875 variants from chromosome 22, leaving 1410.\n",
      "Pruning complete.  158595 of 234706 variants removed.\n",
      "Marker lists written to data/biengi_clean.prune.in and\n",
      "data/biengi_clean.prune.out .\n",
      "PLINK v1.90b7.4 64-bit (18 Aug 2024)           www.cog-genomics.org/plink/1.9/\n",
      "(C) 2005-2024 Shaun Purcell, Christopher Chang   GNU General Public License v3\n",
      "Logging to data/biengi_prunned.log.\n",
      "Options in effect:\n",
      "  --bfile data/biengi_clean\n",
      "  --extract data/biengi_clean.prune.out\n",
      "  --make-bed\n",
      "  --out data/biengi_prunned\n",
      "\n",
      "96550 MB RAM detected; reserving 48275 MB for main workspace.\n",
      "234706 variants loaded from .bim file.\n",
      "894 people (574 males, 320 females) loaded from .fam.\n",
      "--extract: 158595 variants remaining.\n",
      "Using 1 thread (no multithreaded calculations invoked).\n",
      "Before main variant filters, 894 founders and 0 nonfounders present.\n",
      "Calculating allele frequencies... 10111213141516171819202122232425262728293031323334353637383940414243444546474849505152535455565758596061626364656667686970717273747576777879808182838485868788899091929394959697989 done.\n",
      "Total genotyping rate is 0.998996.\n",
      "158595 variants and 894 people pass filters and QC.\n",
      "Note: No phenotypes present.\n",
      "--make-bed to data/biengi_prunned.bed + data/biengi_prunned.bim +\n",
      "data/biengi_prunned.fam ... 101112131415161718192021222324252627282930313233343536373839404142434445464748495051525354555657585960616263646566676869707172737475767778798081828384858687888990919293949596979899done.\n"
     ]
    },
    {
     "data": {
      "text/plain": [
       "CompletedProcess(args='/bin/plink --bfile data/biengi_clean --extract data/biengi_clean.prune.out --make-bed --out data/biengi_prunned', returncode=0)"
      ]
     },
     "execution_count": 4,
     "metadata": {},
     "output_type": "execute_result"
    }
   ],
   "source": [
    "subprocess.run(QC_cmd, shell=True)\n",
    "subprocess.run(prune_cmd, shell=True)"
   ]
  },
  {
   "cell_type": "markdown",
   "id": "bf4d2c15-e736-48b1-bdfa-bbe7aa0c9e32",
   "metadata": {},
   "source": [
    "## Read preprocessed data"
   ]
  },
  {
   "cell_type": "code",
   "execution_count": 5,
   "id": "0f06c651-4189-4ef7-b94f-17c9c56934fa",
   "metadata": {},
   "outputs": [],
   "source": [
    "# table with population annotation\n",
    "data_pop = pd.read_csv(f'{DATA_PATH}/{PREFIX}.pedind', sep='\\t', names=['c1', 'c2', 'c3', 'c4', 'c5', 'Population'])\n",
    "\n",
    "# .bed file \n",
    "data_nf = open_bed(f'{DATA_PATH}/{PREFIX}_clean.bed').read()\n",
    "data = open_bed(f'{DATA_PATH}/{PREFIX}_prunned.bed').read()"
   ]
  },
  {
   "cell_type": "code",
   "execution_count": 6,
   "id": "00d43c56-3788-4fa3-b139-e4690733da35",
   "metadata": {},
   "outputs": [
    {
     "name": "stdout",
     "output_type": "stream",
     "text": [
      "Number of samples: 894\n",
      "Number of SNPs after prunning and QC: 158595 (67.57)\n",
      "Number of populations: 28\n"
     ]
    }
   ],
   "source": [
    "print(f'Number of samples: {data.shape[0]}')\n",
    "print(f'Number of SNPs after prunning and QC: {data.shape[1]} ({round(100 * data.shape[1] / data_nf.shape[1], 2)})')\n",
    "print(f'Number of populations: {data_pop['Population'].nunique()}')"
   ]
  },
  {
   "cell_type": "markdown",
   "id": "ada0c0eb-3947-44a8-9831-eee292979c51",
   "metadata": {},
   "source": [
    "## Imputation"
   ]
  },
  {
   "cell_type": "code",
   "execution_count": 7,
   "id": "3d556c8e-e158-4d87-85fb-ea47fd62f160",
   "metadata": {},
   "outputs": [
    {
     "data": {
      "image/png": "[encoded data removed]",
      "text/plain": [
       "<Figure size 800x400 with 2 Axes>"
      ]
     },
     "metadata": {},
     "output_type": "display_data"
    }
   ],
   "source": [
    "fig, axs = plt.subplots(1, 2, figsize=(8, 4))\n",
    "\n",
    "sns.boxplot(np.isnan(data).sum(axis=1), ax=axs[0])\n",
    "sns.boxplot(np.isnan(data).sum(axis=0), ax=axs[1])\n",
    "\n",
    "axs[0].set_title('Missed data per sample')\n",
    "axs[1].set_title('Missed data per SNP');"
   ]
  },
  {
   "cell_type": "markdown",
   "id": "1d3db116-53ee-4ede-8ccf-f24a0d9e12b8",
   "metadata": {},
   "source": [
    "Impute by SNP with mode"
   ]
  },
  {
   "cell_type": "code",
   "execution_count": 8,
   "id": "9e510dbb-e410-4b9c-bb49-44b1c97779d7",
   "metadata": {},
   "outputs": [],
   "source": [
    "# Calculate the mode for each SNP\n",
    "SNP_mode = sps.mode(data, axis=0, nan_policy='omit').mode[0]\n",
    "\n",
    "# Impute missing values in each column with the mode\n",
    "data_imputed = np.where(np.isnan(data), SNP_mode, data)"
   ]
  },
  {
   "cell_type": "code",
   "execution_count": 9,
   "id": "044cfcd3-2e95-4c25-86fc-d571a23d7e5f",
   "metadata": {},
   "outputs": [],
   "source": [
    "assert np.isnan(data_imputed).sum()==0, 'You failed'"
   ]
  },
  {
   "cell_type": "markdown",
   "id": "71e3bf6f-4844-4825-9a12-469638217e48",
   "metadata": {},
   "source": [
    "## Run PCA"
   ]
  },
  {
   "cell_type": "markdown",
   "id": "62dcb87b-769f-434c-95ae-072a8bce1e99",
   "metadata": {},
   "source": [
    "Find the best number of components - **Elbow method**"
   ]
  },
  {
   "cell_type": "code",
   "execution_count": null,
   "id": "1da99077-3b13-4972-b0a8-b34c847c57d5",
   "metadata": {},
   "outputs": [
    {
     "name": "stderr",
     "output_type": "stream",
     "text": [
      " 70%|\u001b[32m███████   \u001b[0m| 21/30 [01:02<00:30,  3.38s/it]"
     ]
    }
   ],
   "source": [
    "explained_variance_ratios = []\n",
    "\n",
    "for k in tqdm(range(1, 31), colour='GREEN'):\n",
    "    pca = PCA(n_components=k)\n",
    "    data_transformed = pca.fit_transform(data_imputed)\n",
    "    explained_variance_ratios.append(pca.explained_variance_ratio_.sum().item()) # .explained_variance_"
   ]
  },
  {
   "cell_type": "code",
   "execution_count": null,
   "id": "80beae97-0d9d-4595-a718-cf8d048ac2da",
   "metadata": {},
   "outputs": [],
   "source": [
    "plt.figure(figsize=(8, 4))\n",
    "plt.plot(range(1, 31), explained_variance_ratios)\n",
    "plt.scatter(range(1, 31), explained_variance_ratios)\n",
    "plt.xlabel('Number of components')\n",
    "plt.ylabel('Explained ratio');"
   ]
  },
  {
   "cell_type": "markdown",
   "id": "9b895fc6-86b0-4f70-a01b-8fb33311d4f7",
   "metadata": {},
   "source": [
    "Very low explained ratio... Okay, run with 10 components, btw we'll plot only 2-3 components"
   ]
  },
  {
   "cell_type": "code",
   "execution_count": null,
   "id": "7dfe07ef-5a38-4e1f-b103-b8a960819f7f",
   "metadata": {},
   "outputs": [],
   "source": [
    "pca = PCA(n_components=10)\n",
    "data_transformed = pca.fit_transform(data_imputed)\n",
    "\n",
    "data_transformed.shape"
   ]
  },
  {
   "cell_type": "markdown",
   "id": "5311f85e-b3b7-4be6-a663-4ae5e36427f2",
   "metadata": {},
   "source": [
    "## Plot main components"
   ]
  },
  {
   "cell_type": "code",
   "execution_count": null,
   "id": "02d18b3d-a744-44a9-b114-6a0b776ef895",
   "metadata": {},
   "outputs": [],
   "source": [
    "data_pca = pd.DataFrame({'PC1': data_transformed[:, 0],\n",
    "                         'PC2': data_transformed[:, 1],\n",
    "                         'PC3': data_transformed[:, 2],\n",
    "                         'Population': data_pop['Population'].values\n",
    "                        })\n",
    "\n",
    "data_pca.sample(5)"
   ]
  },
  {
   "cell_type": "code",
   "execution_count": null,
   "id": "d68cb93c-5495-4f61-a6fb-eda204625b43",
   "metadata": {},
   "outputs": [],
   "source": [
    "plt.figure(figsize=(10, 6))\n",
    "\n",
    "scatter = sns.scatterplot(\n",
    "    x='PC1', y='PC2', \n",
    "    hue='Population', \n",
    "    data=data_pca,\n",
    "    s=40,\n",
    "    edgecolor='k',\n",
    "    alpha=0.8\n",
    ")\n",
    "\n",
    "plt.legend(\n",
    "    title='Population', title_fontsize='13', fontsize='11', \n",
    "    loc='upper center', bbox_to_anchor=(0.5, -0.15), ncol=5, \n",
    "    frameon=True, framealpha=0.8\n",
    ")\n",
    "\n",
    "plt.xlabel(\"Principal Component 1\", fontsize=14, labelpad=10)\n",
    "plt.ylabel(\"Principal Component 2\", fontsize=14, labelpad=10)\n",
    "plt.title(\"PCA Scatter Plot by Population\", fontsize=16, fontweight='bold', pad=15)\n",
    "\n",
    "plt.grid(True, which='both', linestyle='--', linewidth=0.5)\n",
    "plt.gca().set_facecolor('whitesmoke');"
   ]
  },
  {
   "cell_type": "code",
   "execution_count": null,
   "id": "08ede74d-12e6-4231-97f3-ff69eb30587b",
   "metadata": {},
   "outputs": [],
   "source": [
    "fig = px.scatter_3d(\n",
    "    data_pca, \n",
    "    x='PC1', y='PC2', z='PC3', \n",
    "    color='Population',\n",
    "    title=\"PCA Ethnicity aggregation\",\n",
    "    opacity=0.8,  \n",
    "    symbol='Population',\n",
    ")\n",
    "\n",
    "fig.update_traces(marker=dict(size=4))\n",
    "\n",
    "fig.update_layout(\n",
    "    scene=dict(\n",
    "        xaxis_title='PC1',\n",
    "        yaxis_title='PC2',\n",
    "        zaxis_title='PC3',\n",
    "    ),\n",
    "    legend=dict(\n",
    "        title=\"Population\",\n",
    "        x=1.05, y=1,\n",
    "        bgcolor=\"rgba(255, 255, 255, 0.8)\",\n",
    "    ),\n",
    "    margin=dict(l=0, r=0, b=0, t=30)\n",
    ")\n",
    "\n",
    "# fig.show()"
   ]
  },
  {
   "cell_type": "code",
   "execution_count": null,
   "id": "da176302-4c1a-4705-b93b-7cb4074d3b35",
   "metadata": {},
   "outputs": [],
   "source": [
    "fig.write_html(f\"{PREFIX}_3d_PCA.html\")"
   ]
  },
  {
   "cell_type": "code",
   "execution_count": null,
   "id": "364de806-be41-4c12-8776-6e6f8cc7b50c",
   "metadata": {},
   "outputs": [],
   "source": []
  }
 ],
 "metadata": {
  "kernelspec": {
   "display_name": "plink",
   "language": "python",
   "name": "plink"
  },
  "language_info": {
   "codemirror_mode": {
    "name": "ipython",
    "version": 3
   },
   "file_extension": ".py",
   "mimetype": "text/x-python",
   "name": "python",
   "nbconvert_exporter": "python",
   "pygments_lexer": "ipython3",
   "version": "3.13.0"
  }
 },
 "nbformat": 4,
 "nbformat_minor": 5
}
