{
 "cells": [
  {
   "cell_type": "code",
   "execution_count": 12,
   "id": "964c41be-8c22-43e8-8d7a-0fc619703fc0",
   "metadata": {},
   "outputs": [],
   "source": [
    "import os\n",
    "import subprocess\n",
    "\n",
    "import numpy as np\n",
    "import pandas as pd\n",
    "import scipy.stats as sps\n",
    "from tqdm import tqdm\n",
    "from bed_reader import open_bed\n",
    "from sklearn.decomposition import PCA\n",
    "from sklearn.manifold import TSNE\n",
    "import umap\n",
    "\n",
    "import matplotlib.pyplot as plt\n",
    "import plotly.express as px\n",
    "import seaborn as sns\n",
    "sns.set(style=\"whitegrid\", context=\"notebook\", palette=\"pastel\")\n",
    "\n",
    "import warnings\n",
    "warnings.simplefilter('ignore')"
   ]
  },
  {
   "cell_type": "markdown",
   "id": "2f790bf5-040e-4bdd-8b06-14f6d9201bc0",
   "metadata": {},
   "source": [
    "1. [plink LD arguments](https://www.cog-genomics.org/plink/1.9/ld):\n",
    "    - **window size** - a window size in variant count or kilobase units\n",
    "    - **step size** - a variant count to shift the window at the end of each step\n",
    "    - **r2 thresold** - a pairwise r2 threshold: at each step, pairs of variants in the current window with squared correlation greater than the threshold are noted, and variants are greedily pruned from the window until no such pairs remain"
   ]
  },
  {
   "cell_type": "code",
   "execution_count": 3,
   "id": "35824d94-51ed-4be8-bff2-5cf58294cfab",
   "metadata": {},
   "outputs": [],
   "source": [
    "PLINK_PATH = '/bin/plink'\n",
    "DATA_PATH = 'data'\n",
    "\n",
    "PREFIX = 'biengi'\n",
    "\n",
    "# WC arguments\n",
    "MAF_THRESHOLD = 0.05\n",
    "\n",
    "# Prunning argument\n",
    "LD_WINDOW = 150\n",
    "LD_STEP = 10\n",
    "LD_R2_THRESHOLD = 0.2"
   ]
  },
  {
   "cell_type": "markdown",
   "id": "9b2b8eae-1e24-47ed-8b28-819f4548d9c7",
   "metadata": {},
   "source": [
    "## Quality Control and Prunning"
   ]
  },
  {
   "cell_type": "code",
   "execution_count": 3,
   "id": "5e91273a-73af-48f4-8e4f-d244a0e2b5fe",
   "metadata": {},
   "outputs": [],
   "source": [
    "# QC + prunning with plink\n",
    "QC_cmd = (\n",
    "    f\"{PLINK_PATH} \"\n",
    "    f\"--bfile {DATA_PATH}/{PREFIX} \"\n",
    "    f\"--indep-pairwise {LD_WINDOW} {LD_STEP} {LD_R2_THRESHOLD} \"\n",
    "    f\"--maf {MAF_THRESHOLD} \"\n",
    "    f\"--make-bed \"\n",
    "    f\"--out {DATA_PATH}/{PREFIX}_clean\"\n",
    ")\n",
    "\n",
    "# Prunning\n",
    "prune_cmd = (\n",
    "    f\"{PLINK_PATH} \"\n",
    "    f\"--bfile {DATA_PATH}/{PREFIX}_clean \"\n",
    "    f\"--extract {DATA_PATH}/{PREFIX}_clean.prune.out \"\n",
    "    f\"--make-bed \"\n",
    "    f\"--out {DATA_PATH}/{PREFIX}_prunned\"\n",
    ")"
   ]
  },
  {
   "cell_type": "code",
   "execution_count": 4,
   "id": "8c5282c0-c9ce-4d17-9450-018b78f6952d",
   "metadata": {},
   "outputs": [
    {
     "name": "stdout",
     "output_type": "stream",
     "text": [
      "PLINK v1.90b7.4 64-bit (18 Aug 2024)           www.cog-genomics.org/plink/1.9/\n",
      "(C) 2005-2024 Shaun Purcell, Christopher Chang   GNU General Public License v3\n",
      "Logging to data/biengi_clean.log.\n",
      "Options in effect:\n",
      "  --bfile data/biengi\n",
      "  --indep-pairwise 150 10 0.2\n",
      "  --maf 0.05\n",
      "  --make-bed\n",
      "  --out data/biengi_clean\n",
      "\n",
      "96550 MB RAM detected; reserving 48275 MB for main workspace.\n",
      "242180 variants loaded from .bim file.\n",
      "894 people (574 males, 320 females) loaded from .fam.\n",
      "Using 1 thread (no multithreaded calculations invoked).\n",
      "Before main variant filters, 894 founders and 0 nonfounders present.\n",
      "Calculating allele frequencies... 10111213141516171819202122232425262728293031323334353637383940414243444546474849505152535455565758596061626364656667686970717273747576777879808182838485868788899091929394959697989 done.\n",
      "Total genotyping rate is 0.999006.\n",
      "7474 variants removed due to minor allele threshold(s)\n",
      "(--maf/--max-maf/--mac/--max-mac).\n",
      "234706 variants and 894 people pass filters and QC.\n",
      "Note: No phenotypes present.\n",
      "--make-bed to data/biengi_clean.bed + data/biengi_clean.bim +\n",
      "data/biengi_clean.fam ... 101112131415161718192021222324252627282930313233343536373839404142434445464748495051525354555657585960616263646566676869707172737475767778798081828384858687888990919293949596979899done.\n",
      "Pruned 12226 variants from chromosome 1, leaving 5945.\n",
      "Pruned 13554 variants from chromosome 2, leaving 5820.\n",
      "Pruned 11352 variants from chromosome 3, leaving 5014.\n",
      "Pruned 9264 variants from chromosome 4, leaving 4526.\n",
      "Pruned 9965 variants from chromosome 5, leaving 4526.\n",
      "Pruned 11042 variants from chromosome 6, leaving 4548.\n",
      "Pruned 8483 variants from chromosome 7, leaving 4066.\n",
      "Pruned 9855 variants from chromosome 8, leaving 3897.\n",
      "Pruned 8445 variants from chromosome 9, leaving 3699.\n",
      "Pruned 8257 variants from chromosome 10, leaving 3869.\n",
      "Pruned 7785 variants from chromosome 11, leaving 3556.\n",
      "Pruned 7753 variants from chromosome 12, leaving 3709.\n",
      "Pruned 5556 variants from chromosome 13, leaving 2816.\n",
      "Pruned 4992 variants from chromosome 14, leaving 2581.\n",
      "Pruned 4575 variants from chromosome 15, leaving 2342.\n",
      "Pruned 4491 variants from chromosome 16, leaving 2605.\n",
      "Pruned 4089 variants from chromosome 17, leaving 2448.\n",
      "Pruned 5280 variants from chromosome 18, leaving 2584.\n",
      "Pruned 2697 variants from chromosome 19, leaving 1932.\n",
      "Pruned 3882 variants from chromosome 20, leaving 2238.\n",
      "Pruned 2850 variants from chromosome 21, leaving 1307.\n",
      "Pruned 2883 variants from chromosome 22, leaving 1402.\n",
      "Pruning complete.  159276 of 234706 variants removed.\n",
      "Marker lists written to data/biengi_clean.prune.in and\n",
      "data/biengi_clean.prune.out .\n",
      "PLINK v1.90b7.4 64-bit (18 Aug 2024)           www.cog-genomics.org/plink/1.9/\n",
      "(C) 2005-2024 Shaun Purcell, Christopher Chang   GNU General Public License v3\n",
      "Logging to data/biengi_prunned.log.\n",
      "Options in effect:\n",
      "  --bfile data/biengi_clean\n",
      "  --extract data/biengi_clean.prune.out\n",
      "  --make-bed\n",
      "  --out data/biengi_prunned\n",
      "\n",
      "96550 MB RAM detected; reserving 48275 MB for main workspace.\n",
      "234706 variants loaded from .bim file.\n",
      "894 people (574 males, 320 females) loaded from .fam.\n",
      "--extract: 159276 variants remaining.\n",
      "Using 1 thread (no multithreaded calculations invoked).\n",
      "Before main variant filters, 894 founders and 0 nonfounders present.\n",
      "Calculating allele frequencies... 10111213141516171819202122232425262728293031323334353637383940414243444546474849505152535455565758596061626364656667686970717273747576777879808182838485868788899091929394959697989 done.\n",
      "Total genotyping rate is 0.998997.\n",
      "159276 variants and 894 people pass filters and QC.\n",
      "Note: No phenotypes present.\n",
      "--make-bed to data/biengi_prunned.bed + data/biengi_prunned.bim +\n",
      "data/biengi_prunned.fam ... 101112131415161718192021222324252627282930313233343536373839404142434445464748495051525354555657585960616263646566676869707172737475767778798081828384858687888990919293949596979899done.\n"
     ]
    },
    {
     "data": {
      "text/plain": [
       "CompletedProcess(args='/bin/plink --bfile data/biengi_clean --extract data/biengi_clean.prune.out --make-bed --out data/biengi_prunned', returncode=0)"
      ]
     },
     "execution_count": 4,
     "metadata": {},
     "output_type": "execute_result"
    }
   ],
   "source": [
    "subprocess.run(QC_cmd, shell=True)\n",
    "subprocess.run(prune_cmd, shell=True)"
   ]
  },
  {
   "cell_type": "markdown",
   "id": "bf4d2c15-e736-48b1-bdfa-bbe7aa0c9e32",
   "metadata": {},
   "source": [
    "## Read preprocessed data"
   ]
  },
  {
   "cell_type": "code",
   "execution_count": 4,
   "id": "0f06c651-4189-4ef7-b94f-17c9c56934fa",
   "metadata": {},
   "outputs": [],
   "source": [
    "# table with population annotation\n",
    "data_pop = pd.read_csv(f'{DATA_PATH}/{PREFIX}.pedind', sep='\\t', names=['c1', 'c2', 'c3', 'c4', 'c5', 'Population'])\n",
    "\n",
    "# .bed file \n",
    "data_nf = open_bed(f'{DATA_PATH}/{PREFIX}_clean.bed').read()\n",
    "data = open_bed(f'{DATA_PATH}/{PREFIX}_prunned.bed').read()"
   ]
  },
  {
   "cell_type": "code",
   "execution_count": 5,
   "id": "00d43c56-3788-4fa3-b139-e4690733da35",
   "metadata": {},
   "outputs": [
    {
     "name": "stdout",
     "output_type": "stream",
     "text": [
      "Number of samples: 894\n",
      "Number of SNPs after prunning and QC: 159276 (67.86)\n",
      "Number of populations: 28\n"
     ]
    }
   ],
   "source": [
    "print(f'Number of samples: {data.shape[0]}')\n",
    "print(f'Number of SNPs after prunning and QC: {data.shape[1]} ({round(100 * data.shape[1] / data_nf.shape[1], 2)})')\n",
    "print(f'Number of populations: {data_pop['Population'].nunique()}')"
   ]
  },
  {
   "cell_type": "markdown",
   "id": "ada0c0eb-3947-44a8-9831-eee292979c51",
   "metadata": {},
   "source": [
    "## Imputation"
   ]
  },
  {
   "cell_type": "code",
   "execution_count": 6,
   "id": "3d556c8e-e158-4d87-85fb-ea47fd62f160",
   "metadata": {},
   "outputs": [
    {
     "data": {
      "image/png": "[encoded data removed]",
      "text/plain": [
       "<Figure size 800x400 with 2 Axes>"
      ]
     },
     "metadata": {},
     "output_type": "display_data"
    }
   ],
   "source": [
    "fig, axs = plt.subplots(1, 2, figsize=(8, 4))\n",
    "\n",
    "sns.boxplot(np.isnan(data).sum(axis=1), ax=axs[0])\n",
    "sns.boxplot(np.isnan(data).sum(axis=0), ax=axs[1])\n",
    "\n",
    "axs[0].set_title('Missed data per sample')\n",
    "axs[1].set_title('Missed data per SNP');"
   ]
  },
  {
   "cell_type": "markdown",
   "id": "1d3db116-53ee-4ede-8ccf-f24a0d9e12b8",
   "metadata": {},
   "source": [
    "Impute by SNP with mode"
   ]
  },
  {
   "cell_type": "code",
   "execution_count": 7,
   "id": "9e510dbb-e410-4b9c-bb49-44b1c97779d7",
   "metadata": {},
   "outputs": [],
   "source": [
    "# Calculate the mode for each SNP\n",
    "SNP_mode = sps.mode(data, axis=0, nan_policy='omit').mode[0]\n",
    "\n",
    "# Impute missing values in each column with the mode\n",
    "data_imputed = np.where(np.isnan(data), SNP_mode, data)"
   ]
  },
  {
   "cell_type": "code",
   "execution_count": 8,
   "id": "044cfcd3-2e95-4c25-86fc-d571a23d7e5f",
   "metadata": {},
   "outputs": [],
   "source": [
    "assert np.isnan(data_imputed).sum()==0, 'You failed'"
   ]
  },
  {
   "cell_type": "markdown",
   "id": "71e3bf6f-4844-4825-9a12-469638217e48",
   "metadata": {},
   "source": [
    "## Run PCA"
   ]
  },
  {
   "cell_type": "markdown",
   "id": "62dcb87b-769f-434c-95ae-072a8bce1e99",
   "metadata": {},
   "source": [
    "Find the best number of components - **Elbow method**"
   ]
  },
  {
   "cell_type": "code",
   "execution_count": 9,
   "id": "1da99077-3b13-4972-b0a8-b34c847c57d5",
   "metadata": {},
   "outputs": [],
   "source": [
    "# explained_variance_ratios = []\n",
    "\n",
    "# for k in tqdm(range(1, 31), colour='GREEN'):\n",
    "#     pca = PCA(n_components=k)\n",
    "#     data_transformed = pca.fit_transform(data_imputed)\n",
    "#     explained_variance_ratios.append(pca.explained_variance_ratio_.sum().item()) # .explained_variance_"
   ]
  },
  {
   "cell_type": "code",
   "execution_count": 10,
   "id": "80beae97-0d9d-4595-a718-cf8d048ac2da",
   "metadata": {},
   "outputs": [],
   "source": [
    "# plt.figure(figsize=(8, 4))\n",
    "# plt.plot(range(1, 31), explained_variance_ratios)\n",
    "# plt.scatter(range(1, 31), explained_variance_ratios)\n",
    "# plt.xlabel('Number of components')\n",
    "# plt.ylabel('Explained ratio');"
   ]
  },
  {
   "cell_type": "markdown",
   "id": "9b895fc6-86b0-4f70-a01b-8fb33311d4f7",
   "metadata": {},
   "source": [
    "Very low explained ratio... Okay, run with 10 components, btw we'll plot only 2-3 components"
   ]
  },
  {
   "cell_type": "code",
   "execution_count": 13,
   "id": "7dfe07ef-5a38-4e1f-b103-b8a960819f7f",
   "metadata": {},
   "outputs": [
    {
     "data": {
      "text/plain": [
       "(894, 20)"
      ]
     },
     "execution_count": 13,
     "metadata": {},
     "output_type": "execute_result"
    }
   ],
   "source": [
    "pca = PCA(n_components=20)\n",
    "data_transformed = pca.fit_transform(data_imputed)\n",
    "\n",
    "data_transformed.shape"
   ]
  },
  {
   "cell_type": "code",
   "execution_count": 14,
   "id": "03536710-02da-40c6-8259-785ae0128025",
   "metadata": {},
   "outputs": [
    {
     "data": {
      "text/plain": [
       "np.float64(0.08636912726721464)"
      ]
     },
     "execution_count": 14,
     "metadata": {},
     "output_type": "execute_result"
    }
   ],
   "source": [
    "pca.explained_variance_ratio_.sum()"
   ]
  },
  {
   "cell_type": "markdown",
   "id": "5311f85e-b3b7-4be6-a663-4ae5e36427f2",
   "metadata": {},
   "source": [
    "## Plot main components"
   ]
  },
  {
   "cell_type": "code",
   "execution_count": 26,
   "id": "c5f59a3b-ab01-4294-95b2-900296b7b4b3",
   "metadata": {},
   "outputs": [],
   "source": [
    "def plot_2d(data: pd.DataFrame, title: str, x: str = 'PC1', y: str = 'PC2', save_name: str = None):\n",
    "    fig = px.scatter(\n",
    "        data, \n",
    "        x=x, y=y, \n",
    "        color='Population',\n",
    "        title=title,\n",
    "        labels={x: 'Component 1', y: 'Component 2'},\n",
    "        opacity=0.8,\n",
    "        symbol='Population',\n",
    "    )\n",
    "    \n",
    "    fig.update_traces(marker=dict(size=8, line=dict(color='black', width=1)))\n",
    "\n",
    "    fig.update_layout(\n",
    "        legend=dict(\n",
    "            title=\"Population\",\n",
    "            x=1.05, y=1,\n",
    "            bgcolor=\"rgba(255, 255, 255, 0.8)\",\n",
    "            orientation=\"h\",\n",
    "        ),\n",
    "        margin=dict(l=0, r=0, b=0, t=30),\n",
    "        xaxis_title=x,\n",
    "        yaxis_title=y,\n",
    "    )\n",
    "\n",
    "    # fig.show()\n",
    "\n",
    "    if save_name is not None:\n",
    "        fig.write_html(f\"{save_name}.html\")"
   ]
  },
  {
   "cell_type": "code",
   "execution_count": 27,
   "id": "6a5e5a7c-49aa-4991-81b5-fcd9d610284e",
   "metadata": {},
   "outputs": [],
   "source": [
    "def plot_3d(data: pd.DataFrame, title: str, x: str = 'PC1', y: str = 'PC2', z: str = 'PC3', save_name: str = None):\n",
    "    fig = px.scatter_3d(\n",
    "        data, \n",
    "        x=x, y=y, z=z,\n",
    "        color='Population',\n",
    "        title=title,\n",
    "        opacity=0.8,  \n",
    "        symbol='Population',\n",
    "    )\n",
    "    \n",
    "    fig.update_traces(marker=dict(size=4))\n",
    "    \n",
    "    fig.update_layout(\n",
    "        scene=dict(\n",
    "            xaxis_title=x,\n",
    "            yaxis_title=y,\n",
    "            zaxis_title=z\n",
    "        ),\n",
    "        legend=dict(\n",
    "            title=\"Population\",\n",
    "            x=1.05, y=1,\n",
    "            bgcolor=\"rgba(255, 255, 255, 0.8)\",\n",
    "        ),\n",
    "        margin=dict(l=0, r=0, b=0, t=30)\n",
    "    )\n",
    "    \n",
    "    # fig.show()\n",
    "\n",
    "    if save_name is not None:\n",
    "        fig.write_html(f\"{save_name}.html\")"
   ]
  },
  {
   "cell_type": "code",
   "execution_count": 28,
   "id": "6b38ce2f-6b0d-4e3b-9d65-8c3216450655",
   "metadata": {},
   "outputs": [
    {
     "data": {
      "text/html": [
       "<div>\n",
       "<style scoped>\n",
       "    .dataframe tbody tr th:only-of-type {\n",
       "        vertical-align: middle;\n",
       "    }\n",
       "\n",
       "    .dataframe tbody tr th {\n",
       "        vertical-align: top;\n",
       "    }\n",
       "\n",
       "    .dataframe thead th {\n",
       "        text-align: right;\n",
       "    }\n",
       "</style>\n",
       "<table border=\"1\" class=\"dataframe\">\n",
       "  <thead>\n",
       "    <tr style=\"text-align: right;\">\n",
       "      <th></th>\n",
       "      <th>PC1</th>\n",
       "      <th>PC2</th>\n",
       "      <th>PC3</th>\n",
       "      <th>Population</th>\n",
       "    </tr>\n",
       "  </thead>\n",
       "  <tbody>\n",
       "    <tr>\n",
       "      <th>661</th>\n",
       "      <td>80.110577</td>\n",
       "      <td>4.409540</td>\n",
       "      <td>-2.792592</td>\n",
       "      <td>Tuva</td>\n",
       "    </tr>\n",
       "    <tr>\n",
       "      <th>511</th>\n",
       "      <td>24.622558</td>\n",
       "      <td>15.556147</td>\n",
       "      <td>-7.891584</td>\n",
       "      <td>Uzbek</td>\n",
       "    </tr>\n",
       "    <tr>\n",
       "      <th>21</th>\n",
       "      <td>-37.960733</td>\n",
       "      <td>-25.969672</td>\n",
       "      <td>-10.777654</td>\n",
       "      <td>Karel</td>\n",
       "    </tr>\n",
       "    <tr>\n",
       "      <th>859</th>\n",
       "      <td>98.103568</td>\n",
       "      <td>5.285055</td>\n",
       "      <td>-9.776828</td>\n",
       "      <td>Yakut</td>\n",
       "    </tr>\n",
       "    <tr>\n",
       "      <th>420</th>\n",
       "      <td>-39.722379</td>\n",
       "      <td>30.593688</td>\n",
       "      <td>11.811238</td>\n",
       "      <td>Karachay</td>\n",
       "    </tr>\n",
       "  </tbody>\n",
       "</table>\n",
       "</div>"
      ],
      "text/plain": [
       "           PC1        PC2        PC3 Population\n",
       "661  80.110577   4.409540  -2.792592       Tuva\n",
       "511  24.622558  15.556147  -7.891584      Uzbek\n",
       "21  -37.960733 -25.969672 -10.777654      Karel\n",
       "859  98.103568   5.285055  -9.776828      Yakut\n",
       "420 -39.722379  30.593688  11.811238   Karachay"
      ]
     },
     "execution_count": 28,
     "metadata": {},
     "output_type": "execute_result"
    }
   ],
   "source": [
    "data_pca = pd.DataFrame({'PC1': data_transformed[:, 0],\n",
    "                         'PC2': data_transformed[:, 1],\n",
    "                         'PC3': data_transformed[:, 2],\n",
    "                         'Population': data_pop['Population'].values\n",
    "                        })\n",
    "\n",
    "data_pca.sample(5)"
   ]
  },
  {
   "cell_type": "markdown",
   "id": "6fafad39-4d5b-46f1-8e45-f8cfc0da3032",
   "metadata": {},
   "source": [
    "1. [2d_pca](https://html-preview.github.io/?url=https://github.com/ksumarshmallow/MentorSem/blob/main/Ethnicity/biengi_2d_PCA.html)\n",
    "2. [3d_pca](https://html-preview.github.io/?url=https://github.com/ksumarshmallow/MentorSem/blob/main/Ethnicity/biengi_3d_PCA.html)"
   ]
  },
  {
   "cell_type": "code",
   "execution_count": 29,
   "id": "b9326ab6-0aa9-4e66-9761-95b68bd982b8",
   "metadata": {},
   "outputs": [],
   "source": [
    "plot_2d(data=data_pca, title='PCA Scatter Plot by Population', x='PC1', y='PC2', save_name=f\"{PREFIX}_2d_PCA\")"
   ]
  },
  {
   "cell_type": "code",
   "execution_count": 31,
   "id": "1cf12453-d3bb-4853-953e-0189e85d09a2",
   "metadata": {},
   "outputs": [],
   "source": [
    "plot_3d(data=data_pca, title='PCA Scatter Plot by Population', x='PC1', y='PC2', z='PC3', save_name=f\"{PREFIX}_3d_PCA\")"
   ]
  },
  {
   "cell_type": "markdown",
   "id": "aa80af84-0a6c-4a3a-b2ca-45878237a3d1",
   "metadata": {},
   "source": [
    "## t-SNE\n",
    "Запустим t-SNE на первых 20 компонентах из PCA"
   ]
  },
  {
   "cell_type": "code",
   "execution_count": 32,
   "id": "f8601a4b-dcab-435f-9a91-46d7ad58199c",
   "metadata": {},
   "outputs": [],
   "source": [
    "tsne_2 = TSNE(n_components=2, random_state=17)\n",
    "tsne_3 = TSNE(n_components=3, random_state=17)"
   ]
  },
  {
   "cell_type": "code",
   "execution_count": 33,
   "id": "a29d2fbb-e391-4bc1-a5b5-f9908a8fbe06",
   "metadata": {},
   "outputs": [
    {
     "name": "stdout",
     "output_type": "stream",
     "text": [
      "CPU times: user 50.9 s, sys: 41.6 ms, total: 50.9 s\n",
      "Wall time: 3.24 s\n"
     ]
    }
   ],
   "source": [
    "%%time\n",
    "data_transformed_tsne_2 = tsne_2.fit_transform(data_transformed)\n",
    "data_transformed_tsne_3 = tsne_3.fit_transform(data_transformed)"
   ]
  },
  {
   "cell_type": "code",
   "execution_count": 34,
   "id": "0529b2c5-1d53-4a50-a692-6aebc38eccc6",
   "metadata": {},
   "outputs": [
    {
     "data": {
      "text/html": [
       "<div>\n",
       "<style scoped>\n",
       "    .dataframe tbody tr th:only-of-type {\n",
       "        vertical-align: middle;\n",
       "    }\n",
       "\n",
       "    .dataframe tbody tr th {\n",
       "        vertical-align: top;\n",
       "    }\n",
       "\n",
       "    .dataframe thead th {\n",
       "        text-align: right;\n",
       "    }\n",
       "</style>\n",
       "<table border=\"1\" class=\"dataframe\">\n",
       "  <thead>\n",
       "    <tr style=\"text-align: right;\">\n",
       "      <th></th>\n",
       "      <th>D1</th>\n",
       "      <th>D2</th>\n",
       "      <th>Population</th>\n",
       "    </tr>\n",
       "  </thead>\n",
       "  <tbody>\n",
       "    <tr>\n",
       "      <th>438</th>\n",
       "      <td>-8.436056</td>\n",
       "      <td>32.362080</td>\n",
       "      <td>Abkhaz</td>\n",
       "    </tr>\n",
       "    <tr>\n",
       "      <th>601</th>\n",
       "      <td>25.052193</td>\n",
       "      <td>-18.351667</td>\n",
       "      <td>Khanty</td>\n",
       "    </tr>\n",
       "    <tr>\n",
       "      <th>749</th>\n",
       "      <td>18.402657</td>\n",
       "      <td>1.974951</td>\n",
       "      <td>Kazakh</td>\n",
       "    </tr>\n",
       "    <tr>\n",
       "      <th>203</th>\n",
       "      <td>-17.908714</td>\n",
       "      <td>24.694910</td>\n",
       "      <td>Chechen</td>\n",
       "    </tr>\n",
       "    <tr>\n",
       "      <th>364</th>\n",
       "      <td>-8.480662</td>\n",
       "      <td>-20.650379</td>\n",
       "      <td>Komi</td>\n",
       "    </tr>\n",
       "  </tbody>\n",
       "</table>\n",
       "</div>"
      ],
      "text/plain": [
       "            D1         D2 Population\n",
       "438  -8.436056  32.362080     Abkhaz\n",
       "601  25.052193 -18.351667     Khanty\n",
       "749  18.402657   1.974951     Kazakh\n",
       "203 -17.908714  24.694910    Chechen\n",
       "364  -8.480662 -20.650379       Komi"
      ]
     },
     "execution_count": 34,
     "metadata": {},
     "output_type": "execute_result"
    }
   ],
   "source": [
    "data_tsne_2 = pd.DataFrame({'D1': data_transformed_tsne_2[:, 0],\n",
    "                            'D2': data_transformed_tsne_2[:, 1],\n",
    "                            'Population': data_pop['Population'].values\n",
    "                        })\n",
    "\n",
    "data_tsne_3 = pd.DataFrame({'D1': data_transformed_tsne_3[:, 0],\n",
    "                            'D2': data_transformed_tsne_3[:, 1],\n",
    "                            'D3': data_transformed_tsne_3[:, 2],\n",
    "                            'Population': data_pop['Population'].values\n",
    "                        })\n",
    "\n",
    "data_tsne_2.sample(5)"
   ]
  },
  {
   "cell_type": "markdown",
   "id": "a3c773d7-fd12-4e42-a777-a8f91ae35ff8",
   "metadata": {},
   "source": [
    "1. [2d_tsne](https://html-preview.github.io/?url=https://github.com/ksumarshmallow/MentorSem/blob/main/Ethnicity/biengi_2d_TSNE.html)\n",
    "2. [3d_tsne](https://html-preview.github.io/?url=https://github.com/ksumarshmallow/MentorSem/blob/main/Ethnicity/biengi_3d_TSNE.html)"
   ]
  },
  {
   "cell_type": "code",
   "execution_count": 35,
   "id": "c9b91975-a4b9-4e85-8aae-fd212aadbc2f",
   "metadata": {},
   "outputs": [],
   "source": [
    "plot_2d(data=data_tsne_2, title='t-SNE Scatter Plot by Population', x='D1', y='D2', save_name=f\"{PREFIX}_2d_TSNE\")"
   ]
  },
  {
   "cell_type": "code",
   "execution_count": 36,
   "id": "d9ffb306-da71-46de-8a70-03023edc50fb",
   "metadata": {},
   "outputs": [],
   "source": [
    "plot_3d(data=data_tsne_3,  title='t-SNE Scatter Plot by Population', x='D1', y='D2', z='D3', save_name=f\"{PREFIX}_3d_TSNE\")"
   ]
  },
  {
   "cell_type": "markdown",
   "id": "1fe58f5c-be5e-4180-83c4-2adaa41e9179",
   "metadata": {},
   "source": [
    "### UMAP\n",
    "Также запустим на 20 компонентах PCA"
   ]
  },
  {
   "cell_type": "code",
   "execution_count": 40,
   "id": "868161d2-4b20-4a04-b90a-d437432e5b04",
   "metadata": {},
   "outputs": [
    {
     "name": "stdout",
     "output_type": "stream",
     "text": [
      "CPU times: user 5.51 s, sys: 2.96 ms, total: 5.52 s\n",
      "Wall time: 3.64 s\n"
     ]
    }
   ],
   "source": [
    "%%time\n",
    "umap_2 = umap.UMAP(n_neighbors=30, n_components=2, metric='euclidean', random_state=17)\n",
    "umap_3 = umap.UMAP(n_neighbors=30, n_components=3, metric='euclidean', random_state=17)\n",
    "\n",
    "data_transformed_umap_2 = umap_2.fit_transform(data_transformed)\n",
    "data_transformed_umap_3 = umap_3.fit_transform(data_transformed)"
   ]
  },
  {
   "cell_type": "code",
   "execution_count": 41,
   "id": "61e5408f-68f5-4af2-a408-b5d13347a8b5",
   "metadata": {},
   "outputs": [
    {
     "data": {
      "text/html": [
       "<div>\n",
       "<style scoped>\n",
       "    .dataframe tbody tr th:only-of-type {\n",
       "        vertical-align: middle;\n",
       "    }\n",
       "\n",
       "    .dataframe tbody tr th {\n",
       "        vertical-align: top;\n",
       "    }\n",
       "\n",
       "    .dataframe thead th {\n",
       "        text-align: right;\n",
       "    }\n",
       "</style>\n",
       "<table border=\"1\" class=\"dataframe\">\n",
       "  <thead>\n",
       "    <tr style=\"text-align: right;\">\n",
       "      <th></th>\n",
       "      <th>D1</th>\n",
       "      <th>D2</th>\n",
       "      <th>Population</th>\n",
       "    </tr>\n",
       "  </thead>\n",
       "  <tbody>\n",
       "    <tr>\n",
       "      <th>705</th>\n",
       "      <td>9.456152</td>\n",
       "      <td>-11.148211</td>\n",
       "      <td>Buryat</td>\n",
       "    </tr>\n",
       "    <tr>\n",
       "      <th>234</th>\n",
       "      <td>4.962045</td>\n",
       "      <td>16.435558</td>\n",
       "      <td>Adygei</td>\n",
       "    </tr>\n",
       "    <tr>\n",
       "      <th>733</th>\n",
       "      <td>7.495175</td>\n",
       "      <td>-10.422999</td>\n",
       "      <td>Kazakh</td>\n",
       "    </tr>\n",
       "    <tr>\n",
       "      <th>32</th>\n",
       "      <td>18.775007</td>\n",
       "      <td>-1.786860</td>\n",
       "      <td>Moldovan</td>\n",
       "    </tr>\n",
       "    <tr>\n",
       "      <th>461</th>\n",
       "      <td>27.472889</td>\n",
       "      <td>-0.311621</td>\n",
       "      <td>Udmurt</td>\n",
       "    </tr>\n",
       "  </tbody>\n",
       "</table>\n",
       "</div>"
      ],
      "text/plain": [
       "            D1         D2 Population\n",
       "705   9.456152 -11.148211     Buryat\n",
       "234   4.962045  16.435558     Adygei\n",
       "733   7.495175 -10.422999     Kazakh\n",
       "32   18.775007  -1.786860   Moldovan\n",
       "461  27.472889  -0.311621     Udmurt"
      ]
     },
     "execution_count": 41,
     "metadata": {},
     "output_type": "execute_result"
    }
   ],
   "source": [
    "data_umap_2 = pd.DataFrame({'D1': data_transformed_umap_2[:, 0],\n",
    "                            'D2': data_transformed_umap_2[:, 1],\n",
    "                            'Population': data_pop['Population'].values\n",
    "                        })\n",
    "\n",
    "data_umap_3 = pd.DataFrame({'D1': data_transformed_umap_3[:, 0],\n",
    "                            'D2': data_transformed_umap_3[:, 1],\n",
    "                            'D3': data_transformed_umap_3[:, 2],\n",
    "                            'Population': data_pop['Population'].values\n",
    "                        })\n",
    "\n",
    "data_umap_2.sample(5)"
   ]
  },
  {
   "cell_type": "code",
   "execution_count": 42,
   "id": "9e22f92a-7207-48f3-bc11-68c81d4b51a0",
   "metadata": {},
   "outputs": [],
   "source": [
    "plot_2d(data=data_tsne_2, title='UMAP Scatter Plot by Population', x='D1', y='D2', save_name=f\"{PREFIX}_2d_UMAP\")"
   ]
  },
  {
   "cell_type": "code",
   "execution_count": 44,
   "id": "8cdd879d-428b-48ba-8dca-fe7ce5c1ba20",
   "metadata": {},
   "outputs": [],
   "source": [
    "plot_3d(data=data_tsne_3, title='UMAP Scatter Plot by Population', x='D1', y='D2', z='D3', save_name=f\"{PREFIX}_3d_UMAP\")"
   ]
  },
  {
   "cell_type": "markdown",
   "id": "285e07a2-4054-48ea-a130-9b444a04c50a",
   "metadata": {},
   "source": [
    "# 2. Admixure"
   ]
  },
  {
   "cell_type": "markdown",
   "id": "95d4990f-decc-4447-b097-e08e739a441d",
   "metadata": {},
   "source": [
    "### Run"
   ]
  },
  {
   "cell_type": "code",
   "execution_count": 24,
   "id": "13e8d6b5-5df8-4c0e-a4bf-ed51733a0485",
   "metadata": {},
   "outputs": [],
   "source": [
    "ADMIXURE_PATH = '~/common/admixture/dist/admixture_linux-1.3.0/admixture'\n",
    "K = 5     # ancestries count"
   ]
  },
  {
   "cell_type": "code",
   "execution_count": 25,
   "id": "eb7f8703-ba26-4c62-8f1a-7d720e1a1df0",
   "metadata": {},
   "outputs": [
    {
     "name": "stdout",
     "output_type": "stream",
     "text": [
      "****                   ADMIXTURE Version 1.3.0                  ****\n",
      "****                    Copyright 2008-2015                     ****\n",
      "****           David Alexander, Suyash Shringarpure,            ****\n",
      "****                John  Novembre, Ken Lange                   ****\n",
      "****                                                            ****\n",
      "****                 Please cite our paper!                     ****\n",
      "****   Information at www.genetics.ucla.edu/software/admixture  ****\n",
      "\n",
      "Random seed: 43\n",
      "Point estimation method: Block relaxation algorithm\n",
      "Convergence acceleration algorithm: QuasiNewton, 3 secant conditions\n",
      "Point estimation will terminate when objective function delta < 0.0001\n",
      "Estimation of standard errors disabled; will compute point estimates only.\n",
      "Size of G: 894x159276\n",
      "Performing five EM steps to prime main algorithm\n",
      "1 (EM) \tElapsed: 11.179\tLoglikelihood: -1.61995e+08\t(delta): 5.4647e+07\n",
      "2 (EM) \tElapsed: 11.234\tLoglikelihood: -1.58192e+08\t(delta): 3.80227e+06\n",
      "3 (EM) \tElapsed: 11.044\tLoglikelihood: -1.57098e+08\t(delta): 1.09479e+06\n",
      "4 (EM) \tElapsed: 10.977\tLoglikelihood: -1.56438e+08\t(delta): 659941\n",
      "5 (EM) \tElapsed: 11.082\tLoglikelihood: -1.55968e+08\t(delta): 470049\n",
      "Initial loglikelihood: -1.55968e+08\n",
      "Starting main algorithm\n",
      "1 (QN/Block) \tElapsed: 24.839\tLoglikelihood: -1.51295e+08\t(delta): 4.67293e+06\n",
      "2 (QN/Block) \tElapsed: 24.76\tLoglikelihood: -1.50584e+08\t(delta): 710539\n",
      "3 (QN/Block) \tElapsed: 28.403\tLoglikelihood: -1.50407e+08\t(delta): 176737\n",
      "4 (QN/Block) \tElapsed: 29.665\tLoglikelihood: -1.50345e+08\t(delta): 62211\n",
      "5 (QN/Block) \tElapsed: 28.475\tLoglikelihood: -1.50325e+08\t(delta): 20164.9\n",
      "6 (QN/Block) \tElapsed: 27.965\tLoglikelihood: -1.50318e+08\t(delta): 6490.44\n",
      "7 (QN/Block) \tElapsed: 28.001\tLoglikelihood: -1.50312e+08\t(delta): 6331.34\n",
      "8 (QN/Block) \tElapsed: 28.274\tLoglikelihood: -1.50306e+08\t(delta): 6334.73\n",
      "9 (QN/Block) \tElapsed: 28.188\tLoglikelihood: -1.50299e+08\t(delta): 6723.42\n",
      "10 (QN/Block) \tElapsed: 28.168\tLoglikelihood: -1.50295e+08\t(delta): 3720.7\n",
      "11 (QN/Block) \tElapsed: 28.211\tLoglikelihood: -1.50289e+08\t(delta): 6506.35\n",
      "12 (QN/Block) \tElapsed: 28.491\tLoglikelihood: -1.50285e+08\t(delta): 4018.37\n",
      "13 (QN/Block) \tElapsed: 28.239\tLoglikelihood: -1.50277e+08\t(delta): 7408.6\n",
      "14 (QN/Block) \tElapsed: 29.952\tLoglikelihood: -1.50274e+08\t(delta): 3814.84\n",
      "15 (QN/Block) \tElapsed: 28.172\tLoglikelihood: -1.5027e+08\t(delta): 3635.42\n",
      "16 (QN/Block) \tElapsed: 28.21\tLoglikelihood: -1.50264e+08\t(delta): 5713.25\n",
      "17 (QN/Block) \tElapsed: 28.121\tLoglikelihood: -1.50261e+08\t(delta): 3503.85\n",
      "18 (QN/Block) \tElapsed: 29.772\tLoglikelihood: -1.50258e+08\t(delta): 2316.44\n",
      "19 (QN/Block) \tElapsed: 28.236\tLoglikelihood: -1.50257e+08\t(delta): 1407.25\n",
      "20 (QN/Block) \tElapsed: 28.31\tLoglikelihood: -1.50256e+08\t(delta): 1413.59\n",
      "21 (QN/Block) \tElapsed: 31.388\tLoglikelihood: -1.50252e+08\t(delta): 3879.69\n",
      "22 (QN/Block) \tElapsed: 32.946\tLoglikelihood: -1.50251e+08\t(delta): 693.458\n",
      "23 (QN/Block) \tElapsed: 32.955\tLoglikelihood: -1.50251e+08\t(delta): 405.452\n",
      "24 (QN/Block) \tElapsed: 28.251\tLoglikelihood: -1.5025e+08\t(delta): 428.593\n",
      "25 (QN/Block) \tElapsed: 28.069\tLoglikelihood: -1.5025e+08\t(delta): 262.808\n",
      "26 (QN/Block) \tElapsed: 29.732\tLoglikelihood: -1.5025e+08\t(delta): 218.238\n",
      "27 (QN/Block) \tElapsed: 27.942\tLoglikelihood: -1.5025e+08\t(delta): 196.27\n",
      "28 (QN/Block) \tElapsed: 27.93\tLoglikelihood: -1.50249e+08\t(delta): 76.6739\n",
      "29 (QN/Block) \tElapsed: 27.985\tLoglikelihood: -1.50249e+08\t(delta): 126.844\n",
      "30 (QN/Block) \tElapsed: 28.206\tLoglikelihood: -1.50249e+08\t(delta): 62.3999\n",
      "31 (QN/Block) \tElapsed: 28.25\tLoglikelihood: -1.50249e+08\t(delta): 39.7994\n",
      "32 (QN/Block) \tElapsed: 27.82\tLoglikelihood: -1.50249e+08\t(delta): 233.281\n",
      "33 (QN/Block) \tElapsed: 32.661\tLoglikelihood: -1.50249e+08\t(delta): 24.2221\n",
      "34 (QN/Block) \tElapsed: 32.702\tLoglikelihood: -1.50249e+08\t(delta): 11.2772\n",
      "35 (QN/Block) \tElapsed: 27.924\tLoglikelihood: -1.50249e+08\t(delta): 158.801\n",
      "36 (QN/Block) \tElapsed: 30.054\tLoglikelihood: -1.50249e+08\t(delta): 34.7795\n",
      "37 (QN/Block) \tElapsed: 27.894\tLoglikelihood: -1.50249e+08\t(delta): 9.54493\n",
      "38 (QN/Block) \tElapsed: 28.183\tLoglikelihood: -1.50249e+08\t(delta): 6.01881\n",
      "39 (QN/Block) \tElapsed: 28.025\tLoglikelihood: -1.50249e+08\t(delta): 2.47937\n",
      "40 (QN/Block) \tElapsed: 28.274\tLoglikelihood: -1.50249e+08\t(delta): 1.71324\n",
      "41 (QN/Block) \tElapsed: 28.058\tLoglikelihood: -1.50249e+08\t(delta): 1.54338\n",
      "42 (QN/Block) \tElapsed: 28.431\tLoglikelihood: -1.50249e+08\t(delta): 3.24084\n",
      "43 (QN/Block) \tElapsed: 27.942\tLoglikelihood: -1.50249e+08\t(delta): 2.82234\n",
      "44 (QN/Block) \tElapsed: 28.333\tLoglikelihood: -1.50249e+08\t(delta): 0.571188\n",
      "45 (QN/Block) \tElapsed: 28.049\tLoglikelihood: -1.50249e+08\t(delta): 0.0874577\n",
      "46 (QN/Block) \tElapsed: 28.26\tLoglikelihood: -1.50249e+08\t(delta): 0.0367061\n",
      "47 (QN/Block) \tElapsed: 28.08\tLoglikelihood: -1.50249e+08\t(delta): 0.0170934\n",
      "48 (QN/Block) \tElapsed: 28.286\tLoglikelihood: -1.50249e+08\t(delta): 0.0229876\n",
      "49 (QN/Block) \tElapsed: 28.055\tLoglikelihood: -1.50249e+08\t(delta): 0.00860208\n",
      "50 (QN/Block) \tElapsed: 28.254\tLoglikelihood: -1.50249e+08\t(delta): 0.00357971\n",
      "51 (QN/Block) \tElapsed: 27.996\tLoglikelihood: -1.50249e+08\t(delta): 0.00782463\n",
      "52 (QN/Block) \tElapsed: 28.209\tLoglikelihood: -1.50249e+08\t(delta): 0.00363728\n",
      "53 (QN/Block) \tElapsed: 28.116\tLoglikelihood: -1.50249e+08\t(delta): 0.000523537\n",
      "54 (QN/Block) \tElapsed: 28.042\tLoglikelihood: -1.50249e+08\t(delta): 0.000318617\n",
      "55 (QN/Block) \tElapsed: 28.199\tLoglikelihood: -1.50249e+08\t(delta): 0.000364989\n",
      "56 (QN/Block) \tElapsed: 28.082\tLoglikelihood: -1.50249e+08\t(delta): 0.000562996\n",
      "57 (QN/Block) \tElapsed: 28.27\tLoglikelihood: -1.50249e+08\t(delta): 0.000465453\n",
      "58 (QN/Block) \tElapsed: 28.251\tLoglikelihood: -1.50249e+08\t(delta): 5.09024e-05\n",
      "Summary: \n",
      "Converged in 58 iterations (1816 sec)\n",
      "Loglikelihood: -150248756.668226\n",
      "Fst divergences between estimated populations: \n",
      "\tPop0\tPop1\tPop2\tPop3\t\n",
      "Pop0\t\n",
      "Pop1\t0.077\t\n",
      "Pop2\t0.101\t0.062\t\n",
      "Pop3\t0.030\t0.078\t0.103\t\n",
      "Pop4\t0.110\t0.062\t0.068\t0.106\t\n",
      "Writing output files.\n"
     ]
    },
    {
     "data": {
      "text/plain": [
       "CompletedProcess(args='~/common/admixture/dist/admixture_linux-1.3.0/admixture data/biengi_prunned.bed 5', returncode=0)"
      ]
     },
     "execution_count": 25,
     "metadata": {},
     "output_type": "execute_result"
    }
   ],
   "source": [
    "admixure_cmd = f'{ADMIXURE_PATH} {DATA_PATH}/{PREFIX}_prunned.bed {K}'\n",
    "subprocess.run(admixure_cmd, shell=True)"
   ]
  },
  {
   "cell_type": "markdown",
   "id": "55c8740d-961d-4c3a-b03c-a9dd49b5775a",
   "metadata": {},
   "source": [
    "### Read results"
   ]
  },
  {
   "cell_type": "code",
   "execution_count": 29,
   "id": "ada213ae-5698-416c-a4e1-599b4978585a",
   "metadata": {},
   "outputs": [
    {
     "data": {
      "text/html": [
       "<div>\n",
       "<style scoped>\n",
       "    .dataframe tbody tr th:only-of-type {\n",
       "        vertical-align: middle;\n",
       "    }\n",
       "\n",
       "    .dataframe tbody tr th {\n",
       "        vertical-align: top;\n",
       "    }\n",
       "\n",
       "    .dataframe thead th {\n",
       "        text-align: right;\n",
       "    }\n",
       "</style>\n",
       "<table border=\"1\" class=\"dataframe\">\n",
       "  <thead>\n",
       "    <tr style=\"text-align: right;\">\n",
       "      <th></th>\n",
       "      <th>1</th>\n",
       "      <th>2</th>\n",
       "      <th>3</th>\n",
       "      <th>4</th>\n",
       "      <th>5</th>\n",
       "    </tr>\n",
       "  </thead>\n",
       "  <tbody>\n",
       "    <tr>\n",
       "      <th>714</th>\n",
       "      <td>0.00001</td>\n",
       "      <td>0.00001</td>\n",
       "      <td>0.00001</td>\n",
       "      <td>0.00001</td>\n",
       "      <td>0.99996</td>\n",
       "    </tr>\n",
       "    <tr>\n",
       "      <th>715</th>\n",
       "      <td>0.00001</td>\n",
       "      <td>0.00001</td>\n",
       "      <td>0.00001</td>\n",
       "      <td>0.00001</td>\n",
       "      <td>0.99996</td>\n",
       "    </tr>\n",
       "    <tr>\n",
       "      <th>716</th>\n",
       "      <td>0.00001</td>\n",
       "      <td>0.00001</td>\n",
       "      <td>0.00001</td>\n",
       "      <td>0.00001</td>\n",
       "      <td>0.99996</td>\n",
       "    </tr>\n",
       "    <tr>\n",
       "      <th>717</th>\n",
       "      <td>0.00001</td>\n",
       "      <td>0.00001</td>\n",
       "      <td>0.00001</td>\n",
       "      <td>0.00001</td>\n",
       "      <td>0.99996</td>\n",
       "    </tr>\n",
       "    <tr>\n",
       "      <th>718</th>\n",
       "      <td>0.00001</td>\n",
       "      <td>0.00001</td>\n",
       "      <td>0.00001</td>\n",
       "      <td>0.00001</td>\n",
       "      <td>0.99996</td>\n",
       "    </tr>\n",
       "  </tbody>\n",
       "</table>\n",
       "</div>"
      ],
      "text/plain": [
       "           1        2        3        4        5\n",
       "714  0.00001  0.00001  0.00001  0.00001  0.99996\n",
       "715  0.00001  0.00001  0.00001  0.00001  0.99996\n",
       "716  0.00001  0.00001  0.00001  0.00001  0.99996\n",
       "717  0.00001  0.00001  0.00001  0.00001  0.99996\n",
       "718  0.00001  0.00001  0.00001  0.00001  0.99996"
      ]
     },
     "execution_count": 29,
     "metadata": {},
     "output_type": "execute_result"
    }
   ],
   "source": [
    "data_admixure = pd.read_csv(f'{PREFIX}_prunned.{K}.Q', names=[1, 2, 3, 4, 5], sep=' ')\n",
    "data_admixure = data_admixure.sort_values([1, 2, 3, 4, 5])\n",
    "data_admixure.head()"
   ]
  },
  {
   "cell_type": "markdown",
   "id": "2dc0fb6a-015e-47b4-8086-0b08f4d4a0db",
   "metadata": {},
   "source": [
    "## Admixure plot"
   ]
  },
  {
   "cell_type": "code",
   "execution_count": 32,
   "id": "0ce6372a-0d94-46d1-983f-596d06e70dd6",
   "metadata": {},
   "outputs": [],
   "source": [
    "def plot_ancestry(df: pd.DataFrame, df_pop: pd.DataFrame, target_populations: list, xlabel=True):\n",
    "    \"\"\"\n",
    "    Arguments: \n",
    "      df - pd.DataFrame object with proportions of ancestries, [n_individuals, n_ancetries]\n",
    "      df_pop - pd.DataFrame object with ethnicity assignment, [n_individuals, n_populations]\n",
    "      target_populations: list of target populations from df_pop to plot proportions of ancestries\n",
    "    \"\"\"\n",
    "    populations = df_pop.Population.values\n",
    "    df_pop = df_pop[np.isin(populations, target_populations)]\n",
    "    df = df.loc[df_pop.index]\n",
    "    df = df.sort_values([1, 2, 3, 4, 5])\n",
    "\n",
    "    plt.figure(figsize=(20, 4))\n",
    "\n",
    "    bottom = np.zeros(df.shape[0])\n",
    "    colors = sns.color_palette(\"Set2\", n_colors=df.shape[1])\n",
    "    for h in range(df.shape[1]):\n",
    "        plt.bar(x = np.arange(df.shape[0]), height = df[h+1].values, bottom=bottom, \n",
    "                width=1, edgecolor='none', color=colors[h], label=f'Ancestry {h+1}')\n",
    "        bottom += df[h+1].values\n",
    "    \n",
    "    # step = 5\n",
    "    if xlabel:\n",
    "        ax = plt.gca()\n",
    "        ax.set_xticks(np.arange(0, len(df)))\n",
    "        ax.set_xticklabels(df.index, rotation=90)  \n",
    "    \n",
    "        plt.xlim(0, df.shape[0])\n",
    "        plt.ylim(0, 1)\n",
    "        \n",
    "        plt.legend(bbox_to_anchor=(0.5, 1.3), loc='upper center', ncol=5)\n",
    "        plt.xlabel('Individual')\n",
    "        plt.ylabel('Proportion')\n",
    "        plt.title(\", \".join(target_populations))\n",
    "        \n",
    "    plt.grid(False)"
   ]
  },
  {
   "cell_type": "code",
   "execution_count": 33,
   "id": "dd8be05d-fdef-45d0-a2ab-c66083d8f83c",
   "metadata": {},
   "outputs": [
    {
     "data": {
      "image/png": "[encoded data removed]",
      "text/plain": [
       "<Figure size 2000x400 with 1 Axes>"
      ]
     },
     "metadata": {},
     "output_type": "display_data"
    }
   ],
   "source": [
    "plot_ancestry(df=data_admixure, df_pop=data_pop, target_populations=data_pop.Population.unique(), xlabel=False)"
   ]
  },
  {
   "cell_type": "code",
   "execution_count": 34,
   "id": "4afc215c-cae4-4039-a879-03a360d1512b",
   "metadata": {},
   "outputs": [
    {
     "data": {
      "image/png": "[encoded data removed]",
      "text/plain": [
       "<Figure size 2000x400 with 1 Axes>"
      ]
     },
     "metadata": {},
     "output_type": "display_data"
    }
   ],
   "source": [
    "plot_ancestry(df=data_admixure, df_pop=data_pop, target_populations=['Kazakh', 'Tatar'])"
   ]
  },
  {
   "cell_type": "code",
   "execution_count": 35,
   "id": "dbf74e86-ebc7-49d3-aa2e-e94d3b4ff3af",
   "metadata": {},
   "outputs": [
    {
     "data": {
      "image/png": "[encoded data removed]",
      "text/plain": [
       "<Figure size 2500x500 with 1 Axes>"
      ]
     },
     "metadata": {},
     "output_type": "display_data"
    }
   ],
   "source": [
    "fig, ax = plt.subplots(figsize=(25, 5))\n",
    "\n",
    "# Уникальные популяции\n",
    "populations_unique = data_pop.Population.unique()\n",
    "colors = sns.color_palette(\"Set2\", n_colors=data_admixure.shape[1])\n",
    "colors_mapping = {idx + 1: color for idx, color in enumerate(colors)}\n",
    "\n",
    "# Смещение по оси X для разных популяций\n",
    "x_offset = 0\n",
    "tick_positions = []\n",
    "tick_labels = []\n",
    "\n",
    "for target_population in populations_unique:\n",
    "    # Фильтруем данные для конкретной популяции\n",
    "    data_pop_target = data_pop[data_pop.Population == target_population]\n",
    "    data_target = data_admixure.loc[data_pop_target.index]\n",
    "    \n",
    "    # Сортируем\n",
    "    data_target = data_target.sort_values(\n",
    "        list(data_target.sum(axis=0).sort_values(ascending=False).index)\n",
    "    )\n",
    "    data_target = data_target.loc[:, list(data_target.sum(axis=0).sort_values(ascending=False).index)]\n",
    "    \n",
    "    # Строим столбчатую диаграмму\n",
    "    bottom = np.zeros(data_target.shape[0])\n",
    "    for h in range(data_target.shape[1]):\n",
    "        ancestry = data_target.columns[h]\n",
    "        ax.bar(\n",
    "            x=np.arange(data_target.shape[0]) + x_offset, \n",
    "            height=data_target.iloc[:, h].values, \n",
    "            bottom=bottom, \n",
    "            width=1, \n",
    "            edgecolor=\"none\", \n",
    "            color=colors_mapping[ancestry], \n",
    "            label=f\"Ancestry {ancestry}\" if target_population == populations_unique[0] else None\n",
    "        )\n",
    "        bottom += data_target.iloc[:, h].values\n",
    "\n",
    "        ax.axvline(x=x_offset - 0.5, color=\"black\", linestyle=\"--\", linewidth=0.8, alpha=0.7)\n",
    "\n",
    "    # Добавляем метки оси X\n",
    "    tick_positions.append(x_offset + data_target.shape[0] // 2)\n",
    "    tick_labels.append(target_population)\n",
    "    \n",
    "    # Сдвигаем x_offset\n",
    "    x_offset += data_target.shape[0]\n",
    "\n",
    "# Настройка оси X\n",
    "ax.set_xticks(tick_positions)\n",
    "ax.set_xticklabels(tick_labels, fontsize=12, rotation=45)\n",
    "ax.set_xlim(-0.5, x_offset - 0.5)\n",
    "\n",
    "# Оформление графика\n",
    "ax.set_title(\"Admixture plot\", fontsize=20, weight=\"bold\")\n",
    "ax.set_ylabel(\"Proportion\", fontsize=14)\n",
    "ax.set_xlabel(\"\")\n",
    "ax.legend(bbox_to_anchor=(0.5, -0.5), loc=\"upper center\", ncol=5)\n",
    "ax.grid(False)\n",
    "\n",
    "plt.tight_layout()\n",
    "plt.show()"
   ]
  },
  {
   "cell_type": "markdown",
   "id": "52c5881f-1c86-49d2-b3e0-fd10daee88c3",
   "metadata": {},
   "source": [
    "## PCA"
   ]
  },
  {
   "cell_type": "code",
   "execution_count": 36,
   "id": "0b1cb084-1b7b-4be7-846a-36fba95cc29e",
   "metadata": {},
   "outputs": [
    {
     "data": {
      "text/plain": [
       "(894, 3)"
      ]
     },
     "execution_count": 36,
     "metadata": {},
     "output_type": "execute_result"
    }
   ],
   "source": [
    "pca = PCA(n_components=3)\n",
    "data_admixure_transformed = pca.fit_transform(data_admixure)\n",
    "data_admixure_transformed.shape"
   ]
  },
  {
   "cell_type": "code",
   "execution_count": 37,
   "id": "8e599654-db58-4c3a-b8ba-72d9073f7a9a",
   "metadata": {},
   "outputs": [
    {
     "data": {
      "text/plain": [
       "0.9188770774143158"
      ]
     },
     "execution_count": 37,
     "metadata": {},
     "output_type": "execute_result"
    }
   ],
   "source": [
    "pca.explained_variance_ratio_.sum()"
   ]
  },
  {
   "cell_type": "code",
   "execution_count": 38,
   "id": "1c21a879-a4e7-4b1d-a02e-01cb40f0b7e2",
   "metadata": {},
   "outputs": [
    {
     "data": {
      "text/html": [
       "<div>\n",
       "<style scoped>\n",
       "    .dataframe tbody tr th:only-of-type {\n",
       "        vertical-align: middle;\n",
       "    }\n",
       "\n",
       "    .dataframe tbody tr th {\n",
       "        vertical-align: top;\n",
       "    }\n",
       "\n",
       "    .dataframe thead th {\n",
       "        text-align: right;\n",
       "    }\n",
       "</style>\n",
       "<table border=\"1\" class=\"dataframe\">\n",
       "  <thead>\n",
       "    <tr style=\"text-align: right;\">\n",
       "      <th></th>\n",
       "      <th>PC1</th>\n",
       "      <th>PC2</th>\n",
       "      <th>PC3</th>\n",
       "      <th>Population</th>\n",
       "    </tr>\n",
       "  </thead>\n",
       "  <tbody>\n",
       "    <tr>\n",
       "      <th>65</th>\n",
       "      <td>0.632757</td>\n",
       "      <td>-0.039691</td>\n",
       "      <td>0.028314</td>\n",
       "      <td>Tuva</td>\n",
       "    </tr>\n",
       "    <tr>\n",
       "      <th>843</th>\n",
       "      <td>-0.365163</td>\n",
       "      <td>-0.344303</td>\n",
       "      <td>-0.158841</td>\n",
       "      <td>Belarus</td>\n",
       "    </tr>\n",
       "    <tr>\n",
       "      <th>885</th>\n",
       "      <td>-0.310196</td>\n",
       "      <td>-0.506502</td>\n",
       "      <td>-0.096419</td>\n",
       "      <td>Karel</td>\n",
       "    </tr>\n",
       "    <tr>\n",
       "      <th>348</th>\n",
       "      <td>0.198255</td>\n",
       "      <td>0.181592</td>\n",
       "      <td>-0.061197</td>\n",
       "      <td>Uzbek</td>\n",
       "    </tr>\n",
       "    <tr>\n",
       "      <th>546</th>\n",
       "      <td>-0.300193</td>\n",
       "      <td>0.189103</td>\n",
       "      <td>-0.059309</td>\n",
       "      <td>Abkhaz</td>\n",
       "    </tr>\n",
       "  </tbody>\n",
       "</table>\n",
       "</div>"
      ],
      "text/plain": [
       "          PC1       PC2       PC3 Population\n",
       "65   0.632757 -0.039691  0.028314       Tuva\n",
       "843 -0.365163 -0.344303 -0.158841    Belarus\n",
       "885 -0.310196 -0.506502 -0.096419      Karel\n",
       "348  0.198255  0.181592 -0.061197      Uzbek\n",
       "546 -0.300193  0.189103 -0.059309     Abkhaz"
      ]
     },
     "execution_count": 38,
     "metadata": {},
     "output_type": "execute_result"
    }
   ],
   "source": [
    "data_admixure_pca = pd.DataFrame({'PC1': data_admixure_transformed[:, 0],\n",
    "                         'PC2': data_admixure_transformed[:, 1],\n",
    "                         'PC3': data_admixure_transformed[:, 2],\n",
    "                         'Population': data_pop.loc[data_admixure.index, 'Population'].values\n",
    "                        })\n",
    "\n",
    "data_admixure_pca.sample(5)"
   ]
  },
  {
   "cell_type": "code",
   "execution_count": 40,
   "id": "81cbc349-5a27-4ec1-a6e3-82afad93a63e",
   "metadata": {},
   "outputs": [
    {
     "data": {
      "application/vnd.plotly.v1+json": {
       "config": {
        "plotlyServerURL": "https://plot.ly"
       },
       "data": [
        {
         "hovertemplate": "Population=Chinese<br>Component 1=%{x}<br>Component 2=%{y}<extra></extra>",
         "legendgroup": "Chinese",
         "marker": {
          "color": "#636efa",
          "line": {
           "color": "black",
           "width": 1
          },
          "opacity": 0.8,
          "size": 8,
          "symbol": "circle"
         },
         "mode": "markers",
         "name": "Chinese",
         "orientation": "v",
         "showlegend": true,
         "type": "scatter",
         "x": [
          0.8503670100409215,
          0.8503670100409215,
          0.8503670100409215,
          0.8503670100409215,
          0.8503670100409215,
          0.8503670100409215,
          0.8503670100409215,
          0.8503670100409215,
          0.8503670100409215,
          0.8503670100409215,
          0.8503670100409215,
          0.8455873645487,
          0.8277764375875132
         ],
         "xaxis": "x",
         "y": [
          -0.04130213257420924,
          -0.04130213257420924,
          -0.04130213257420924,
          -0.04130213257420924,
          -0.04130213257420924,
          -0.04130213257420924,
          -0.04130213257420924,
          -0.04130213257420924,
          -0.04130213257420924,
          -0.04130213257420924,
          -0.04130213257420924,
          -0.037821491969490084,
          -0.02651065451245903
         ],
         "yaxis": "y"
        },
        {
         "hovertemplate": "Population=Megrel<br>Component 1=%{x}<br>Component 2=%{y}<extra></extra>",
         "legendgroup": "Megrel",
         "marker": {
          "color": "#EF553B",
          "line": {
           "color": "black",
           "width": 1
          },
          "opacity": 0.8,
          "size": 8,
          "symbol": "diamond"
         },
         "mode": "markers",
         "name": "Megrel",
         "orientation": "v",
         "showlegend": true,
         "type": "scatter",
         "x": [
          -0.26527397775160294,
          -0.2558164599979052,
          -0.2631830387721747,
          -0.26083684163687965,
          -0.25581795575449817,
          -0.25720243058581244,
          -0.24664987646495196,
          -0.259822838970804,
          -0.2698152152137357,
          -0.25786875190617753,
          -0.2522025800963509,
          -0.2690955428906029,
          -0.26729088331546896,
          -0.25596257314531534,
          -0.2687376657014682,
          -0.24878611283572882,
          -0.2663623348732024,
          -0.27192370081771877,
          -0.2638796795251981,
          -0.2672071460005401,
          -0.2705082040580408,
          -0.2673655905630884,
          -0.2622110296135953,
          -0.2505784341382991,
          -0.27901125605525895,
          -0.254356715706437,
          -0.2783525824527257,
          -0.2779495123183449,
          -0.273159258795782,
          -0.2714502194556286,
          -0.26838465590459937,
          -0.28265709272752326,
          -0.2864727400322943,
          -0.19293994774749862,
          -0.20023686747261032,
          -0.2107649364692195
         ],
         "xaxis": "x",
         "y": [
          0.7569331554420083,
          0.749973390978009,
          0.7594376058181838,
          0.7554019543597694,
          0.7410771389579653,
          0.752402459391253,
          0.7405933342100691,
          0.7276923520131275,
          0.7566519658116209,
          0.7401464515048216,
          0.7425332989436929,
          0.7513823937110548,
          0.7419559313050209,
          0.7347161578204235,
          0.7290207901716187,
          0.7167676636671496,
          0.7252192226039609,
          0.7335858866757214,
          0.7295267751543025,
          0.7120159088119054,
          0.731117272693312,
          0.7170334884070628,
          0.7240392112855331,
          0.6874131624412206,
          0.7350852646068492,
          0.7074987514853643,
          0.7146135517778915,
          0.7172176092826708,
          0.7026047225486578,
          0.6924098207358887,
          0.6199673141619609,
          0.600406286484861,
          0.5808896909194595,
          0.4152479986802019,
          0.4148602738763442,
          0.30079821286960856
         ],
         "yaxis": "y"
        },
        {
         "hovertemplate": "Population=Yakut<br>Component 1=%{x}<br>Component 2=%{y}<extra></extra>",
         "legendgroup": "Yakut",
         "marker": {
          "color": "#00cc96",
          "line": {
           "color": "black",
           "width": 1
          },
          "opacity": 0.8,
          "size": 8,
          "symbol": "square"
         },
         "mode": "markers",
         "name": "Yakut",
         "orientation": "v",
         "showlegend": true,
         "type": "scatter",
         "x": [
          0.7924355998862254,
          0.7763305323291765,
          0.761692184668795,
          0.7615049866581955,
          0.7612808858139655,
          0.7569719767671226,
          0.7536453540554677,
          0.7535983868126652,
          0.7532595517038743,
          0.7495243139798358,
          0.748749354473591,
          0.7480119687615887,
          0.7475006967756506,
          0.7392854550488452,
          0.7794662899680074,
          0.7626178854009891,
          0.741471394354388,
          0.7292702810807556,
          0.7243073551560102,
          0.7348104193710296,
          0.7244807370458166,
          0.7382588572155071,
          0.7299923772373615,
          0.7324910687921584,
          0.6863119523562562,
          0.7407891449862751,
          0.7258761146898123,
          0.749406677406963,
          0.7413985581476061,
          0.7091310527961079,
          0.7109612911018308,
          0.7312251453746024,
          0.6387217040469262,
          0.6434212951768241,
          0.7039838739942548,
          0.6510253295926407,
          0.6528596354245981,
          0.6513758043529911,
          0.6179838218746254,
          0.6696162916011723,
          0.5984649198889282
         ],
         "xaxis": "x",
         "y": [
          -0.04090238403270782,
          -0.04079125300293449,
          -0.04069024289267475,
          -0.04068895115592073,
          -0.040687404775720575,
          -0.04065767168097391,
          -0.04063471673177522,
          -0.04063439264011651,
          -0.040632054550292916,
          -0.040606280003663404,
          -0.04060093249129461,
          -0.04059584425225279,
          -0.04059231628305363,
          -0.04053562802206357,
          -0.04081366433595767,
          -0.04160250238116337,
          -0.043127298105522856,
          -0.043444057271452625,
          -0.04346339827898214,
          -0.045118945454859886,
          -0.042238129358813645,
          -0.041235699320593955,
          -0.04382045730153602,
          -0.043125413064389356,
          -0.03859005749330015,
          -0.042033505167768624,
          -0.04551646990625781,
          -0.04536238063154003,
          -0.04658514740093397,
          -0.04733992653519347,
          -0.05567023453395938,
          -0.05450697861967229,
          -0.026368548048946904,
          -0.05497010351915773,
          -0.062475856814890075,
          -0.05054056341942943,
          -0.0733038678693751,
          -0.05454757334879246,
          -0.032554365179178146,
          -0.08354887775609085,
          -0.09980060256344872
         ],
         "yaxis": "y"
        },
        {
         "hovertemplate": "Population=Ket<br>Component 1=%{x}<br>Component 2=%{y}<extra></extra>",
         "legendgroup": "Ket",
         "marker": {
          "color": "#ab63fa",
          "line": {
           "color": "black",
           "width": 1
          },
          "opacity": 0.8,
          "size": 8,
          "symbol": "x"
         },
         "mode": "markers",
         "name": "Ket",
         "orientation": "v",
         "showlegend": true,
         "type": "scatter",
         "x": [
          0.20589592351437438,
          0.17943994660421975,
          0.17943994660421975,
          0.17943994660421975,
          0.17943994660421975,
          0.17943994660421975,
          0.17943994660421975,
          0.17943994660421975,
          0.17943994660421975,
          0.17943994660421975,
          0.17943994660421975,
          0.3327369146341773,
          0.21463001993678138,
          0.338756536787277,
          0.17943610415174588,
          0.2434899896614717,
          0.321218627843576,
          0.23853973093171704,
          0.16580593784664255,
          0.19241136375617152,
          0.16277471850435019,
          0.1893771444868934,
          0.15139206724321608,
          0.13894035106765557,
          0.17427786949174084,
          0.12360031172538637,
          -0.057450282851004925,
          -0.05698416345214674,
          0.028936057389763042,
          -0.06270801741989601,
          -0.10892832017509091
         ],
         "xaxis": "x",
         "y": [
          -0.036855039430940706,
          -0.03667248322946746,
          -0.03667248322946746,
          -0.03667248322946746,
          -0.03667248322946746,
          -0.03667248322946746,
          -0.03667248322946746,
          -0.03667248322946746,
          -0.03667248322946746,
          -0.03667248322946746,
          -0.03667248322946746,
          -0.045004408567184795,
          -0.045406776569706125,
          -0.05237455329739334,
          -0.03667231299135248,
          -0.055636825306323155,
          -0.07074405547789081,
          -0.05630708696608386,
          -0.049283050454286874,
          -0.06016504825581557,
          -0.0520867302794085,
          -0.0792088768197686,
          -0.0626149389286389,
          -0.06113444134786806,
          -0.0717087183195152,
          -0.0548169699040661,
          -0.1305500135822373,
          -0.18689971404866063,
          -0.2639480991817112,
          -0.27033184092594253,
          -0.2772376416417013
         ],
         "yaxis": "y"
        },
        {
         "hovertemplate": "Population=Abkhaz<br>Component 1=%{x}<br>Component 2=%{y}<extra></extra>",
         "legendgroup": "Abkhaz",
         "marker": {
          "color": "#FFA15A",
          "line": {
           "color": "black",
           "width": 1
          },
          "opacity": 0.8,
          "size": 8,
          "symbol": "cross"
         },
         "mode": "markers",
         "name": "Abkhaz",
         "orientation": "v",
         "showlegend": true,
         "type": "scatter",
         "x": [
          -0.23333481499609943,
          -0.24224237171382762,
          -0.26020683599556776,
          -0.2523409475834942,
          -0.2557861572252294,
          -0.2326717624638145,
          -0.250644536470335,
          -0.22029573785901074,
          -0.2500652976852108,
          -0.22419236275605653,
          -0.2504143102216026,
          -0.2614488455175796,
          -0.2472658510088328,
          -0.2591563306924991,
          -0.2616852560343638,
          -0.24239508660889875,
          -0.26418722875981215,
          -0.2522889669046349,
          -0.25764530433933164,
          -0.25913382088507475,
          -0.2410896075736062,
          -0.23916863404642147,
          -0.26598449756812786,
          -0.26387658612087356,
          -0.26741274197216897,
          -0.30019268214384454
         ],
         "xaxis": "x",
         "y": [
          0.7306437952685433,
          0.7287734322799787,
          0.7370575773345435,
          0.730757254884067,
          0.7266039928595641,
          0.7156809041135378,
          0.7355371072607638,
          0.7028001300524275,
          0.7157220817201423,
          0.6881483277829721,
          0.7193979246189403,
          0.7154904092130114,
          0.6913898736349,
          0.7092189754097113,
          0.7261487869387789,
          0.6814527886478167,
          0.6917861882710818,
          0.688774657966332,
          0.6636625207884526,
          0.6845092633966604,
          0.6688882021530009,
          0.6720477966282743,
          0.6536349851971118,
          0.6426578274288314,
          0.48602678344696815,
          0.18910335328886332
         ],
         "yaxis": "y"
        },
        {
         "hovertemplate": "Population=Buryat<br>Component 1=%{x}<br>Component 2=%{y}<extra></extra>",
         "legendgroup": "Buryat",
         "marker": {
          "color": "#19d3f3",
          "line": {
           "color": "black",
           "width": 1
          },
          "opacity": 0.8,
          "size": 8,
          "symbol": "circle"
         },
         "mode": "markers",
         "name": "Buryat",
         "orientation": "v",
         "showlegend": true,
         "type": "scatter",
         "x": [
          0.7363858458742074,
          0.7214496145273028,
          0.7290553697848365,
          0.7610652572956282,
          0.7337959476070921,
          0.7286906851797554,
          0.7438705625142619,
          0.7058254237454429,
          0.705473661250819,
          0.6884268195230312,
          0.7143889321276251,
          0.7133333047037078,
          0.7272718226366184,
          0.7130989650936324,
          0.7183558171060564,
          0.7081446839647589,
          0.737520271816603,
          0.7275355934166061,
          0.7440579283502664,
          0.7057068315512547,
          0.6707044308294894,
          0.7121440215053558,
          0.714965895590099,
          0.693800789161829,
          0.6967169408035008,
          0.7299940867256192,
          0.7087423790817939,
          0.7197218740061495,
          0.7262857538031593,
          0.7093333023529491,
          0.7441006417034322,
          0.6937160396721225,
          0.7174310815308664,
          0.6999230555586478,
          0.7080856107663125,
          0.699404784845191,
          0.5344489284903546,
          0.5666204041213867,
          0.632833017582948,
          0.4608751145553133,
          0.46590800292197054,
          0.3544636720496094,
          0.16417771169531745,
          0.1672497277163839
         ],
         "xaxis": "x",
         "y": [
          -0.01956153223009924,
          -0.016810265137104187,
          -0.017944177797303073,
          -0.010801204467463223,
          -0.01672296299122758,
          -0.028706615286127807,
          -0.03577067240738959,
          -0.030847835078205068,
          -0.033177628987496675,
          -0.006439837937120007,
          -0.003245559388701535,
          -0.04377801614821436,
          -0.03350620608882932,
          -0.015753458739135567,
          -0.03145062155139166,
          -0.04733189192414995,
          -0.04272109989888742,
          -0.0537971799901203,
          -0.03263897430246018,
          -0.031642650369616235,
          -0.04241167015815312,
          -0.031477711040421304,
          -0.055660794226404416,
          -0.043091178501649875,
          -0.06692199018991182,
          -0.0595587091431088,
          -0.050688140809310604,
          -0.06385596968633407,
          -0.06658302675843164,
          -0.05173609446607385,
          -0.04994097155776455,
          -0.04617460666795282,
          -0.07481451278762047,
          -0.07707469567376377,
          -0.07067423911960055,
          -0.08126306127511754,
          0.04199328981474329,
          -0.0346601784641401,
          -0.07586747604129973,
          -0.09712606607026436,
          -0.09254589414537645,
          -0.13674119509096158,
          -0.18994385319902968,
          -0.20883406432115983
         ],
         "yaxis": "y"
        },
        {
         "hovertemplate": "Population=Tatar<br>Component 1=%{x}<br>Component 2=%{y}<extra></extra>",
         "legendgroup": "Tatar",
         "marker": {
          "color": "#FF6692",
          "line": {
           "color": "black",
           "width": 1
          },
          "opacity": 0.8,
          "size": 8,
          "symbol": "diamond"
         },
         "mode": "markers",
         "name": "Tatar",
         "orientation": "v",
         "showlegend": true,
         "type": "scatter",
         "x": [
          -0.26260470381699635,
          -0.19520878466934882,
          -0.10814754648513453,
          -0.1420768499452174,
          -0.123822540514959,
          -0.1420037946194448,
          -0.12508301995083454,
          -0.17808220348517662,
          -0.18252514829022254,
          -0.14567791503885946,
          -0.16743753708913145,
          -0.13919341608389876,
          -0.12128988752710923,
          -0.1783846874096755,
          -0.14919284409473357,
          -0.14002305921387248,
          -0.10545982085386785,
          -0.16022569795970826,
          -0.15976775796152515,
          -0.15320999889702577,
          -0.14303474843665254,
          -0.17894531530549035,
          -0.1348876888090402,
          -0.13648370786345787,
          -0.18875224797075224,
          -0.17559993721388645,
          -0.18009950481647202,
          -0.16165336789130064,
          -0.1877383728852295,
          -0.20394104238225202,
          -0.16513299541985016,
          -0.23571616915132193,
          -0.20363738259894498,
          -0.2660845281108349
         ],
         "xaxis": "x",
         "y": [
          0.738481437993728,
          0.0960508272266441,
          -0.15859280541007081,
          -0.09955903490747317,
          -0.15629865967984874,
          -0.10061573377520822,
          -0.14543950837174724,
          -0.146289860165664,
          -0.1303322029316651,
          -0.18031716302544182,
          -0.1690660630305196,
          -0.19169373441795237,
          -0.20987320171093662,
          -0.15178170366833021,
          -0.17093577680076413,
          -0.18688444539463925,
          -0.1984459350996511,
          -0.17027604510217373,
          -0.18163381598987538,
          -0.20823540765635865,
          -0.21668477157569443,
          -0.1740237983900081,
          -0.21095858061231723,
          -0.21648889951555708,
          -0.1762858009283279,
          -0.20829608399902708,
          -0.1813320258459956,
          -0.20053232835992266,
          -0.21603693597823598,
          -0.2006648451221752,
          -0.2668292401072104,
          -0.2083909338076682,
          -0.24725655479664713,
          -0.2557777832163988
         ],
         "yaxis": "y"
        },
        {
         "hovertemplate": "Population=Tuva<br>Component 1=%{x}<br>Component 2=%{y}<extra></extra>",
         "legendgroup": "Tuva",
         "marker": {
          "color": "#B6E880",
          "line": {
           "color": "black",
           "width": 1
          },
          "opacity": 0.8,
          "size": 8,
          "symbol": "square"
         },
         "mode": "markers",
         "name": "Tuva",
         "orientation": "v",
         "showlegend": true,
         "type": "scatter",
         "x": [
          0.6476933328161625,
          0.6133944333058883,
          0.6008480154381957,
          0.624591021014544,
          0.6452596687981422,
          0.6327570119870303,
          0.5941753641503187,
          0.6368096869155089,
          0.6648445832319947,
          0.6283540096786833,
          0.6128553136276655,
          0.6022758150564074,
          0.6164524125513182,
          0.593843422913493,
          0.6053035063919046,
          0.6308544295120306,
          0.6208764968668525,
          0.6111827243136096,
          0.5984569124103216,
          0.6235834867283783,
          0.6321343520494247,
          0.6045426031602081,
          0.6127602440527358,
          0.6181832993206637,
          0.6077897445609819,
          0.595019425933899,
          0.6012749621204165,
          0.6185330534543227,
          0.6274824161453396,
          0.5805620505148528,
          0.6096602286664106,
          0.5517899305143648,
          0.6070150309941975,
          0.6311003977489604,
          0.5698463436016017,
          0.5802699990824931,
          0.5501484339686322,
          0.5731644602095662,
          0.5000918480935144,
          0.5561458001309543,
          0.5632719742240528,
          0.5574158772658805,
          0.548731252062906,
          0.17789820620669655
         ],
         "xaxis": "x",
         "y": [
          -0.02085253792030245,
          -0.0022758595128127383,
          -0.015162632668682365,
          -0.012533443823346351,
          -0.021077841372212767,
          -0.0396910906325152,
          -0.01038358697610827,
          -0.03034556928292346,
          -0.019016566730933854,
          -0.029085337418136344,
          -0.04980149268765308,
          -0.014646649374931275,
          -0.02127414569047734,
          -0.018693630058884952,
          -0.02258086844676896,
          -0.022619874943869123,
          -0.0228006103966489,
          -0.015774948751982678,
          -0.01554100381798618,
          -0.02078556929992913,
          -0.0414799090252251,
          -0.040962568294642024,
          -0.03497220548841543,
          -0.04693083838327883,
          -0.05590668448395735,
          -0.045992370927814705,
          -0.03524356668722142,
          -0.04411820821784041,
          -0.06613748622432075,
          -0.03435380596703613,
          -0.05252522422126033,
          -0.05696713559399406,
          -0.0641484316163339,
          -0.0536155504819763,
          -0.04302675792083824,
          -0.04092156601698412,
          -0.03505096088295465,
          -0.054139790560395626,
          -0.014713604415274813,
          -0.025642230897117247,
          -0.061234383337020803,
          -0.07413721642230456,
          -0.06763428358796778,
          -0.14500327726642454
         ],
         "yaxis": "y"
        },
        {
         "hovertemplate": "Population=Khanty<br>Component 1=%{x}<br>Component 2=%{y}<extra></extra>",
         "legendgroup": "Khanty",
         "marker": {
          "color": "#FF97FF",
          "line": {
           "color": "black",
           "width": 1
          },
          "opacity": 0.8,
          "size": 8,
          "symbol": "x"
         },
         "mode": "markers",
         "name": "Khanty",
         "orientation": "v",
         "showlegend": true,
         "type": "scatter",
         "x": [
          0.21832848245869993,
          0.16500326068535162,
          0.1529625721909321,
          0.0677996456730763,
          0.0954510709766883,
          0.07677008161119243,
          0.08173165205728271,
          0.07120721782449538,
          0.07069904268928257,
          0.06939906475307822,
          0.06939906475307822,
          0.06939906475307822,
          0.06939906475307822,
          0.06939906475307822,
          0.06753798735602995,
          0.05837607261219795,
          0.1352362414735514,
          0.056639577493062795,
          0.08391131520016223,
          0.07435385482364909,
          0.07211434304908759,
          0.15032301602526177,
          0.07897907004833025,
          0.03921649192797574,
          0.0759695385175074,
          0.07464564914933511,
          0.057829966669870385,
          -0.06462566221749172,
          -0.08595132144236195
         ],
         "xaxis": "x",
         "y": [
          -0.1062382912001136,
          -0.11246657209862526,
          -0.11340411724038574,
          -0.10078789806124494,
          -0.1279684019956724,
          -0.129412752265568,
          -0.13000289216709307,
          -0.11619673654710419,
          -0.1348966377560651,
          -0.13607088984603108,
          -0.13607088984603108,
          -0.13607088984603108,
          -0.13607088984603108,
          -0.13607088984603108,
          -0.13782215126040087,
          -0.11147217045192573,
          -0.1197927024323937,
          -0.1439996142067083,
          -0.1427037391593514,
          -0.1447820169940564,
          -0.14726785335528644,
          -0.1305102915970421,
          -0.1416378576297219,
          -0.15920876861899022,
          -0.15380942233510755,
          -0.1668259210719754,
          -0.17468706578456428,
          -0.22742353687140834,
          -0.2163700046535148
         ],
         "yaxis": "y"
        },
        {
         "hovertemplate": "Population=Kirgiz<br>Component 1=%{x}<br>Component 2=%{y}<extra></extra>",
         "legendgroup": "Kirgiz",
         "marker": {
          "color": "#FECB52",
          "line": {
           "color": "black",
           "width": 1
          },
          "opacity": 0.8,
          "size": 8,
          "symbol": "cross"
         },
         "mode": "markers",
         "name": "Kirgiz",
         "orientation": "v",
         "showlegend": true,
         "type": "scatter",
         "x": [
          0.5092595591152687,
          0.5130221321334516,
          0.5245008374029084,
          0.49744170120423903,
          0.44821339434112645,
          0.4395211170075069,
          0.41513326946531054,
          0.44158154281074624,
          0.4256044297534926,
          0.47995058330852497,
          0.4638773481441763,
          0.46808894024258174,
          0.47019693882674357,
          0.4794954220916826,
          0.47283579351176375,
          0.47350069746240436,
          0.38354301270959706,
          0.4298972175324718,
          0.4622619837518363,
          0.49257500223375134,
          0.39012761945064733,
          0.45812492630038176,
          0.45241172162718046,
          0.44118526828944626,
          0.3514766444637952,
          0.32245586527899356,
          -0.34260908073381496,
          -0.36472710359535887
         ],
         "xaxis": "x",
         "y": [
          0.034489795354964076,
          0.0443764310354609,
          0.011437648655270253,
          -0.012512005650106777,
          0.03678577665944437,
          0.030134289157536222,
          0.06181997986271786,
          0.055991626428621204,
          0.07405814317721227,
          0.024239041863750116,
          0.036068343787342964,
          0.008761956648582613,
          0.007866621206434665,
          0.008359607545675787,
          0.01609780794601989,
          0.009557498252865167,
          0.06002960127241703,
          0.04719461042818449,
          0.0011018299807038952,
          -0.014728857795914842,
          0.04138074891259417,
          -0.005940818963203465,
          -0.010960712781216013,
          -0.01937954257779432,
          -0.028358148508733753,
          0.009872379761557172,
          -0.35483968374346286,
          -0.34048005217404814
         ],
         "yaxis": "y"
        },
        {
         "hovertemplate": "Population=Kazakh<br>Component 1=%{x}<br>Component 2=%{y}<extra></extra>",
         "legendgroup": "Kazakh",
         "marker": {
          "color": "#636efa",
          "line": {
           "color": "black",
           "width": 1
          },
          "opacity": 0.8,
          "size": 8,
          "symbol": "circle"
         },
         "mode": "markers",
         "name": "Kazakh",
         "orientation": "v",
         "showlegend": true,
         "type": "scatter",
         "x": [
          0.5145718439098932,
          0.4753456700428796,
          0.4333467798093204,
          0.43881422345245974,
          0.43555300383209455,
          0.3998345422627294,
          0.4433933871031773,
          0.4776800432925967,
          0.3493072908831512,
          0.38194720833909135,
          0.4168414388720602,
          0.4019770050745782,
          0.37671032298066437,
          0.38698706675409283,
          0.37022602482798384,
          0.3657766121992,
          0.40252550216168165,
          0.35315785348789897,
          0.38872822693339987,
          0.4054386198388421,
          0.3578715607697424,
          0.38365118338740456,
          0.3771520505585429,
          0.3915088424617816,
          0.4266754313534694,
          0.38802131350224633,
          0.39013136129935105,
          0.3903303998687796,
          0.3128752919060891,
          0.3748611252138821,
          0.3434267208442714,
          0.3624105462023389,
          0.3933899373650551,
          0.39705566043266477,
          0.38194204656416436,
          0.42051075775720276,
          0.37264686358155863,
          0.4036867698426949,
          0.3524053712208814,
          0.29107377500390214,
          0.36543567269098737,
          0.395691037601573,
          0.33790341188378764,
          0.22482926211155685,
          0.030924074559914305
         ],
         "xaxis": "x",
         "y": [
          0.04782737120652214,
          0.05098510916613702,
          0.038367159168245187,
          0.024386084484206115,
          0.04634460337836694,
          0.04388289071174527,
          0.035407821679102454,
          0.021184596941742347,
          0.06321815439136039,
          0.048285471239633525,
          0.0020588310819854606,
          0.030328660778116627,
          0.052245268533591176,
          0.027479685353602477,
          0.02163913617645181,
          0.01529050637479763,
          0.02898450272622005,
          0.04459577938583891,
          0.034699282748836276,
          0.014918084167840732,
          0.02930323648767446,
          0.013446862337942723,
          0.03702631138546453,
          0.014817097897664031,
          -0.005674433471676631,
          0.005415875473914124,
          0.021746943729762908,
          0.016388546837759282,
          0.03837458461343004,
          0.009008701049185629,
          0.03806067765109831,
          0.015281507251245996,
          0.0002803243152677132,
          0.0036774383977567424,
          0.005377631596779328,
          -0.015050516905824481,
          -0.006547252313114819,
          -0.01205367004666107,
          -0.004250475682993079,
          0.04765202035474818,
          -0.011031722786204862,
          -0.03311591255993391,
          -0.01572494361786797,
          0.07530628432392703,
          -0.2270894733941999
         ],
         "yaxis": "y"
        },
        {
         "hovertemplate": "Population=Karachay<br>Component 1=%{x}<br>Component 2=%{y}<extra></extra>",
         "legendgroup": "Karachay",
         "marker": {
          "color": "#EF553B",
          "line": {
           "color": "black",
           "width": 1
          },
          "opacity": 0.8,
          "size": 8,
          "symbol": "diamond"
         },
         "mode": "markers",
         "name": "Karachay",
         "orientation": "v",
         "showlegend": true,
         "type": "scatter",
         "x": [
          -0.19775338716875163,
          -0.13796059375192196,
          -0.19375316965722028,
          -0.21031202816195183,
          -0.20573438820856083,
          -0.20484216263935917,
          -0.20737193527907338,
          -0.18452086174420756,
          -0.1849196573419657,
          -0.19441507464298985,
          -0.2371315106358532,
          -0.18248591402066533,
          -0.19250130184457875,
          -0.21396270539920043,
          -0.2177757983634816,
          -0.21513780669214821,
          -0.18369250777495605,
          0.11885986360099965,
          -0.20115038545631503,
          -0.17541899763761448,
          -0.21290555624506413,
          -0.19867481770304046,
          -0.21274021867293863
         ],
         "xaxis": "x",
         "y": [
          0.5964722755224079,
          0.5673702382344293,
          0.568792218833475,
          0.5791292891922557,
          0.5823877128940264,
          0.5710107838800015,
          0.558706794938295,
          0.543045894634785,
          0.5381793217514141,
          0.540928619875568,
          0.5606665761169533,
          0.5430239989074507,
          0.542665782376568,
          0.5422718494872937,
          0.5541189535277756,
          0.5295707598015462,
          0.5126826873944736,
          0.2776188618319106,
          0.5087188378638404,
          0.49887951055643687,
          0.5083797120291108,
          0.48409104626180366,
          0.45366509159227963
         ],
         "yaxis": "y"
        },
        {
         "hovertemplate": "Population=Cherkes<br>Component 1=%{x}<br>Component 2=%{y}<extra></extra>",
         "legendgroup": "Cherkes",
         "marker": {
          "color": "#00cc96",
          "line": {
           "color": "black",
           "width": 1
          },
          "opacity": 0.8,
          "size": 8,
          "symbol": "square"
         },
         "mode": "markers",
         "name": "Cherkes",
         "orientation": "v",
         "showlegend": true,
         "type": "scatter",
         "x": [
          -0.18577155340396373,
          -0.20733672037234357,
          -0.18665953427652232,
          -0.17843556638057528,
          -0.20912522177558196,
          -0.22643204196953215,
          -0.21206881243667058,
          -0.19048894641779007,
          -0.24070773628134456,
          -0.24949606276175268,
          -0.16227509966037817,
          -0.17596828875183462,
          -0.21681763425702683,
          -0.21023699101886967,
          -0.2175385179362721,
          -0.19390661033305523,
          -0.17481724177635705,
          -0.2179170495595662,
          -0.2109041255294996,
          -0.18935708141071556,
          -0.20785499509853006,
          -0.23357761474483224,
          -0.21456760578580625,
          -0.23623560617027595,
          -0.2183649359485174,
          -0.20802170629692063,
          -0.1845625997009122,
          -0.1873688207617225,
          -0.2239190658994888,
          -0.2229732477303088,
          -0.2232720562583524,
          -0.20483503013077975,
          -0.21571163429692614
         ],
         "xaxis": "x",
         "y": [
          0.5890981640754868,
          0.5495161865366639,
          0.49991619748083316,
          0.49084105459970806,
          0.4953039205395361,
          0.5078976236999916,
          0.49143578947999883,
          0.4627150711787838,
          0.4698967418559231,
          0.5046543792958512,
          0.445231257624677,
          0.4558737239348377,
          0.476267524545219,
          0.4641043122976019,
          0.47447515994302636,
          0.47089299677550805,
          0.4473216080782084,
          0.47119772411618066,
          0.4650546657156976,
          0.4537910688413987,
          0.45214352359213106,
          0.45903001360200524,
          0.44943110220896215,
          0.46108474585836007,
          0.43307478840131947,
          0.4302379841220298,
          0.4168065613271116,
          0.4116882315923406,
          0.4003079392767634,
          0.4380640705613939,
          0.4140650736657719,
          0.4103355618051252,
          0.38922572838129726
         ],
         "yaxis": "y"
        },
        {
         "hovertemplate": "Population=Adygei<br>Component 1=%{x}<br>Component 2=%{y}<extra></extra>",
         "legendgroup": "Adygei",
         "marker": {
          "color": "#ab63fa",
          "line": {
           "color": "black",
           "width": 1
          },
          "opacity": 0.8,
          "size": 8,
          "symbol": "x"
         },
         "mode": "markers",
         "name": "Adygei",
         "orientation": "v",
         "showlegend": true,
         "type": "scatter",
         "x": [
          -0.23224633870096012,
          -0.24573672174389732,
          -0.2329764438863614,
          -0.22690661640553683,
          -0.24094746439098574,
          -0.2487815791359702,
          -0.25086542074325213,
          -0.2391950858532803,
          -0.2457011192455127,
          -0.255129226495541,
          -0.24416453235777635,
          -0.25160003811273973,
          -0.2404330384506408,
          -0.23719392413003143,
          -0.2504855523394923,
          -0.2290018759292327,
          -0.25291885262128333,
          -0.2268758689527347,
          -0.26545860270489674,
          -0.23394522479621338,
          -0.22364444322082633,
          -0.26568995100249265,
          -0.2540271777176232,
          -0.2399123170461821,
          -0.22226787902851164,
          -0.19073358700768994,
          -0.260542807880851,
          -0.25902849272358114,
          -0.22725187381654743,
          -0.24676039298496905,
          -0.22968563588609997
         ],
         "xaxis": "x",
         "y": [
          0.5973095856291886,
          0.60120826924663,
          0.5867116021098184,
          0.5731410028752654,
          0.577184078729396,
          0.5736326639819173,
          0.5768534735973835,
          0.5768389460361466,
          0.5734780139286637,
          0.567119923673811,
          0.5784793470051852,
          0.5904548273560085,
          0.5731395084034051,
          0.5505238178068173,
          0.5697597528654843,
          0.543184183750413,
          0.560467892488231,
          0.5361070168378949,
          0.5673940644948954,
          0.5496336961464334,
          0.5312260118481706,
          0.5654211582831441,
          0.5356428747163332,
          0.5373422063298039,
          0.5100481927588618,
          0.48820013940541823,
          0.5433947479122594,
          0.5217852144005225,
          0.4845554278225453,
          0.47126248704792084,
          0.1253058243311216
         ],
         "yaxis": "y"
        },
        {
         "hovertemplate": "Population=Kabardin<br>Component 1=%{x}<br>Component 2=%{y}<extra></extra>",
         "legendgroup": "Kabardin",
         "marker": {
          "color": "#FFA15A",
          "line": {
           "color": "black",
           "width": 1
          },
          "opacity": 0.8,
          "size": 8,
          "symbol": "cross"
         },
         "mode": "markers",
         "name": "Kabardin",
         "orientation": "v",
         "showlegend": true,
         "type": "scatter",
         "x": [
          -0.19322160485703638,
          -0.19199979156596486,
          -0.20532064344875867,
          -0.21088884757785015,
          -0.1944763944649151,
          -0.1948758846884096,
          -0.21053874188993643,
          -0.2066671220564693,
          -0.20801262066215576,
          -0.2098022022510705,
          -0.2185446456570112,
          -0.19623781497098336,
          -0.20791439844263654,
          -0.18713881210333894,
          -0.21503150587099606,
          -0.2193566795938386,
          -0.2252759093247027,
          -0.16958528667796557,
          -0.21013596298891596,
          -0.1898195115481104,
          -0.19216777244857913,
          -0.20897078658384233,
          -0.19978401167015386,
          -0.22603468197145982,
          -0.24121038294247216,
          -0.1779579368148756,
          -0.19208784277443136,
          -0.18346449408786186,
          -0.2163628400091786,
          -0.20161435967974883,
          -0.22473586076173485,
          -0.1890168524460752,
          -0.23116273021424333,
          -0.24321165184422083,
          -0.21995655263280772
         ],
         "xaxis": "x",
         "y": [
          0.5405311667761694,
          0.5173950532988155,
          0.5127439502888955,
          0.5093191495690319,
          0.5108155108065614,
          0.463011350019151,
          0.49302292989173224,
          0.471186257664663,
          0.494627728982695,
          0.4854662181879465,
          0.488183424273389,
          0.46618314394093796,
          0.46657976483822866,
          0.46614687500675717,
          0.48173008291211405,
          0.48608954282299904,
          0.48572146487403595,
          0.4430764907809494,
          0.4494362355571232,
          0.4312009896977737,
          0.4260290711173297,
          0.4403260854681277,
          0.437070365621835,
          0.45188435503709673,
          0.4409639860070083,
          0.40616315471438,
          0.41911743112009126,
          0.3972773416152871,
          0.42336243284317526,
          0.3926798884909831,
          0.4011969094501692,
          0.3943482723574907,
          0.4162818606278217,
          0.4205331823892264,
          0.3961721455545055
         ],
         "yaxis": "y"
        },
        {
         "hovertemplate": "Population=Uzbek<br>Component 1=%{x}<br>Component 2=%{y}<extra></extra>",
         "legendgroup": "Uzbek",
         "marker": {
          "color": "#19d3f3",
          "line": {
           "color": "black",
           "width": 1
          },
          "opacity": 0.8,
          "size": 8,
          "symbol": "circle"
         },
         "mode": "markers",
         "name": "Uzbek",
         "orientation": "v",
         "showlegend": true,
         "type": "scatter",
         "x": [
          0.1843267313503814,
          0.46351160714930223,
          0.1374390773312182,
          0.21724970254496295,
          0.13801091242648336,
          0.22190907934720583,
          0.16427697455963985,
          0.19825513232069764,
          0.20503888797019607,
          0.08643897497607689,
          0.1914771918651864,
          0.23423081943800245,
          0.25096814404869117,
          0.2069391022165692,
          0.19546376519687286,
          0.1553057273926685,
          0.23829505897325245,
          0.16637138349616215,
          0.13202629449415293,
          0.17004544526808313,
          0.15856603876975253,
          0.13851150555472488,
          0.18297624338395935,
          0.16061720657235706,
          0.15252859633969068,
          0.13723916024085234,
          0.10199336914739271,
          0.13677045100062296,
          0.2003995772745084,
          0.1853490040956867,
          0.19475975195489578,
          0.1499972603895099,
          0.1287110939403566,
          0.1675802096361702,
          0.13891439493541158,
          0.06271567902683339,
          0.0017534590988433074,
          0.01640228527218568,
          -0.03237287105455472
         ],
         "xaxis": "x",
         "y": [
          0.21120439710462663,
          -0.0070584386968216735,
          0.23088699525559328,
          0.17920199527409256,
          0.22207915629651906,
          0.1887460297169694,
          0.19407712592503829,
          0.18159179368262843,
          0.15419820512881457,
          0.24214742703256814,
          0.17757792459449262,
          0.12915298820430707,
          0.12026339876154984,
          0.15017971539948602,
          0.1684521327281995,
          0.16532029644923382,
          0.13813940990379153,
          0.18390543460324363,
          0.17035128294841237,
          0.16601583310266999,
          0.17409133380517558,
          0.17067713065382784,
          0.1463842210069281,
          0.17421473233273768,
          0.15988937410628473,
          0.17233692829316685,
          0.189455047791451,
          0.160032478042616,
          0.13091669795488725,
          0.14214175913245736,
          0.11739150334139065,
          0.1384439961640029,
          0.14544035807024067,
          0.1455091830322881,
          0.13957941371353438,
          0.02874591368637478,
          0.010732047487409548,
          -0.051149130231137,
          0.005899979697799075
         ],
         "yaxis": "y"
        },
        {
         "hovertemplate": "Population=Chechen<br>Component 1=%{x}<br>Component 2=%{y}<extra></extra>",
         "legendgroup": "Chechen",
         "marker": {
          "color": "#FF6692",
          "line": {
           "color": "black",
           "width": 1
          },
          "opacity": 0.8,
          "size": 8,
          "symbol": "diamond"
         },
         "mode": "markers",
         "name": "Chechen",
         "orientation": "v",
         "showlegend": true,
         "type": "scatter",
         "x": [
          -0.25412841244072915,
          -0.23859995853187943,
          -0.2498612286992843,
          -0.24558716164536182,
          -0.26016867188697695,
          -0.24477594113258488,
          -0.23636276380798504,
          -0.2728268698383506,
          -0.2621823934839318,
          -0.24590066855345633,
          -0.24482336097684904,
          -0.2662717874024568,
          -0.24300856679558935,
          -0.2437509301738428,
          -0.2737759980483893,
          -0.25715640623728686,
          -0.2671043611464258,
          -0.27985390730076926
         ],
         "xaxis": "x",
         "y": [
          0.5105265857572578,
          0.483785074650375,
          0.47627438579351233,
          0.47427681931156074,
          0.47041627731711866,
          0.4660454961953416,
          0.44633985677563015,
          0.47770045379061254,
          0.45361878991402854,
          0.46157269687580615,
          0.4465040304543272,
          0.44022747170569687,
          0.41910755718919357,
          0.42566433697726985,
          0.4509576333713158,
          0.42749771562126565,
          0.4211505051522376,
          0.35012184796310647
         ],
         "yaxis": "y"
        },
        {
         "hovertemplate": "Population=Bashkir<br>Component 1=%{x}<br>Component 2=%{y}<extra></extra>",
         "legendgroup": "Bashkir",
         "marker": {
          "color": "#B6E880",
          "line": {
           "color": "black",
           "width": 1
          },
          "opacity": 0.8,
          "size": 8,
          "symbol": "square"
         },
         "mode": "markers",
         "name": "Bashkir",
         "orientation": "v",
         "showlegend": true,
         "type": "scatter",
         "x": [
          0.16079175607226537,
          0.13134822573359248,
          0.13773214129531308,
          0.08258433948684776,
          0.14431117641965205,
          0.09909984595129367,
          0.11071402262005775,
          0.15146046934485688,
          0.0976632504073254,
          0.11625758400701261,
          0.10096028851626712,
          0.08737904243851813,
          0.11795037142487338,
          0.11130104347799333,
          0.04973216089419788,
          0.09135948049074322,
          0.0902151848913594,
          0.06155051891174232,
          0.07393879178453605,
          0.07385016502438718,
          0.11127675119745781,
          0.08373579832235822,
          0.09554737248132122,
          0.09074742146091697,
          0.10013332945228562,
          0.06753070556665955,
          0.05012793487077294,
          0.054951800938363826,
          0.030693869149786696,
          0.06479503906901765,
          0.08466880289676929,
          0.023253341006842537,
          -0.0362757770721201,
          -0.04397216958220085
         ],
         "xaxis": "x",
         "y": [
          -0.06919899478077474,
          -0.051453744178775955,
          -0.07157795561616373,
          -0.03601126644924494,
          -0.08221947969734417,
          -0.05199927657350729,
          -0.062495614312775095,
          -0.09459848565724038,
          -0.054413498759671046,
          -0.08940030869135551,
          -0.07480499093908996,
          -0.08211593411538429,
          -0.09378829950582107,
          -0.10437671521030209,
          -0.08993505949156236,
          -0.09188473392381188,
          -0.09245257408908669,
          -0.09229326691535383,
          -0.10179383424621172,
          -0.08956364701198863,
          -0.13512387337356174,
          -0.10729347611167003,
          -0.12128209181349756,
          -0.1461236585861206,
          -0.11733437700525942,
          -0.09832058300926536,
          -0.11198565576031522,
          -0.12369321571848263,
          -0.13029638129248095,
          -0.1276188146153666,
          -0.1701960401066793,
          -0.12652079933291321,
          -0.12718298608805123,
          -0.20466907405062643
         ],
         "yaxis": "y"
        },
        {
         "hovertemplate": "Population=Russian_NSK<br>Component 1=%{x}<br>Component 2=%{y}<extra></extra>",
         "legendgroup": "Russian_NSK",
         "marker": {
          "color": "#FF97FF",
          "line": {
           "color": "black",
           "width": 1
          },
          "opacity": 0.8,
          "size": 8,
          "symbol": "x"
         },
         "mode": "markers",
         "name": "Russian_NSK",
         "orientation": "v",
         "showlegend": true,
         "type": "scatter",
         "x": [
          0.10320221215285275,
          0.14128475419694464,
          -0.10110997207318523,
          -0.1234142040562976,
          -0.15297209561074954,
          -0.27169602465247195,
          -0.28261585698710506,
          -0.27467383445824084,
          -0.297975755026148,
          -0.31997364729123,
          -0.2875950130127762,
          -0.295063920814194,
          -0.29250004114669853,
          -0.37819176549812517,
          -0.30490479035815393,
          -0.33442604062579884,
          -0.3162994694301541,
          -0.3120463526602223,
          -0.3309709902460194,
          -0.33797142802499847,
          -0.2962206941030539,
          -0.3272057414519142,
          -0.3188491459403104,
          -0.3327874769401833,
          -0.35966311854125627,
          -0.2974092837655451,
          -0.3580563502671296,
          -0.35761241384483017,
          -0.34369653116582205,
          -0.3428974741668939,
          -0.37002500197145544,
          -0.3574539866215344,
          -0.36633631064112177,
          -0.3306044107940084,
          -0.3324262404378333,
          -0.3704377766987162,
          -0.36519250235242057,
          -0.3882838790828019
         ],
         "xaxis": "x",
         "y": [
          -0.03408232410345965,
          -0.03656276323829906,
          -0.24307335635252927,
          -0.2536697956980698,
          -0.25993360917365027,
          -0.10939541756913451,
          -0.3013557617104674,
          -0.2660342012562647,
          -0.34276057266356125,
          -0.29126128655957817,
          -0.3605737362496351,
          -0.36451903479915354,
          -0.3874140451057034,
          -0.24830460717817218,
          -0.3383087850457852,
          -0.29564477745141515,
          -0.3576219886698521,
          -0.37736016699915725,
          -0.36341718111724386,
          -0.34936341678023813,
          -0.41785490562231586,
          -0.33691078718851447,
          -0.37650874908350074,
          -0.3531351332638333,
          -0.3548184660277816,
          -0.38846907888041776,
          -0.33928640723714615,
          -0.3355895053896187,
          -0.3726329719619003,
          -0.3536553706128914,
          -0.3162623749586074,
          -0.3618651467958535,
          -0.35434993122102104,
          -0.3880879619805935,
          -0.35038046063578615,
          -0.3631907104843378,
          -0.4026022231321608,
          -0.4378113937818648
         ],
         "yaxis": "y"
        },
        {
         "hovertemplate": "Population=Udmurt<br>Component 1=%{x}<br>Component 2=%{y}<extra></extra>",
         "legendgroup": "Udmurt",
         "marker": {
          "color": "#FECB52",
          "line": {
           "color": "black",
           "width": 1
          },
          "opacity": 0.8,
          "size": 8,
          "symbol": "cross"
         },
         "mode": "markers",
         "name": "Udmurt",
         "orientation": "v",
         "showlegend": true,
         "type": "scatter",
         "x": [
          -0.13095810248770617,
          -0.13889309451293916,
          -0.11668030268418969,
          -0.15459588161068719,
          -0.15887047183726086,
          -0.15631066085578232,
          -0.1412653008337321,
          -0.13790254770678625,
          -0.1305823141437958,
          -0.13695058742633792,
          -0.14410005779507973,
          -0.13463660563754482,
          -0.14266822481779537,
          -0.13658239759744983,
          -0.14963685525318693,
          -0.16047703600439736,
          -0.12485458642725081,
          -0.14127131627599465,
          -0.15746211945144192,
          -0.15807801396658472,
          -0.17121401696920613,
          -0.17030118277638873,
          -0.2196856258586083,
          -0.24044304682649037,
          -0.24139794060067232
         ],
         "xaxis": "x",
         "y": [
          -0.17905703384316404,
          -0.20811024633657554,
          -0.20707893111151407,
          -0.18773139445978987,
          -0.1777788952790904,
          -0.1949504368607792,
          -0.22347828353863572,
          -0.21251781314429288,
          -0.21785077566543418,
          -0.23391319291502358,
          -0.2293160045158559,
          -0.24985114468798206,
          -0.22959197787490537,
          -0.2576658202737064,
          -0.2539175056047309,
          -0.2225006648484166,
          -0.27678617761723545,
          -0.25755142269415215,
          -0.27288457662532345,
          -0.28617082168307967,
          -0.297281477122689,
          -0.3039765380717317,
          -0.31460818239126515,
          -0.302201936487228,
          -0.29174941067994764
         ],
         "yaxis": "y"
        },
        {
         "hovertemplate": "Population=Mordva<br>Component 1=%{x}<br>Component 2=%{y}<extra></extra>",
         "legendgroup": "Mordva",
         "marker": {
          "color": "#636efa",
          "line": {
           "color": "black",
           "width": 1
          },
          "opacity": 0.8,
          "size": 8,
          "symbol": "circle"
         },
         "mode": "markers",
         "name": "Mordva",
         "orientation": "v",
         "showlegend": true,
         "type": "scatter",
         "x": [
          -0.26391588693999857,
          -0.29463932944080373,
          -0.29875012353233327,
          -0.298444827235466,
          -0.28859053234628856,
          -0.28225363644271984,
          -0.3035514700224552,
          -0.288958748744582,
          -0.311722458539068,
          -0.30566216901023935,
          -0.3002865663178582,
          -0.31291208574388724,
          -0.29833325168469754,
          -0.2826083466175234,
          -0.3052608542305584,
          -0.2788278423039448,
          -0.27241794150213355,
          -0.3064124524696872,
          -0.27961454658706125,
          -0.284347144899896,
          -0.2972201984375358,
          -0.3104873263497579,
          -0.29138155033961866,
          -0.308584051643055,
          -0.279215825027684,
          -0.3021538128260414,
          -0.2944067473891539,
          -0.30077090973895526,
          -0.3083945040351212,
          -0.3209191142745677,
          -0.3215623140297068,
          -0.318178441353071,
          -0.3203201067294042
         ],
         "xaxis": "x",
         "y": [
          0.11255954259140377,
          -0.26914832418908635,
          -0.2817467891265856,
          -0.28787135723983276,
          -0.3076103043446226,
          -0.3177715286600527,
          -0.2955792350585776,
          -0.3044849169481877,
          -0.28698420907163996,
          -0.3074041725356201,
          -0.3248216825555888,
          -0.3095036883857568,
          -0.3218954980263031,
          -0.3023717079163016,
          -0.3262463359917866,
          -0.3415235267274133,
          -0.31549780713820297,
          -0.31337494430696633,
          -0.3225270201295283,
          -0.3395778307971462,
          -0.34604748065864815,
          -0.3105072348732998,
          -0.3403574271096565,
          -0.3302981303109056,
          -0.3259540266397405,
          -0.33298478122255304,
          -0.3284563236834122,
          -0.34168977376513004,
          -0.35166145403998833,
          -0.3571456664294245,
          -0.3547910385806127,
          -0.3755515657625459,
          -0.3623805694251999
         ],
         "yaxis": "y"
        },
        {
         "hovertemplate": "Population=Chuvash<br>Component 1=%{x}<br>Component 2=%{y}<extra></extra>",
         "legendgroup": "Chuvash",
         "marker": {
          "color": "#EF553B",
          "line": {
           "color": "black",
           "width": 1
          },
          "opacity": 0.8,
          "size": 8,
          "symbol": "diamond"
         },
         "mode": "markers",
         "name": "Chuvash",
         "orientation": "v",
         "showlegend": true,
         "type": "scatter",
         "x": [
          -0.12163772401065692,
          -0.14495134044936542,
          -0.10219857552360706,
          -0.11960852906689423,
          -0.1444066695472337,
          -0.12687716629159784,
          -0.11844624356187702,
          -0.12911733541125903,
          -0.12016966894485107,
          -0.15108784170951112,
          -0.12240156426767729,
          -0.12522367470834583,
          -0.13140296160370976,
          -0.10416467390905082,
          -0.16060508627775918,
          -0.13626254865564064,
          -0.14410867583158576,
          -0.14447274635546198,
          -0.1409903616049018,
          -0.15636795920828644,
          -0.13947891045893987,
          -0.16450366561603247,
          -0.14656710344144774,
          -0.16927715893887169,
          -0.1593697117071095,
          -0.18045772268862204,
          -0.16088475581658412,
          -0.33820780549528695
         ],
         "xaxis": "x",
         "y": [
          -0.18328237667744912,
          -0.1891603120219097,
          -0.19874662678800065,
          -0.2035380349870476,
          -0.2011031125356521,
          -0.19909161311002552,
          -0.2588940741372521,
          -0.22740579845027362,
          -0.23280717041709253,
          -0.217959956817279,
          -0.2232878533512543,
          -0.26034635388839833,
          -0.245233217260929,
          -0.2676743287029765,
          -0.21592989603273008,
          -0.2610579268657898,
          -0.2475088753071183,
          -0.25487590835737245,
          -0.24355632690090953,
          -0.2556352912671789,
          -0.24887927282057348,
          -0.24256973120457762,
          -0.2609894089034895,
          -0.25724010517558205,
          -0.2443289639890547,
          -0.2487179314359847,
          -0.27143945178702006,
          -0.3441458922044752
         ],
         "yaxis": "y"
        },
        {
         "hovertemplate": "Population=Moldovan<br>Component 1=%{x}<br>Component 2=%{y}<extra></extra>",
         "legendgroup": "Moldovan",
         "marker": {
          "color": "#00cc96",
          "line": {
           "color": "black",
           "width": 1
          },
          "opacity": 0.8,
          "size": 8,
          "symbol": "square"
         },
         "mode": "markers",
         "name": "Moldovan",
         "orientation": "v",
         "showlegend": true,
         "type": "scatter",
         "x": [
          -0.33032306206259576,
          -0.2939075602122647,
          -0.3363839708813878,
          -0.3492906341691679,
          -0.3227463707721276,
          -0.324099842686244,
          -0.3402522356569151,
          -0.33027260308952916,
          -0.33209842342990337,
          -0.34777753441964104,
          -0.34694883644510105,
          -0.3434994557903457,
          -0.339553395832582,
          -0.3377313709044728,
          -0.3364485224805336,
          -0.3141770317877539,
          -0.3306190888143314,
          -0.3306998389490982,
          -0.3326192443775232,
          -0.34914511972655166,
          -0.35722520979419475,
          -0.3201220704919167,
          -0.34831001326452743,
          -0.3318881205900868,
          -0.33361173910358943,
          -0.34394529756636183,
          -0.33380372336084674,
          -0.3398704842962396,
          -0.34969570096084485,
          -0.3497259420407452,
          -0.3396222540420348,
          -0.34433717666409513
         ],
         "xaxis": "x",
         "y": [
          0.01445989170265213,
          -0.06702547163525358,
          -0.06914437794249934,
          -0.05874110537588859,
          -0.07967545715802218,
          -0.09082382693600236,
          -0.08761069929892187,
          -0.0976649708170163,
          -0.10060429189631725,
          -0.1027570034211594,
          -0.0978792266833502,
          -0.11512010802556993,
          -0.09702928870237068,
          -0.10919547239052216,
          -0.12915214646283663,
          -0.13781728744408975,
          -0.12755964237383283,
          -0.13720871326844192,
          -0.14467671776727592,
          -0.1300741316385579,
          -0.1388001947763752,
          -0.15509929824777327,
          -0.1324274530533271,
          -0.1614185055959066,
          -0.15610934922983563,
          -0.15720034219060108,
          -0.15709762279123593,
          -0.15760829555016115,
          -0.15745076857572143,
          -0.1844766725865318,
          -0.17145364406697938,
          -0.21196482822224946
         ],
         "yaxis": "y"
        },
        {
         "hovertemplate": "Population=Russian_STV<br>Component 1=%{x}<br>Component 2=%{y}<extra></extra>",
         "legendgroup": "Russian_STV",
         "marker": {
          "color": "#ab63fa",
          "line": {
           "color": "black",
           "width": 1
          },
          "opacity": 0.8,
          "size": 8,
          "symbol": "x"
         },
         "mode": "markers",
         "name": "Russian_STV",
         "orientation": "v",
         "showlegend": true,
         "type": "scatter",
         "x": [
          -0.18997278113967592,
          -0.31646641675843123,
          -0.26249910436367646,
          -0.2648488898334463,
          -0.27804620435975563,
          -0.28697857310443786,
          -0.2923077780156251,
          -0.32347196135529804,
          -0.3155091886567961,
          -0.2901811459659887,
          -0.29178558116404163,
          -0.32398918695866785,
          -0.32532393916023084,
          -0.32207061230394024,
          -0.3107377325312771,
          -0.32126451254154215,
          -0.3085240726660573,
          -0.2905252755071481,
          -0.3108962366639059,
          -0.3112325419467993,
          -0.30163121327453274,
          -0.3300561825424414,
          -0.3102799113299231,
          -0.3051575041896177,
          -0.28705576520848963,
          -0.2851723943221376,
          -0.3425155322672811,
          -0.2991910119855896,
          -0.3204576118356653,
          -0.3252118780961137,
          -0.3096521163277446,
          -0.32184824553885605,
          -0.3190528373244071,
          -0.32967879223156205,
          -0.30776080475165773,
          -0.32702992386066065,
          -0.36021996443275595,
          -0.34286191187381815,
          -0.36097021544796026
         ],
         "xaxis": "x",
         "y": [
          -0.174918752065054,
          -0.20457489632476566,
          -0.333450192456102,
          -0.31327815036166123,
          -0.36046180443706105,
          -0.36439258886118764,
          -0.3727473685229059,
          -0.3505418354095203,
          -0.35369256828028633,
          -0.34352231277794576,
          -0.3743490369803289,
          -0.35113573049358515,
          -0.3560427871228307,
          -0.3408407845809214,
          -0.3791246672694977,
          -0.34069610910561626,
          -0.3848920203001588,
          -0.3873172782525738,
          -0.3727555209915094,
          -0.38188376869663465,
          -0.38940408766179296,
          -0.36022013507712675,
          -0.3781032470246817,
          -0.39794891786776637,
          -0.39728603379603117,
          -0.42320976799618104,
          -0.34255214500618386,
          -0.40266168917635253,
          -0.37833692880027914,
          -0.3761653810156148,
          -0.4150902839287367,
          -0.4311621303401388,
          -0.4243907446267222,
          -0.4069286826335538,
          -0.4478846362064887,
          -0.408435744200753,
          -0.40077394775090003,
          -0.4032950424194758,
          -0.40161827395288674
         ],
         "yaxis": "y"
        },
        {
         "hovertemplate": "Population=Komi<br>Component 1=%{x}<br>Component 2=%{y}<extra></extra>",
         "legendgroup": "Komi",
         "marker": {
          "color": "#FFA15A",
          "line": {
           "color": "black",
           "width": 1
          },
          "opacity": 0.8,
          "size": 8,
          "symbol": "cross"
         },
         "mode": "markers",
         "name": "Komi",
         "orientation": "v",
         "showlegend": true,
         "type": "scatter",
         "x": [
          -0.2378584117458163,
          -0.21570462274966312,
          -0.22860071963521494,
          -0.2384494265955185,
          -0.23824954451406405,
          -0.23896015687738775,
          -0.22105219927473385,
          -0.21486520146600663,
          -0.24555387311179233,
          -0.23907946504005995,
          -0.2277269266060939,
          -0.23367180155666006,
          -0.25597643579806334,
          -0.2285553400341795,
          -0.2496809453680784,
          -0.24453213433133958,
          -0.2322403352630107,
          -0.24293357302002222,
          -0.23681377595085096,
          -0.2526638997848934,
          -0.2406472284207971,
          -0.24554808385874743,
          -0.2162497741923627,
          -0.24083738560807338,
          -0.2565342151716334,
          -0.2433987161124862,
          -0.25174313776167734,
          -0.2508722136542574,
          -0.2345292320440357,
          -0.24811376556670722,
          -0.2351524084982663,
          -0.24834724508889627
         ],
         "xaxis": "x",
         "y": [
          -0.27180644521096553,
          -0.31338943549662246,
          -0.2963098846348414,
          -0.3124275445566187,
          -0.32390295260962465,
          -0.31441080907546776,
          -0.3452014367093722,
          -0.3674550947273764,
          -0.32847084751676775,
          -0.35017686394805825,
          -0.3641092821320399,
          -0.3574448615346945,
          -0.34717510255393086,
          -0.3622204354489698,
          -0.3494294741439854,
          -0.38633418534686753,
          -0.37556975024583744,
          -0.3793950706786522,
          -0.3777961663275833,
          -0.3608516419552694,
          -0.37627085794753345,
          -0.3815795284142904,
          -0.4083534264184003,
          -0.3815193787686199,
          -0.3592144225923573,
          -0.4019853556490338,
          -0.41889284388401427,
          -0.4027504937190133,
          -0.40937627644304986,
          -0.41657268031816896,
          -0.41546063172313535,
          -0.4021775089616009
         ],
         "yaxis": "y"
        },
        {
         "hovertemplate": "Population=Ukrainian<br>Component 1=%{x}<br>Component 2=%{y}<extra></extra>",
         "legendgroup": "Ukrainian",
         "marker": {
          "color": "#19d3f3",
          "line": {
           "color": "black",
           "width": 1
          },
          "opacity": 0.8,
          "size": 8,
          "symbol": "circle"
         },
         "mode": "markers",
         "name": "Ukrainian",
         "orientation": "v",
         "showlegend": true,
         "type": "scatter",
         "x": [
          -0.23943446884469127,
          -0.3371811872247953,
          -0.3672745469072899,
          -0.368082220594975,
          -0.3555022859986472,
          -0.3584794175935573,
          -0.3741837576961608,
          -0.3432415680545423,
          -0.34990570112523006,
          -0.34784315644096214,
          -0.36628159708228664,
          -0.38238245544229954,
          -0.3546648552568512,
          -0.34514329037086694,
          -0.37528608643457695,
          -0.3748188929625476,
          -0.36690062936203177,
          -0.37535451989634966,
          -0.3730063887196537,
          -0.37479851066418196,
          -0.37496187476049814,
          -0.3691915030244931,
          -0.3573407185438295,
          -0.37318685687190056,
          -0.3768649858067205,
          -0.3723422528482462,
          -0.35043866686112557,
          -0.38425748186420844,
          -0.37878206435283734
         ],
         "xaxis": "x",
         "y": [
          -0.24756102153487924,
          -0.11333241605653716,
          -0.1902989061643798,
          -0.19975446293497892,
          -0.24530823216685377,
          -0.2452489887024468,
          -0.2613815624098916,
          -0.30166394970189464,
          -0.2793669657802706,
          -0.2742918756957434,
          -0.2657843683100638,
          -0.2647816883075072,
          -0.2797178620869743,
          -0.2982522306905979,
          -0.29168392821097533,
          -0.27880866411979505,
          -0.288838370302717,
          -0.310406088704869,
          -0.31967705935100443,
          -0.3040881333779615,
          -0.32072448350038607,
          -0.3191903206287642,
          -0.31891470636390645,
          -0.3472820504677753,
          -0.325484582260558,
          -0.34715522859004855,
          -0.36399383995598306,
          -0.3504119341872906,
          -0.3504898115260766
         ],
         "yaxis": "y"
        },
        {
         "hovertemplate": "Population=Belarus<br>Component 1=%{x}<br>Component 2=%{y}<extra></extra>",
         "legendgroup": "Belarus",
         "marker": {
          "color": "#FF6692",
          "line": {
           "color": "black",
           "width": 1
          },
          "opacity": 0.8,
          "size": 8,
          "symbol": "diamond"
         },
         "mode": "markers",
         "name": "Belarus",
         "orientation": "v",
         "showlegend": true,
         "type": "scatter",
         "x": [
          -0.3204151456885667,
          -0.36322435949082577,
          -0.35582414283329405,
          -0.3788657693357196,
          -0.36281984891507585,
          -0.3679509079955365,
          -0.365162699795134,
          -0.37991377901791257,
          -0.3815785382699065,
          -0.35920783532099426,
          -0.37698890873730945,
          -0.3740698225418551,
          -0.381715425246588,
          -0.36861529858058456,
          -0.3740996610216335,
          -0.38138824708517705,
          -0.3731234771320331,
          -0.36524165423087424,
          -0.3675568227730429,
          -0.3729135527735724,
          -0.3787013795551028,
          -0.3819294185673762,
          -0.3565190798493605,
          -0.39187423430235085,
          -0.3825073283296164,
          -0.3791699411041158,
          -0.39401831930331566,
          -0.3830644016052381
         ],
         "xaxis": "x",
         "y": [
          -0.10779066932387393,
          -0.1964351896097242,
          -0.3203177529493098,
          -0.3168000992971867,
          -0.3214495123786453,
          -0.3228787903592167,
          -0.3443031221005331,
          -0.3512922346928577,
          -0.33542634949557676,
          -0.34083842319839613,
          -0.32907613868406477,
          -0.35536712141442356,
          -0.34358951245641933,
          -0.3633909580785487,
          -0.3562179723838854,
          -0.3750300767411271,
          -0.365429317665717,
          -0.3871762493913371,
          -0.36874611166614435,
          -0.38661618121847746,
          -0.38929137088373034,
          -0.37573842516548484,
          -0.3932502241245578,
          -0.3979447747637684,
          -0.41552926313585625,
          -0.4207891239030653,
          -0.40418089212886815,
          -0.43311089877536796
         ],
         "yaxis": "y"
        },
        {
         "hovertemplate": "Population=Karel<br>Component 1=%{x}<br>Component 2=%{y}<extra></extra>",
         "legendgroup": "Karel",
         "marker": {
          "color": "#B6E880",
          "line": {
           "color": "black",
           "width": 1
          },
          "opacity": 0.8,
          "size": 8,
          "symbol": "square"
         },
         "mode": "markers",
         "name": "Karel",
         "orientation": "v",
         "showlegend": true,
         "type": "scatter",
         "x": [
          -0.29728277180429963,
          -0.3169669993145118,
          -0.3279535977969108,
          -0.3224608438377828,
          -0.3469027880784775,
          -0.33243370345023565,
          -0.28469552579504376,
          -0.3199587491364675,
          -0.33750349747601033,
          -0.3014426810633341,
          -0.31072081481015734,
          -0.346616006404171,
          -0.3114687825275906,
          -0.3333331075769356,
          -0.3109467225183031,
          -0.2982447509467149,
          -0.3040424291127401,
          -0.34295082791364695,
          -0.3201617555702449,
          -0.34966344451149317,
          -0.32084434259831635,
          -0.30244391307477586,
          -0.3090121167201567,
          -0.31820493783111337,
          -0.31019594448100235,
          -0.31457538408883184
         ],
         "xaxis": "x",
         "y": [
          -0.3919294012570269,
          -0.42460367963671897,
          -0.4380203778089256,
          -0.4338097535449073,
          -0.41637775126020804,
          -0.3696563649316718,
          -0.4659319479928691,
          -0.46396990046965697,
          -0.46126821176264654,
          -0.4911454757813743,
          -0.49228098347565186,
          -0.40890006332826323,
          -0.4763987504655373,
          -0.4663241742449437,
          -0.47121700526137716,
          -0.5064837856262616,
          -0.5042275882551333,
          -0.4847454660064801,
          -0.48150861874235795,
          -0.4438940887954254,
          -0.4890600625226087,
          -0.5097671440155951,
          -0.5020953478288732,
          -0.49910413873916604,
          -0.5065021375874852,
          -0.5046897699314183
         ],
         "yaxis": "y"
        }
       ],
       "layout": {
        "height": 360,
        "legend": {
         "bgcolor": "rgba(255, 255, 255, 0.8)",
         "orientation": "h",
         "title": {
          "text": "Population"
         },
         "tracegroupgap": 0,
         "x": 1.05,
         "y": 1
        },
        "margin": {
         "b": 0,
         "l": 0,
         "r": 0,
         "t": 30
        },
        "template": {
         "data": {
          "bar": [
           {
            "error_x": {
             "color": "#2a3f5f"
            },
            "error_y": {
             "color": "#2a3f5f"
            },
            "marker": {
             "line": {
              "color": "#E5ECF6",
              "width": 0.5
             },
             "pattern": {
              "fillmode": "overlay",
              "size": 10,
              "solidity": 0.2
             }
            },
            "type": "bar"
           }
          ],
          "barpolar": [
           {
            "marker": {
             "line": {
              "color": "#E5ECF6",
              "width": 0.5
             },
             "pattern": {
              "fillmode": "overlay",
              "size": 10,
              "solidity": 0.2
             }
            },
            "type": "barpolar"
           }
          ],
          "carpet": [
           {
            "aaxis": {
             "endlinecolor": "#2a3f5f",
             "gridcolor": "white",
             "linecolor": "white",
             "minorgridcolor": "white",
             "startlinecolor": "#2a3f5f"
            },
            "baxis": {
             "endlinecolor": "#2a3f5f",
             "gridcolor": "white",
             "linecolor": "white",
             "minorgridcolor": "white",
             "startlinecolor": "#2a3f5f"
            },
            "type": "carpet"
           }
          ],
          "choropleth": [
           {
            "colorbar": {
             "outlinewidth": 0,
             "ticks": ""
            },
            "type": "choropleth"
           }
          ],
          "contour": [
           {
            "colorbar": {
             "outlinewidth": 0,
             "ticks": ""
            },
            "colorscale": [
             [
              0,
              "#0d0887"
             ],
             [
              0.1111111111111111,
              "#46039f"
             ],
             [
              0.2222222222222222,
              "#7201a8"
             ],
             [
              0.3333333333333333,
              "#9c179e"
             ],
             [
              0.4444444444444444,
              "#bd3786"
             ],
             [
              0.5555555555555556,
              "#d8576b"
             ],
             [
              0.6666666666666666,
              "#ed7953"
             ],
             [
              0.7777777777777778,
              "#fb9f3a"
             ],
             [
              0.8888888888888888,
              "#fdca26"
             ],
             [
              1,
              "#f0f921"
             ]
            ],
            "type": "contour"
           }
          ],
          "contourcarpet": [
           {
            "colorbar": {
             "outlinewidth": 0,
             "ticks": ""
            },
            "type": "contourcarpet"
           }
          ],
          "heatmap": [
           {
            "colorbar": {
             "outlinewidth": 0,
             "ticks": ""
            },
            "colorscale": [
             [
              0,
              "#0d0887"
             ],
             [
              0.1111111111111111,
              "#46039f"
             ],
             [
              0.2222222222222222,
              "#7201a8"
             ],
             [
              0.3333333333333333,
              "#9c179e"
             ],
             [
              0.4444444444444444,
              "#bd3786"
             ],
             [
              0.5555555555555556,
              "#d8576b"
             ],
             [
              0.6666666666666666,
              "#ed7953"
             ],
             [
              0.7777777777777778,
              "#fb9f3a"
             ],
             [
              0.8888888888888888,
              "#fdca26"
             ],
             [
              1,
              "#f0f921"
             ]
            ],
            "type": "heatmap"
           }
          ],
          "heatmapgl": [
           {
            "colorbar": {
             "outlinewidth": 0,
             "ticks": ""
            },
            "colorscale": [
             [
              0,
              "#0d0887"
             ],
             [
              0.1111111111111111,
              "#46039f"
             ],
             [
              0.2222222222222222,
              "#7201a8"
             ],
             [
              0.3333333333333333,
              "#9c179e"
             ],
             [
              0.4444444444444444,
              "#bd3786"
             ],
             [
              0.5555555555555556,
              "#d8576b"
             ],
             [
              0.6666666666666666,
              "#ed7953"
             ],
             [
              0.7777777777777778,
              "#fb9f3a"
             ],
             [
              0.8888888888888888,
              "#fdca26"
             ],
             [
              1,
              "#f0f921"
             ]
            ],
            "type": "heatmapgl"
           }
          ],
          "histogram": [
           {
            "marker": {
             "pattern": {
              "fillmode": "overlay",
              "size": 10,
              "solidity": 0.2
             }
            },
            "type": "histogram"
           }
          ],
          "histogram2d": [
           {
            "colorbar": {
             "outlinewidth": 0,
             "ticks": ""
            },
            "colorscale": [
             [
              0,
              "#0d0887"
             ],
             [
              0.1111111111111111,
              "#46039f"
             ],
             [
              0.2222222222222222,
              "#7201a8"
             ],
             [
              0.3333333333333333,
              "#9c179e"
             ],
             [
              0.4444444444444444,
              "#bd3786"
             ],
             [
              0.5555555555555556,
              "#d8576b"
             ],
             [
              0.6666666666666666,
              "#ed7953"
             ],
             [
              0.7777777777777778,
              "#fb9f3a"
             ],
             [
              0.8888888888888888,
              "#fdca26"
             ],
             [
              1,
              "#f0f921"
             ]
            ],
            "type": "histogram2d"
           }
          ],
          "histogram2dcontour": [
           {
            "colorbar": {
             "outlinewidth": 0,
             "ticks": ""
            },
            "colorscale": [
             [
              0,
              "#0d0887"
             ],
             [
              0.1111111111111111,
              "#46039f"
             ],
             [
              0.2222222222222222,
              "#7201a8"
             ],
             [
              0.3333333333333333,
              "#9c179e"
             ],
             [
              0.4444444444444444,
              "#bd3786"
             ],
             [
              0.5555555555555556,
              "#d8576b"
             ],
             [
              0.6666666666666666,
              "#ed7953"
             ],
             [
              0.7777777777777778,
              "#fb9f3a"
             ],
             [
              0.8888888888888888,
              "#fdca26"
             ],
             [
              1,
              "#f0f921"
             ]
            ],
            "type": "histogram2dcontour"
           }
          ],
          "mesh3d": [
           {
            "colorbar": {
             "outlinewidth": 0,
             "ticks": ""
            },
            "type": "mesh3d"
           }
          ],
          "parcoords": [
           {
            "line": {
             "colorbar": {
              "outlinewidth": 0,
              "ticks": ""
             }
            },
            "type": "parcoords"
           }
          ],
          "pie": [
           {
            "automargin": true,
            "type": "pie"
           }
          ],
          "scatter": [
           {
            "fillpattern": {
             "fillmode": "overlay",
             "size": 10,
             "solidity": 0.2
            },
            "type": "scatter"
           }
          ],
          "scatter3d": [
           {
            "line": {
             "colorbar": {
              "outlinewidth": 0,
              "ticks": ""
             }
            },
            "marker": {
             "colorbar": {
              "outlinewidth": 0,
              "ticks": ""
             }
            },
            "type": "scatter3d"
           }
          ],
          "scattercarpet": [
           {
            "marker": {
             "colorbar": {
              "outlinewidth": 0,
              "ticks": ""
             }
            },
            "type": "scattercarpet"
           }
          ],
          "scattergeo": [
           {
            "marker": {
             "colorbar": {
              "outlinewidth": 0,
              "ticks": ""
             }
            },
            "type": "scattergeo"
           }
          ],
          "scattergl": [
           {
            "marker": {
             "colorbar": {
              "outlinewidth": 0,
              "ticks": ""
             }
            },
            "type": "scattergl"
           }
          ],
          "scattermapbox": [
           {
            "marker": {
             "colorbar": {
              "outlinewidth": 0,
              "ticks": ""
             }
            },
            "type": "scattermapbox"
           }
          ],
          "scatterpolar": [
           {
            "marker": {
             "colorbar": {
              "outlinewidth": 0,
              "ticks": ""
             }
            },
            "type": "scatterpolar"
           }
          ],
          "scatterpolargl": [
           {
            "marker": {
             "colorbar": {
              "outlinewidth": 0,
              "ticks": ""
             }
            },
            "type": "scatterpolargl"
           }
          ],
          "scatterternary": [
           {
            "marker": {
             "colorbar": {
              "outlinewidth": 0,
              "ticks": ""
             }
            },
            "type": "scatterternary"
           }
          ],
          "surface": [
           {
            "colorbar": {
             "outlinewidth": 0,
             "ticks": ""
            },
            "colorscale": [
             [
              0,
              "#0d0887"
             ],
             [
              0.1111111111111111,
              "#46039f"
             ],
             [
              0.2222222222222222,
              "#7201a8"
             ],
             [
              0.3333333333333333,
              "#9c179e"
             ],
             [
              0.4444444444444444,
              "#bd3786"
             ],
             [
              0.5555555555555556,
              "#d8576b"
             ],
             [
              0.6666666666666666,
              "#ed7953"
             ],
             [
              0.7777777777777778,
              "#fb9f3a"
             ],
             [
              0.8888888888888888,
              "#fdca26"
             ],
             [
              1,
              "#f0f921"
             ]
            ],
            "type": "surface"
           }
          ],
          "table": [
           {
            "cells": {
             "fill": {
              "color": "#EBF0F8"
             },
             "line": {
              "color": "white"
             }
            },
            "header": {
             "fill": {
              "color": "#C8D4E3"
             },
             "line": {
              "color": "white"
             }
            },
            "type": "table"
           }
          ]
         },
         "layout": {
          "annotationdefaults": {
           "arrowcolor": "#2a3f5f",
           "arrowhead": 0,
           "arrowwidth": 1
          },
          "autotypenumbers": "strict",
          "coloraxis": {
           "colorbar": {
            "outlinewidth": 0,
            "ticks": ""
           }
          },
          "colorscale": {
           "diverging": [
            [
             0,
             "#8e0152"
            ],
            [
             0.1,
             "#c51b7d"
            ],
            [
             0.2,
             "#de77ae"
            ],
            [
             0.3,
             "#f1b6da"
            ],
            [
             0.4,
             "#fde0ef"
            ],
            [
             0.5,
             "#f7f7f7"
            ],
            [
             0.6,
             "#e6f5d0"
            ],
            [
             0.7,
             "#b8e186"
            ],
            [
             0.8,
             "#7fbc41"
            ],
            [
             0.9,
             "#4d9221"
            ],
            [
             1,
             "#276419"
            ]
           ],
           "sequential": [
            [
             0,
             "#0d0887"
            ],
            [
             0.1111111111111111,
             "#46039f"
            ],
            [
             0.2222222222222222,
             "#7201a8"
            ],
            [
             0.3333333333333333,
             "#9c179e"
            ],
            [
             0.4444444444444444,
             "#bd3786"
            ],
            [
             0.5555555555555556,
             "#d8576b"
            ],
            [
             0.6666666666666666,
             "#ed7953"
            ],
            [
             0.7777777777777778,
             "#fb9f3a"
            ],
            [
             0.8888888888888888,
             "#fdca26"
            ],
            [
             1,
             "#f0f921"
            ]
           ],
           "sequentialminus": [
            [
             0,
             "#0d0887"
            ],
            [
             0.1111111111111111,
             "#46039f"
            ],
            [
             0.2222222222222222,
             "#7201a8"
            ],
            [
             0.3333333333333333,
             "#9c179e"
            ],
            [
             0.4444444444444444,
             "#bd3786"
            ],
            [
             0.5555555555555556,
             "#d8576b"
            ],
            [
             0.6666666666666666,
             "#ed7953"
            ],
            [
             0.7777777777777778,
             "#fb9f3a"
            ],
            [
             0.8888888888888888,
             "#fdca26"
            ],
            [
             1,
             "#f0f921"
            ]
           ]
          },
          "colorway": [
           "#636efa",
           "#EF553B",
           "#00cc96",
           "#ab63fa",
           "#FFA15A",
           "#19d3f3",
           "#FF6692",
           "#B6E880",
           "#FF97FF",
           "#FECB52"
          ],
          "font": {
           "color": "#2a3f5f"
          },
          "geo": {
           "bgcolor": "white",
           "lakecolor": "white",
           "landcolor": "#E5ECF6",
           "showlakes": true,
           "showland": true,
           "subunitcolor": "white"
          },
          "hoverlabel": {
           "align": "left"
          },
          "hovermode": "closest",
          "mapbox": {
           "style": "light"
          },
          "paper_bgcolor": "white",
          "plot_bgcolor": "#E5ECF6",
          "polar": {
           "angularaxis": {
            "gridcolor": "white",
            "linecolor": "white",
            "ticks": ""
           },
           "bgcolor": "#E5ECF6",
           "radialaxis": {
            "gridcolor": "white",
            "linecolor": "white",
            "ticks": ""
           }
          },
          "scene": {
           "xaxis": {
            "backgroundcolor": "#E5ECF6",
            "gridcolor": "white",
            "gridwidth": 2,
            "linecolor": "white",
            "showbackground": true,
            "ticks": "",
            "zerolinecolor": "white"
           },
           "yaxis": {
            "backgroundcolor": "#E5ECF6",
            "gridcolor": "white",
            "gridwidth": 2,
            "linecolor": "white",
            "showbackground": true,
            "ticks": "",
            "zerolinecolor": "white"
           },
           "zaxis": {
            "backgroundcolor": "#E5ECF6",
            "gridcolor": "white",
            "gridwidth": 2,
            "linecolor": "white",
            "showbackground": true,
            "ticks": "",
            "zerolinecolor": "white"
           }
          },
          "shapedefaults": {
           "line": {
            "color": "#2a3f5f"
           }
          },
          "ternary": {
           "aaxis": {
            "gridcolor": "white",
            "linecolor": "white",
            "ticks": ""
           },
           "baxis": {
            "gridcolor": "white",
            "linecolor": "white",
            "ticks": ""
           },
           "bgcolor": "#E5ECF6",
           "caxis": {
            "gridcolor": "white",
            "linecolor": "white",
            "ticks": ""
           }
          },
          "title": {
           "x": 0.05
          },
          "xaxis": {
           "automargin": true,
           "gridcolor": "white",
           "linecolor": "white",
           "ticks": "",
           "title": {
            "standoff": 15
           },
           "zerolinecolor": "white",
           "zerolinewidth": 2
          },
          "yaxis": {
           "automargin": true,
           "gridcolor": "white",
           "linecolor": "white",
           "ticks": "",
           "title": {
            "standoff": 15
           },
           "zerolinecolor": "white",
           "zerolinewidth": 2
          }
         }
        },
        "title": {
         "text": "PCA Scatter Plot by Population (Admixure)"
        },
        "xaxis": {
         "anchor": "y",
         "autorange": true,
         "domain": [
          0,
          1
         ],
         "range": [
          -0.48049467058990714,
          0.936843361327513
         ],
         "title": {
          "text": "PC1"
         },
         "type": "linear"
        },
        "yaxis": {
         "anchor": "x",
         "autorange": true,
         "domain": [
          0,
          1
         ],
         "range": [
          -0.6083707002775819,
          0.8580411620801706
         ],
         "title": {
          "text": "PC2"
         },
         "type": "linear"
        }
       }
      },
      "image/png": "[encoded data removed]",
      "text/html": [
       "<div>                            <div id=\"f5e5a4ee-5a07-4b03-9c70-afe5f42441e5\" class=\"plotly-graph-div\" style=\"height:525px; width:100%;\"></div>            <script type=\"text/javascript\">                require([\"plotly\"], function(Plotly) {                    window.PLOTLYENV=window.PLOTLYENV || {};                                    if (document.getElementById(\"f5e5a4ee-5a07-4b03-9c70-afe5f42441e5\")) {                    Plotly.newPlot(                        \"f5e5a4ee-5a07-4b03-9c70-afe5f42441e5\",                        [{\"hovertemplate\":\"Population=Chinese\\u003cbr\\u003eComponent 1=%{x}\\u003cbr\\u003eComponent 2=%{y}\\u003cextra\\u003e\\u003c\\u002fextra\\u003e\",\"legendgroup\":\"Chinese\",\"marker\":{\"color\":\"#636efa\",\"opacity\":0.8,\"symbol\":\"circle\",\"line\":{\"color\":\"black\",\"width\":1},\"size\":8},\"mode\":\"markers\",\"name\":\"Chinese\",\"orientation\":\"v\",\"showlegend\":true,\"x\":[0.8503670100409215,0.8503670100409215,0.8503670100409215,0.8503670100409215,0.8503670100409215,0.8503670100409215,0.8503670100409215,0.8503670100409215,0.8503670100409215,0.8503670100409215,0.8503670100409215,0.8455873645487,0.8277764375875132],\"xaxis\":\"x\",\"y\":[-0.04130213257420924,-0.04130213257420924,-0.04130213257420924,-0.04130213257420924,-0.04130213257420924,-0.04130213257420924,-0.04130213257420924,-0.04130213257420924,-0.04130213257420924,-0.04130213257420924,-0.04130213257420924,-0.037821491969490084,-0.02651065451245903],\"yaxis\":\"y\",\"type\":\"scatter\"},{\"hovertemplate\":\"Population=Megrel\\u003cbr\\u003eComponent 1=%{x}\\u003cbr\\u003eComponent 2=%{y}\\u003cextra\\u003e\\u003c\\u002fextra\\u003e\",\"legendgroup\":\"Megrel\",\"marker\":{\"color\":\"#EF553B\",\"opacity\":0.8,\"symbol\":\"diamond\",\"line\":{\"color\":\"black\",\"width\":1},\"size\":8},\"mode\":\"markers\",\"name\":\"Megrel\",\"orientation\":\"v\",\"showlegend\":true,\"x\":[-0.26527397775160294,-0.2558164599979052,-0.2631830387721747,-0.26083684163687965,-0.25581795575449817,-0.25720243058581244,-0.24664987646495196,-0.259822838970804,-0.2698152152137357,-0.25786875190617753,-0.2522025800963509,-0.2690955428906029,-0.26729088331546896,-0.25596257314531534,-0.2687376657014682,-0.24878611283572882,-0.2663623348732024,-0.27192370081771877,-0.2638796795251981,-0.2672071460005401,-0.2705082040580408,-0.2673655905630884,-0.2622110296135953,-0.2505784341382991,-0.27901125605525895,-0.254356715706437,-0.2783525824527257,-0.2779495123183449,-0.273159258795782,-0.2714502194556286,-0.26838465590459937,-0.28265709272752326,-0.2864727400322943,-0.19293994774749862,-0.20023686747261032,-0.2107649364692195],\"xaxis\":\"x\",\"y\":[0.7569331554420083,0.749973390978009,0.7594376058181838,0.7554019543597694,0.7410771389579653,0.752402459391253,0.7405933342100691,0.7276923520131275,0.7566519658116209,0.7401464515048216,0.7425332989436929,0.7513823937110548,0.7419559313050209,0.7347161578204235,0.7290207901716187,0.7167676636671496,0.7252192226039609,0.7335858866757214,0.7295267751543025,0.7120159088119054,0.731117272693312,0.7170334884070628,0.7240392112855331,0.6874131624412206,0.7350852646068492,0.7074987514853643,0.7146135517778915,0.7172176092826708,0.7026047225486578,0.6924098207358887,0.6199673141619609,0.600406286484861,0.5808896909194595,0.4152479986802019,0.4148602738763442,0.30079821286960856],\"yaxis\":\"y\",\"type\":\"scatter\"},{\"hovertemplate\":\"Population=Yakut\\u003cbr\\u003eComponent 1=%{x}\\u003cbr\\u003eComponent 2=%{y}\\u003cextra\\u003e\\u003c\\u002fextra\\u003e\",\"legendgroup\":\"Yakut\",\"marker\":{\"color\":\"#00cc96\",\"opacity\":0.8,\"symbol\":\"square\",\"line\":{\"color\":\"black\",\"width\":1},\"size\":8},\"mode\":\"markers\",\"name\":\"Yakut\",\"orientation\":\"v\",\"showlegend\":true,\"x\":[0.7924355998862254,0.7763305323291765,0.761692184668795,0.7615049866581955,0.7612808858139655,0.7569719767671226,0.7536453540554677,0.7535983868126652,0.7532595517038743,0.7495243139798358,0.748749354473591,0.7480119687615887,0.7475006967756506,0.7392854550488452,0.7794662899680074,0.7626178854009891,0.741471394354388,0.7292702810807556,0.7243073551560102,0.7348104193710296,0.7244807370458166,0.7382588572155071,0.7299923772373615,0.7324910687921584,0.6863119523562562,0.7407891449862751,0.7258761146898123,0.749406677406963,0.7413985581476061,0.7091310527961079,0.7109612911018308,0.7312251453746024,0.6387217040469262,0.6434212951768241,0.7039838739942548,0.6510253295926407,0.6528596354245981,0.6513758043529911,0.6179838218746254,0.6696162916011723,0.5984649198889282],\"xaxis\":\"x\",\"y\":[-0.04090238403270782,-0.04079125300293449,-0.04069024289267475,-0.04068895115592073,-0.040687404775720575,-0.04065767168097391,-0.04063471673177522,-0.04063439264011651,-0.040632054550292916,-0.040606280003663404,-0.04060093249129461,-0.04059584425225279,-0.04059231628305363,-0.04053562802206357,-0.04081366433595767,-0.04160250238116337,-0.043127298105522856,-0.043444057271452625,-0.04346339827898214,-0.045118945454859886,-0.042238129358813645,-0.041235699320593955,-0.04382045730153602,-0.043125413064389356,-0.03859005749330015,-0.042033505167768624,-0.04551646990625781,-0.04536238063154003,-0.04658514740093397,-0.04733992653519347,-0.05567023453395938,-0.05450697861967229,-0.026368548048946904,-0.05497010351915773,-0.062475856814890075,-0.05054056341942943,-0.0733038678693751,-0.05454757334879246,-0.032554365179178146,-0.08354887775609085,-0.09980060256344872],\"yaxis\":\"y\",\"type\":\"scatter\"},{\"hovertemplate\":\"Population=Ket\\u003cbr\\u003eComponent 1=%{x}\\u003cbr\\u003eComponent 2=%{y}\\u003cextra\\u003e\\u003c\\u002fextra\\u003e\",\"legendgroup\":\"Ket\",\"marker\":{\"color\":\"#ab63fa\",\"opacity\":0.8,\"symbol\":\"x\",\"line\":{\"color\":\"black\",\"width\":1},\"size\":8},\"mode\":\"markers\",\"name\":\"Ket\",\"orientation\":\"v\",\"showlegend\":true,\"x\":[0.20589592351437438,0.17943994660421975,0.17943994660421975,0.17943994660421975,0.17943994660421975,0.17943994660421975,0.17943994660421975,0.17943994660421975,0.17943994660421975,0.17943994660421975,0.17943994660421975,0.3327369146341773,0.21463001993678138,0.338756536787277,0.17943610415174588,0.2434899896614717,0.321218627843576,0.23853973093171704,0.16580593784664255,0.19241136375617152,0.16277471850435019,0.1893771444868934,0.15139206724321608,0.13894035106765557,0.17427786949174084,0.12360031172538637,-0.057450282851004925,-0.05698416345214674,0.028936057389763042,-0.06270801741989601,-0.10892832017509091],\"xaxis\":\"x\",\"y\":[-0.036855039430940706,-0.03667248322946746,-0.03667248322946746,-0.03667248322946746,-0.03667248322946746,-0.03667248322946746,-0.03667248322946746,-0.03667248322946746,-0.03667248322946746,-0.03667248322946746,-0.03667248322946746,-0.045004408567184795,-0.045406776569706125,-0.05237455329739334,-0.03667231299135248,-0.055636825306323155,-0.07074405547789081,-0.05630708696608386,-0.049283050454286874,-0.06016504825581557,-0.0520867302794085,-0.0792088768197686,-0.0626149389286389,-0.06113444134786806,-0.0717087183195152,-0.0548169699040661,-0.1305500135822373,-0.18689971404866063,-0.2639480991817112,-0.27033184092594253,-0.2772376416417013],\"yaxis\":\"y\",\"type\":\"scatter\"},{\"hovertemplate\":\"Population=Abkhaz\\u003cbr\\u003eComponent 1=%{x}\\u003cbr\\u003eComponent 2=%{y}\\u003cextra\\u003e\\u003c\\u002fextra\\u003e\",\"legendgroup\":\"Abkhaz\",\"marker\":{\"color\":\"#FFA15A\",\"opacity\":0.8,\"symbol\":\"cross\",\"line\":{\"color\":\"black\",\"width\":1},\"size\":8},\"mode\":\"markers\",\"name\":\"Abkhaz\",\"orientation\":\"v\",\"showlegend\":true,\"x\":[-0.23333481499609943,-0.24224237171382762,-0.26020683599556776,-0.2523409475834942,-0.2557861572252294,-0.2326717624638145,-0.250644536470335,-0.22029573785901074,-0.2500652976852108,-0.22419236275605653,-0.2504143102216026,-0.2614488455175796,-0.2472658510088328,-0.2591563306924991,-0.2616852560343638,-0.24239508660889875,-0.26418722875981215,-0.2522889669046349,-0.25764530433933164,-0.25913382088507475,-0.2410896075736062,-0.23916863404642147,-0.26598449756812786,-0.26387658612087356,-0.26741274197216897,-0.30019268214384454],\"xaxis\":\"x\",\"y\":[0.7306437952685433,0.7287734322799787,0.7370575773345435,0.730757254884067,0.7266039928595641,0.7156809041135378,0.7355371072607638,0.7028001300524275,0.7157220817201423,0.6881483277829721,0.7193979246189403,0.7154904092130114,0.6913898736349,0.7092189754097113,0.7261487869387789,0.6814527886478167,0.6917861882710818,0.688774657966332,0.6636625207884526,0.6845092633966604,0.6688882021530009,0.6720477966282743,0.6536349851971118,0.6426578274288314,0.48602678344696815,0.18910335328886332],\"yaxis\":\"y\",\"type\":\"scatter\"},{\"hovertemplate\":\"Population=Buryat\\u003cbr\\u003eComponent 1=%{x}\\u003cbr\\u003eComponent 2=%{y}\\u003cextra\\u003e\\u003c\\u002fextra\\u003e\",\"legendgroup\":\"Buryat\",\"marker\":{\"color\":\"#19d3f3\",\"opacity\":0.8,\"symbol\":\"circle\",\"line\":{\"color\":\"black\",\"width\":1},\"size\":8},\"mode\":\"markers\",\"name\":\"Buryat\",\"orientation\":\"v\",\"showlegend\":true,\"x\":[0.7363858458742074,0.7214496145273028,0.7290553697848365,0.7610652572956282,0.7337959476070921,0.7286906851797554,0.7438705625142619,0.7058254237454429,0.705473661250819,0.6884268195230312,0.7143889321276251,0.7133333047037078,0.7272718226366184,0.7130989650936324,0.7183558171060564,0.7081446839647589,0.737520271816603,0.7275355934166061,0.7440579283502664,0.7057068315512547,0.6707044308294894,0.7121440215053558,0.714965895590099,0.693800789161829,0.6967169408035008,0.7299940867256192,0.7087423790817939,0.7197218740061495,0.7262857538031593,0.7093333023529491,0.7441006417034322,0.6937160396721225,0.7174310815308664,0.6999230555586478,0.7080856107663125,0.699404784845191,0.5344489284903546,0.5666204041213867,0.632833017582948,0.4608751145553133,0.46590800292197054,0.3544636720496094,0.16417771169531745,0.1672497277163839],\"xaxis\":\"x\",\"y\":[-0.01956153223009924,-0.016810265137104187,-0.017944177797303073,-0.010801204467463223,-0.01672296299122758,-0.028706615286127807,-0.03577067240738959,-0.030847835078205068,-0.033177628987496675,-0.006439837937120007,-0.003245559388701535,-0.04377801614821436,-0.03350620608882932,-0.015753458739135567,-0.03145062155139166,-0.04733189192414995,-0.04272109989888742,-0.0537971799901203,-0.03263897430246018,-0.031642650369616235,-0.04241167015815312,-0.031477711040421304,-0.055660794226404416,-0.043091178501649875,-0.06692199018991182,-0.0595587091431088,-0.050688140809310604,-0.06385596968633407,-0.06658302675843164,-0.05173609446607385,-0.04994097155776455,-0.04617460666795282,-0.07481451278762047,-0.07707469567376377,-0.07067423911960055,-0.08126306127511754,0.04199328981474329,-0.0346601784641401,-0.07586747604129973,-0.09712606607026436,-0.09254589414537645,-0.13674119509096158,-0.18994385319902968,-0.20883406432115983],\"yaxis\":\"y\",\"type\":\"scatter\"},{\"hovertemplate\":\"Population=Tatar\\u003cbr\\u003eComponent 1=%{x}\\u003cbr\\u003eComponent 2=%{y}\\u003cextra\\u003e\\u003c\\u002fextra\\u003e\",\"legendgroup\":\"Tatar\",\"marker\":{\"color\":\"#FF6692\",\"opacity\":0.8,\"symbol\":\"diamond\",\"line\":{\"color\":\"black\",\"width\":1},\"size\":8},\"mode\":\"markers\",\"name\":\"Tatar\",\"orientation\":\"v\",\"showlegend\":true,\"x\":[-0.26260470381699635,-0.19520878466934882,-0.10814754648513453,-0.1420768499452174,-0.123822540514959,-0.1420037946194448,-0.12508301995083454,-0.17808220348517662,-0.18252514829022254,-0.14567791503885946,-0.16743753708913145,-0.13919341608389876,-0.12128988752710923,-0.1783846874096755,-0.14919284409473357,-0.14002305921387248,-0.10545982085386785,-0.16022569795970826,-0.15976775796152515,-0.15320999889702577,-0.14303474843665254,-0.17894531530549035,-0.1348876888090402,-0.13648370786345787,-0.18875224797075224,-0.17559993721388645,-0.18009950481647202,-0.16165336789130064,-0.1877383728852295,-0.20394104238225202,-0.16513299541985016,-0.23571616915132193,-0.20363738259894498,-0.2660845281108349],\"xaxis\":\"x\",\"y\":[0.738481437993728,0.0960508272266441,-0.15859280541007081,-0.09955903490747317,-0.15629865967984874,-0.10061573377520822,-0.14543950837174724,-0.146289860165664,-0.1303322029316651,-0.18031716302544182,-0.1690660630305196,-0.19169373441795237,-0.20987320171093662,-0.15178170366833021,-0.17093577680076413,-0.18688444539463925,-0.1984459350996511,-0.17027604510217373,-0.18163381598987538,-0.20823540765635865,-0.21668477157569443,-0.1740237983900081,-0.21095858061231723,-0.21648889951555708,-0.1762858009283279,-0.20829608399902708,-0.1813320258459956,-0.20053232835992266,-0.21603693597823598,-0.2006648451221752,-0.2668292401072104,-0.2083909338076682,-0.24725655479664713,-0.2557777832163988],\"yaxis\":\"y\",\"type\":\"scatter\"},{\"hovertemplate\":\"Population=Tuva\\u003cbr\\u003eComponent 1=%{x}\\u003cbr\\u003eComponent 2=%{y}\\u003cextra\\u003e\\u003c\\u002fextra\\u003e\",\"legendgroup\":\"Tuva\",\"marker\":{\"color\":\"#B6E880\",\"opacity\":0.8,\"symbol\":\"square\",\"line\":{\"color\":\"black\",\"width\":1},\"size\":8},\"mode\":\"markers\",\"name\":\"Tuva\",\"orientation\":\"v\",\"showlegend\":true,\"x\":[0.6476933328161625,0.6133944333058883,0.6008480154381957,0.624591021014544,0.6452596687981422,0.6327570119870303,0.5941753641503187,0.6368096869155089,0.6648445832319947,0.6283540096786833,0.6128553136276655,0.6022758150564074,0.6164524125513182,0.593843422913493,0.6053035063919046,0.6308544295120306,0.6208764968668525,0.6111827243136096,0.5984569124103216,0.6235834867283783,0.6321343520494247,0.6045426031602081,0.6127602440527358,0.6181832993206637,0.6077897445609819,0.595019425933899,0.6012749621204165,0.6185330534543227,0.6274824161453396,0.5805620505148528,0.6096602286664106,0.5517899305143648,0.6070150309941975,0.6311003977489604,0.5698463436016017,0.5802699990824931,0.5501484339686322,0.5731644602095662,0.5000918480935144,0.5561458001309543,0.5632719742240528,0.5574158772658805,0.548731252062906,0.17789820620669655],\"xaxis\":\"x\",\"y\":[-0.02085253792030245,-0.0022758595128127383,-0.015162632668682365,-0.012533443823346351,-0.021077841372212767,-0.0396910906325152,-0.01038358697610827,-0.03034556928292346,-0.019016566730933854,-0.029085337418136344,-0.04980149268765308,-0.014646649374931275,-0.02127414569047734,-0.018693630058884952,-0.02258086844676896,-0.022619874943869123,-0.0228006103966489,-0.015774948751982678,-0.01554100381798618,-0.02078556929992913,-0.0414799090252251,-0.040962568294642024,-0.03497220548841543,-0.04693083838327883,-0.05590668448395735,-0.045992370927814705,-0.03524356668722142,-0.04411820821784041,-0.06613748622432075,-0.03435380596703613,-0.05252522422126033,-0.05696713559399406,-0.0641484316163339,-0.0536155504819763,-0.04302675792083824,-0.04092156601698412,-0.03505096088295465,-0.054139790560395626,-0.014713604415274813,-0.025642230897117247,-0.061234383337020803,-0.07413721642230456,-0.06763428358796778,-0.14500327726642454],\"yaxis\":\"y\",\"type\":\"scatter\"},{\"hovertemplate\":\"Population=Khanty\\u003cbr\\u003eComponent 1=%{x}\\u003cbr\\u003eComponent 2=%{y}\\u003cextra\\u003e\\u003c\\u002fextra\\u003e\",\"legendgroup\":\"Khanty\",\"marker\":{\"color\":\"#FF97FF\",\"opacity\":0.8,\"symbol\":\"x\",\"line\":{\"color\":\"black\",\"width\":1},\"size\":8},\"mode\":\"markers\",\"name\":\"Khanty\",\"orientation\":\"v\",\"showlegend\":true,\"x\":[0.21832848245869993,0.16500326068535162,0.1529625721909321,0.0677996456730763,0.0954510709766883,0.07677008161119243,0.08173165205728271,0.07120721782449538,0.07069904268928257,0.06939906475307822,0.06939906475307822,0.06939906475307822,0.06939906475307822,0.06939906475307822,0.06753798735602995,0.05837607261219795,0.1352362414735514,0.056639577493062795,0.08391131520016223,0.07435385482364909,0.07211434304908759,0.15032301602526177,0.07897907004833025,0.03921649192797574,0.0759695385175074,0.07464564914933511,0.057829966669870385,-0.06462566221749172,-0.08595132144236195],\"xaxis\":\"x\",\"y\":[-0.1062382912001136,-0.11246657209862526,-0.11340411724038574,-0.10078789806124494,-0.1279684019956724,-0.129412752265568,-0.13000289216709307,-0.11619673654710419,-0.1348966377560651,-0.13607088984603108,-0.13607088984603108,-0.13607088984603108,-0.13607088984603108,-0.13607088984603108,-0.13782215126040087,-0.11147217045192573,-0.1197927024323937,-0.1439996142067083,-0.1427037391593514,-0.1447820169940564,-0.14726785335528644,-0.1305102915970421,-0.1416378576297219,-0.15920876861899022,-0.15380942233510755,-0.1668259210719754,-0.17468706578456428,-0.22742353687140834,-0.2163700046535148],\"yaxis\":\"y\",\"type\":\"scatter\"},{\"hovertemplate\":\"Population=Kirgiz\\u003cbr\\u003eComponent 1=%{x}\\u003cbr\\u003eComponent 2=%{y}\\u003cextra\\u003e\\u003c\\u002fextra\\u003e\",\"legendgroup\":\"Kirgiz\",\"marker\":{\"color\":\"#FECB52\",\"opacity\":0.8,\"symbol\":\"cross\",\"line\":{\"color\":\"black\",\"width\":1},\"size\":8},\"mode\":\"markers\",\"name\":\"Kirgiz\",\"orientation\":\"v\",\"showlegend\":true,\"x\":[0.5092595591152687,0.5130221321334516,0.5245008374029084,0.49744170120423903,0.44821339434112645,0.4395211170075069,0.41513326946531054,0.44158154281074624,0.4256044297534926,0.47995058330852497,0.4638773481441763,0.46808894024258174,0.47019693882674357,0.4794954220916826,0.47283579351176375,0.47350069746240436,0.38354301270959706,0.4298972175324718,0.4622619837518363,0.49257500223375134,0.39012761945064733,0.45812492630038176,0.45241172162718046,0.44118526828944626,0.3514766444637952,0.32245586527899356,-0.34260908073381496,-0.36472710359535887],\"xaxis\":\"x\",\"y\":[0.034489795354964076,0.0443764310354609,0.011437648655270253,-0.012512005650106777,0.03678577665944437,0.030134289157536222,0.06181997986271786,0.055991626428621204,0.07405814317721227,0.024239041863750116,0.036068343787342964,0.008761956648582613,0.007866621206434665,0.008359607545675787,0.01609780794601989,0.009557498252865167,0.06002960127241703,0.04719461042818449,0.0011018299807038952,-0.014728857795914842,0.04138074891259417,-0.005940818963203465,-0.010960712781216013,-0.01937954257779432,-0.028358148508733753,0.009872379761557172,-0.35483968374346286,-0.34048005217404814],\"yaxis\":\"y\",\"type\":\"scatter\"},{\"hovertemplate\":\"Population=Kazakh\\u003cbr\\u003eComponent 1=%{x}\\u003cbr\\u003eComponent 2=%{y}\\u003cextra\\u003e\\u003c\\u002fextra\\u003e\",\"legendgroup\":\"Kazakh\",\"marker\":{\"color\":\"#636efa\",\"opacity\":0.8,\"symbol\":\"circle\",\"line\":{\"color\":\"black\",\"width\":1},\"size\":8},\"mode\":\"markers\",\"name\":\"Kazakh\",\"orientation\":\"v\",\"showlegend\":true,\"x\":[0.5145718439098932,0.4753456700428796,0.4333467798093204,0.43881422345245974,0.43555300383209455,0.3998345422627294,0.4433933871031773,0.4776800432925967,0.3493072908831512,0.38194720833909135,0.4168414388720602,0.4019770050745782,0.37671032298066437,0.38698706675409283,0.37022602482798384,0.3657766121992,0.40252550216168165,0.35315785348789897,0.38872822693339987,0.4054386198388421,0.3578715607697424,0.38365118338740456,0.3771520505585429,0.3915088424617816,0.4266754313534694,0.38802131350224633,0.39013136129935105,0.3903303998687796,0.3128752919060891,0.3748611252138821,0.3434267208442714,0.3624105462023389,0.3933899373650551,0.39705566043266477,0.38194204656416436,0.42051075775720276,0.37264686358155863,0.4036867698426949,0.3524053712208814,0.29107377500390214,0.36543567269098737,0.395691037601573,0.33790341188378764,0.22482926211155685,0.030924074559914305],\"xaxis\":\"x\",\"y\":[0.04782737120652214,0.05098510916613702,0.038367159168245187,0.024386084484206115,0.04634460337836694,0.04388289071174527,0.035407821679102454,0.021184596941742347,0.06321815439136039,0.048285471239633525,0.0020588310819854606,0.030328660778116627,0.052245268533591176,0.027479685353602477,0.02163913617645181,0.01529050637479763,0.02898450272622005,0.04459577938583891,0.034699282748836276,0.014918084167840732,0.02930323648767446,0.013446862337942723,0.03702631138546453,0.014817097897664031,-0.005674433471676631,0.005415875473914124,0.021746943729762908,0.016388546837759282,0.03837458461343004,0.009008701049185629,0.03806067765109831,0.015281507251245996,0.0002803243152677132,0.0036774383977567424,0.005377631596779328,-0.015050516905824481,-0.006547252313114819,-0.01205367004666107,-0.004250475682993079,0.04765202035474818,-0.011031722786204862,-0.03311591255993391,-0.01572494361786797,0.07530628432392703,-0.2270894733941999],\"yaxis\":\"y\",\"type\":\"scatter\"},{\"hovertemplate\":\"Population=Karachay\\u003cbr\\u003eComponent 1=%{x}\\u003cbr\\u003eComponent 2=%{y}\\u003cextra\\u003e\\u003c\\u002fextra\\u003e\",\"legendgroup\":\"Karachay\",\"marker\":{\"color\":\"#EF553B\",\"opacity\":0.8,\"symbol\":\"diamond\",\"line\":{\"color\":\"black\",\"width\":1},\"size\":8},\"mode\":\"markers\",\"name\":\"Karachay\",\"orientation\":\"v\",\"showlegend\":true,\"x\":[-0.19775338716875163,-0.13796059375192196,-0.19375316965722028,-0.21031202816195183,-0.20573438820856083,-0.20484216263935917,-0.20737193527907338,-0.18452086174420756,-0.1849196573419657,-0.19441507464298985,-0.2371315106358532,-0.18248591402066533,-0.19250130184457875,-0.21396270539920043,-0.2177757983634816,-0.21513780669214821,-0.18369250777495605,0.11885986360099965,-0.20115038545631503,-0.17541899763761448,-0.21290555624506413,-0.19867481770304046,-0.21274021867293863],\"xaxis\":\"x\",\"y\":[0.5964722755224079,0.5673702382344293,0.568792218833475,0.5791292891922557,0.5823877128940264,0.5710107838800015,0.558706794938295,0.543045894634785,0.5381793217514141,0.540928619875568,0.5606665761169533,0.5430239989074507,0.542665782376568,0.5422718494872937,0.5541189535277756,0.5295707598015462,0.5126826873944736,0.2776188618319106,0.5087188378638404,0.49887951055643687,0.5083797120291108,0.48409104626180366,0.45366509159227963],\"yaxis\":\"y\",\"type\":\"scatter\"},{\"hovertemplate\":\"Population=Cherkes\\u003cbr\\u003eComponent 1=%{x}\\u003cbr\\u003eComponent 2=%{y}\\u003cextra\\u003e\\u003c\\u002fextra\\u003e\",\"legendgroup\":\"Cherkes\",\"marker\":{\"color\":\"#00cc96\",\"opacity\":0.8,\"symbol\":\"square\",\"line\":{\"color\":\"black\",\"width\":1},\"size\":8},\"mode\":\"markers\",\"name\":\"Cherkes\",\"orientation\":\"v\",\"showlegend\":true,\"x\":[-0.18577155340396373,-0.20733672037234357,-0.18665953427652232,-0.17843556638057528,-0.20912522177558196,-0.22643204196953215,-0.21206881243667058,-0.19048894641779007,-0.24070773628134456,-0.24949606276175268,-0.16227509966037817,-0.17596828875183462,-0.21681763425702683,-0.21023699101886967,-0.2175385179362721,-0.19390661033305523,-0.17481724177635705,-0.2179170495595662,-0.2109041255294996,-0.18935708141071556,-0.20785499509853006,-0.23357761474483224,-0.21456760578580625,-0.23623560617027595,-0.2183649359485174,-0.20802170629692063,-0.1845625997009122,-0.1873688207617225,-0.2239190658994888,-0.2229732477303088,-0.2232720562583524,-0.20483503013077975,-0.21571163429692614],\"xaxis\":\"x\",\"y\":[0.5890981640754868,0.5495161865366639,0.49991619748083316,0.49084105459970806,0.4953039205395361,0.5078976236999916,0.49143578947999883,0.4627150711787838,0.4698967418559231,0.5046543792958512,0.445231257624677,0.4558737239348377,0.476267524545219,0.4641043122976019,0.47447515994302636,0.47089299677550805,0.4473216080782084,0.47119772411618066,0.4650546657156976,0.4537910688413987,0.45214352359213106,0.45903001360200524,0.44943110220896215,0.46108474585836007,0.43307478840131947,0.4302379841220298,0.4168065613271116,0.4116882315923406,0.4003079392767634,0.4380640705613939,0.4140650736657719,0.4103355618051252,0.38922572838129726],\"yaxis\":\"y\",\"type\":\"scatter\"},{\"hovertemplate\":\"Population=Adygei\\u003cbr\\u003eComponent 1=%{x}\\u003cbr\\u003eComponent 2=%{y}\\u003cextra\\u003e\\u003c\\u002fextra\\u003e\",\"legendgroup\":\"Adygei\",\"marker\":{\"color\":\"#ab63fa\",\"opacity\":0.8,\"symbol\":\"x\",\"line\":{\"color\":\"black\",\"width\":1},\"size\":8},\"mode\":\"markers\",\"name\":\"Adygei\",\"orientation\":\"v\",\"showlegend\":true,\"x\":[-0.23224633870096012,-0.24573672174389732,-0.2329764438863614,-0.22690661640553683,-0.24094746439098574,-0.2487815791359702,-0.25086542074325213,-0.2391950858532803,-0.2457011192455127,-0.255129226495541,-0.24416453235777635,-0.25160003811273973,-0.2404330384506408,-0.23719392413003143,-0.2504855523394923,-0.2290018759292327,-0.25291885262128333,-0.2268758689527347,-0.26545860270489674,-0.23394522479621338,-0.22364444322082633,-0.26568995100249265,-0.2540271777176232,-0.2399123170461821,-0.22226787902851164,-0.19073358700768994,-0.260542807880851,-0.25902849272358114,-0.22725187381654743,-0.24676039298496905,-0.22968563588609997],\"xaxis\":\"x\",\"y\":[0.5973095856291886,0.60120826924663,0.5867116021098184,0.5731410028752654,0.577184078729396,0.5736326639819173,0.5768534735973835,0.5768389460361466,0.5734780139286637,0.567119923673811,0.5784793470051852,0.5904548273560085,0.5731395084034051,0.5505238178068173,0.5697597528654843,0.543184183750413,0.560467892488231,0.5361070168378949,0.5673940644948954,0.5496336961464334,0.5312260118481706,0.5654211582831441,0.5356428747163332,0.5373422063298039,0.5100481927588618,0.48820013940541823,0.5433947479122594,0.5217852144005225,0.4845554278225453,0.47126248704792084,0.1253058243311216],\"yaxis\":\"y\",\"type\":\"scatter\"},{\"hovertemplate\":\"Population=Kabardin\\u003cbr\\u003eComponent 1=%{x}\\u003cbr\\u003eComponent 2=%{y}\\u003cextra\\u003e\\u003c\\u002fextra\\u003e\",\"legendgroup\":\"Kabardin\",\"marker\":{\"color\":\"#FFA15A\",\"opacity\":0.8,\"symbol\":\"cross\",\"line\":{\"color\":\"black\",\"width\":1},\"size\":8},\"mode\":\"markers\",\"name\":\"Kabardin\",\"orientation\":\"v\",\"showlegend\":true,\"x\":[-0.19322160485703638,-0.19199979156596486,-0.20532064344875867,-0.21088884757785015,-0.1944763944649151,-0.1948758846884096,-0.21053874188993643,-0.2066671220564693,-0.20801262066215576,-0.2098022022510705,-0.2185446456570112,-0.19623781497098336,-0.20791439844263654,-0.18713881210333894,-0.21503150587099606,-0.2193566795938386,-0.2252759093247027,-0.16958528667796557,-0.21013596298891596,-0.1898195115481104,-0.19216777244857913,-0.20897078658384233,-0.19978401167015386,-0.22603468197145982,-0.24121038294247216,-0.1779579368148756,-0.19208784277443136,-0.18346449408786186,-0.2163628400091786,-0.20161435967974883,-0.22473586076173485,-0.1890168524460752,-0.23116273021424333,-0.24321165184422083,-0.21995655263280772],\"xaxis\":\"x\",\"y\":[0.5405311667761694,0.5173950532988155,0.5127439502888955,0.5093191495690319,0.5108155108065614,0.463011350019151,0.49302292989173224,0.471186257664663,0.494627728982695,0.4854662181879465,0.488183424273389,0.46618314394093796,0.46657976483822866,0.46614687500675717,0.48173008291211405,0.48608954282299904,0.48572146487403595,0.4430764907809494,0.4494362355571232,0.4312009896977737,0.4260290711173297,0.4403260854681277,0.437070365621835,0.45188435503709673,0.4409639860070083,0.40616315471438,0.41911743112009126,0.3972773416152871,0.42336243284317526,0.3926798884909831,0.4011969094501692,0.3943482723574907,0.4162818606278217,0.4205331823892264,0.3961721455545055],\"yaxis\":\"y\",\"type\":\"scatter\"},{\"hovertemplate\":\"Population=Uzbek\\u003cbr\\u003eComponent 1=%{x}\\u003cbr\\u003eComponent 2=%{y}\\u003cextra\\u003e\\u003c\\u002fextra\\u003e\",\"legendgroup\":\"Uzbek\",\"marker\":{\"color\":\"#19d3f3\",\"opacity\":0.8,\"symbol\":\"circle\",\"line\":{\"color\":\"black\",\"width\":1},\"size\":8},\"mode\":\"markers\",\"name\":\"Uzbek\",\"orientation\":\"v\",\"showlegend\":true,\"x\":[0.1843267313503814,0.46351160714930223,0.1374390773312182,0.21724970254496295,0.13801091242648336,0.22190907934720583,0.16427697455963985,0.19825513232069764,0.20503888797019607,0.08643897497607689,0.1914771918651864,0.23423081943800245,0.25096814404869117,0.2069391022165692,0.19546376519687286,0.1553057273926685,0.23829505897325245,0.16637138349616215,0.13202629449415293,0.17004544526808313,0.15856603876975253,0.13851150555472488,0.18297624338395935,0.16061720657235706,0.15252859633969068,0.13723916024085234,0.10199336914739271,0.13677045100062296,0.2003995772745084,0.1853490040956867,0.19475975195489578,0.1499972603895099,0.1287110939403566,0.1675802096361702,0.13891439493541158,0.06271567902683339,0.0017534590988433074,0.01640228527218568,-0.03237287105455472],\"xaxis\":\"x\",\"y\":[0.21120439710462663,-0.0070584386968216735,0.23088699525559328,0.17920199527409256,0.22207915629651906,0.1887460297169694,0.19407712592503829,0.18159179368262843,0.15419820512881457,0.24214742703256814,0.17757792459449262,0.12915298820430707,0.12026339876154984,0.15017971539948602,0.1684521327281995,0.16532029644923382,0.13813940990379153,0.18390543460324363,0.17035128294841237,0.16601583310266999,0.17409133380517558,0.17067713065382784,0.1463842210069281,0.17421473233273768,0.15988937410628473,0.17233692829316685,0.189455047791451,0.160032478042616,0.13091669795488725,0.14214175913245736,0.11739150334139065,0.1384439961640029,0.14544035807024067,0.1455091830322881,0.13957941371353438,0.02874591368637478,0.010732047487409548,-0.051149130231137,0.005899979697799075],\"yaxis\":\"y\",\"type\":\"scatter\"},{\"hovertemplate\":\"Population=Chechen\\u003cbr\\u003eComponent 1=%{x}\\u003cbr\\u003eComponent 2=%{y}\\u003cextra\\u003e\\u003c\\u002fextra\\u003e\",\"legendgroup\":\"Chechen\",\"marker\":{\"color\":\"#FF6692\",\"opacity\":0.8,\"symbol\":\"diamond\",\"line\":{\"color\":\"black\",\"width\":1},\"size\":8},\"mode\":\"markers\",\"name\":\"Chechen\",\"orientation\":\"v\",\"showlegend\":true,\"x\":[-0.25412841244072915,-0.23859995853187943,-0.2498612286992843,-0.24558716164536182,-0.26016867188697695,-0.24477594113258488,-0.23636276380798504,-0.2728268698383506,-0.2621823934839318,-0.24590066855345633,-0.24482336097684904,-0.2662717874024568,-0.24300856679558935,-0.2437509301738428,-0.2737759980483893,-0.25715640623728686,-0.2671043611464258,-0.27985390730076926],\"xaxis\":\"x\",\"y\":[0.5105265857572578,0.483785074650375,0.47627438579351233,0.47427681931156074,0.47041627731711866,0.4660454961953416,0.44633985677563015,0.47770045379061254,0.45361878991402854,0.46157269687580615,0.4465040304543272,0.44022747170569687,0.41910755718919357,0.42566433697726985,0.4509576333713158,0.42749771562126565,0.4211505051522376,0.35012184796310647],\"yaxis\":\"y\",\"type\":\"scatter\"},{\"hovertemplate\":\"Population=Bashkir\\u003cbr\\u003eComponent 1=%{x}\\u003cbr\\u003eComponent 2=%{y}\\u003cextra\\u003e\\u003c\\u002fextra\\u003e\",\"legendgroup\":\"Bashkir\",\"marker\":{\"color\":\"#B6E880\",\"opacity\":0.8,\"symbol\":\"square\",\"line\":{\"color\":\"black\",\"width\":1},\"size\":8},\"mode\":\"markers\",\"name\":\"Bashkir\",\"orientation\":\"v\",\"showlegend\":true,\"x\":[0.16079175607226537,0.13134822573359248,0.13773214129531308,0.08258433948684776,0.14431117641965205,0.09909984595129367,0.11071402262005775,0.15146046934485688,0.0976632504073254,0.11625758400701261,0.10096028851626712,0.08737904243851813,0.11795037142487338,0.11130104347799333,0.04973216089419788,0.09135948049074322,0.0902151848913594,0.06155051891174232,0.07393879178453605,0.07385016502438718,0.11127675119745781,0.08373579832235822,0.09554737248132122,0.09074742146091697,0.10013332945228562,0.06753070556665955,0.05012793487077294,0.054951800938363826,0.030693869149786696,0.06479503906901765,0.08466880289676929,0.023253341006842537,-0.0362757770721201,-0.04397216958220085],\"xaxis\":\"x\",\"y\":[-0.06919899478077474,-0.051453744178775955,-0.07157795561616373,-0.03601126644924494,-0.08221947969734417,-0.05199927657350729,-0.062495614312775095,-0.09459848565724038,-0.054413498759671046,-0.08940030869135551,-0.07480499093908996,-0.08211593411538429,-0.09378829950582107,-0.10437671521030209,-0.08993505949156236,-0.09188473392381188,-0.09245257408908669,-0.09229326691535383,-0.10179383424621172,-0.08956364701198863,-0.13512387337356174,-0.10729347611167003,-0.12128209181349756,-0.1461236585861206,-0.11733437700525942,-0.09832058300926536,-0.11198565576031522,-0.12369321571848263,-0.13029638129248095,-0.1276188146153666,-0.1701960401066793,-0.12652079933291321,-0.12718298608805123,-0.20466907405062643],\"yaxis\":\"y\",\"type\":\"scatter\"},{\"hovertemplate\":\"Population=Russian_NSK\\u003cbr\\u003eComponent 1=%{x}\\u003cbr\\u003eComponent 2=%{y}\\u003cextra\\u003e\\u003c\\u002fextra\\u003e\",\"legendgroup\":\"Russian_NSK\",\"marker\":{\"color\":\"#FF97FF\",\"opacity\":0.8,\"symbol\":\"x\",\"line\":{\"color\":\"black\",\"width\":1},\"size\":8},\"mode\":\"markers\",\"name\":\"Russian_NSK\",\"orientation\":\"v\",\"showlegend\":true,\"x\":[0.10320221215285275,0.14128475419694464,-0.10110997207318523,-0.1234142040562976,-0.15297209561074954,-0.27169602465247195,-0.28261585698710506,-0.27467383445824084,-0.297975755026148,-0.31997364729123,-0.2875950130127762,-0.295063920814194,-0.29250004114669853,-0.37819176549812517,-0.30490479035815393,-0.33442604062579884,-0.3162994694301541,-0.3120463526602223,-0.3309709902460194,-0.33797142802499847,-0.2962206941030539,-0.3272057414519142,-0.3188491459403104,-0.3327874769401833,-0.35966311854125627,-0.2974092837655451,-0.3580563502671296,-0.35761241384483017,-0.34369653116582205,-0.3428974741668939,-0.37002500197145544,-0.3574539866215344,-0.36633631064112177,-0.3306044107940084,-0.3324262404378333,-0.3704377766987162,-0.36519250235242057,-0.3882838790828019],\"xaxis\":\"x\",\"y\":[-0.03408232410345965,-0.03656276323829906,-0.24307335635252927,-0.2536697956980698,-0.25993360917365027,-0.10939541756913451,-0.3013557617104674,-0.2660342012562647,-0.34276057266356125,-0.29126128655957817,-0.3605737362496351,-0.36451903479915354,-0.3874140451057034,-0.24830460717817218,-0.3383087850457852,-0.29564477745141515,-0.3576219886698521,-0.37736016699915725,-0.36341718111724386,-0.34936341678023813,-0.41785490562231586,-0.33691078718851447,-0.37650874908350074,-0.3531351332638333,-0.3548184660277816,-0.38846907888041776,-0.33928640723714615,-0.3355895053896187,-0.3726329719619003,-0.3536553706128914,-0.3162623749586074,-0.3618651467958535,-0.35434993122102104,-0.3880879619805935,-0.35038046063578615,-0.3631907104843378,-0.4026022231321608,-0.4378113937818648],\"yaxis\":\"y\",\"type\":\"scatter\"},{\"hovertemplate\":\"Population=Udmurt\\u003cbr\\u003eComponent 1=%{x}\\u003cbr\\u003eComponent 2=%{y}\\u003cextra\\u003e\\u003c\\u002fextra\\u003e\",\"legendgroup\":\"Udmurt\",\"marker\":{\"color\":\"#FECB52\",\"opacity\":0.8,\"symbol\":\"cross\",\"line\":{\"color\":\"black\",\"width\":1},\"size\":8},\"mode\":\"markers\",\"name\":\"Udmurt\",\"orientation\":\"v\",\"showlegend\":true,\"x\":[-0.13095810248770617,-0.13889309451293916,-0.11668030268418969,-0.15459588161068719,-0.15887047183726086,-0.15631066085578232,-0.1412653008337321,-0.13790254770678625,-0.1305823141437958,-0.13695058742633792,-0.14410005779507973,-0.13463660563754482,-0.14266822481779537,-0.13658239759744983,-0.14963685525318693,-0.16047703600439736,-0.12485458642725081,-0.14127131627599465,-0.15746211945144192,-0.15807801396658472,-0.17121401696920613,-0.17030118277638873,-0.2196856258586083,-0.24044304682649037,-0.24139794060067232],\"xaxis\":\"x\",\"y\":[-0.17905703384316404,-0.20811024633657554,-0.20707893111151407,-0.18773139445978987,-0.1777788952790904,-0.1949504368607792,-0.22347828353863572,-0.21251781314429288,-0.21785077566543418,-0.23391319291502358,-0.2293160045158559,-0.24985114468798206,-0.22959197787490537,-0.2576658202737064,-0.2539175056047309,-0.2225006648484166,-0.27678617761723545,-0.25755142269415215,-0.27288457662532345,-0.28617082168307967,-0.297281477122689,-0.3039765380717317,-0.31460818239126515,-0.302201936487228,-0.29174941067994764],\"yaxis\":\"y\",\"type\":\"scatter\"},{\"hovertemplate\":\"Population=Mordva\\u003cbr\\u003eComponent 1=%{x}\\u003cbr\\u003eComponent 2=%{y}\\u003cextra\\u003e\\u003c\\u002fextra\\u003e\",\"legendgroup\":\"Mordva\",\"marker\":{\"color\":\"#636efa\",\"opacity\":0.8,\"symbol\":\"circle\",\"line\":{\"color\":\"black\",\"width\":1},\"size\":8},\"mode\":\"markers\",\"name\":\"Mordva\",\"orientation\":\"v\",\"showlegend\":true,\"x\":[-0.26391588693999857,-0.29463932944080373,-0.29875012353233327,-0.298444827235466,-0.28859053234628856,-0.28225363644271984,-0.3035514700224552,-0.288958748744582,-0.311722458539068,-0.30566216901023935,-0.3002865663178582,-0.31291208574388724,-0.29833325168469754,-0.2826083466175234,-0.3052608542305584,-0.2788278423039448,-0.27241794150213355,-0.3064124524696872,-0.27961454658706125,-0.284347144899896,-0.2972201984375358,-0.3104873263497579,-0.29138155033961866,-0.308584051643055,-0.279215825027684,-0.3021538128260414,-0.2944067473891539,-0.30077090973895526,-0.3083945040351212,-0.3209191142745677,-0.3215623140297068,-0.318178441353071,-0.3203201067294042],\"xaxis\":\"x\",\"y\":[0.11255954259140377,-0.26914832418908635,-0.2817467891265856,-0.28787135723983276,-0.3076103043446226,-0.3177715286600527,-0.2955792350585776,-0.3044849169481877,-0.28698420907163996,-0.3074041725356201,-0.3248216825555888,-0.3095036883857568,-0.3218954980263031,-0.3023717079163016,-0.3262463359917866,-0.3415235267274133,-0.31549780713820297,-0.31337494430696633,-0.3225270201295283,-0.3395778307971462,-0.34604748065864815,-0.3105072348732998,-0.3403574271096565,-0.3302981303109056,-0.3259540266397405,-0.33298478122255304,-0.3284563236834122,-0.34168977376513004,-0.35166145403998833,-0.3571456664294245,-0.3547910385806127,-0.3755515657625459,-0.3623805694251999],\"yaxis\":\"y\",\"type\":\"scatter\"},{\"hovertemplate\":\"Population=Chuvash\\u003cbr\\u003eComponent 1=%{x}\\u003cbr\\u003eComponent 2=%{y}\\u003cextra\\u003e\\u003c\\u002fextra\\u003e\",\"legendgroup\":\"Chuvash\",\"marker\":{\"color\":\"#EF553B\",\"opacity\":0.8,\"symbol\":\"diamond\",\"line\":{\"color\":\"black\",\"width\":1},\"size\":8},\"mode\":\"markers\",\"name\":\"Chuvash\",\"orientation\":\"v\",\"showlegend\":true,\"x\":[-0.12163772401065692,-0.14495134044936542,-0.10219857552360706,-0.11960852906689423,-0.1444066695472337,-0.12687716629159784,-0.11844624356187702,-0.12911733541125903,-0.12016966894485107,-0.15108784170951112,-0.12240156426767729,-0.12522367470834583,-0.13140296160370976,-0.10416467390905082,-0.16060508627775918,-0.13626254865564064,-0.14410867583158576,-0.14447274635546198,-0.1409903616049018,-0.15636795920828644,-0.13947891045893987,-0.16450366561603247,-0.14656710344144774,-0.16927715893887169,-0.1593697117071095,-0.18045772268862204,-0.16088475581658412,-0.33820780549528695],\"xaxis\":\"x\",\"y\":[-0.18328237667744912,-0.1891603120219097,-0.19874662678800065,-0.2035380349870476,-0.2011031125356521,-0.19909161311002552,-0.2588940741372521,-0.22740579845027362,-0.23280717041709253,-0.217959956817279,-0.2232878533512543,-0.26034635388839833,-0.245233217260929,-0.2676743287029765,-0.21592989603273008,-0.2610579268657898,-0.2475088753071183,-0.25487590835737245,-0.24355632690090953,-0.2556352912671789,-0.24887927282057348,-0.24256973120457762,-0.2609894089034895,-0.25724010517558205,-0.2443289639890547,-0.2487179314359847,-0.27143945178702006,-0.3441458922044752],\"yaxis\":\"y\",\"type\":\"scatter\"},{\"hovertemplate\":\"Population=Moldovan\\u003cbr\\u003eComponent 1=%{x}\\u003cbr\\u003eComponent 2=%{y}\\u003cextra\\u003e\\u003c\\u002fextra\\u003e\",\"legendgroup\":\"Moldovan\",\"marker\":{\"color\":\"#00cc96\",\"opacity\":0.8,\"symbol\":\"square\",\"line\":{\"color\":\"black\",\"width\":1},\"size\":8},\"mode\":\"markers\",\"name\":\"Moldovan\",\"orientation\":\"v\",\"showlegend\":true,\"x\":[-0.33032306206259576,-0.2939075602122647,-0.3363839708813878,-0.3492906341691679,-0.3227463707721276,-0.324099842686244,-0.3402522356569151,-0.33027260308952916,-0.33209842342990337,-0.34777753441964104,-0.34694883644510105,-0.3434994557903457,-0.339553395832582,-0.3377313709044728,-0.3364485224805336,-0.3141770317877539,-0.3306190888143314,-0.3306998389490982,-0.3326192443775232,-0.34914511972655166,-0.35722520979419475,-0.3201220704919167,-0.34831001326452743,-0.3318881205900868,-0.33361173910358943,-0.34394529756636183,-0.33380372336084674,-0.3398704842962396,-0.34969570096084485,-0.3497259420407452,-0.3396222540420348,-0.34433717666409513],\"xaxis\":\"x\",\"y\":[0.01445989170265213,-0.06702547163525358,-0.06914437794249934,-0.05874110537588859,-0.07967545715802218,-0.09082382693600236,-0.08761069929892187,-0.0976649708170163,-0.10060429189631725,-0.1027570034211594,-0.0978792266833502,-0.11512010802556993,-0.09702928870237068,-0.10919547239052216,-0.12915214646283663,-0.13781728744408975,-0.12755964237383283,-0.13720871326844192,-0.14467671776727592,-0.1300741316385579,-0.1388001947763752,-0.15509929824777327,-0.1324274530533271,-0.1614185055959066,-0.15610934922983563,-0.15720034219060108,-0.15709762279123593,-0.15760829555016115,-0.15745076857572143,-0.1844766725865318,-0.17145364406697938,-0.21196482822224946],\"yaxis\":\"y\",\"type\":\"scatter\"},{\"hovertemplate\":\"Population=Russian_STV\\u003cbr\\u003eComponent 1=%{x}\\u003cbr\\u003eComponent 2=%{y}\\u003cextra\\u003e\\u003c\\u002fextra\\u003e\",\"legendgroup\":\"Russian_STV\",\"marker\":{\"color\":\"#ab63fa\",\"opacity\":0.8,\"symbol\":\"x\",\"line\":{\"color\":\"black\",\"width\":1},\"size\":8},\"mode\":\"markers\",\"name\":\"Russian_STV\",\"orientation\":\"v\",\"showlegend\":true,\"x\":[-0.18997278113967592,-0.31646641675843123,-0.26249910436367646,-0.2648488898334463,-0.27804620435975563,-0.28697857310443786,-0.2923077780156251,-0.32347196135529804,-0.3155091886567961,-0.2901811459659887,-0.29178558116404163,-0.32398918695866785,-0.32532393916023084,-0.32207061230394024,-0.3107377325312771,-0.32126451254154215,-0.3085240726660573,-0.2905252755071481,-0.3108962366639059,-0.3112325419467993,-0.30163121327453274,-0.3300561825424414,-0.3102799113299231,-0.3051575041896177,-0.28705576520848963,-0.2851723943221376,-0.3425155322672811,-0.2991910119855896,-0.3204576118356653,-0.3252118780961137,-0.3096521163277446,-0.32184824553885605,-0.3190528373244071,-0.32967879223156205,-0.30776080475165773,-0.32702992386066065,-0.36021996443275595,-0.34286191187381815,-0.36097021544796026],\"xaxis\":\"x\",\"y\":[-0.174918752065054,-0.20457489632476566,-0.333450192456102,-0.31327815036166123,-0.36046180443706105,-0.36439258886118764,-0.3727473685229059,-0.3505418354095203,-0.35369256828028633,-0.34352231277794576,-0.3743490369803289,-0.35113573049358515,-0.3560427871228307,-0.3408407845809214,-0.3791246672694977,-0.34069610910561626,-0.3848920203001588,-0.3873172782525738,-0.3727555209915094,-0.38188376869663465,-0.38940408766179296,-0.36022013507712675,-0.3781032470246817,-0.39794891786776637,-0.39728603379603117,-0.42320976799618104,-0.34255214500618386,-0.40266168917635253,-0.37833692880027914,-0.3761653810156148,-0.4150902839287367,-0.4311621303401388,-0.4243907446267222,-0.4069286826335538,-0.4478846362064887,-0.408435744200753,-0.40077394775090003,-0.4032950424194758,-0.40161827395288674],\"yaxis\":\"y\",\"type\":\"scatter\"},{\"hovertemplate\":\"Population=Komi\\u003cbr\\u003eComponent 1=%{x}\\u003cbr\\u003eComponent 2=%{y}\\u003cextra\\u003e\\u003c\\u002fextra\\u003e\",\"legendgroup\":\"Komi\",\"marker\":{\"color\":\"#FFA15A\",\"opacity\":0.8,\"symbol\":\"cross\",\"line\":{\"color\":\"black\",\"width\":1},\"size\":8},\"mode\":\"markers\",\"name\":\"Komi\",\"orientation\":\"v\",\"showlegend\":true,\"x\":[-0.2378584117458163,-0.21570462274966312,-0.22860071963521494,-0.2384494265955185,-0.23824954451406405,-0.23896015687738775,-0.22105219927473385,-0.21486520146600663,-0.24555387311179233,-0.23907946504005995,-0.2277269266060939,-0.23367180155666006,-0.25597643579806334,-0.2285553400341795,-0.2496809453680784,-0.24453213433133958,-0.2322403352630107,-0.24293357302002222,-0.23681377595085096,-0.2526638997848934,-0.2406472284207971,-0.24554808385874743,-0.2162497741923627,-0.24083738560807338,-0.2565342151716334,-0.2433987161124862,-0.25174313776167734,-0.2508722136542574,-0.2345292320440357,-0.24811376556670722,-0.2351524084982663,-0.24834724508889627],\"xaxis\":\"x\",\"y\":[-0.27180644521096553,-0.31338943549662246,-0.2963098846348414,-0.3124275445566187,-0.32390295260962465,-0.31441080907546776,-0.3452014367093722,-0.3674550947273764,-0.32847084751676775,-0.35017686394805825,-0.3641092821320399,-0.3574448615346945,-0.34717510255393086,-0.3622204354489698,-0.3494294741439854,-0.38633418534686753,-0.37556975024583744,-0.3793950706786522,-0.3777961663275833,-0.3608516419552694,-0.37627085794753345,-0.3815795284142904,-0.4083534264184003,-0.3815193787686199,-0.3592144225923573,-0.4019853556490338,-0.41889284388401427,-0.4027504937190133,-0.40937627644304986,-0.41657268031816896,-0.41546063172313535,-0.4021775089616009],\"yaxis\":\"y\",\"type\":\"scatter\"},{\"hovertemplate\":\"Population=Ukrainian\\u003cbr\\u003eComponent 1=%{x}\\u003cbr\\u003eComponent 2=%{y}\\u003cextra\\u003e\\u003c\\u002fextra\\u003e\",\"legendgroup\":\"Ukrainian\",\"marker\":{\"color\":\"#19d3f3\",\"opacity\":0.8,\"symbol\":\"circle\",\"line\":{\"color\":\"black\",\"width\":1},\"size\":8},\"mode\":\"markers\",\"name\":\"Ukrainian\",\"orientation\":\"v\",\"showlegend\":true,\"x\":[-0.23943446884469127,-0.3371811872247953,-0.3672745469072899,-0.368082220594975,-0.3555022859986472,-0.3584794175935573,-0.3741837576961608,-0.3432415680545423,-0.34990570112523006,-0.34784315644096214,-0.36628159708228664,-0.38238245544229954,-0.3546648552568512,-0.34514329037086694,-0.37528608643457695,-0.3748188929625476,-0.36690062936203177,-0.37535451989634966,-0.3730063887196537,-0.37479851066418196,-0.37496187476049814,-0.3691915030244931,-0.3573407185438295,-0.37318685687190056,-0.3768649858067205,-0.3723422528482462,-0.35043866686112557,-0.38425748186420844,-0.37878206435283734],\"xaxis\":\"x\",\"y\":[-0.24756102153487924,-0.11333241605653716,-0.1902989061643798,-0.19975446293497892,-0.24530823216685377,-0.2452489887024468,-0.2613815624098916,-0.30166394970189464,-0.2793669657802706,-0.2742918756957434,-0.2657843683100638,-0.2647816883075072,-0.2797178620869743,-0.2982522306905979,-0.29168392821097533,-0.27880866411979505,-0.288838370302717,-0.310406088704869,-0.31967705935100443,-0.3040881333779615,-0.32072448350038607,-0.3191903206287642,-0.31891470636390645,-0.3472820504677753,-0.325484582260558,-0.34715522859004855,-0.36399383995598306,-0.3504119341872906,-0.3504898115260766],\"yaxis\":\"y\",\"type\":\"scatter\"},{\"hovertemplate\":\"Population=Belarus\\u003cbr\\u003eComponent 1=%{x}\\u003cbr\\u003eComponent 2=%{y}\\u003cextra\\u003e\\u003c\\u002fextra\\u003e\",\"legendgroup\":\"Belarus\",\"marker\":{\"color\":\"#FF6692\",\"opacity\":0.8,\"symbol\":\"diamond\",\"line\":{\"color\":\"black\",\"width\":1},\"size\":8},\"mode\":\"markers\",\"name\":\"Belarus\",\"orientation\":\"v\",\"showlegend\":true,\"x\":[-0.3204151456885667,-0.36322435949082577,-0.35582414283329405,-0.3788657693357196,-0.36281984891507585,-0.3679509079955365,-0.365162699795134,-0.37991377901791257,-0.3815785382699065,-0.35920783532099426,-0.37698890873730945,-0.3740698225418551,-0.381715425246588,-0.36861529858058456,-0.3740996610216335,-0.38138824708517705,-0.3731234771320331,-0.36524165423087424,-0.3675568227730429,-0.3729135527735724,-0.3787013795551028,-0.3819294185673762,-0.3565190798493605,-0.39187423430235085,-0.3825073283296164,-0.3791699411041158,-0.39401831930331566,-0.3830644016052381],\"xaxis\":\"x\",\"y\":[-0.10779066932387393,-0.1964351896097242,-0.3203177529493098,-0.3168000992971867,-0.3214495123786453,-0.3228787903592167,-0.3443031221005331,-0.3512922346928577,-0.33542634949557676,-0.34083842319839613,-0.32907613868406477,-0.35536712141442356,-0.34358951245641933,-0.3633909580785487,-0.3562179723838854,-0.3750300767411271,-0.365429317665717,-0.3871762493913371,-0.36874611166614435,-0.38661618121847746,-0.38929137088373034,-0.37573842516548484,-0.3932502241245578,-0.3979447747637684,-0.41552926313585625,-0.4207891239030653,-0.40418089212886815,-0.43311089877536796],\"yaxis\":\"y\",\"type\":\"scatter\"},{\"hovertemplate\":\"Population=Karel\\u003cbr\\u003eComponent 1=%{x}\\u003cbr\\u003eComponent 2=%{y}\\u003cextra\\u003e\\u003c\\u002fextra\\u003e\",\"legendgroup\":\"Karel\",\"marker\":{\"color\":\"#B6E880\",\"opacity\":0.8,\"symbol\":\"square\",\"line\":{\"color\":\"black\",\"width\":1},\"size\":8},\"mode\":\"markers\",\"name\":\"Karel\",\"orientation\":\"v\",\"showlegend\":true,\"x\":[-0.29728277180429963,-0.3169669993145118,-0.3279535977969108,-0.3224608438377828,-0.3469027880784775,-0.33243370345023565,-0.28469552579504376,-0.3199587491364675,-0.33750349747601033,-0.3014426810633341,-0.31072081481015734,-0.346616006404171,-0.3114687825275906,-0.3333331075769356,-0.3109467225183031,-0.2982447509467149,-0.3040424291127401,-0.34295082791364695,-0.3201617555702449,-0.34966344451149317,-0.32084434259831635,-0.30244391307477586,-0.3090121167201567,-0.31820493783111337,-0.31019594448100235,-0.31457538408883184],\"xaxis\":\"x\",\"y\":[-0.3919294012570269,-0.42460367963671897,-0.4380203778089256,-0.4338097535449073,-0.41637775126020804,-0.3696563649316718,-0.4659319479928691,-0.46396990046965697,-0.46126821176264654,-0.4911454757813743,-0.49228098347565186,-0.40890006332826323,-0.4763987504655373,-0.4663241742449437,-0.47121700526137716,-0.5064837856262616,-0.5042275882551333,-0.4847454660064801,-0.48150861874235795,-0.4438940887954254,-0.4890600625226087,-0.5097671440155951,-0.5020953478288732,-0.49910413873916604,-0.5065021375874852,-0.5046897699314183],\"yaxis\":\"y\",\"type\":\"scatter\"}],                        {\"template\":{\"data\":{\"histogram2dcontour\":[{\"type\":\"histogram2dcontour\",\"colorbar\":{\"outlinewidth\":0,\"ticks\":\"\"},\"colorscale\":[[0.0,\"#0d0887\"],[0.1111111111111111,\"#46039f\"],[0.2222222222222222,\"#7201a8\"],[0.3333333333333333,\"#9c179e\"],[0.4444444444444444,\"#bd3786\"],[0.5555555555555556,\"#d8576b\"],[0.6666666666666666,\"#ed7953\"],[0.7777777777777778,\"#fb9f3a\"],[0.8888888888888888,\"#fdca26\"],[1.0,\"#f0f921\"]]}],\"choropleth\":[{\"type\":\"choropleth\",\"colorbar\":{\"outlinewidth\":0,\"ticks\":\"\"}}],\"histogram2d\":[{\"type\":\"histogram2d\",\"colorbar\":{\"outlinewidth\":0,\"ticks\":\"\"},\"colorscale\":[[0.0,\"#0d0887\"],[0.1111111111111111,\"#46039f\"],[0.2222222222222222,\"#7201a8\"],[0.3333333333333333,\"#9c179e\"],[0.4444444444444444,\"#bd3786\"],[0.5555555555555556,\"#d8576b\"],[0.6666666666666666,\"#ed7953\"],[0.7777777777777778,\"#fb9f3a\"],[0.8888888888888888,\"#fdca26\"],[1.0,\"#f0f921\"]]}],\"heatmap\":[{\"type\":\"heatmap\",\"colorbar\":{\"outlinewidth\":0,\"ticks\":\"\"},\"colorscale\":[[0.0,\"#0d0887\"],[0.1111111111111111,\"#46039f\"],[0.2222222222222222,\"#7201a8\"],[0.3333333333333333,\"#9c179e\"],[0.4444444444444444,\"#bd3786\"],[0.5555555555555556,\"#d8576b\"],[0.6666666666666666,\"#ed7953\"],[0.7777777777777778,\"#fb9f3a\"],[0.8888888888888888,\"#fdca26\"],[1.0,\"#f0f921\"]]}],\"heatmapgl\":[{\"type\":\"heatmapgl\",\"colorbar\":{\"outlinewidth\":0,\"ticks\":\"\"},\"colorscale\":[[0.0,\"#0d0887\"],[0.1111111111111111,\"#46039f\"],[0.2222222222222222,\"#7201a8\"],[0.3333333333333333,\"#9c179e\"],[0.4444444444444444,\"#bd3786\"],[0.5555555555555556,\"#d8576b\"],[0.6666666666666666,\"#ed7953\"],[0.7777777777777778,\"#fb9f3a\"],[0.8888888888888888,\"#fdca26\"],[1.0,\"#f0f921\"]]}],\"contourcarpet\":[{\"type\":\"contourcarpet\",\"colorbar\":{\"outlinewidth\":0,\"ticks\":\"\"}}],\"contour\":[{\"type\":\"contour\",\"colorbar\":{\"outlinewidth\":0,\"ticks\":\"\"},\"colorscale\":[[0.0,\"#0d0887\"],[0.1111111111111111,\"#46039f\"],[0.2222222222222222,\"#7201a8\"],[0.3333333333333333,\"#9c179e\"],[0.4444444444444444,\"#bd3786\"],[0.5555555555555556,\"#d8576b\"],[0.6666666666666666,\"#ed7953\"],[0.7777777777777778,\"#fb9f3a\"],[0.8888888888888888,\"#fdca26\"],[1.0,\"#f0f921\"]]}],\"surface\":[{\"type\":\"surface\",\"colorbar\":{\"outlinewidth\":0,\"ticks\":\"\"},\"colorscale\":[[0.0,\"#0d0887\"],[0.1111111111111111,\"#46039f\"],[0.2222222222222222,\"#7201a8\"],[0.3333333333333333,\"#9c179e\"],[0.4444444444444444,\"#bd3786\"],[0.5555555555555556,\"#d8576b\"],[0.6666666666666666,\"#ed7953\"],[0.7777777777777778,\"#fb9f3a\"],[0.8888888888888888,\"#fdca26\"],[1.0,\"#f0f921\"]]}],\"mesh3d\":[{\"type\":\"mesh3d\",\"colorbar\":{\"outlinewidth\":0,\"ticks\":\"\"}}],\"scatter\":[{\"fillpattern\":{\"fillmode\":\"overlay\",\"size\":10,\"solidity\":0.2},\"type\":\"scatter\"}],\"parcoords\":[{\"type\":\"parcoords\",\"line\":{\"colorbar\":{\"outlinewidth\":0,\"ticks\":\"\"}}}],\"scatterpolargl\":[{\"type\":\"scatterpolargl\",\"marker\":{\"colorbar\":{\"outlinewidth\":0,\"ticks\":\"\"}}}],\"bar\":[{\"error_x\":{\"color\":\"#2a3f5f\"},\"error_y\":{\"color\":\"#2a3f5f\"},\"marker\":{\"line\":{\"color\":\"#E5ECF6\",\"width\":0.5},\"pattern\":{\"fillmode\":\"overlay\",\"size\":10,\"solidity\":0.2}},\"type\":\"bar\"}],\"scattergeo\":[{\"type\":\"scattergeo\",\"marker\":{\"colorbar\":{\"outlinewidth\":0,\"ticks\":\"\"}}}],\"scatterpolar\":[{\"type\":\"scatterpolar\",\"marker\":{\"colorbar\":{\"outlinewidth\":0,\"ticks\":\"\"}}}],\"histogram\":[{\"marker\":{\"pattern\":{\"fillmode\":\"overlay\",\"size\":10,\"solidity\":0.2}},\"type\":\"histogram\"}],\"scattergl\":[{\"type\":\"scattergl\",\"marker\":{\"colorbar\":{\"outlinewidth\":0,\"ticks\":\"\"}}}],\"scatter3d\":[{\"type\":\"scatter3d\",\"line\":{\"colorbar\":{\"outlinewidth\":0,\"ticks\":\"\"}},\"marker\":{\"colorbar\":{\"outlinewidth\":0,\"ticks\":\"\"}}}],\"scattermapbox\":[{\"type\":\"scattermapbox\",\"marker\":{\"colorbar\":{\"outlinewidth\":0,\"ticks\":\"\"}}}],\"scatterternary\":[{\"type\":\"scatterternary\",\"marker\":{\"colorbar\":{\"outlinewidth\":0,\"ticks\":\"\"}}}],\"scattercarpet\":[{\"type\":\"scattercarpet\",\"marker\":{\"colorbar\":{\"outlinewidth\":0,\"ticks\":\"\"}}}],\"carpet\":[{\"aaxis\":{\"endlinecolor\":\"#2a3f5f\",\"gridcolor\":\"white\",\"linecolor\":\"white\",\"minorgridcolor\":\"white\",\"startlinecolor\":\"#2a3f5f\"},\"baxis\":{\"endlinecolor\":\"#2a3f5f\",\"gridcolor\":\"white\",\"linecolor\":\"white\",\"minorgridcolor\":\"white\",\"startlinecolor\":\"#2a3f5f\"},\"type\":\"carpet\"}],\"table\":[{\"cells\":{\"fill\":{\"color\":\"#EBF0F8\"},\"line\":{\"color\":\"white\"}},\"header\":{\"fill\":{\"color\":\"#C8D4E3\"},\"line\":{\"color\":\"white\"}},\"type\":\"table\"}],\"barpolar\":[{\"marker\":{\"line\":{\"color\":\"#E5ECF6\",\"width\":0.5},\"pattern\":{\"fillmode\":\"overlay\",\"size\":10,\"solidity\":0.2}},\"type\":\"barpolar\"}],\"pie\":[{\"automargin\":true,\"type\":\"pie\"}]},\"layout\":{\"autotypenumbers\":\"strict\",\"colorway\":[\"#636efa\",\"#EF553B\",\"#00cc96\",\"#ab63fa\",\"#FFA15A\",\"#19d3f3\",\"#FF6692\",\"#B6E880\",\"#FF97FF\",\"#FECB52\"],\"font\":{\"color\":\"#2a3f5f\"},\"hovermode\":\"closest\",\"hoverlabel\":{\"align\":\"left\"},\"paper_bgcolor\":\"white\",\"plot_bgcolor\":\"#E5ECF6\",\"polar\":{\"bgcolor\":\"#E5ECF6\",\"angularaxis\":{\"gridcolor\":\"white\",\"linecolor\":\"white\",\"ticks\":\"\"},\"radialaxis\":{\"gridcolor\":\"white\",\"linecolor\":\"white\",\"ticks\":\"\"}},\"ternary\":{\"bgcolor\":\"#E5ECF6\",\"aaxis\":{\"gridcolor\":\"white\",\"linecolor\":\"white\",\"ticks\":\"\"},\"baxis\":{\"gridcolor\":\"white\",\"linecolor\":\"white\",\"ticks\":\"\"},\"caxis\":{\"gridcolor\":\"white\",\"linecolor\":\"white\",\"ticks\":\"\"}},\"coloraxis\":{\"colorbar\":{\"outlinewidth\":0,\"ticks\":\"\"}},\"colorscale\":{\"sequential\":[[0.0,\"#0d0887\"],[0.1111111111111111,\"#46039f\"],[0.2222222222222222,\"#7201a8\"],[0.3333333333333333,\"#9c179e\"],[0.4444444444444444,\"#bd3786\"],[0.5555555555555556,\"#d8576b\"],[0.6666666666666666,\"#ed7953\"],[0.7777777777777778,\"#fb9f3a\"],[0.8888888888888888,\"#fdca26\"],[1.0,\"#f0f921\"]],\"sequentialminus\":[[0.0,\"#0d0887\"],[0.1111111111111111,\"#46039f\"],[0.2222222222222222,\"#7201a8\"],[0.3333333333333333,\"#9c179e\"],[0.4444444444444444,\"#bd3786\"],[0.5555555555555556,\"#d8576b\"],[0.6666666666666666,\"#ed7953\"],[0.7777777777777778,\"#fb9f3a\"],[0.8888888888888888,\"#fdca26\"],[1.0,\"#f0f921\"]],\"diverging\":[[0,\"#8e0152\"],[0.1,\"#c51b7d\"],[0.2,\"#de77ae\"],[0.3,\"#f1b6da\"],[0.4,\"#fde0ef\"],[0.5,\"#f7f7f7\"],[0.6,\"#e6f5d0\"],[0.7,\"#b8e186\"],[0.8,\"#7fbc41\"],[0.9,\"#4d9221\"],[1,\"#276419\"]]},\"xaxis\":{\"gridcolor\":\"white\",\"linecolor\":\"white\",\"ticks\":\"\",\"title\":{\"standoff\":15},\"zerolinecolor\":\"white\",\"automargin\":true,\"zerolinewidth\":2},\"yaxis\":{\"gridcolor\":\"white\",\"linecolor\":\"white\",\"ticks\":\"\",\"title\":{\"standoff\":15},\"zerolinecolor\":\"white\",\"automargin\":true,\"zerolinewidth\":2},\"scene\":{\"xaxis\":{\"backgroundcolor\":\"#E5ECF6\",\"gridcolor\":\"white\",\"linecolor\":\"white\",\"showbackground\":true,\"ticks\":\"\",\"zerolinecolor\":\"white\",\"gridwidth\":2},\"yaxis\":{\"backgroundcolor\":\"#E5ECF6\",\"gridcolor\":\"white\",\"linecolor\":\"white\",\"showbackground\":true,\"ticks\":\"\",\"zerolinecolor\":\"white\",\"gridwidth\":2},\"zaxis\":{\"backgroundcolor\":\"#E5ECF6\",\"gridcolor\":\"white\",\"linecolor\":\"white\",\"showbackground\":true,\"ticks\":\"\",\"zerolinecolor\":\"white\",\"gridwidth\":2}},\"shapedefaults\":{\"line\":{\"color\":\"#2a3f5f\"}},\"annotationdefaults\":{\"arrowcolor\":\"#2a3f5f\",\"arrowhead\":0,\"arrowwidth\":1},\"geo\":{\"bgcolor\":\"white\",\"landcolor\":\"#E5ECF6\",\"subunitcolor\":\"white\",\"showland\":true,\"showlakes\":true,\"lakecolor\":\"white\"},\"title\":{\"x\":0.05},\"mapbox\":{\"style\":\"light\"}}},\"xaxis\":{\"anchor\":\"y\",\"domain\":[0.0,1.0],\"title\":{\"text\":\"PC1\"}},\"yaxis\":{\"anchor\":\"x\",\"domain\":[0.0,1.0],\"title\":{\"text\":\"PC2\"}},\"legend\":{\"title\":{\"text\":\"Population\"},\"tracegroupgap\":0,\"x\":1.05,\"y\":1,\"bgcolor\":\"rgba(255, 255, 255, 0.8)\",\"orientation\":\"h\"},\"title\":{\"text\":\"PCA Scatter Plot by Population (Admixure)\"},\"margin\":{\"l\":0,\"r\":0,\"b\":0,\"t\":30}},                        {\"responsive\": true}                    ).then(function(){\n",
       "                            \n",
       "var gd = document.getElementById('f5e5a4ee-5a07-4b03-9c70-afe5f42441e5');\n",
       "var x = new MutationObserver(function (mutations, observer) {{\n",
       "        var display = window.getComputedStyle(gd).display;\n",
       "        if (!display || display === 'none') {{\n",
       "            console.log([gd, 'removed!']);\n",
       "            Plotly.purge(gd);\n",
       "            observer.disconnect();\n",
       "        }}\n",
       "}});\n",
       "\n",
       "// Listen for the removal of the full notebook cells\n",
       "var notebookContainer = gd.closest('#notebook-container');\n",
       "if (notebookContainer) {{\n",
       "    x.observe(notebookContainer, {childList: true});\n",
       "}}\n",
       "\n",
       "// Listen for the clearing of the current output cell\n",
       "var outputEl = gd.closest('.output');\n",
       "if (outputEl) {{\n",
       "    x.observe(outputEl, {childList: true});\n",
       "}}\n",
       "\n",
       "                        })                };                });            </script>        </div>"
      ]
     },
     "metadata": {},
     "output_type": "display_data"
    }
   ],
   "source": [
    "PREFIX = 'admixure_prop'\n",
    "plot_2d(data=data_admixure_pca, title='PCA Scatter Plot by Population (Admixure)', x='PC1', y='PC2', save_name=f\"{PREFIX}_2d_PCA\")"
   ]
  },
  {
   "cell_type": "code",
   "execution_count": 41,
   "id": "f31ab050-87fa-4b27-824b-914dc557452b",
   "metadata": {},
   "outputs": [
    {
     "data": {
      "application/vnd.plotly.v1+json": {
       "config": {
        "plotlyServerURL": "https://plot.ly"
       },
       "data": [
        {
         "hovertemplate": "Population=Chinese<br>PC1=%{x}<br>PC2=%{y}<br>PC3=%{z}<extra></extra>",
         "legendgroup": "Chinese",
         "marker": {
          "color": "#636efa",
          "opacity": 0.8,
          "size": 4,
          "symbol": "circle"
         },
         "mode": "markers",
         "name": "Chinese",
         "scene": "scene",
         "showlegend": true,
         "type": "scatter3d",
         "x": [
          0.8503670100409215,
          0.8503670100409215,
          0.8503670100409215,
          0.8503670100409215,
          0.8503670100409215,
          0.8503670100409215,
          0.8503670100409215,
          0.8503670100409215,
          0.8503670100409215,
          0.8503670100409215,
          0.8503670100409215,
          0.8455873645487,
          0.8277764375875132
         ],
         "y": [
          -0.04130213257420924,
          -0.04130213257420924,
          -0.04130213257420924,
          -0.04130213257420924,
          -0.04130213257420924,
          -0.04130213257420924,
          -0.04130213257420924,
          -0.04130213257420924,
          -0.04130213257420924,
          -0.04130213257420924,
          -0.04130213257420924,
          -0.037821491969490084,
          -0.02651065451245903
         ],
         "z": [
          -0.23617963145821036,
          -0.23617963145821036,
          -0.23617963145821036,
          -0.23617963145821036,
          -0.23617963145821036,
          -0.23617963145821036,
          -0.23617963145821036,
          -0.23617963145821036,
          -0.23617963145821036,
          -0.23617963145821036,
          -0.23617963145821036,
          -0.23529410319322613,
          -0.2296325953764986
         ]
        },
        {
         "hovertemplate": "Population=Megrel<br>PC1=%{x}<br>PC2=%{y}<br>PC3=%{z}<extra></extra>",
         "legendgroup": "Megrel",
         "marker": {
          "color": "#EF553B",
          "opacity": 0.8,
          "size": 4,
          "symbol": "diamond"
         },
         "mode": "markers",
         "name": "Megrel",
         "scene": "scene",
         "showlegend": true,
         "type": "scatter3d",
         "x": [
          -0.26527397775160294,
          -0.2558164599979052,
          -0.2631830387721747,
          -0.26083684163687965,
          -0.25581795575449817,
          -0.25720243058581244,
          -0.24664987646495196,
          -0.259822838970804,
          -0.2698152152137357,
          -0.25786875190617753,
          -0.2522025800963509,
          -0.2690955428906029,
          -0.26729088331546896,
          -0.25596257314531534,
          -0.2687376657014682,
          -0.24878611283572882,
          -0.2663623348732024,
          -0.27192370081771877,
          -0.2638796795251981,
          -0.2672071460005401,
          -0.2705082040580408,
          -0.2673655905630884,
          -0.2622110296135953,
          -0.2505784341382991,
          -0.27901125605525895,
          -0.254356715706437,
          -0.2783525824527257,
          -0.2779495123183449,
          -0.273159258795782,
          -0.2714502194556286,
          -0.26838465590459937,
          -0.28265709272752326,
          -0.2864727400322943,
          -0.19293994774749862,
          -0.20023686747261032,
          -0.2107649364692195
         ],
         "y": [
          0.7569331554420083,
          0.749973390978009,
          0.7594376058181838,
          0.7554019543597694,
          0.7410771389579653,
          0.752402459391253,
          0.7405933342100691,
          0.7276923520131275,
          0.7566519658116209,
          0.7401464515048216,
          0.7425332989436929,
          0.7513823937110548,
          0.7419559313050209,
          0.7347161578204235,
          0.7290207901716187,
          0.7167676636671496,
          0.7252192226039609,
          0.7335858866757214,
          0.7295267751543025,
          0.7120159088119054,
          0.731117272693312,
          0.7170334884070628,
          0.7240392112855331,
          0.6874131624412206,
          0.7350852646068492,
          0.7074987514853643,
          0.7146135517778915,
          0.7172176092826708,
          0.7026047225486578,
          0.6924098207358887,
          0.6199673141619609,
          0.600406286484861,
          0.5808896909194595,
          0.4152479986802019,
          0.4148602738763442,
          0.30079821286960856
         ],
         "z": [
          -0.009129424969968186,
          -0.010777552786446404,
          -0.015303728491843083,
          -0.012447143368545716,
          0.0018193928833088457,
          -0.01786131959168949,
          -0.016102641828418085,
          0.016568197681810948,
          -0.015136332487408505,
          -0.008926967302852279,
          -0.020962995764169684,
          -0.01416629956707871,
          -0.015678590113471308,
          -0.020008443132082915,
          0.0010005970392633345,
          -0.008892137165498082,
          -0.006240853941873403,
          -0.01686441748803133,
          -0.02220085914419731,
          0.0062756435266525246,
          -0.01806229033854334,
          -0.0052222899134975465,
          -0.025059675270752035,
          0.0062585378851661155,
          -0.0272288944084583,
          -0.033415812016983654,
          -0.01898809820153713,
          -0.025763433255162477,
          -0.03961739338399839,
          -0.03738823078742304,
          0.008393133130923713,
          -0.022399097489015807,
          -0.03214930400689936,
          -0.011775754031362023,
          -0.005609779389591452,
          -0.0243148010941083
         ]
        },
        {
         "hovertemplate": "Population=Yakut<br>PC1=%{x}<br>PC2=%{y}<br>PC3=%{z}<extra></extra>",
         "legendgroup": "Yakut",
         "marker": {
          "color": "#00cc96",
          "opacity": 0.8,
          "size": 4,
          "symbol": "square"
         },
         "mode": "markers",
         "name": "Yakut",
         "scene": "scene",
         "showlegend": true,
         "type": "scatter3d",
         "x": [
          0.7924355998862254,
          0.7763305323291765,
          0.761692184668795,
          0.7615049866581955,
          0.7612808858139655,
          0.7569719767671226,
          0.7536453540554677,
          0.7535983868126652,
          0.7532595517038743,
          0.7495243139798358,
          0.748749354473591,
          0.7480119687615887,
          0.7475006967756506,
          0.7392854550488452,
          0.7794662899680074,
          0.7626178854009891,
          0.741471394354388,
          0.7292702810807556,
          0.7243073551560102,
          0.7348104193710296,
          0.7244807370458166,
          0.7382588572155071,
          0.7299923772373615,
          0.7324910687921584,
          0.6863119523562562,
          0.7407891449862751,
          0.7258761146898123,
          0.749406677406963,
          0.7413985581476061,
          0.7091310527961079,
          0.7109612911018308,
          0.7312251453746024,
          0.6387217040469262,
          0.6434212951768241,
          0.7039838739942548,
          0.6510253295926407,
          0.6528596354245981,
          0.6513758043529911,
          0.6179838218746254,
          0.6696162916011723,
          0.5984649198889282
         ],
         "y": [
          -0.04090238403270782,
          -0.04079125300293449,
          -0.04069024289267475,
          -0.04068895115592073,
          -0.040687404775720575,
          -0.04065767168097391,
          -0.04063471673177522,
          -0.04063439264011651,
          -0.040632054550292916,
          -0.040606280003663404,
          -0.04060093249129461,
          -0.04059584425225279,
          -0.04059231628305363,
          -0.04053562802206357,
          -0.04081366433595767,
          -0.04160250238116337,
          -0.043127298105522856,
          -0.043444057271452625,
          -0.04346339827898214,
          -0.045118945454859886,
          -0.042238129358813645,
          -0.041235699320593955,
          -0.04382045730153602,
          -0.043125413064389356,
          -0.03859005749330015,
          -0.042033505167768624,
          -0.04551646990625781,
          -0.04536238063154003,
          -0.04658514740093397,
          -0.04733992653519347,
          -0.05567023453395938,
          -0.05450697861967229,
          -0.026368548048946904,
          -0.05497010351915773,
          -0.062475856814890075,
          -0.05054056341942943,
          -0.0733038678693751,
          -0.05454757334879246,
          -0.032554365179178146,
          -0.08354887775609085,
          -0.09980060256344872
         ],
         "z": [
          -0.16554145927779118,
          -0.14590388214935152,
          -0.128054737450307,
          -0.1278264791484766,
          -0.12755322369037148,
          -0.12229919209770218,
          -0.11824290299205692,
          -0.11818563388407083,
          -0.1177724781764567,
          -0.11321794783133221,
          -0.11227300754956127,
          -0.11137388255417924,
          -0.11075046740724465,
          -0.10073328229035866,
          -0.14972686768651716,
          -0.12794742366617967,
          -0.09988294528687763,
          -0.08445852468254306,
          -0.0783339037993212,
          -0.08898062916331434,
          -0.080446361338744,
          -0.10140843122246118,
          -0.09543137660605067,
          -0.09963343155210719,
          -0.05021778436468838,
          -0.11225876520625822,
          -0.09210031821879527,
          -0.1260365857833568,
          -0.1197550327062245,
          -0.10099592809794689,
          -0.09527679650275656,
          -0.12912700370223584,
          -0.07314069712887417,
          -0.04906303442418308,
          -0.11500612669535282,
          -0.08115935783730233,
          -0.08380601250570907,
          -0.11697170365101928,
          -0.10747184800864273,
          -0.13273374890151424,
          -0.08422356499598244
         ]
        },
        {
         "hovertemplate": "Population=Ket<br>PC1=%{x}<br>PC2=%{y}<br>PC3=%{z}<extra></extra>",
         "legendgroup": "Ket",
         "marker": {
          "color": "#ab63fa",
          "opacity": 0.8,
          "size": 4,
          "symbol": "x"
         },
         "mode": "markers",
         "name": "Ket",
         "scene": "scene",
         "showlegend": true,
         "type": "scatter3d",
         "x": [
          0.20589592351437438,
          0.17943994660421975,
          0.17943994660421975,
          0.17943994660421975,
          0.17943994660421975,
          0.17943994660421975,
          0.17943994660421975,
          0.17943994660421975,
          0.17943994660421975,
          0.17943994660421975,
          0.17943994660421975,
          0.3327369146341773,
          0.21463001993678138,
          0.338756536787277,
          0.17943610415174588,
          0.2434899896614717,
          0.321218627843576,
          0.23853973093171704,
          0.16580593784664255,
          0.19241136375617152,
          0.16277471850435019,
          0.1893771444868934,
          0.15139206724321608,
          0.13894035106765557,
          0.17427786949174084,
          0.12360031172538637,
          -0.057450282851004925,
          -0.05698416345214674,
          0.028936057389763042,
          -0.06270801741989601,
          -0.10892832017509091
         ],
         "y": [
          -0.036855039430940706,
          -0.03667248322946746,
          -0.03667248322946746,
          -0.03667248322946746,
          -0.03667248322946746,
          -0.03667248322946746,
          -0.03667248322946746,
          -0.03667248322946746,
          -0.03667248322946746,
          -0.03667248322946746,
          -0.03667248322946746,
          -0.045004408567184795,
          -0.045406776569706125,
          -0.05237455329739334,
          -0.03667231299135248,
          -0.055636825306323155,
          -0.07074405547789081,
          -0.05630708696608386,
          -0.049283050454286874,
          -0.06016504825581557,
          -0.0520867302794085,
          -0.0792088768197686,
          -0.0626149389286389,
          -0.06113444134786806,
          -0.0717087183195152,
          -0.0548169699040661,
          -0.1305500135822373,
          -0.18689971404866063,
          -0.2639480991817112,
          -0.27033184092594253,
          -0.2772376416417013
         ],
         "z": [
          0.5496507057250084,
          0.581909576123474,
          0.581909576123474,
          0.581909576123474,
          0.581909576123474,
          0.581909576123474,
          0.581909576123474,
          0.581909576123474,
          0.581909576123474,
          0.581909576123474,
          0.581909576123474,
          0.4049137329898044,
          0.5505869590261496,
          0.40757361816039145,
          0.5819044921422714,
          0.5254308331076244,
          0.4293230273983991,
          0.4873225231144308,
          0.5639152852561716,
          0.5427143018988697,
          0.5599146539306644,
          0.5363603646013695,
          0.5448917255113115,
          0.5351343502182188,
          0.4910883584409967,
          0.5080976098847956,
          0.26883364974727925,
          0.190036532266935,
          0.13074660759979417,
          0.1224384685333964,
          0.16202918187013063
         ]
        },
        {
         "hovertemplate": "Population=Abkhaz<br>PC1=%{x}<br>PC2=%{y}<br>PC3=%{z}<extra></extra>",
         "legendgroup": "Abkhaz",
         "marker": {
          "color": "#FFA15A",
          "opacity": 0.8,
          "size": 4,
          "symbol": "cross"
         },
         "mode": "markers",
         "name": "Abkhaz",
         "scene": "scene",
         "showlegend": true,
         "type": "scatter3d",
         "x": [
          -0.23333481499609943,
          -0.24224237171382762,
          -0.26020683599556776,
          -0.2523409475834942,
          -0.2557861572252294,
          -0.2326717624638145,
          -0.250644536470335,
          -0.22029573785901074,
          -0.2500652976852108,
          -0.22419236275605653,
          -0.2504143102216026,
          -0.2614488455175796,
          -0.2472658510088328,
          -0.2591563306924991,
          -0.2616852560343638,
          -0.24239508660889875,
          -0.26418722875981215,
          -0.2522889669046349,
          -0.25764530433933164,
          -0.25913382088507475,
          -0.2410896075736062,
          -0.23916863404642147,
          -0.26598449756812786,
          -0.26387658612087356,
          -0.26741274197216897,
          -0.30019268214384454
         ],
         "y": [
          0.7306437952685433,
          0.7287734322799787,
          0.7370575773345435,
          0.730757254884067,
          0.7266039928595641,
          0.7156809041135378,
          0.7355371072607638,
          0.7028001300524275,
          0.7157220817201423,
          0.6881483277829721,
          0.7193979246189403,
          0.7154904092130114,
          0.6913898736349,
          0.7092189754097113,
          0.7261487869387789,
          0.6814527886478167,
          0.6917861882710818,
          0.688774657966332,
          0.6636625207884526,
          0.6845092633966604,
          0.6688882021530009,
          0.6720477966282743,
          0.6536349851971118,
          0.6426578274288314,
          0.48602678344696815,
          0.18910335328886332
         ],
         "z": [
          -0.01077771085042295,
          0.0028030830127443174,
          0.01288165878763442,
          0.012228233337274963,
          0.02237365152322146,
          0.006464191005879971,
          -0.0019132511439747535,
          -0.00454696992316278,
          -0.009981585057286302,
          -0.002852788508802384,
          -0.016282647879930612,
          0.0005729694971791932,
          0.009374331728785518,
          -0.005998681788917243,
          -0.02739824726116527,
          -0.0009791853418140428,
          0.010050628118679877,
          -0.0013759170162885026,
          0.020763714477204875,
          -0.010279139582505037,
          -0.010991259000222048,
          -0.023689452090201985,
          -0.025383850656951007,
          -0.03144842917871629,
          -0.05381991659602944,
          -0.05930903877241911
         ]
        },
        {
         "hovertemplate": "Population=Buryat<br>PC1=%{x}<br>PC2=%{y}<br>PC3=%{z}<extra></extra>",
         "legendgroup": "Buryat",
         "marker": {
          "color": "#19d3f3",
          "opacity": 0.8,
          "size": 4,
          "symbol": "circle"
         },
         "mode": "markers",
         "name": "Buryat",
         "scene": "scene",
         "showlegend": true,
         "type": "scatter3d",
         "x": [
          0.7363858458742074,
          0.7214496145273028,
          0.7290553697848365,
          0.7610652572956282,
          0.7337959476070921,
          0.7286906851797554,
          0.7438705625142619,
          0.7058254237454429,
          0.705473661250819,
          0.6884268195230312,
          0.7143889321276251,
          0.7133333047037078,
          0.7272718226366184,
          0.7130989650936324,
          0.7183558171060564,
          0.7081446839647589,
          0.737520271816603,
          0.7275355934166061,
          0.7440579283502664,
          0.7057068315512547,
          0.6707044308294894,
          0.7121440215053558,
          0.714965895590099,
          0.693800789161829,
          0.6967169408035008,
          0.7299940867256192,
          0.7087423790817939,
          0.7197218740061495,
          0.7262857538031593,
          0.7093333023529491,
          0.7441006417034322,
          0.6937160396721225,
          0.7174310815308664,
          0.6999230555586478,
          0.7080856107663125,
          0.699404784845191,
          0.5344489284903546,
          0.5666204041213867,
          0.632833017582948,
          0.4608751145553133,
          0.46590800292197054,
          0.3544636720496094,
          0.16417771169531745,
          0.1672497277163839
         ],
         "y": [
          -0.01956153223009924,
          -0.016810265137104187,
          -0.017944177797303073,
          -0.010801204467463223,
          -0.01672296299122758,
          -0.028706615286127807,
          -0.03577067240738959,
          -0.030847835078205068,
          -0.033177628987496675,
          -0.006439837937120007,
          -0.003245559388701535,
          -0.04377801614821436,
          -0.03350620608882932,
          -0.015753458739135567,
          -0.03145062155139166,
          -0.04733189192414995,
          -0.04272109989888742,
          -0.0537971799901203,
          -0.03263897430246018,
          -0.031642650369616235,
          -0.04241167015815312,
          -0.031477711040421304,
          -0.055660794226404416,
          -0.043091178501649875,
          -0.06692199018991182,
          -0.0595587091431088,
          -0.050688140809310604,
          -0.06385596968633407,
          -0.06658302675843164,
          -0.05173609446607385,
          -0.04994097155776455,
          -0.04617460666795282,
          -0.07481451278762047,
          -0.07707469567376377,
          -0.07067423911960055,
          -0.08126306127511754,
          0.04199328981474329,
          -0.0346601784641401,
          -0.07586747604129973,
          -0.09712606607026436,
          -0.09254589414537645,
          -0.13674119509096158,
          -0.18994385319902968,
          -0.20883406432115983
         ],
         "z": [
          -0.12753506580661944,
          -0.11341384951882216,
          -0.12353925200374755,
          -0.17535543882151244,
          -0.14085654127359443,
          -0.12382545115878829,
          -0.13519459657274818,
          -0.09771689979298387,
          -0.09602407300312815,
          -0.12150976403302138,
          -0.1590931819847478,
          -0.10023567943204853,
          -0.13491954435017428,
          -0.15148132971106726,
          -0.13744541192103477,
          -0.10638213781880956,
          -0.1562176051629301,
          -0.1316843370206302,
          -0.18311601635020863,
          -0.1433067349576274,
          -0.09242627425680816,
          -0.16168945476087937,
          -0.13332483646487409,
          -0.1307089479840699,
          -0.1048546221502955,
          -0.15685865791178732,
          -0.14352865241640983,
          -0.1398877672882522,
          -0.1484941037520221,
          -0.15020640729390272,
          -0.20238411305795817,
          -0.15834352398122098,
          -0.15329870155370673,
          -0.13027397304121607,
          -0.16130641249353844,
          -0.14012580356917548,
          -0.1296003880348982,
          -0.13642057599673746,
          -0.16137719005282575,
          -0.10314324601763791,
          -0.12173423780755938,
          -0.10572478904293936,
          0.010971675723210311,
          -0.16766554760917907
         ]
        },
        {
         "hovertemplate": "Population=Tatar<br>PC1=%{x}<br>PC2=%{y}<br>PC3=%{z}<extra></extra>",
         "legendgroup": "Tatar",
         "marker": {
          "color": "#FF6692",
          "opacity": 0.8,
          "size": 4,
          "symbol": "diamond"
         },
         "mode": "markers",
         "name": "Tatar",
         "scene": "scene",
         "showlegend": true,
         "type": "scatter3d",
         "x": [
          -0.26260470381699635,
          -0.19520878466934882,
          -0.10814754648513453,
          -0.1420768499452174,
          -0.123822540514959,
          -0.1420037946194448,
          -0.12508301995083454,
          -0.17808220348517662,
          -0.18252514829022254,
          -0.14567791503885946,
          -0.16743753708913145,
          -0.13919341608389876,
          -0.12128988752710923,
          -0.1783846874096755,
          -0.14919284409473357,
          -0.14002305921387248,
          -0.10545982085386785,
          -0.16022569795970826,
          -0.15976775796152515,
          -0.15320999889702577,
          -0.14303474843665254,
          -0.17894531530549035,
          -0.1348876888090402,
          -0.13648370786345787,
          -0.18875224797075224,
          -0.17559993721388645,
          -0.18009950481647202,
          -0.16165336789130064,
          -0.1877383728852295,
          -0.20394104238225202,
          -0.16513299541985016,
          -0.23571616915132193,
          -0.20363738259894498,
          -0.2660845281108349
         ],
         "y": [
          0.738481437993728,
          0.0960508272266441,
          -0.15859280541007081,
          -0.09955903490747317,
          -0.15629865967984874,
          -0.10061573377520822,
          -0.14543950837174724,
          -0.146289860165664,
          -0.1303322029316651,
          -0.18031716302544182,
          -0.1690660630305196,
          -0.19169373441795237,
          -0.20987320171093662,
          -0.15178170366833021,
          -0.17093577680076413,
          -0.18688444539463925,
          -0.1984459350996511,
          -0.17027604510217373,
          -0.18163381598987538,
          -0.20823540765635865,
          -0.21668477157569443,
          -0.1740237983900081,
          -0.21095858061231723,
          -0.21648889951555708,
          -0.1762858009283279,
          -0.20829608399902708,
          -0.1813320258459956,
          -0.20053232835992266,
          -0.21603693597823598,
          -0.2006648451221752,
          -0.2668292401072104,
          -0.2083909338076682,
          -0.24725655479664713,
          -0.2557777832163988
         ],
         "z": [
          0.01372118845777437,
          -0.054726914865469545,
          0.04722185983130667,
          -0.002110941424458612,
          0.028520190001103868,
          -0.0354781209568949,
          -0.016060821466840958,
          0.013058274255894564,
          -0.006366398026774689,
          0.015444219384383229,
          0.022377833435942435,
          0.019435915637664003,
          0.018341808196275455,
          -0.0063397043390534535,
          -0.016584824916887786,
          -0.00626402865770162,
          -0.03546186767014364,
          -0.012104355355813529,
          0.003520102221139909,
          0.009878327729472836,
          0.0063095513463829744,
          -0.011253699675675771,
          -0.02738342457017723,
          -0.024162105730574257,
          -0.03609334991550034,
          -0.01239418759958033,
          -0.05013264254107147,
          -0.06065986059652817,
          -0.013081341330071383,
          -0.03870296458897285,
          -0.026215434067448334,
          -0.06106271469472169,
          -0.10175694540415103,
          -0.11654082679030398
         ]
        },
        {
         "hovertemplate": "Population=Tuva<br>PC1=%{x}<br>PC2=%{y}<br>PC3=%{z}<extra></extra>",
         "legendgroup": "Tuva",
         "marker": {
          "color": "#B6E880",
          "opacity": 0.8,
          "size": 4,
          "symbol": "square"
         },
         "mode": "markers",
         "name": "Tuva",
         "scene": "scene",
         "showlegend": true,
         "type": "scatter3d",
         "x": [
          0.6476933328161625,
          0.6133944333058883,
          0.6008480154381957,
          0.624591021014544,
          0.6452596687981422,
          0.6327570119870303,
          0.5941753641503187,
          0.6368096869155089,
          0.6648445832319947,
          0.6283540096786833,
          0.6128553136276655,
          0.6022758150564074,
          0.6164524125513182,
          0.593843422913493,
          0.6053035063919046,
          0.6308544295120306,
          0.6208764968668525,
          0.6111827243136096,
          0.5984569124103216,
          0.6235834867283783,
          0.6321343520494247,
          0.6045426031602081,
          0.6127602440527358,
          0.6181832993206637,
          0.6077897445609819,
          0.595019425933899,
          0.6012749621204165,
          0.6185330534543227,
          0.6274824161453396,
          0.5805620505148528,
          0.6096602286664106,
          0.5517899305143648,
          0.6070150309941975,
          0.6311003977489604,
          0.5698463436016017,
          0.5802699990824931,
          0.5501484339686322,
          0.5731644602095662,
          0.5000918480935144,
          0.5561458001309543,
          0.5632719742240528,
          0.5574158772658805,
          0.548731252062906,
          0.17789820620669655
         ],
         "y": [
          -0.02085253792030245,
          -0.0022758595128127383,
          -0.015162632668682365,
          -0.012533443823346351,
          -0.021077841372212767,
          -0.0396910906325152,
          -0.01038358697610827,
          -0.03034556928292346,
          -0.019016566730933854,
          -0.029085337418136344,
          -0.04980149268765308,
          -0.014646649374931275,
          -0.02127414569047734,
          -0.018693630058884952,
          -0.02258086844676896,
          -0.022619874943869123,
          -0.0228006103966489,
          -0.015774948751982678,
          -0.01554100381798618,
          -0.02078556929992913,
          -0.0414799090252251,
          -0.040962568294642024,
          -0.03497220548841543,
          -0.04693083838327883,
          -0.05590668448395735,
          -0.045992370927814705,
          -0.03524356668722142,
          -0.04411820821784041,
          -0.06613748622432075,
          -0.03435380596703613,
          -0.05252522422126033,
          -0.05696713559399406,
          -0.0641484316163339,
          -0.0536155504819763,
          -0.04302675792083824,
          -0.04092156601698412,
          -0.03505096088295465,
          -0.054139790560395626,
          -0.014713604415274813,
          -0.025642230897117247,
          -0.061234383337020803,
          -0.07413721642230456,
          -0.06763428358796778,
          -0.14500327726642454
         ],
         "z": [
          -0.016888182478423663,
          -0.0014115126980605575,
          0.03248103649440223,
          -0.0005256482515368088,
          -0.013705044082632567,
          0.028313667452637054,
          0.03357701947262018,
          0.009722468843000875,
          -0.05070897553970627,
          0.005180569960253734,
          0.05072372024134006,
          0.013275616559029507,
          0.004153226515135167,
          0.025392823093943362,
          0.017000655775548712,
          -0.018278858787460883,
          -0.006596555890901856,
          -0.0066527042949270365,
          -0.0005642335321416891,
          -0.029950239287993896,
          -0.012886996551765062,
          0.014763378891608281,
          -0.007773987009779715,
          0.0008399624134049211,
          0.023957626213129357,
          0.019426380209096705,
          -0.009716124788105351,
          -0.02044734371792231,
          -0.004762906523216148,
          0.00621110596804314,
          -0.005703231234731515,
          0.0688606545288262,
          0.006280031575981115,
          -0.04128647651231848,
          0.01364013896960714,
          -0.0045205720775085,
          0.019130527948862275,
          0.008508771835170043,
          0.032574800698053685,
          -0.02050172298233499,
          0.006135863082662313,
          0.004911000162233448,
          0.0033205622977998672,
          -0.007333463928771933
         ]
        },
        {
         "hovertemplate": "Population=Khanty<br>PC1=%{x}<br>PC2=%{y}<br>PC3=%{z}<extra></extra>",
         "legendgroup": "Khanty",
         "marker": {
          "color": "#FF97FF",
          "opacity": 0.8,
          "size": 4,
          "symbol": "x"
         },
         "mode": "markers",
         "name": "Khanty",
         "scene": "scene",
         "showlegend": true,
         "type": "scatter3d",
         "x": [
          0.21832848245869993,
          0.16500326068535162,
          0.1529625721909321,
          0.0677996456730763,
          0.0954510709766883,
          0.07677008161119243,
          0.08173165205728271,
          0.07120721782449538,
          0.07069904268928257,
          0.06939906475307822,
          0.06939906475307822,
          0.06939906475307822,
          0.06939906475307822,
          0.06939906475307822,
          0.06753798735602995,
          0.05837607261219795,
          0.1352362414735514,
          0.056639577493062795,
          0.08391131520016223,
          0.07435385482364909,
          0.07211434304908759,
          0.15032301602526177,
          0.07897907004833025,
          0.03921649192797574,
          0.0759695385175074,
          0.07464564914933511,
          0.057829966669870385,
          -0.06462566221749172,
          -0.08595132144236195
         ],
         "y": [
          -0.1062382912001136,
          -0.11246657209862526,
          -0.11340411724038574,
          -0.10078789806124494,
          -0.1279684019956724,
          -0.129412752265568,
          -0.13000289216709307,
          -0.11619673654710419,
          -0.1348966377560651,
          -0.13607088984603108,
          -0.13607088984603108,
          -0.13607088984603108,
          -0.13607088984603108,
          -0.13607088984603108,
          -0.13782215126040087,
          -0.11147217045192573,
          -0.1197927024323937,
          -0.1439996142067083,
          -0.1427037391593514,
          -0.1447820169940564,
          -0.14726785335528644,
          -0.1305102915970421,
          -0.1416378576297219,
          -0.15920876861899022,
          -0.15380942233510755,
          -0.1668259210719754,
          -0.17468706578456428,
          -0.22742353687140834,
          -0.2163700046535148
         ],
         "z": [
          0.62904684876331,
          0.7030695404022593,
          0.7191434168823343,
          0.8048202502824354,
          0.809684478670151,
          0.8346096869571004,
          0.8293183663230296,
          0.8224395599108423,
          0.8495522624493939,
          0.8527518825967701,
          0.8527518825967701,
          0.8527518825967701,
          0.8527518825967701,
          0.8527518825967701,
          0.845075690047883,
          0.8141970747236382,
          0.7245888236426262,
          0.8250120761761461,
          0.7548313208996779,
          0.7649391963044302,
          0.7546347445636737,
          0.6277582521925393,
          0.7126204720295761,
          0.7579890284601201,
          0.6732547973179323,
          0.6839850434497772,
          0.6741519017954627,
          0.5032318417754723,
          0.4387432781048669
         ]
        },
        {
         "hovertemplate": "Population=Kirgiz<br>PC1=%{x}<br>PC2=%{y}<br>PC3=%{z}<extra></extra>",
         "legendgroup": "Kirgiz",
         "marker": {
          "color": "#FECB52",
          "opacity": 0.8,
          "size": 4,
          "symbol": "cross"
         },
         "mode": "markers",
         "name": "Kirgiz",
         "scene": "scene",
         "showlegend": true,
         "type": "scatter3d",
         "x": [
          0.5092595591152687,
          0.5130221321334516,
          0.5245008374029084,
          0.49744170120423903,
          0.44821339434112645,
          0.4395211170075069,
          0.41513326946531054,
          0.44158154281074624,
          0.4256044297534926,
          0.47995058330852497,
          0.4638773481441763,
          0.46808894024258174,
          0.47019693882674357,
          0.4794954220916826,
          0.47283579351176375,
          0.47350069746240436,
          0.38354301270959706,
          0.4298972175324718,
          0.4622619837518363,
          0.49257500223375134,
          0.39012761945064733,
          0.45812492630038176,
          0.45241172162718046,
          0.44118526828944626,
          0.3514766444637952,
          0.32245586527899356,
          -0.34260908073381496,
          -0.36472710359535887
         ],
         "y": [
          0.034489795354964076,
          0.0443764310354609,
          0.011437648655270253,
          -0.012512005650106777,
          0.03678577665944437,
          0.030134289157536222,
          0.06181997986271786,
          0.055991626428621204,
          0.07405814317721227,
          0.024239041863750116,
          0.036068343787342964,
          0.008761956648582613,
          0.007866621206434665,
          0.008359607545675787,
          0.01609780794601989,
          0.009557498252865167,
          0.06002960127241703,
          0.04719461042818449,
          0.0011018299807038952,
          -0.014728857795914842,
          0.04138074891259417,
          -0.005940818963203465,
          -0.010960712781216013,
          -0.01937954257779432,
          -0.028358148508733753,
          0.009872379761557172,
          -0.35483968374346286,
          -0.34048005217404814
         ],
         "z": [
          -0.05256019945349205,
          -0.0732606175660846,
          -0.08227146291265336,
          -0.049086373156384866,
          -0.0648970375025848,
          -0.04588929627452576,
          -0.061682760300742545,
          -0.0886534428396184,
          -0.09530503109193067,
          -0.09657570420069655,
          -0.09863463316815152,
          -0.07204216601417862,
          -0.07427542653600805,
          -0.08937013678448175,
          -0.09302603056018727,
          -0.08907139999213343,
          -0.06549637407328235,
          -0.10571452611504006,
          -0.09317124584804315,
          -0.12159754331665018,
          -0.08030948825827611,
          -0.10017948231562268,
          -0.08710502946671378,
          -0.10332091372897179,
          -0.06869399785885671,
          -0.09638148157306703,
          -0.12657690666976323,
          -0.13162936774724676
         ]
        },
        {
         "hovertemplate": "Population=Kazakh<br>PC1=%{x}<br>PC2=%{y}<br>PC3=%{z}<extra></extra>",
         "legendgroup": "Kazakh",
         "marker": {
          "color": "#636efa",
          "opacity": 0.8,
          "size": 4,
          "symbol": "circle"
         },
         "mode": "markers",
         "name": "Kazakh",
         "scene": "scene",
         "showlegend": true,
         "type": "scatter3d",
         "x": [
          0.5145718439098932,
          0.4753456700428796,
          0.4333467798093204,
          0.43881422345245974,
          0.43555300383209455,
          0.3998345422627294,
          0.4433933871031773,
          0.4776800432925967,
          0.3493072908831512,
          0.38194720833909135,
          0.4168414388720602,
          0.4019770050745782,
          0.37671032298066437,
          0.38698706675409283,
          0.37022602482798384,
          0.3657766121992,
          0.40252550216168165,
          0.35315785348789897,
          0.38872822693339987,
          0.4054386198388421,
          0.3578715607697424,
          0.38365118338740456,
          0.3771520505585429,
          0.3915088424617816,
          0.4266754313534694,
          0.38802131350224633,
          0.39013136129935105,
          0.3903303998687796,
          0.3128752919060891,
          0.3748611252138821,
          0.3434267208442714,
          0.3624105462023389,
          0.3933899373650551,
          0.39705566043266477,
          0.38194204656416436,
          0.42051075775720276,
          0.37264686358155863,
          0.4036867698426949,
          0.3524053712208814,
          0.29107377500390214,
          0.36543567269098737,
          0.395691037601573,
          0.33790341188378764,
          0.22482926211155685,
          0.030924074559914305
         ],
         "y": [
          0.04782737120652214,
          0.05098510916613702,
          0.038367159168245187,
          0.024386084484206115,
          0.04634460337836694,
          0.04388289071174527,
          0.035407821679102454,
          0.021184596941742347,
          0.06321815439136039,
          0.048285471239633525,
          0.0020588310819854606,
          0.030328660778116627,
          0.052245268533591176,
          0.027479685353602477,
          0.02163913617645181,
          0.01529050637479763,
          0.02898450272622005,
          0.04459577938583891,
          0.034699282748836276,
          0.014918084167840732,
          0.02930323648767446,
          0.013446862337942723,
          0.03702631138546453,
          0.014817097897664031,
          -0.005674433471676631,
          0.005415875473914124,
          0.021746943729762908,
          0.016388546837759282,
          0.03837458461343004,
          0.009008701049185629,
          0.03806067765109831,
          0.015281507251245996,
          0.0002803243152677132,
          0.0036774383977567424,
          0.005377631596779328,
          -0.015050516905824481,
          -0.006547252313114819,
          -0.01205367004666107,
          -0.004250475682993079,
          0.04765202035474818,
          -0.011031722786204862,
          -0.03311591255993391,
          -0.01572494361786797,
          0.07530628432392703,
          -0.2270894733941999
         ],
         "z": [
          -0.079426264787883,
          -0.09942674069515378,
          -0.07309327416612976,
          -0.0760188472929006,
          -0.1075687922450202,
          -0.07152910096737841,
          -0.11482226670409051,
          -0.13845930787801264,
          -0.05695942696946252,
          -0.07591124033874008,
          -0.058634219462012804,
          -0.08346956950903545,
          -0.09037380624813368,
          -0.07043272033877612,
          -0.04698568915943374,
          -0.033759054685084916,
          -0.09850959494355316,
          -0.06283052218300234,
          -0.09490299291983179,
          -0.08937263354192876,
          -0.056271777100856346,
          -0.06701478009553669,
          -0.09327216391743881,
          -0.0853080855505789,
          -0.10222245787752138,
          -0.07195463656510037,
          -0.09967095834467843,
          -0.09885614775178703,
          -0.03785617682028908,
          -0.0738679672882982,
          -0.07856165622480377,
          -0.06930736500077195,
          -0.0881393894005047,
          -0.10821115573739026,
          -0.09519224628685685,
          -0.11732768785411912,
          -0.07352412906452976,
          -0.10519936916952333,
          -0.08126340347952943,
          -0.08062537179315526,
          -0.10383361430357096,
          -0.11119320882116124,
          -0.07034111372075191,
          -0.06247586757197321,
          -0.11479675236996412
         ]
        },
        {
         "hovertemplate": "Population=Karachay<br>PC1=%{x}<br>PC2=%{y}<br>PC3=%{z}<extra></extra>",
         "legendgroup": "Karachay",
         "marker": {
          "color": "#EF553B",
          "opacity": 0.8,
          "size": 4,
          "symbol": "diamond"
         },
         "mode": "markers",
         "name": "Karachay",
         "scene": "scene",
         "showlegend": true,
         "type": "scatter3d",
         "x": [
          -0.19775338716875163,
          -0.13796059375192196,
          -0.19375316965722028,
          -0.21031202816195183,
          -0.20573438820856083,
          -0.20484216263935917,
          -0.20737193527907338,
          -0.18452086174420756,
          -0.1849196573419657,
          -0.19441507464298985,
          -0.2371315106358532,
          -0.18248591402066533,
          -0.19250130184457875,
          -0.21396270539920043,
          -0.2177757983634816,
          -0.21513780669214821,
          -0.18369250777495605,
          0.11885986360099965,
          -0.20115038545631503,
          -0.17541899763761448,
          -0.21290555624506413,
          -0.19867481770304046,
          -0.21274021867293863
         ],
         "y": [
          0.5964722755224079,
          0.5673702382344293,
          0.568792218833475,
          0.5791292891922557,
          0.5823877128940264,
          0.5710107838800015,
          0.558706794938295,
          0.543045894634785,
          0.5381793217514141,
          0.540928619875568,
          0.5606665761169533,
          0.5430239989074507,
          0.542665782376568,
          0.5422718494872937,
          0.5541189535277756,
          0.5295707598015462,
          0.5126826873944736,
          0.2776188618319106,
          0.5087188378638404,
          0.49887951055643687,
          0.5083797120291108,
          0.48409104626180366,
          0.45366509159227963
         ],
         "z": [
          0.008012339588920114,
          -0.0357540910375973,
          0.00870057511753139,
          -0.0005804318007882614,
          -0.01259994944022777,
          0.00019112919497790704,
          0.018190755291087574,
          -0.01221223857152473,
          -0.0062153900778882665,
          -0.005398702176218767,
          0.017577511928769024,
          -0.02540259881728793,
          -0.020735024782227107,
          0.0043947798934931,
          -0.00875709512824005,
          0.015506286226013993,
          -0.017880957515098328,
          -0.06065661306225323,
          -0.006402398419003336,
          -0.03315504274901365,
          -0.004316268727727696,
          -0.04316584313694055,
          -0.05017217307320296
         ]
        },
        {
         "hovertemplate": "Population=Cherkes<br>PC1=%{x}<br>PC2=%{y}<br>PC3=%{z}<extra></extra>",
         "legendgroup": "Cherkes",
         "marker": {
          "color": "#00cc96",
          "opacity": 0.8,
          "size": 4,
          "symbol": "square"
         },
         "mode": "markers",
         "name": "Cherkes",
         "scene": "scene",
         "showlegend": true,
         "type": "scatter3d",
         "x": [
          -0.18577155340396373,
          -0.20733672037234357,
          -0.18665953427652232,
          -0.17843556638057528,
          -0.20912522177558196,
          -0.22643204196953215,
          -0.21206881243667058,
          -0.19048894641779007,
          -0.24070773628134456,
          -0.24949606276175268,
          -0.16227509966037817,
          -0.17596828875183462,
          -0.21681763425702683,
          -0.21023699101886967,
          -0.2175385179362721,
          -0.19390661033305523,
          -0.17481724177635705,
          -0.2179170495595662,
          -0.2109041255294996,
          -0.18935708141071556,
          -0.20785499509853006,
          -0.23357761474483224,
          -0.21456760578580625,
          -0.23623560617027595,
          -0.2183649359485174,
          -0.20802170629692063,
          -0.1845625997009122,
          -0.1873688207617225,
          -0.2239190658994888,
          -0.2229732477303088,
          -0.2232720562583524,
          -0.20483503013077975,
          -0.21571163429692614
         ],
         "y": [
          0.5890981640754868,
          0.5495161865366639,
          0.49991619748083316,
          0.49084105459970806,
          0.4953039205395361,
          0.5078976236999916,
          0.49143578947999883,
          0.4627150711787838,
          0.4698967418559231,
          0.5046543792958512,
          0.445231257624677,
          0.4558737239348377,
          0.476267524545219,
          0.4641043122976019,
          0.47447515994302636,
          0.47089299677550805,
          0.4473216080782084,
          0.47119772411618066,
          0.4650546657156976,
          0.4537910688413987,
          0.45214352359213106,
          0.45903001360200524,
          0.44943110220896215,
          0.46108474585836007,
          0.43307478840131947,
          0.4302379841220298,
          0.4168065613271116,
          0.4116882315923406,
          0.4003079392767634,
          0.4380640705613939,
          0.4140650736657719,
          0.4103355618051252,
          0.38922572838129726
         ],
         "z": [
          0.0015980491980558398,
          -0.0006074667079504215,
          0.0006133513516607958,
          -0.019467734407192294,
          -0.001318888645643418,
          -0.007155035790134406,
          -0.0030352642946158415,
          0.004005655830625232,
          0.040277726225176,
          0.0015279842180112302,
          -0.027643709602332867,
          -0.027373004466092588,
          -0.009186378484423385,
          -0.0003633261564169876,
          -0.011101153316605744,
          -0.0355097412806053,
          -0.02590303118237644,
          -0.023446462966968534,
          -0.02989539023429094,
          -0.053686009885232006,
          -0.03276953245351069,
          -0.012397420266834908,
          -0.027878074604000075,
          -0.022243407936764825,
          -0.019400505850810296,
          -0.04014619581363288,
          -0.053592638054993064,
          -0.04651113726718728,
          0.007593581213803741,
          -0.04840953805249654,
          -0.030928434957764983,
          -0.05934083882152283,
          -0.024104200797251146
         ]
        },
        {
         "hovertemplate": "Population=Adygei<br>PC1=%{x}<br>PC2=%{y}<br>PC3=%{z}<extra></extra>",
         "legendgroup": "Adygei",
         "marker": {
          "color": "#ab63fa",
          "opacity": 0.8,
          "size": 4,
          "symbol": "x"
         },
         "mode": "markers",
         "name": "Adygei",
         "scene": "scene",
         "showlegend": true,
         "type": "scatter3d",
         "x": [
          -0.23224633870096012,
          -0.24573672174389732,
          -0.2329764438863614,
          -0.22690661640553683,
          -0.24094746439098574,
          -0.2487815791359702,
          -0.25086542074325213,
          -0.2391950858532803,
          -0.2457011192455127,
          -0.255129226495541,
          -0.24416453235777635,
          -0.25160003811273973,
          -0.2404330384506408,
          -0.23719392413003143,
          -0.2504855523394923,
          -0.2290018759292327,
          -0.25291885262128333,
          -0.2268758689527347,
          -0.26545860270489674,
          -0.23394522479621338,
          -0.22364444322082633,
          -0.26568995100249265,
          -0.2540271777176232,
          -0.2399123170461821,
          -0.22226787902851164,
          -0.19073358700768994,
          -0.260542807880851,
          -0.25902849272358114,
          -0.22725187381654743,
          -0.24676039298496905,
          -0.22968563588609997
         ],
         "y": [
          0.5973095856291886,
          0.60120826924663,
          0.5867116021098184,
          0.5731410028752654,
          0.577184078729396,
          0.5736326639819173,
          0.5768534735973835,
          0.5768389460361466,
          0.5734780139286637,
          0.567119923673811,
          0.5784793470051852,
          0.5904548273560085,
          0.5731395084034051,
          0.5505238178068173,
          0.5697597528654843,
          0.543184183750413,
          0.560467892488231,
          0.5361070168378949,
          0.5673940644948954,
          0.5496336961464334,
          0.5312260118481706,
          0.5654211582831441,
          0.5356428747163332,
          0.5373422063298039,
          0.5100481927588618,
          0.48820013940541823,
          0.5433947479122594,
          0.5217852144005225,
          0.4845554278225453,
          0.47126248704792084,
          0.1253058243311216
         ],
         "z": [
          0.015820957302804278,
          0.01311553899571996,
          0.016347208457177576,
          0.015023994103451538,
          0.010532973228388809,
          0.008609869309894602,
          0.00454277651817081,
          -0.022175472252498718,
          -0.011366688067246528,
          0.004478964778373035,
          -0.02615010205572732,
          -0.034673357742623284,
          -0.03019316043901618,
          -0.00809555734758488,
          -0.023414641547386705,
          -0.01201341475267581,
          -0.01572119221332982,
          -0.017305582629389304,
          -0.01687501362306887,
          -0.031036402887291203,
          -0.020245937771974837,
          -0.02445377451326136,
          0.0025882725734596157,
          -0.027105366417135235,
          -0.011809169275206116,
          -0.026459373036749056,
          -0.02469082447993698,
          -0.030514741774690907,
          -0.029908740763107233,
          -0.027307371637335848,
          -0.03654620699209843
         ]
        },
        {
         "hovertemplate": "Population=Kabardin<br>PC1=%{x}<br>PC2=%{y}<br>PC3=%{z}<extra></extra>",
         "legendgroup": "Kabardin",
         "marker": {
          "color": "#FFA15A",
          "opacity": 0.8,
          "size": 4,
          "symbol": "cross"
         },
         "mode": "markers",
         "name": "Kabardin",
         "scene": "scene",
         "showlegend": true,
         "type": "scatter3d",
         "x": [
          -0.19322160485703638,
          -0.19199979156596486,
          -0.20532064344875867,
          -0.21088884757785015,
          -0.1944763944649151,
          -0.1948758846884096,
          -0.21053874188993643,
          -0.2066671220564693,
          -0.20801262066215576,
          -0.2098022022510705,
          -0.2185446456570112,
          -0.19623781497098336,
          -0.20791439844263654,
          -0.18713881210333894,
          -0.21503150587099606,
          -0.2193566795938386,
          -0.2252759093247027,
          -0.16958528667796557,
          -0.21013596298891596,
          -0.1898195115481104,
          -0.19216777244857913,
          -0.20897078658384233,
          -0.19978401167015386,
          -0.22603468197145982,
          -0.24121038294247216,
          -0.1779579368148756,
          -0.19208784277443136,
          -0.18346449408786186,
          -0.2163628400091786,
          -0.20161435967974883,
          -0.22473586076173485,
          -0.1890168524460752,
          -0.23116273021424333,
          -0.24321165184422083,
          -0.21995655263280772
         ],
         "y": [
          0.5405311667761694,
          0.5173950532988155,
          0.5127439502888955,
          0.5093191495690319,
          0.5108155108065614,
          0.463011350019151,
          0.49302292989173224,
          0.471186257664663,
          0.494627728982695,
          0.4854662181879465,
          0.488183424273389,
          0.46618314394093796,
          0.46657976483822866,
          0.46614687500675717,
          0.48173008291211405,
          0.48608954282299904,
          0.48572146487403595,
          0.4430764907809494,
          0.4494362355571232,
          0.4312009896977737,
          0.4260290711173297,
          0.4403260854681277,
          0.437070365621835,
          0.45188435503709673,
          0.4409639860070083,
          0.40616315471438,
          0.41911743112009126,
          0.3972773416152871,
          0.42336243284317526,
          0.3926798884909831,
          0.4011969094501692,
          0.3943482723574907,
          0.4162818606278217,
          0.4205331823892264,
          0.3961721455545055
         ],
         "z": [
          -0.0005202925598229435,
          -0.009056934280952278,
          -9.170857493440154e-06,
          -0.006675888656992479,
          -0.029300172616723075,
          0.012161581801598376,
          -0.01519100653819938,
          0.01025551413853279,
          -0.024833248530649277,
          -0.021336474037962183,
          -0.014571240889293402,
          -0.023145544004033625,
          -0.010580244746306894,
          -0.03802808182935494,
          -0.026007913049038794,
          -0.027970433117190302,
          -0.020547012957504274,
          -0.04990631702120202,
          -0.031807671742652616,
          -0.034514389281052854,
          -0.02971628491096598,
          -0.029526156546225896,
          -0.039977235520999826,
          -0.03344898779620198,
          -0.009453120324316805,
          -0.03836828468052589,
          -0.0459940511677881,
          -0.037937921305202904,
          -0.03565504355453361,
          -0.016935065485268297,
          -0.011095562924034852,
          -0.0460174809814822,
          -0.04351176932168513,
          -0.037989865541171036,
          -0.04572990333819291
         ]
        },
        {
         "hovertemplate": "Population=Uzbek<br>PC1=%{x}<br>PC2=%{y}<br>PC3=%{z}<extra></extra>",
         "legendgroup": "Uzbek",
         "marker": {
          "color": "#19d3f3",
          "opacity": 0.8,
          "size": 4,
          "symbol": "circle"
         },
         "mode": "markers",
         "name": "Uzbek",
         "scene": "scene",
         "showlegend": true,
         "type": "scatter3d",
         "x": [
          0.1843267313503814,
          0.46351160714930223,
          0.1374390773312182,
          0.21724970254496295,
          0.13801091242648336,
          0.22190907934720583,
          0.16427697455963985,
          0.19825513232069764,
          0.20503888797019607,
          0.08643897497607689,
          0.1914771918651864,
          0.23423081943800245,
          0.25096814404869117,
          0.2069391022165692,
          0.19546376519687286,
          0.1553057273926685,
          0.23829505897325245,
          0.16637138349616215,
          0.13202629449415293,
          0.17004544526808313,
          0.15856603876975253,
          0.13851150555472488,
          0.18297624338395935,
          0.16061720657235706,
          0.15252859633969068,
          0.13723916024085234,
          0.10199336914739271,
          0.13677045100062296,
          0.2003995772745084,
          0.1853490040956867,
          0.19475975195489578,
          0.1499972603895099,
          0.1287110939403566,
          0.1675802096361702,
          0.13891439493541158,
          0.06271567902683339,
          0.0017534590988433074,
          0.01640228527218568,
          -0.03237287105455472
         ],
         "y": [
          0.21120439710462663,
          -0.0070584386968216735,
          0.23088699525559328,
          0.17920199527409256,
          0.22207915629651906,
          0.1887460297169694,
          0.19407712592503829,
          0.18159179368262843,
          0.15419820512881457,
          0.24214742703256814,
          0.17757792459449262,
          0.12915298820430707,
          0.12026339876154984,
          0.15017971539948602,
          0.1684521327281995,
          0.16532029644923382,
          0.13813940990379153,
          0.18390543460324363,
          0.17035128294841237,
          0.16601583310266999,
          0.17409133380517558,
          0.17067713065382784,
          0.1463842210069281,
          0.17421473233273768,
          0.15988937410628473,
          0.17233692829316685,
          0.189455047791451,
          0.160032478042616,
          0.13091669795488725,
          0.14214175913245736,
          0.11739150334139065,
          0.1384439961640029,
          0.14544035807024067,
          0.1455091830322881,
          0.13957941371353438,
          0.02874591368637478,
          0.010732047487409548,
          -0.051149130231137,
          0.005899979697799075
         ],
         "z": [
          -0.043375241843260554,
          -0.07579846635647663,
          -0.03091847269240605,
          -0.07134887718517402,
          -0.035992331868823335,
          -0.0942835422651272,
          -0.03569443756831586,
          -0.0611971559798265,
          -0.034460220080559406,
          -0.016177479811448653,
          -0.061645829490349136,
          -0.048164768982822126,
          -0.06292796426775338,
          -0.05239572680673826,
          -0.06641550068780488,
          -0.01340064427778434,
          -0.08523854156223942,
          -0.06289946501603594,
          -0.00926118125124642,
          -0.051966984321224374,
          -0.056345842062260953,
          -0.032619496067432086,
          -0.05690450991199511,
          -0.0704724168091142,
          -0.04844194443352451,
          -0.05059909181785649,
          -0.03269772137044377,
          -0.035510478276518626,
          -0.07940736278875837,
          -0.07796912836225928,
          -0.055125482598798015,
          -0.049625980730781505,
          -0.03776199172749556,
          -0.09282263355445569,
          -0.0725155125641424,
          -0.06466695819364099,
          -0.029468526168154763,
          0.02393681232217737,
          -0.05281867322551076
         ]
        },
        {
         "hovertemplate": "Population=Chechen<br>PC1=%{x}<br>PC2=%{y}<br>PC3=%{z}<extra></extra>",
         "legendgroup": "Chechen",
         "marker": {
          "color": "#FF6692",
          "opacity": 0.8,
          "size": 4,
          "symbol": "diamond"
         },
         "mode": "markers",
         "name": "Chechen",
         "scene": "scene",
         "showlegend": true,
         "type": "scatter3d",
         "x": [
          -0.25412841244072915,
          -0.23859995853187943,
          -0.2498612286992843,
          -0.24558716164536182,
          -0.26016867188697695,
          -0.24477594113258488,
          -0.23636276380798504,
          -0.2728268698383506,
          -0.2621823934839318,
          -0.24590066855345633,
          -0.24482336097684904,
          -0.2662717874024568,
          -0.24300856679558935,
          -0.2437509301738428,
          -0.2737759980483893,
          -0.25715640623728686,
          -0.2671043611464258,
          -0.27985390730076926
         ],
         "y": [
          0.5105265857572578,
          0.483785074650375,
          0.47627438579351233,
          0.47427681931156074,
          0.47041627731711866,
          0.4660454961953416,
          0.44633985677563015,
          0.47770045379061254,
          0.45361878991402854,
          0.46157269687580615,
          0.4465040304543272,
          0.44022747170569687,
          0.41910755718919357,
          0.42566433697726985,
          0.4509576333713158,
          0.42749771562126565,
          0.4211505051522376,
          0.35012184796310647
         ],
         "z": [
          0.04894074044255842,
          0.01652379100178908,
          0.014996023692498972,
          0.005085819399619551,
          0.003257502480053076,
          -0.009837118287939206,
          0.006584561794547805,
          -0.003975904855427925,
          0.013246896806699743,
          -0.02317217265171173,
          -0.005466757645471693,
          0.00958452990042219,
          -0.014011057552005213,
          -0.027439602788634943,
          -0.031654963077921844,
          -0.02088217307077389,
          -0.028123264792678987,
          -0.01006446701931868
         ]
        },
        {
         "hovertemplate": "Population=Bashkir<br>PC1=%{x}<br>PC2=%{y}<br>PC3=%{z}<extra></extra>",
         "legendgroup": "Bashkir",
         "marker": {
          "color": "#B6E880",
          "opacity": 0.8,
          "size": 4,
          "symbol": "square"
         },
         "mode": "markers",
         "name": "Bashkir",
         "scene": "scene",
         "showlegend": true,
         "type": "scatter3d",
         "x": [
          0.16079175607226537,
          0.13134822573359248,
          0.13773214129531308,
          0.08258433948684776,
          0.14431117641965205,
          0.09909984595129367,
          0.11071402262005775,
          0.15146046934485688,
          0.0976632504073254,
          0.11625758400701261,
          0.10096028851626712,
          0.08737904243851813,
          0.11795037142487338,
          0.11130104347799333,
          0.04973216089419788,
          0.09135948049074322,
          0.0902151848913594,
          0.06155051891174232,
          0.07393879178453605,
          0.07385016502438718,
          0.11127675119745781,
          0.08373579832235822,
          0.09554737248132122,
          0.09074742146091697,
          0.10013332945228562,
          0.06753070556665955,
          0.05012793487077294,
          0.054951800938363826,
          0.030693869149786696,
          0.06479503906901765,
          0.08466880289676929,
          0.023253341006842537,
          -0.0362757770721201,
          -0.04397216958220085
         ],
         "y": [
          -0.06919899478077474,
          -0.051453744178775955,
          -0.07157795561616373,
          -0.03601126644924494,
          -0.08221947969734417,
          -0.05199927657350729,
          -0.062495614312775095,
          -0.09459848565724038,
          -0.054413498759671046,
          -0.08940030869135551,
          -0.07480499093908996,
          -0.08211593411538429,
          -0.09378829950582107,
          -0.10437671521030209,
          -0.08993505949156236,
          -0.09188473392381188,
          -0.09245257408908669,
          -0.09229326691535383,
          -0.10179383424621172,
          -0.08956364701198863,
          -0.13512387337356174,
          -0.10729347611167003,
          -0.12128209181349756,
          -0.1461236585861206,
          -0.11733437700525942,
          -0.09832058300926536,
          -0.11198565576031522,
          -0.12369321571848263,
          -0.13029638129248095,
          -0.1276188146153666,
          -0.1701960401066793,
          -0.12652079933291321,
          -0.12718298608805123,
          -0.20466907405062643
         ],
         "z": [
          0.14029175411662062,
          0.10120087038959871,
          0.10717829435070318,
          0.10977055076553563,
          0.09723062815793024,
          0.10385450355355785,
          0.10193778219550703,
          0.07834214855730556,
          0.08670986150193233,
          0.11208791887876166,
          0.10609459591618373,
          0.11512309684253665,
          0.09364916508443943,
          0.09932758492238847,
          0.15247514352028088,
          0.10098022510037592,
          0.10320955035021842,
          0.12617783206818908,
          0.11388073788617556,
          0.09050029632797227,
          0.10836857566004765,
          0.0795328777793317,
          0.0841030588352693,
          0.11589249804333696,
          0.06108536557745228,
          0.07245424425648073,
          0.11214691202768537,
          0.11140868109495948,
          0.09593994059083319,
          0.04849372393925955,
          0.08143329870176808,
          0.06279567223971627,
          0.057249790904380066,
          0.04533465135809259
         ]
        },
        {
         "hovertemplate": "Population=Russian_NSK<br>PC1=%{x}<br>PC2=%{y}<br>PC3=%{z}<extra></extra>",
         "legendgroup": "Russian_NSK",
         "marker": {
          "color": "#FF97FF",
          "opacity": 0.8,
          "size": 4,
          "symbol": "x"
         },
         "mode": "markers",
         "name": "Russian_NSK",
         "scene": "scene",
         "showlegend": true,
         "type": "scatter3d",
         "x": [
          0.10320221215285275,
          0.14128475419694464,
          -0.10110997207318523,
          -0.1234142040562976,
          -0.15297209561074954,
          -0.27169602465247195,
          -0.28261585698710506,
          -0.27467383445824084,
          -0.297975755026148,
          -0.31997364729123,
          -0.2875950130127762,
          -0.295063920814194,
          -0.29250004114669853,
          -0.37819176549812517,
          -0.30490479035815393,
          -0.33442604062579884,
          -0.3162994694301541,
          -0.3120463526602223,
          -0.3309709902460194,
          -0.33797142802499847,
          -0.2962206941030539,
          -0.3272057414519142,
          -0.3188491459403104,
          -0.3327874769401833,
          -0.35966311854125627,
          -0.2974092837655451,
          -0.3580563502671296,
          -0.35761241384483017,
          -0.34369653116582205,
          -0.3428974741668939,
          -0.37002500197145544,
          -0.3574539866215344,
          -0.36633631064112177,
          -0.3306044107940084,
          -0.3324262404378333,
          -0.3704377766987162,
          -0.36519250235242057,
          -0.3882838790828019
         ],
         "y": [
          -0.03408232410345965,
          -0.03656276323829906,
          -0.24307335635252927,
          -0.2536697956980698,
          -0.25993360917365027,
          -0.10939541756913451,
          -0.3013557617104674,
          -0.2660342012562647,
          -0.34276057266356125,
          -0.29126128655957817,
          -0.3605737362496351,
          -0.36451903479915354,
          -0.3874140451057034,
          -0.24830460717817218,
          -0.3383087850457852,
          -0.29564477745141515,
          -0.3576219886698521,
          -0.37736016699915725,
          -0.36341718111724386,
          -0.34936341678023813,
          -0.41785490562231586,
          -0.33691078718851447,
          -0.37650874908350074,
          -0.3531351332638333,
          -0.3548184660277816,
          -0.38846907888041776,
          -0.33928640723714615,
          -0.3355895053896187,
          -0.3726329719619003,
          -0.3536553706128914,
          -0.3162623749586074,
          -0.3618651467958535,
          -0.35434993122102104,
          -0.3880879619805935,
          -0.35038046063578615,
          -0.3631907104843378,
          -0.4026022231321608,
          -0.4378113937818648
         ],
         "z": [
          0.13720477258480393,
          0.0573209553354771,
          0.060923312208258806,
          0.031838138557060525,
          0.06929196611297699,
          -0.11581476905539578,
          -0.027904204422790124,
          -0.09362959181010205,
          -0.042918319739500166,
          -0.10267985941938451,
          -0.06579008907494954,
          -0.05774578734172933,
          -0.042777273665854515,
          -0.1398178282837264,
          -0.11129640300250837,
          -0.14264953145482628,
          -0.08350931738529288,
          -0.06289334010886838,
          -0.06725124701663066,
          -0.08999982044622235,
          -0.044867279908096,
          -0.13211990994324485,
          -0.0915363451785195,
          -0.11751271322214013,
          -0.08743234166781605,
          -0.1301857290076462,
          -0.12800929294878677,
          -0.13947672640217212,
          -0.10475863415140785,
          -0.13484341413360557,
          -0.16448787921194225,
          -0.11508022645045651,
          -0.11806744314943374,
          -0.11661335985098004,
          -0.17197111617626798,
          -0.1851995140500015,
          -0.15221421087570935,
          -0.15754700375293795
         ]
        },
        {
         "hovertemplate": "Population=Udmurt<br>PC1=%{x}<br>PC2=%{y}<br>PC3=%{z}<extra></extra>",
         "legendgroup": "Udmurt",
         "marker": {
          "color": "#FECB52",
          "opacity": 0.8,
          "size": 4,
          "symbol": "cross"
         },
         "mode": "markers",
         "name": "Udmurt",
         "scene": "scene",
         "showlegend": true,
         "type": "scatter3d",
         "x": [
          -0.13095810248770617,
          -0.13889309451293916,
          -0.11668030268418969,
          -0.15459588161068719,
          -0.15887047183726086,
          -0.15631066085578232,
          -0.1412653008337321,
          -0.13790254770678625,
          -0.1305823141437958,
          -0.13695058742633792,
          -0.14410005779507973,
          -0.13463660563754482,
          -0.14266822481779537,
          -0.13658239759744983,
          -0.14963685525318693,
          -0.16047703600439736,
          -0.12485458642725081,
          -0.14127131627599465,
          -0.15746211945144192,
          -0.15807801396658472,
          -0.17121401696920613,
          -0.17030118277638873,
          -0.2196856258586083,
          -0.24044304682649037,
          -0.24139794060067232
         ],
         "y": [
          -0.17905703384316404,
          -0.20811024633657554,
          -0.20707893111151407,
          -0.18773139445978987,
          -0.1777788952790904,
          -0.1949504368607792,
          -0.22347828353863572,
          -0.21251781314429288,
          -0.21785077566543418,
          -0.23391319291502358,
          -0.2293160045158559,
          -0.24985114468798206,
          -0.22959197787490537,
          -0.2576658202737064,
          -0.2539175056047309,
          -0.2225006648484166,
          -0.27678617761723545,
          -0.25755142269415215,
          -0.27288457662532345,
          -0.28617082168307967,
          -0.297281477122689,
          -0.3039765380717317,
          -0.31460818239126515,
          -0.302201936487228,
          -0.29174941067994764
         ],
         "z": [
          0.28445637386332473,
          0.31156804723189024,
          0.2609486874217435,
          0.276057153258231,
          0.26448859405234537,
          0.2780242526578541,
          0.2876908054089663,
          0.26753516125646515,
          0.2575764617890706,
          0.25283824682224065,
          0.2311851610692035,
          0.2359927742314007,
          0.20500255698627595,
          0.23652678895624263,
          0.23633629237614692,
          0.19975564878113722,
          0.21490976498235406,
          0.18963120267790168,
          0.23091083046507768,
          0.23436705080678097,
          0.1669681256094542,
          0.11200264188469909,
          0.1495992394420944,
          0.0740650887002973,
          0.026078913673650672
         ]
        },
        {
         "hovertemplate": "Population=Mordva<br>PC1=%{x}<br>PC2=%{y}<br>PC3=%{z}<extra></extra>",
         "legendgroup": "Mordva",
         "marker": {
          "color": "#636efa",
          "opacity": 0.8,
          "size": 4,
          "symbol": "circle"
         },
         "mode": "markers",
         "name": "Mordva",
         "scene": "scene",
         "showlegend": true,
         "type": "scatter3d",
         "x": [
          -0.26391588693999857,
          -0.29463932944080373,
          -0.29875012353233327,
          -0.298444827235466,
          -0.28859053234628856,
          -0.28225363644271984,
          -0.3035514700224552,
          -0.288958748744582,
          -0.311722458539068,
          -0.30566216901023935,
          -0.3002865663178582,
          -0.31291208574388724,
          -0.29833325168469754,
          -0.2826083466175234,
          -0.3052608542305584,
          -0.2788278423039448,
          -0.27241794150213355,
          -0.3064124524696872,
          -0.27961454658706125,
          -0.284347144899896,
          -0.2972201984375358,
          -0.3104873263497579,
          -0.29138155033961866,
          -0.308584051643055,
          -0.279215825027684,
          -0.3021538128260414,
          -0.2944067473891539,
          -0.30077090973895526,
          -0.3083945040351212,
          -0.3209191142745677,
          -0.3215623140297068,
          -0.318178441353071,
          -0.3203201067294042
         ],
         "y": [
          0.11255954259140377,
          -0.26914832418908635,
          -0.2817467891265856,
          -0.28787135723983276,
          -0.3076103043446226,
          -0.3177715286600527,
          -0.2955792350585776,
          -0.3044849169481877,
          -0.28698420907163996,
          -0.3074041725356201,
          -0.3248216825555888,
          -0.3095036883857568,
          -0.3218954980263031,
          -0.3023717079163016,
          -0.3262463359917866,
          -0.3415235267274133,
          -0.31549780713820297,
          -0.31337494430696633,
          -0.3225270201295283,
          -0.3395778307971462,
          -0.34604748065864815,
          -0.3105072348732998,
          -0.3403574271096565,
          -0.3302981303109056,
          -0.3259540266397405,
          -0.33298478122255304,
          -0.3284563236834122,
          -0.34168977376513004,
          -0.35166145403998833,
          -0.3571456664294245,
          -0.3547910385806127,
          -0.3755515657625459,
          -0.3623805694251999
         ],
         "z": [
          -0.060331253623071984,
          -0.05493300433851539,
          -0.06412998450602997,
          -0.07954120998243747,
          -0.07157240063557502,
          -0.07082097848898589,
          -0.09398916212554753,
          -0.1007651907398357,
          -0.09872630377615949,
          -0.09081217461313024,
          -0.07383829690443022,
          -0.08032421347189322,
          -0.08159134141142604,
          -0.12978808807745135,
          -0.06869365772589059,
          -0.08099153934864578,
          -0.12739049166354577,
          -0.09187328059235894,
          -0.11500073596465371,
          -0.09139225090323472,
          -0.06826481167778348,
          -0.1064434153929012,
          -0.08925563452367119,
          -0.08797873900384717,
          -0.1356079230728986,
          -0.09753488709697722,
          -0.1169524244019412,
          -0.10569047149055388,
          -0.10503967828156913,
          -0.08959170023740143,
          -0.11434013266917431,
          -0.10872443735847653,
          -0.13006665952752128
         ]
        },
        {
         "hovertemplate": "Population=Chuvash<br>PC1=%{x}<br>PC2=%{y}<br>PC3=%{z}<extra></extra>",
         "legendgroup": "Chuvash",
         "marker": {
          "color": "#EF553B",
          "opacity": 0.8,
          "size": 4,
          "symbol": "diamond"
         },
         "mode": "markers",
         "name": "Chuvash",
         "scene": "scene",
         "showlegend": true,
         "type": "scatter3d",
         "x": [
          -0.12163772401065692,
          -0.14495134044936542,
          -0.10219857552360706,
          -0.11960852906689423,
          -0.1444066695472337,
          -0.12687716629159784,
          -0.11844624356187702,
          -0.12911733541125903,
          -0.12016966894485107,
          -0.15108784170951112,
          -0.12240156426767729,
          -0.12522367470834583,
          -0.13140296160370976,
          -0.10416467390905082,
          -0.16060508627775918,
          -0.13626254865564064,
          -0.14410867583158576,
          -0.14447274635546198,
          -0.1409903616049018,
          -0.15636795920828644,
          -0.13947891045893987,
          -0.16450366561603247,
          -0.14656710344144774,
          -0.16927715893887169,
          -0.1593697117071095,
          -0.18045772268862204,
          -0.16088475581658412,
          -0.33820780549528695
         ],
         "y": [
          -0.18328237667744912,
          -0.1891603120219097,
          -0.19874662678800065,
          -0.2035380349870476,
          -0.2011031125356521,
          -0.19909161311002552,
          -0.2588940741372521,
          -0.22740579845027362,
          -0.23280717041709253,
          -0.217959956817279,
          -0.2232878533512543,
          -0.26034635388839833,
          -0.245233217260929,
          -0.2676743287029765,
          -0.21592989603273008,
          -0.2610579268657898,
          -0.2475088753071183,
          -0.25487590835737245,
          -0.24355632690090953,
          -0.2556352912671789,
          -0.24887927282057348,
          -0.24256973120457762,
          -0.2609894089034895,
          -0.25724010517558205,
          -0.2443289639890547,
          -0.2487179314359847,
          -0.27143945178702006,
          -0.3441458922044752
         ],
         "z": [
          0.11013939834562728,
          0.11668950822006506,
          0.07722509391819152,
          0.10536041981744623,
          0.10591847717127453,
          0.07139943213719199,
          0.11940637733871046,
          0.07331779147330911,
          0.06986221696746658,
          0.08317065201897905,
          0.04917158684979134,
          0.10173664045779197,
          0.08750719963172711,
          0.08528138073572415,
          0.07939626518217494,
          0.11317948649757897,
          0.09187090296872083,
          0.10222360305216649,
          0.07821575349815399,
          0.09644219586100009,
          0.06541160091700654,
          0.07521305290647479,
          0.07375183637324983,
          0.05960381876128662,
          0.02442410899987349,
          0.03808297287822618,
          0.02051152171139431,
          -0.13456727866158763
         ]
        },
        {
         "hovertemplate": "Population=Moldovan<br>PC1=%{x}<br>PC2=%{y}<br>PC3=%{z}<extra></extra>",
         "legendgroup": "Moldovan",
         "marker": {
          "color": "#00cc96",
          "opacity": 0.8,
          "size": 4,
          "symbol": "square"
         },
         "mode": "markers",
         "name": "Moldovan",
         "scene": "scene",
         "showlegend": true,
         "type": "scatter3d",
         "x": [
          -0.33032306206259576,
          -0.2939075602122647,
          -0.3363839708813878,
          -0.3492906341691679,
          -0.3227463707721276,
          -0.324099842686244,
          -0.3402522356569151,
          -0.33027260308952916,
          -0.33209842342990337,
          -0.34777753441964104,
          -0.34694883644510105,
          -0.3434994557903457,
          -0.339553395832582,
          -0.3377313709044728,
          -0.3364485224805336,
          -0.3141770317877539,
          -0.3306190888143314,
          -0.3306998389490982,
          -0.3326192443775232,
          -0.34914511972655166,
          -0.35722520979419475,
          -0.3201220704919167,
          -0.34831001326452743,
          -0.3318881205900868,
          -0.33361173910358943,
          -0.34394529756636183,
          -0.33380372336084674,
          -0.3398704842962396,
          -0.34969570096084485,
          -0.3497259420407452,
          -0.3396222540420348,
          -0.34433717666409513
         ],
         "y": [
          0.01445989170265213,
          -0.06702547163525358,
          -0.06914437794249934,
          -0.05874110537588859,
          -0.07967545715802218,
          -0.09082382693600236,
          -0.08761069929892187,
          -0.0976649708170163,
          -0.10060429189631725,
          -0.1027570034211594,
          -0.0978792266833502,
          -0.11512010802556993,
          -0.09702928870237068,
          -0.10919547239052216,
          -0.12915214646283663,
          -0.13781728744408975,
          -0.12755964237383283,
          -0.13720871326844192,
          -0.14467671776727592,
          -0.1300741316385579,
          -0.1388001947763752,
          -0.15509929824777327,
          -0.1324274530533271,
          -0.1614185055959066,
          -0.15610934922983563,
          -0.15720034219060108,
          -0.15709762279123593,
          -0.15760829555016115,
          -0.15745076857572143,
          -0.1844766725865318,
          -0.17145364406697938,
          -0.21196482822224946
         ],
         "z": [
          -0.11792166357359607,
          -0.15027403692374147,
          -0.12720605648600813,
          -0.12678318875560796,
          -0.1522881151297666,
          -0.13884947788759255,
          -0.12930631605945753,
          -0.12885211663558044,
          -0.1334684456200017,
          -0.11420578539016285,
          -0.1377987865671032,
          -0.11929218864021462,
          -0.15279263659335274,
          -0.1457220226901862,
          -0.13397934390177224,
          -0.15008558771073688,
          -0.14601898545032294,
          -0.13997427168895327,
          -0.13355979455450828,
          -0.13968205898435399,
          -0.1192843746686787,
          -0.1443542791268289,
          -0.14512275633303107,
          -0.13114761875601655,
          -0.15043965278087934,
          -0.13729214127894446,
          -0.16090881225089682,
          -0.1650146648443842,
          -0.1623986683689148,
          -0.12816026105622025,
          -0.1600863632427566,
          -0.1505347235614919
         ]
        },
        {
         "hovertemplate": "Population=Russian_STV<br>PC1=%{x}<br>PC2=%{y}<br>PC3=%{z}<extra></extra>",
         "legendgroup": "Russian_STV",
         "marker": {
          "color": "#ab63fa",
          "opacity": 0.8,
          "size": 4,
          "symbol": "x"
         },
         "mode": "markers",
         "name": "Russian_STV",
         "scene": "scene",
         "showlegend": true,
         "type": "scatter3d",
         "x": [
          -0.18997278113967592,
          -0.31646641675843123,
          -0.26249910436367646,
          -0.2648488898334463,
          -0.27804620435975563,
          -0.28697857310443786,
          -0.2923077780156251,
          -0.32347196135529804,
          -0.3155091886567961,
          -0.2901811459659887,
          -0.29178558116404163,
          -0.32398918695866785,
          -0.32532393916023084,
          -0.32207061230394024,
          -0.3107377325312771,
          -0.32126451254154215,
          -0.3085240726660573,
          -0.2905252755071481,
          -0.3108962366639059,
          -0.3112325419467993,
          -0.30163121327453274,
          -0.3300561825424414,
          -0.3102799113299231,
          -0.3051575041896177,
          -0.28705576520848963,
          -0.2851723943221376,
          -0.3425155322672811,
          -0.2991910119855896,
          -0.3204576118356653,
          -0.3252118780961137,
          -0.3096521163277446,
          -0.32184824553885605,
          -0.3190528373244071,
          -0.32967879223156205,
          -0.30776080475165773,
          -0.32702992386066065,
          -0.36021996443275595,
          -0.34286191187381815,
          -0.36097021544796026
         ],
         "y": [
          -0.174918752065054,
          -0.20457489632476566,
          -0.333450192456102,
          -0.31327815036166123,
          -0.36046180443706105,
          -0.36439258886118764,
          -0.3727473685229059,
          -0.3505418354095203,
          -0.35369256828028633,
          -0.34352231277794576,
          -0.3743490369803289,
          -0.35113573049358515,
          -0.3560427871228307,
          -0.3408407845809214,
          -0.3791246672694977,
          -0.34069610910561626,
          -0.3848920203001588,
          -0.3873172782525738,
          -0.3727555209915094,
          -0.38188376869663465,
          -0.38940408766179296,
          -0.36022013507712675,
          -0.3781032470246817,
          -0.39794891786776637,
          -0.39728603379603117,
          -0.42320976799618104,
          -0.34255214500618386,
          -0.40266168917635253,
          -0.37833692880027914,
          -0.3761653810156148,
          -0.4150902839287367,
          -0.4311621303401388,
          -0.4243907446267222,
          -0.4069286826335538,
          -0.4478846362064887,
          -0.408435744200753,
          -0.40077394775090003,
          -0.4032950424194758,
          -0.40161827395288674
         ],
         "z": [
          -0.10153266773442599,
          -0.10410796871333244,
          -0.02077164045511873,
          -0.06816560577746855,
          -0.04886300054067902,
          -0.04389174488044964,
          -0.03587130215710016,
          -0.032764802717814706,
          -0.04164051900532817,
          -0.10745631861819588,
          -0.068986193013792,
          -0.06416344166450644,
          -0.05674870586764408,
          -0.09361787720672538,
          -0.05854759001971707,
          -0.10411243839495354,
          -0.05808328093706158,
          -0.0841537316549299,
          -0.08090602303928401,
          -0.068679193792331,
          -0.07116226061298092,
          -0.0824842978759977,
          -0.08569030858241583,
          -0.07433915430674165,
          -0.09856581283626498,
          -0.06947917544069304,
          -0.11858574267179434,
          -0.087704127802681,
          -0.10031117931094569,
          -0.10594674782895652,
          -0.0762007266375897,
          -0.042629775202779524,
          -0.059702730084633254,
          -0.09170813698110047,
          -0.06877634681444167,
          -0.10603380205243806,
          -0.086930089796734,
          -0.12074264763996378,
          -0.14466936396200086
         ]
        },
        {
         "hovertemplate": "Population=Komi<br>PC1=%{x}<br>PC2=%{y}<br>PC3=%{z}<extra></extra>",
         "legendgroup": "Komi",
         "marker": {
          "color": "#FFA15A",
          "opacity": 0.8,
          "size": 4,
          "symbol": "cross"
         },
         "mode": "markers",
         "name": "Komi",
         "scene": "scene",
         "showlegend": true,
         "type": "scatter3d",
         "x": [
          -0.2378584117458163,
          -0.21570462274966312,
          -0.22860071963521494,
          -0.2384494265955185,
          -0.23824954451406405,
          -0.23896015687738775,
          -0.22105219927473385,
          -0.21486520146600663,
          -0.24555387311179233,
          -0.23907946504005995,
          -0.2277269266060939,
          -0.23367180155666006,
          -0.25597643579806334,
          -0.2285553400341795,
          -0.2496809453680784,
          -0.24453213433133958,
          -0.2322403352630107,
          -0.24293357302002222,
          -0.23681377595085096,
          -0.2526638997848934,
          -0.2406472284207971,
          -0.24554808385874743,
          -0.2162497741923627,
          -0.24083738560807338,
          -0.2565342151716334,
          -0.2433987161124862,
          -0.25174313776167734,
          -0.2508722136542574,
          -0.2345292320440357,
          -0.24811376556670722,
          -0.2351524084982663,
          -0.24834724508889627
         ],
         "y": [
          -0.27180644521096553,
          -0.31338943549662246,
          -0.2963098846348414,
          -0.3124275445566187,
          -0.32390295260962465,
          -0.31441080907546776,
          -0.3452014367093722,
          -0.3674550947273764,
          -0.32847084751676775,
          -0.35017686394805825,
          -0.3641092821320399,
          -0.3574448615346945,
          -0.34717510255393086,
          -0.3622204354489698,
          -0.3494294741439854,
          -0.38633418534686753,
          -0.37556975024583744,
          -0.3793950706786522,
          -0.3777961663275833,
          -0.3608516419552694,
          -0.37627085794753345,
          -0.3815795284142904,
          -0.4083534264184003,
          -0.3815193787686199,
          -0.3592144225923573,
          -0.4019853556490338,
          -0.41889284388401427,
          -0.4027504937190133,
          -0.40937627644304986,
          -0.41657268031816896,
          -0.41546063172313535,
          -0.4021775089616009
         ],
         "z": [
          0.07193196553460475,
          0.10190289121235149,
          0.08043257607514961,
          0.09529259980845955,
          0.09191826767103396,
          0.0575786127658503,
          0.06514869271759892,
          0.07676617017835353,
          0.05608556654187688,
          0.07711262428145975,
          0.07102227801947214,
          0.06312284669964287,
          0.0659266675578173,
          0.052508843939667815,
          0.053377785936293776,
          0.09707064876368167,
          0.06556136019537212,
          0.07290755963002979,
          0.05088546368477498,
          0.04288206738863792,
          0.03978331380032915,
          0.04916137594899522,
          0.05106266987891522,
          0.03518679590879742,
          0.020396842831144596,
          0.05566094872052363,
          0.0862252564446899,
          0.05388398413530979,
          0.039666022648640165,
          0.0625173413131882,
          0.04187016116024539,
          0.011657406932103404
         ]
        },
        {
         "hovertemplate": "Population=Ukrainian<br>PC1=%{x}<br>PC2=%{y}<br>PC3=%{z}<extra></extra>",
         "legendgroup": "Ukrainian",
         "marker": {
          "color": "#19d3f3",
          "opacity": 0.8,
          "size": 4,
          "symbol": "circle"
         },
         "mode": "markers",
         "name": "Ukrainian",
         "scene": "scene",
         "showlegend": true,
         "type": "scatter3d",
         "x": [
          -0.23943446884469127,
          -0.3371811872247953,
          -0.3672745469072899,
          -0.368082220594975,
          -0.3555022859986472,
          -0.3584794175935573,
          -0.3741837576961608,
          -0.3432415680545423,
          -0.34990570112523006,
          -0.34784315644096214,
          -0.36628159708228664,
          -0.38238245544229954,
          -0.3546648552568512,
          -0.34514329037086694,
          -0.37528608643457695,
          -0.3748188929625476,
          -0.36690062936203177,
          -0.37535451989634966,
          -0.3730063887196537,
          -0.37479851066418196,
          -0.37496187476049814,
          -0.3691915030244931,
          -0.3573407185438295,
          -0.37318685687190056,
          -0.3768649858067205,
          -0.3723422528482462,
          -0.35043866686112557,
          -0.38425748186420844,
          -0.37878206435283734
         ],
         "y": [
          -0.24756102153487924,
          -0.11333241605653716,
          -0.1902989061643798,
          -0.19975446293497892,
          -0.24530823216685377,
          -0.2452489887024468,
          -0.2613815624098916,
          -0.30166394970189464,
          -0.2793669657802706,
          -0.2742918756957434,
          -0.2657843683100638,
          -0.2647816883075072,
          -0.2797178620869743,
          -0.2982522306905979,
          -0.29168392821097533,
          -0.27880866411979505,
          -0.288838370302717,
          -0.310406088704869,
          -0.31967705935100443,
          -0.3040881333779615,
          -0.32072448350038607,
          -0.3191903206287642,
          -0.31891470636390645,
          -0.3472820504677753,
          -0.325484582260558,
          -0.34715522859004855,
          -0.36399383995598306,
          -0.3504119341872906,
          -0.3504898115260766
         ],
         "z": [
          0.013310104999313926,
          -0.08061916590863699,
          -0.13064850780253678,
          -0.1457071044417425,
          -0.10922842032431379,
          -0.15452580711479513,
          -0.12904962821630667,
          -0.11681558556085336,
          -0.14779628310915494,
          -0.1617836388159325,
          -0.15908987211849912,
          -0.14605566732331365,
          -0.16030683765660114,
          -0.14780890265908736,
          -0.12959492012776164,
          -0.16261920336742258,
          -0.1619685953701418,
          -0.13226420206822548,
          -0.12553529044476386,
          -0.16563158598150557,
          -0.14773366461443288,
          -0.15716792701115812,
          -0.17670645423288323,
          -0.13140285907911042,
          -0.16920870982050462,
          -0.1516150059178571,
          -0.15902312358718174,
          -0.1614634942323256,
          -0.1754107775034789
         ]
        },
        {
         "hovertemplate": "Population=Belarus<br>PC1=%{x}<br>PC2=%{y}<br>PC3=%{z}<extra></extra>",
         "legendgroup": "Belarus",
         "marker": {
          "color": "#FF6692",
          "opacity": 0.8,
          "size": 4,
          "symbol": "diamond"
         },
         "mode": "markers",
         "name": "Belarus",
         "scene": "scene",
         "showlegend": true,
         "type": "scatter3d",
         "x": [
          -0.3204151456885667,
          -0.36322435949082577,
          -0.35582414283329405,
          -0.3788657693357196,
          -0.36281984891507585,
          -0.3679509079955365,
          -0.365162699795134,
          -0.37991377901791257,
          -0.3815785382699065,
          -0.35920783532099426,
          -0.37698890873730945,
          -0.3740698225418551,
          -0.381715425246588,
          -0.36861529858058456,
          -0.3740996610216335,
          -0.38138824708517705,
          -0.3731234771320331,
          -0.36524165423087424,
          -0.3675568227730429,
          -0.3729135527735724,
          -0.3787013795551028,
          -0.3819294185673762,
          -0.3565190798493605,
          -0.39187423430235085,
          -0.3825073283296164,
          -0.3791699411041158,
          -0.39401831930331566,
          -0.3830644016052381
         ],
         "y": [
          -0.10779066932387393,
          -0.1964351896097242,
          -0.3203177529493098,
          -0.3168000992971867,
          -0.3214495123786453,
          -0.3228787903592167,
          -0.3443031221005331,
          -0.3512922346928577,
          -0.33542634949557676,
          -0.34083842319839613,
          -0.32907613868406477,
          -0.35536712141442356,
          -0.34358951245641933,
          -0.3633909580785487,
          -0.3562179723838854,
          -0.3750300767411271,
          -0.365429317665717,
          -0.3871762493913371,
          -0.36874611166614435,
          -0.38661618121847746,
          -0.38929137088373034,
          -0.37573842516548484,
          -0.3932502241245578,
          -0.3979447747637684,
          -0.41552926313585625,
          -0.4207891239030653,
          -0.40418089212886815,
          -0.43311089877536796
         ],
         "z": [
          -0.1308126510854884,
          -0.14565892374522754,
          -0.15913050677961083,
          -0.13739833445299565,
          -0.15389621061745967,
          -0.16635420270869167,
          -0.1588410240135144,
          -0.13101799848014895,
          -0.1562801366806224,
          -0.17845788222054532,
          -0.17435663079832792,
          -0.1562655814583916,
          -0.16636965568951506,
          -0.15711507986305362,
          -0.1708871959304723,
          -0.13745777086796923,
          -0.1685759993051026,
          -0.15314660075647452,
          -0.17974789679158865,
          -0.15397092318808814,
          -0.14700594279696355,
          -0.1667989590403537,
          -0.20472539838853898,
          -0.16456542023734377,
          -0.1542660748119286,
          -0.1583447667091593,
          -0.16560795339840795,
          -0.17736845878818136
         ]
        },
        {
         "hovertemplate": "Population=Karel<br>PC1=%{x}<br>PC2=%{y}<br>PC3=%{z}<extra></extra>",
         "legendgroup": "Karel",
         "marker": {
          "color": "#B6E880",
          "opacity": 0.8,
          "size": 4,
          "symbol": "square"
         },
         "mode": "markers",
         "name": "Karel",
         "scene": "scene",
         "showlegend": true,
         "type": "scatter3d",
         "x": [
          -0.29728277180429963,
          -0.3169669993145118,
          -0.3279535977969108,
          -0.3224608438377828,
          -0.3469027880784775,
          -0.33243370345023565,
          -0.28469552579504376,
          -0.3199587491364675,
          -0.33750349747601033,
          -0.3014426810633341,
          -0.31072081481015734,
          -0.346616006404171,
          -0.3114687825275906,
          -0.3333331075769356,
          -0.3109467225183031,
          -0.2982447509467149,
          -0.3040424291127401,
          -0.34295082791364695,
          -0.3201617555702449,
          -0.34966344451149317,
          -0.32084434259831635,
          -0.30244391307477586,
          -0.3090121167201567,
          -0.31820493783111337,
          -0.31019594448100235,
          -0.31457538408883184
         ],
         "y": [
          -0.3919294012570269,
          -0.42460367963671897,
          -0.4380203778089256,
          -0.4338097535449073,
          -0.41637775126020804,
          -0.3696563649316718,
          -0.4659319479928691,
          -0.46396990046965697,
          -0.46126821176264654,
          -0.4911454757813743,
          -0.49228098347565186,
          -0.40890006332826323,
          -0.4763987504655373,
          -0.4663241742449437,
          -0.47121700526137716,
          -0.5064837856262616,
          -0.5042275882551333,
          -0.4847454660064801,
          -0.48150861874235795,
          -0.4438940887954254,
          -0.4890600625226087,
          -0.5097671440155951,
          -0.5020953478288732,
          -0.49910413873916604,
          -0.5065021375874852,
          -0.5046897699314183
         ],
         "z": [
          -0.07970314731878697,
          -0.05694753599286098,
          -0.0354687590416308,
          -0.06497717437770356,
          -0.06971352428852895,
          -0.15529139805379438,
          -0.07763649870220335,
          -0.0860041104679567,
          -0.07414133341152235,
          -0.08482487683000761,
          -0.07210219543425328,
          -0.1482661086429622,
          -0.09544326136503767,
          -0.08456740540660906,
          -0.1097183164626141,
          -0.07637885931992633,
          -0.08048931461663622,
          -0.060915536149555555,
          -0.09573217365804665,
          -0.11598875168582279,
          -0.08889118147544406,
          -0.09021690164934293,
          -0.09680603206247551,
          -0.09101375342150442,
          -0.09641933132498015,
          -0.10533635279768416
         ]
        }
       ],
       "layout": {
        "height": 360,
        "legend": {
         "bgcolor": "rgba(255, 255, 255, 0.8)",
         "title": {
          "text": "Population"
         },
         "tracegroupgap": 0,
         "x": 1.05,
         "y": 1
        },
        "margin": {
         "b": 0,
         "l": 0,
         "r": 0,
         "t": 30
        },
        "scene": {
         "aspectmode": "auto",
         "aspectratio": {
          "x": 1.0386259513858584,
          "y": 1.059341475436902,
          "z": 0.9088764574035961
         },
         "camera": {
          "center": {
           "x": 0,
           "y": 0,
           "z": 0
          },
          "eye": {
           "x": 0.376857194316762,
           "y": -0.8661264275231317,
           "z": 0.5527417195559297
          },
          "projection": {
           "type": "perspective"
          },
          "up": {
           "x": 0,
           "y": 0,
           "z": 1
          }
         },
         "domain": {
          "x": [
           0,
           1
          ],
          "y": [
           0,
           1
          ]
         },
         "xaxis": {
          "title": {
           "text": "PC1"
          },
          "type": "linear"
         },
         "yaxis": {
          "title": {
           "text": "PC2"
          },
          "type": "linear"
         },
         "zaxis": {
          "title": {
           "text": "PC3"
          },
          "type": "linear"
         }
        },
        "template": {
         "data": {
          "bar": [
           {
            "error_x": {
             "color": "#2a3f5f"
            },
            "error_y": {
             "color": "#2a3f5f"
            },
            "marker": {
             "line": {
              "color": "#E5ECF6",
              "width": 0.5
             },
             "pattern": {
              "fillmode": "overlay",
              "size": 10,
              "solidity": 0.2
             }
            },
            "type": "bar"
           }
          ],
          "barpolar": [
           {
            "marker": {
             "line": {
              "color": "#E5ECF6",
              "width": 0.5
             },
             "pattern": {
              "fillmode": "overlay",
              "size": 10,
              "solidity": 0.2
             }
            },
            "type": "barpolar"
           }
          ],
          "carpet": [
           {
            "aaxis": {
             "endlinecolor": "#2a3f5f",
             "gridcolor": "white",
             "linecolor": "white",
             "minorgridcolor": "white",
             "startlinecolor": "#2a3f5f"
            },
            "baxis": {
             "endlinecolor": "#2a3f5f",
             "gridcolor": "white",
             "linecolor": "white",
             "minorgridcolor": "white",
             "startlinecolor": "#2a3f5f"
            },
            "type": "carpet"
           }
          ],
          "choropleth": [
           {
            "colorbar": {
             "outlinewidth": 0,
             "ticks": ""
            },
            "type": "choropleth"
           }
          ],
          "contour": [
           {
            "colorbar": {
             "outlinewidth": 0,
             "ticks": ""
            },
            "colorscale": [
             [
              0,
              "#0d0887"
             ],
             [
              0.1111111111111111,
              "#46039f"
             ],
             [
              0.2222222222222222,
              "#7201a8"
             ],
             [
              0.3333333333333333,
              "#9c179e"
             ],
             [
              0.4444444444444444,
              "#bd3786"
             ],
             [
              0.5555555555555556,
              "#d8576b"
             ],
             [
              0.6666666666666666,
              "#ed7953"
             ],
             [
              0.7777777777777778,
              "#fb9f3a"
             ],
             [
              0.8888888888888888,
              "#fdca26"
             ],
             [
              1,
              "#f0f921"
             ]
            ],
            "type": "contour"
           }
          ],
          "contourcarpet": [
           {
            "colorbar": {
             "outlinewidth": 0,
             "ticks": ""
            },
            "type": "contourcarpet"
           }
          ],
          "heatmap": [
           {
            "colorbar": {
             "outlinewidth": 0,
             "ticks": ""
            },
            "colorscale": [
             [
              0,
              "#0d0887"
             ],
             [
              0.1111111111111111,
              "#46039f"
             ],
             [
              0.2222222222222222,
              "#7201a8"
             ],
             [
              0.3333333333333333,
              "#9c179e"
             ],
             [
              0.4444444444444444,
              "#bd3786"
             ],
             [
              0.5555555555555556,
              "#d8576b"
             ],
             [
              0.6666666666666666,
              "#ed7953"
             ],
             [
              0.7777777777777778,
              "#fb9f3a"
             ],
             [
              0.8888888888888888,
              "#fdca26"
             ],
             [
              1,
              "#f0f921"
             ]
            ],
            "type": "heatmap"
           }
          ],
          "heatmapgl": [
           {
            "colorbar": {
             "outlinewidth": 0,
             "ticks": ""
            },
            "colorscale": [
             [
              0,
              "#0d0887"
             ],
             [
              0.1111111111111111,
              "#46039f"
             ],
             [
              0.2222222222222222,
              "#7201a8"
             ],
             [
              0.3333333333333333,
              "#9c179e"
             ],
             [
              0.4444444444444444,
              "#bd3786"
             ],
             [
              0.5555555555555556,
              "#d8576b"
             ],
             [
              0.6666666666666666,
              "#ed7953"
             ],
             [
              0.7777777777777778,
              "#fb9f3a"
             ],
             [
              0.8888888888888888,
              "#fdca26"
             ],
             [
              1,
              "#f0f921"
             ]
            ],
            "type": "heatmapgl"
           }
          ],
          "histogram": [
           {
            "marker": {
             "pattern": {
              "fillmode": "overlay",
              "size": 10,
              "solidity": 0.2
             }
            },
            "type": "histogram"
           }
          ],
          "histogram2d": [
           {
            "colorbar": {
             "outlinewidth": 0,
             "ticks": ""
            },
            "colorscale": [
             [
              0,
              "#0d0887"
             ],
             [
              0.1111111111111111,
              "#46039f"
             ],
             [
              0.2222222222222222,
              "#7201a8"
             ],
             [
              0.3333333333333333,
              "#9c179e"
             ],
             [
              0.4444444444444444,
              "#bd3786"
             ],
             [
              0.5555555555555556,
              "#d8576b"
             ],
             [
              0.6666666666666666,
              "#ed7953"
             ],
             [
              0.7777777777777778,
              "#fb9f3a"
             ],
             [
              0.8888888888888888,
              "#fdca26"
             ],
             [
              1,
              "#f0f921"
             ]
            ],
            "type": "histogram2d"
           }
          ],
          "histogram2dcontour": [
           {
            "colorbar": {
             "outlinewidth": 0,
             "ticks": ""
            },
            "colorscale": [
             [
              0,
              "#0d0887"
             ],
             [
              0.1111111111111111,
              "#46039f"
             ],
             [
              0.2222222222222222,
              "#7201a8"
             ],
             [
              0.3333333333333333,
              "#9c179e"
             ],
             [
              0.4444444444444444,
              "#bd3786"
             ],
             [
              0.5555555555555556,
              "#d8576b"
             ],
             [
              0.6666666666666666,
              "#ed7953"
             ],
             [
              0.7777777777777778,
              "#fb9f3a"
             ],
             [
              0.8888888888888888,
              "#fdca26"
             ],
             [
              1,
              "#f0f921"
             ]
            ],
            "type": "histogram2dcontour"
           }
          ],
          "mesh3d": [
           {
            "colorbar": {
             "outlinewidth": 0,
             "ticks": ""
            },
            "type": "mesh3d"
           }
          ],
          "parcoords": [
           {
            "line": {
             "colorbar": {
              "outlinewidth": 0,
              "ticks": ""
             }
            },
            "type": "parcoords"
           }
          ],
          "pie": [
           {
            "automargin": true,
            "type": "pie"
           }
          ],
          "scatter": [
           {
            "fillpattern": {
             "fillmode": "overlay",
             "size": 10,
             "solidity": 0.2
            },
            "type": "scatter"
           }
          ],
          "scatter3d": [
           {
            "line": {
             "colorbar": {
              "outlinewidth": 0,
              "ticks": ""
             }
            },
            "marker": {
             "colorbar": {
              "outlinewidth": 0,
              "ticks": ""
             }
            },
            "type": "scatter3d"
           }
          ],
          "scattercarpet": [
           {
            "marker": {
             "colorbar": {
              "outlinewidth": 0,
              "ticks": ""
             }
            },
            "type": "scattercarpet"
           }
          ],
          "scattergeo": [
           {
            "marker": {
             "colorbar": {
              "outlinewidth": 0,
              "ticks": ""
             }
            },
            "type": "scattergeo"
           }
          ],
          "scattergl": [
           {
            "marker": {
             "colorbar": {
              "outlinewidth": 0,
              "ticks": ""
             }
            },
            "type": "scattergl"
           }
          ],
          "scattermapbox": [
           {
            "marker": {
             "colorbar": {
              "outlinewidth": 0,
              "ticks": ""
             }
            },
            "type": "scattermapbox"
           }
          ],
          "scatterpolar": [
           {
            "marker": {
             "colorbar": {
              "outlinewidth": 0,
              "ticks": ""
             }
            },
            "type": "scatterpolar"
           }
          ],
          "scatterpolargl": [
           {
            "marker": {
             "colorbar": {
              "outlinewidth": 0,
              "ticks": ""
             }
            },
            "type": "scatterpolargl"
           }
          ],
          "scatterternary": [
           {
            "marker": {
             "colorbar": {
              "outlinewidth": 0,
              "ticks": ""
             }
            },
            "type": "scatterternary"
           }
          ],
          "surface": [
           {
            "colorbar": {
             "outlinewidth": 0,
             "ticks": ""
            },
            "colorscale": [
             [
              0,
              "#0d0887"
             ],
             [
              0.1111111111111111,
              "#46039f"
             ],
             [
              0.2222222222222222,
              "#7201a8"
             ],
             [
              0.3333333333333333,
              "#9c179e"
             ],
             [
              0.4444444444444444,
              "#bd3786"
             ],
             [
              0.5555555555555556,
              "#d8576b"
             ],
             [
              0.6666666666666666,
              "#ed7953"
             ],
             [
              0.7777777777777778,
              "#fb9f3a"
             ],
             [
              0.8888888888888888,
              "#fdca26"
             ],
             [
              1,
              "#f0f921"
             ]
            ],
            "type": "surface"
           }
          ],
          "table": [
           {
            "cells": {
             "fill": {
              "color": "#EBF0F8"
             },
             "line": {
              "color": "white"
             }
            },
            "header": {
             "fill": {
              "color": "#C8D4E3"
             },
             "line": {
              "color": "white"
             }
            },
            "type": "table"
           }
          ]
         },
         "layout": {
          "annotationdefaults": {
           "arrowcolor": "#2a3f5f",
           "arrowhead": 0,
           "arrowwidth": 1
          },
          "autotypenumbers": "strict",
          "coloraxis": {
           "colorbar": {
            "outlinewidth": 0,
            "ticks": ""
           }
          },
          "colorscale": {
           "diverging": [
            [
             0,
             "#8e0152"
            ],
            [
             0.1,
             "#c51b7d"
            ],
            [
             0.2,
             "#de77ae"
            ],
            [
             0.3,
             "#f1b6da"
            ],
            [
             0.4,
             "#fde0ef"
            ],
            [
             0.5,
             "#f7f7f7"
            ],
            [
             0.6,
             "#e6f5d0"
            ],
            [
             0.7,
             "#b8e186"
            ],
            [
             0.8,
             "#7fbc41"
            ],
            [
             0.9,
             "#4d9221"
            ],
            [
             1,
             "#276419"
            ]
           ],
           "sequential": [
            [
             0,
             "#0d0887"
            ],
            [
             0.1111111111111111,
             "#46039f"
            ],
            [
             0.2222222222222222,
             "#7201a8"
            ],
            [
             0.3333333333333333,
             "#9c179e"
            ],
            [
             0.4444444444444444,
             "#bd3786"
            ],
            [
             0.5555555555555556,
             "#d8576b"
            ],
            [
             0.6666666666666666,
             "#ed7953"
            ],
            [
             0.7777777777777778,
             "#fb9f3a"
            ],
            [
             0.8888888888888888,
             "#fdca26"
            ],
            [
             1,
             "#f0f921"
            ]
           ],
           "sequentialminus": [
            [
             0,
             "#0d0887"
            ],
            [
             0.1111111111111111,
             "#46039f"
            ],
            [
             0.2222222222222222,
             "#7201a8"
            ],
            [
             0.3333333333333333,
             "#9c179e"
            ],
            [
             0.4444444444444444,
             "#bd3786"
            ],
            [
             0.5555555555555556,
             "#d8576b"
            ],
            [
             0.6666666666666666,
             "#ed7953"
            ],
            [
             0.7777777777777778,
             "#fb9f3a"
            ],
            [
             0.8888888888888888,
             "#fdca26"
            ],
            [
             1,
             "#f0f921"
            ]
           ]
          },
          "colorway": [
           "#636efa",
           "#EF553B",
           "#00cc96",
           "#ab63fa",
           "#FFA15A",
           "#19d3f3",
           "#FF6692",
           "#B6E880",
           "#FF97FF",
           "#FECB52"
          ],
          "font": {
           "color": "#2a3f5f"
          },
          "geo": {
           "bgcolor": "white",
           "lakecolor": "white",
           "landcolor": "#E5ECF6",
           "showlakes": true,
           "showland": true,
           "subunitcolor": "white"
          },
          "hoverlabel": {
           "align": "left"
          },
          "hovermode": "closest",
          "mapbox": {
           "style": "light"
          },
          "paper_bgcolor": "white",
          "plot_bgcolor": "#E5ECF6",
          "polar": {
           "angularaxis": {
            "gridcolor": "white",
            "linecolor": "white",
            "ticks": ""
           },
           "bgcolor": "#E5ECF6",
           "radialaxis": {
            "gridcolor": "white",
            "linecolor": "white",
            "ticks": ""
           }
          },
          "scene": {
           "xaxis": {
            "backgroundcolor": "#E5ECF6",
            "gridcolor": "white",
            "gridwidth": 2,
            "linecolor": "white",
            "showbackground": true,
            "ticks": "",
            "zerolinecolor": "white"
           },
           "yaxis": {
            "backgroundcolor": "#E5ECF6",
            "gridcolor": "white",
            "gridwidth": 2,
            "linecolor": "white",
            "showbackground": true,
            "ticks": "",
            "zerolinecolor": "white"
           },
           "zaxis": {
            "backgroundcolor": "#E5ECF6",
            "gridcolor": "white",
            "gridwidth": 2,
            "linecolor": "white",
            "showbackground": true,
            "ticks": "",
            "zerolinecolor": "white"
           }
          },
          "shapedefaults": {
           "line": {
            "color": "#2a3f5f"
           }
          },
          "ternary": {
           "aaxis": {
            "gridcolor": "white",
            "linecolor": "white",
            "ticks": ""
           },
           "baxis": {
            "gridcolor": "white",
            "linecolor": "white",
            "ticks": ""
           },
           "bgcolor": "#E5ECF6",
           "caxis": {
            "gridcolor": "white",
            "linecolor": "white",
            "ticks": ""
           }
          },
          "title": {
           "x": 0.05
          },
          "xaxis": {
           "automargin": true,
           "gridcolor": "white",
           "linecolor": "white",
           "ticks": "",
           "title": {
            "standoff": 15
           },
           "zerolinecolor": "white",
           "zerolinewidth": 2
          },
          "yaxis": {
           "automargin": true,
           "gridcolor": "white",
           "linecolor": "white",
           "ticks": "",
           "title": {
            "standoff": 15
           },
           "zerolinecolor": "white",
           "zerolinewidth": 2
          }
         }
        },
        "title": {
         "text": "PCA Scatter Plot by Population (Admixure)"
        }
       }
      },
      "image/png": "[encoded data removed]",
      "text/html": [
       "<div>                            <div id=\"f1fd82b0-ee1f-4372-be6f-cd2b399cb704\" class=\"plotly-graph-div\" style=\"height:525px; width:100%;\"></div>            <script type=\"text/javascript\">                require([\"plotly\"], function(Plotly) {                    window.PLOTLYENV=window.PLOTLYENV || {};                                    if (document.getElementById(\"f1fd82b0-ee1f-4372-be6f-cd2b399cb704\")) {                    Plotly.newPlot(                        \"f1fd82b0-ee1f-4372-be6f-cd2b399cb704\",                        [{\"hovertemplate\":\"Population=Chinese\\u003cbr\\u003ePC1=%{x}\\u003cbr\\u003ePC2=%{y}\\u003cbr\\u003ePC3=%{z}\\u003cextra\\u003e\\u003c\\u002fextra\\u003e\",\"legendgroup\":\"Chinese\",\"marker\":{\"color\":\"#636efa\",\"opacity\":0.8,\"symbol\":\"circle\",\"size\":4},\"mode\":\"markers\",\"name\":\"Chinese\",\"scene\":\"scene\",\"showlegend\":true,\"x\":[0.8503670100409215,0.8503670100409215,0.8503670100409215,0.8503670100409215,0.8503670100409215,0.8503670100409215,0.8503670100409215,0.8503670100409215,0.8503670100409215,0.8503670100409215,0.8503670100409215,0.8455873645487,0.8277764375875132],\"y\":[-0.04130213257420924,-0.04130213257420924,-0.04130213257420924,-0.04130213257420924,-0.04130213257420924,-0.04130213257420924,-0.04130213257420924,-0.04130213257420924,-0.04130213257420924,-0.04130213257420924,-0.04130213257420924,-0.037821491969490084,-0.02651065451245903],\"z\":[-0.23617963145821036,-0.23617963145821036,-0.23617963145821036,-0.23617963145821036,-0.23617963145821036,-0.23617963145821036,-0.23617963145821036,-0.23617963145821036,-0.23617963145821036,-0.23617963145821036,-0.23617963145821036,-0.23529410319322613,-0.2296325953764986],\"type\":\"scatter3d\"},{\"hovertemplate\":\"Population=Megrel\\u003cbr\\u003ePC1=%{x}\\u003cbr\\u003ePC2=%{y}\\u003cbr\\u003ePC3=%{z}\\u003cextra\\u003e\\u003c\\u002fextra\\u003e\",\"legendgroup\":\"Megrel\",\"marker\":{\"color\":\"#EF553B\",\"opacity\":0.8,\"symbol\":\"diamond\",\"size\":4},\"mode\":\"markers\",\"name\":\"Megrel\",\"scene\":\"scene\",\"showlegend\":true,\"x\":[-0.26527397775160294,-0.2558164599979052,-0.2631830387721747,-0.26083684163687965,-0.25581795575449817,-0.25720243058581244,-0.24664987646495196,-0.259822838970804,-0.2698152152137357,-0.25786875190617753,-0.2522025800963509,-0.2690955428906029,-0.26729088331546896,-0.25596257314531534,-0.2687376657014682,-0.24878611283572882,-0.2663623348732024,-0.27192370081771877,-0.2638796795251981,-0.2672071460005401,-0.2705082040580408,-0.2673655905630884,-0.2622110296135953,-0.2505784341382991,-0.27901125605525895,-0.254356715706437,-0.2783525824527257,-0.2779495123183449,-0.273159258795782,-0.2714502194556286,-0.26838465590459937,-0.28265709272752326,-0.2864727400322943,-0.19293994774749862,-0.20023686747261032,-0.2107649364692195],\"y\":[0.7569331554420083,0.749973390978009,0.7594376058181838,0.7554019543597694,0.7410771389579653,0.752402459391253,0.7405933342100691,0.7276923520131275,0.7566519658116209,0.7401464515048216,0.7425332989436929,0.7513823937110548,0.7419559313050209,0.7347161578204235,0.7290207901716187,0.7167676636671496,0.7252192226039609,0.7335858866757214,0.7295267751543025,0.7120159088119054,0.731117272693312,0.7170334884070628,0.7240392112855331,0.6874131624412206,0.7350852646068492,0.7074987514853643,0.7146135517778915,0.7172176092826708,0.7026047225486578,0.6924098207358887,0.6199673141619609,0.600406286484861,0.5808896909194595,0.4152479986802019,0.4148602738763442,0.30079821286960856],\"z\":[-0.009129424969968186,-0.010777552786446404,-0.015303728491843083,-0.012447143368545716,0.0018193928833088457,-0.01786131959168949,-0.016102641828418085,0.016568197681810948,-0.015136332487408505,-0.008926967302852279,-0.020962995764169684,-0.01416629956707871,-0.015678590113471308,-0.020008443132082915,0.0010005970392633345,-0.008892137165498082,-0.006240853941873403,-0.01686441748803133,-0.02220085914419731,0.0062756435266525246,-0.01806229033854334,-0.0052222899134975465,-0.025059675270752035,0.0062585378851661155,-0.0272288944084583,-0.033415812016983654,-0.01898809820153713,-0.025763433255162477,-0.03961739338399839,-0.03738823078742304,0.008393133130923713,-0.022399097489015807,-0.03214930400689936,-0.011775754031362023,-0.005609779389591452,-0.0243148010941083],\"type\":\"scatter3d\"},{\"hovertemplate\":\"Population=Yakut\\u003cbr\\u003ePC1=%{x}\\u003cbr\\u003ePC2=%{y}\\u003cbr\\u003ePC3=%{z}\\u003cextra\\u003e\\u003c\\u002fextra\\u003e\",\"legendgroup\":\"Yakut\",\"marker\":{\"color\":\"#00cc96\",\"opacity\":0.8,\"symbol\":\"square\",\"size\":4},\"mode\":\"markers\",\"name\":\"Yakut\",\"scene\":\"scene\",\"showlegend\":true,\"x\":[0.7924355998862254,0.7763305323291765,0.761692184668795,0.7615049866581955,0.7612808858139655,0.7569719767671226,0.7536453540554677,0.7535983868126652,0.7532595517038743,0.7495243139798358,0.748749354473591,0.7480119687615887,0.7475006967756506,0.7392854550488452,0.7794662899680074,0.7626178854009891,0.741471394354388,0.7292702810807556,0.7243073551560102,0.7348104193710296,0.7244807370458166,0.7382588572155071,0.7299923772373615,0.7324910687921584,0.6863119523562562,0.7407891449862751,0.7258761146898123,0.749406677406963,0.7413985581476061,0.7091310527961079,0.7109612911018308,0.7312251453746024,0.6387217040469262,0.6434212951768241,0.7039838739942548,0.6510253295926407,0.6528596354245981,0.6513758043529911,0.6179838218746254,0.6696162916011723,0.5984649198889282],\"y\":[-0.04090238403270782,-0.04079125300293449,-0.04069024289267475,-0.04068895115592073,-0.040687404775720575,-0.04065767168097391,-0.04063471673177522,-0.04063439264011651,-0.040632054550292916,-0.040606280003663404,-0.04060093249129461,-0.04059584425225279,-0.04059231628305363,-0.04053562802206357,-0.04081366433595767,-0.04160250238116337,-0.043127298105522856,-0.043444057271452625,-0.04346339827898214,-0.045118945454859886,-0.042238129358813645,-0.041235699320593955,-0.04382045730153602,-0.043125413064389356,-0.03859005749330015,-0.042033505167768624,-0.04551646990625781,-0.04536238063154003,-0.04658514740093397,-0.04733992653519347,-0.05567023453395938,-0.05450697861967229,-0.026368548048946904,-0.05497010351915773,-0.062475856814890075,-0.05054056341942943,-0.0733038678693751,-0.05454757334879246,-0.032554365179178146,-0.08354887775609085,-0.09980060256344872],\"z\":[-0.16554145927779118,-0.14590388214935152,-0.128054737450307,-0.1278264791484766,-0.12755322369037148,-0.12229919209770218,-0.11824290299205692,-0.11818563388407083,-0.1177724781764567,-0.11321794783133221,-0.11227300754956127,-0.11137388255417924,-0.11075046740724465,-0.10073328229035866,-0.14972686768651716,-0.12794742366617967,-0.09988294528687763,-0.08445852468254306,-0.0783339037993212,-0.08898062916331434,-0.080446361338744,-0.10140843122246118,-0.09543137660605067,-0.09963343155210719,-0.05021778436468838,-0.11225876520625822,-0.09210031821879527,-0.1260365857833568,-0.1197550327062245,-0.10099592809794689,-0.09527679650275656,-0.12912700370223584,-0.07314069712887417,-0.04906303442418308,-0.11500612669535282,-0.08115935783730233,-0.08380601250570907,-0.11697170365101928,-0.10747184800864273,-0.13273374890151424,-0.08422356499598244],\"type\":\"scatter3d\"},{\"hovertemplate\":\"Population=Ket\\u003cbr\\u003ePC1=%{x}\\u003cbr\\u003ePC2=%{y}\\u003cbr\\u003ePC3=%{z}\\u003cextra\\u003e\\u003c\\u002fextra\\u003e\",\"legendgroup\":\"Ket\",\"marker\":{\"color\":\"#ab63fa\",\"opacity\":0.8,\"symbol\":\"x\",\"size\":4},\"mode\":\"markers\",\"name\":\"Ket\",\"scene\":\"scene\",\"showlegend\":true,\"x\":[0.20589592351437438,0.17943994660421975,0.17943994660421975,0.17943994660421975,0.17943994660421975,0.17943994660421975,0.17943994660421975,0.17943994660421975,0.17943994660421975,0.17943994660421975,0.17943994660421975,0.3327369146341773,0.21463001993678138,0.338756536787277,0.17943610415174588,0.2434899896614717,0.321218627843576,0.23853973093171704,0.16580593784664255,0.19241136375617152,0.16277471850435019,0.1893771444868934,0.15139206724321608,0.13894035106765557,0.17427786949174084,0.12360031172538637,-0.057450282851004925,-0.05698416345214674,0.028936057389763042,-0.06270801741989601,-0.10892832017509091],\"y\":[-0.036855039430940706,-0.03667248322946746,-0.03667248322946746,-0.03667248322946746,-0.03667248322946746,-0.03667248322946746,-0.03667248322946746,-0.03667248322946746,-0.03667248322946746,-0.03667248322946746,-0.03667248322946746,-0.045004408567184795,-0.045406776569706125,-0.05237455329739334,-0.03667231299135248,-0.055636825306323155,-0.07074405547789081,-0.05630708696608386,-0.049283050454286874,-0.06016504825581557,-0.0520867302794085,-0.0792088768197686,-0.0626149389286389,-0.06113444134786806,-0.0717087183195152,-0.0548169699040661,-0.1305500135822373,-0.18689971404866063,-0.2639480991817112,-0.27033184092594253,-0.2772376416417013],\"z\":[0.5496507057250084,0.581909576123474,0.581909576123474,0.581909576123474,0.581909576123474,0.581909576123474,0.581909576123474,0.581909576123474,0.581909576123474,0.581909576123474,0.581909576123474,0.4049137329898044,0.5505869590261496,0.40757361816039145,0.5819044921422714,0.5254308331076244,0.4293230273983991,0.4873225231144308,0.5639152852561716,0.5427143018988697,0.5599146539306644,0.5363603646013695,0.5448917255113115,0.5351343502182188,0.4910883584409967,0.5080976098847956,0.26883364974727925,0.190036532266935,0.13074660759979417,0.1224384685333964,0.16202918187013063],\"type\":\"scatter3d\"},{\"hovertemplate\":\"Population=Abkhaz\\u003cbr\\u003ePC1=%{x}\\u003cbr\\u003ePC2=%{y}\\u003cbr\\u003ePC3=%{z}\\u003cextra\\u003e\\u003c\\u002fextra\\u003e\",\"legendgroup\":\"Abkhaz\",\"marker\":{\"color\":\"#FFA15A\",\"opacity\":0.8,\"symbol\":\"cross\",\"size\":4},\"mode\":\"markers\",\"name\":\"Abkhaz\",\"scene\":\"scene\",\"showlegend\":true,\"x\":[-0.23333481499609943,-0.24224237171382762,-0.26020683599556776,-0.2523409475834942,-0.2557861572252294,-0.2326717624638145,-0.250644536470335,-0.22029573785901074,-0.2500652976852108,-0.22419236275605653,-0.2504143102216026,-0.2614488455175796,-0.2472658510088328,-0.2591563306924991,-0.2616852560343638,-0.24239508660889875,-0.26418722875981215,-0.2522889669046349,-0.25764530433933164,-0.25913382088507475,-0.2410896075736062,-0.23916863404642147,-0.26598449756812786,-0.26387658612087356,-0.26741274197216897,-0.30019268214384454],\"y\":[0.7306437952685433,0.7287734322799787,0.7370575773345435,0.730757254884067,0.7266039928595641,0.7156809041135378,0.7355371072607638,0.7028001300524275,0.7157220817201423,0.6881483277829721,0.7193979246189403,0.7154904092130114,0.6913898736349,0.7092189754097113,0.7261487869387789,0.6814527886478167,0.6917861882710818,0.688774657966332,0.6636625207884526,0.6845092633966604,0.6688882021530009,0.6720477966282743,0.6536349851971118,0.6426578274288314,0.48602678344696815,0.18910335328886332],\"z\":[-0.01077771085042295,0.0028030830127443174,0.01288165878763442,0.012228233337274963,0.02237365152322146,0.006464191005879971,-0.0019132511439747535,-0.00454696992316278,-0.009981585057286302,-0.002852788508802384,-0.016282647879930612,0.0005729694971791932,0.009374331728785518,-0.005998681788917243,-0.02739824726116527,-0.0009791853418140428,0.010050628118679877,-0.0013759170162885026,0.020763714477204875,-0.010279139582505037,-0.010991259000222048,-0.023689452090201985,-0.025383850656951007,-0.03144842917871629,-0.05381991659602944,-0.05930903877241911],\"type\":\"scatter3d\"},{\"hovertemplate\":\"Population=Buryat\\u003cbr\\u003ePC1=%{x}\\u003cbr\\u003ePC2=%{y}\\u003cbr\\u003ePC3=%{z}\\u003cextra\\u003e\\u003c\\u002fextra\\u003e\",\"legendgroup\":\"Buryat\",\"marker\":{\"color\":\"#19d3f3\",\"opacity\":0.8,\"symbol\":\"circle\",\"size\":4},\"mode\":\"markers\",\"name\":\"Buryat\",\"scene\":\"scene\",\"showlegend\":true,\"x\":[0.7363858458742074,0.7214496145273028,0.7290553697848365,0.7610652572956282,0.7337959476070921,0.7286906851797554,0.7438705625142619,0.7058254237454429,0.705473661250819,0.6884268195230312,0.7143889321276251,0.7133333047037078,0.7272718226366184,0.7130989650936324,0.7183558171060564,0.7081446839647589,0.737520271816603,0.7275355934166061,0.7440579283502664,0.7057068315512547,0.6707044308294894,0.7121440215053558,0.714965895590099,0.693800789161829,0.6967169408035008,0.7299940867256192,0.7087423790817939,0.7197218740061495,0.7262857538031593,0.7093333023529491,0.7441006417034322,0.6937160396721225,0.7174310815308664,0.6999230555586478,0.7080856107663125,0.699404784845191,0.5344489284903546,0.5666204041213867,0.632833017582948,0.4608751145553133,0.46590800292197054,0.3544636720496094,0.16417771169531745,0.1672497277163839],\"y\":[-0.01956153223009924,-0.016810265137104187,-0.017944177797303073,-0.010801204467463223,-0.01672296299122758,-0.028706615286127807,-0.03577067240738959,-0.030847835078205068,-0.033177628987496675,-0.006439837937120007,-0.003245559388701535,-0.04377801614821436,-0.03350620608882932,-0.015753458739135567,-0.03145062155139166,-0.04733189192414995,-0.04272109989888742,-0.0537971799901203,-0.03263897430246018,-0.031642650369616235,-0.04241167015815312,-0.031477711040421304,-0.055660794226404416,-0.043091178501649875,-0.06692199018991182,-0.0595587091431088,-0.050688140809310604,-0.06385596968633407,-0.06658302675843164,-0.05173609446607385,-0.04994097155776455,-0.04617460666795282,-0.07481451278762047,-0.07707469567376377,-0.07067423911960055,-0.08126306127511754,0.04199328981474329,-0.0346601784641401,-0.07586747604129973,-0.09712606607026436,-0.09254589414537645,-0.13674119509096158,-0.18994385319902968,-0.20883406432115983],\"z\":[-0.12753506580661944,-0.11341384951882216,-0.12353925200374755,-0.17535543882151244,-0.14085654127359443,-0.12382545115878829,-0.13519459657274818,-0.09771689979298387,-0.09602407300312815,-0.12150976403302138,-0.1590931819847478,-0.10023567943204853,-0.13491954435017428,-0.15148132971106726,-0.13744541192103477,-0.10638213781880956,-0.1562176051629301,-0.1316843370206302,-0.18311601635020863,-0.1433067349576274,-0.09242627425680816,-0.16168945476087937,-0.13332483646487409,-0.1307089479840699,-0.1048546221502955,-0.15685865791178732,-0.14352865241640983,-0.1398877672882522,-0.1484941037520221,-0.15020640729390272,-0.20238411305795817,-0.15834352398122098,-0.15329870155370673,-0.13027397304121607,-0.16130641249353844,-0.14012580356917548,-0.1296003880348982,-0.13642057599673746,-0.16137719005282575,-0.10314324601763791,-0.12173423780755938,-0.10572478904293936,0.010971675723210311,-0.16766554760917907],\"type\":\"scatter3d\"},{\"hovertemplate\":\"Population=Tatar\\u003cbr\\u003ePC1=%{x}\\u003cbr\\u003ePC2=%{y}\\u003cbr\\u003ePC3=%{z}\\u003cextra\\u003e\\u003c\\u002fextra\\u003e\",\"legendgroup\":\"Tatar\",\"marker\":{\"color\":\"#FF6692\",\"opacity\":0.8,\"symbol\":\"diamond\",\"size\":4},\"mode\":\"markers\",\"name\":\"Tatar\",\"scene\":\"scene\",\"showlegend\":true,\"x\":[-0.26260470381699635,-0.19520878466934882,-0.10814754648513453,-0.1420768499452174,-0.123822540514959,-0.1420037946194448,-0.12508301995083454,-0.17808220348517662,-0.18252514829022254,-0.14567791503885946,-0.16743753708913145,-0.13919341608389876,-0.12128988752710923,-0.1783846874096755,-0.14919284409473357,-0.14002305921387248,-0.10545982085386785,-0.16022569795970826,-0.15976775796152515,-0.15320999889702577,-0.14303474843665254,-0.17894531530549035,-0.1348876888090402,-0.13648370786345787,-0.18875224797075224,-0.17559993721388645,-0.18009950481647202,-0.16165336789130064,-0.1877383728852295,-0.20394104238225202,-0.16513299541985016,-0.23571616915132193,-0.20363738259894498,-0.2660845281108349],\"y\":[0.738481437993728,0.0960508272266441,-0.15859280541007081,-0.09955903490747317,-0.15629865967984874,-0.10061573377520822,-0.14543950837174724,-0.146289860165664,-0.1303322029316651,-0.18031716302544182,-0.1690660630305196,-0.19169373441795237,-0.20987320171093662,-0.15178170366833021,-0.17093577680076413,-0.18688444539463925,-0.1984459350996511,-0.17027604510217373,-0.18163381598987538,-0.20823540765635865,-0.21668477157569443,-0.1740237983900081,-0.21095858061231723,-0.21648889951555708,-0.1762858009283279,-0.20829608399902708,-0.1813320258459956,-0.20053232835992266,-0.21603693597823598,-0.2006648451221752,-0.2668292401072104,-0.2083909338076682,-0.24725655479664713,-0.2557777832163988],\"z\":[0.01372118845777437,-0.054726914865469545,0.04722185983130667,-0.002110941424458612,0.028520190001103868,-0.0354781209568949,-0.016060821466840958,0.013058274255894564,-0.006366398026774689,0.015444219384383229,0.022377833435942435,0.019435915637664003,0.018341808196275455,-0.0063397043390534535,-0.016584824916887786,-0.00626402865770162,-0.03546186767014364,-0.012104355355813529,0.003520102221139909,0.009878327729472836,0.0063095513463829744,-0.011253699675675771,-0.02738342457017723,-0.024162105730574257,-0.03609334991550034,-0.01239418759958033,-0.05013264254107147,-0.06065986059652817,-0.013081341330071383,-0.03870296458897285,-0.026215434067448334,-0.06106271469472169,-0.10175694540415103,-0.11654082679030398],\"type\":\"scatter3d\"},{\"hovertemplate\":\"Population=Tuva\\u003cbr\\u003ePC1=%{x}\\u003cbr\\u003ePC2=%{y}\\u003cbr\\u003ePC3=%{z}\\u003cextra\\u003e\\u003c\\u002fextra\\u003e\",\"legendgroup\":\"Tuva\",\"marker\":{\"color\":\"#B6E880\",\"opacity\":0.8,\"symbol\":\"square\",\"size\":4},\"mode\":\"markers\",\"name\":\"Tuva\",\"scene\":\"scene\",\"showlegend\":true,\"x\":[0.6476933328161625,0.6133944333058883,0.6008480154381957,0.624591021014544,0.6452596687981422,0.6327570119870303,0.5941753641503187,0.6368096869155089,0.6648445832319947,0.6283540096786833,0.6128553136276655,0.6022758150564074,0.6164524125513182,0.593843422913493,0.6053035063919046,0.6308544295120306,0.6208764968668525,0.6111827243136096,0.5984569124103216,0.6235834867283783,0.6321343520494247,0.6045426031602081,0.6127602440527358,0.6181832993206637,0.6077897445609819,0.595019425933899,0.6012749621204165,0.6185330534543227,0.6274824161453396,0.5805620505148528,0.6096602286664106,0.5517899305143648,0.6070150309941975,0.6311003977489604,0.5698463436016017,0.5802699990824931,0.5501484339686322,0.5731644602095662,0.5000918480935144,0.5561458001309543,0.5632719742240528,0.5574158772658805,0.548731252062906,0.17789820620669655],\"y\":[-0.02085253792030245,-0.0022758595128127383,-0.015162632668682365,-0.012533443823346351,-0.021077841372212767,-0.0396910906325152,-0.01038358697610827,-0.03034556928292346,-0.019016566730933854,-0.029085337418136344,-0.04980149268765308,-0.014646649374931275,-0.02127414569047734,-0.018693630058884952,-0.02258086844676896,-0.022619874943869123,-0.0228006103966489,-0.015774948751982678,-0.01554100381798618,-0.02078556929992913,-0.0414799090252251,-0.040962568294642024,-0.03497220548841543,-0.04693083838327883,-0.05590668448395735,-0.045992370927814705,-0.03524356668722142,-0.04411820821784041,-0.06613748622432075,-0.03435380596703613,-0.05252522422126033,-0.05696713559399406,-0.0641484316163339,-0.0536155504819763,-0.04302675792083824,-0.04092156601698412,-0.03505096088295465,-0.054139790560395626,-0.014713604415274813,-0.025642230897117247,-0.061234383337020803,-0.07413721642230456,-0.06763428358796778,-0.14500327726642454],\"z\":[-0.016888182478423663,-0.0014115126980605575,0.03248103649440223,-0.0005256482515368088,-0.013705044082632567,0.028313667452637054,0.03357701947262018,0.009722468843000875,-0.05070897553970627,0.005180569960253734,0.05072372024134006,0.013275616559029507,0.004153226515135167,0.025392823093943362,0.017000655775548712,-0.018278858787460883,-0.006596555890901856,-0.0066527042949270365,-0.0005642335321416891,-0.029950239287993896,-0.012886996551765062,0.014763378891608281,-0.007773987009779715,0.0008399624134049211,0.023957626213129357,0.019426380209096705,-0.009716124788105351,-0.02044734371792231,-0.004762906523216148,0.00621110596804314,-0.005703231234731515,0.0688606545288262,0.006280031575981115,-0.04128647651231848,0.01364013896960714,-0.0045205720775085,0.019130527948862275,0.008508771835170043,0.032574800698053685,-0.02050172298233499,0.006135863082662313,0.004911000162233448,0.0033205622977998672,-0.007333463928771933],\"type\":\"scatter3d\"},{\"hovertemplate\":\"Population=Khanty\\u003cbr\\u003ePC1=%{x}\\u003cbr\\u003ePC2=%{y}\\u003cbr\\u003ePC3=%{z}\\u003cextra\\u003e\\u003c\\u002fextra\\u003e\",\"legendgroup\":\"Khanty\",\"marker\":{\"color\":\"#FF97FF\",\"opacity\":0.8,\"symbol\":\"x\",\"size\":4},\"mode\":\"markers\",\"name\":\"Khanty\",\"scene\":\"scene\",\"showlegend\":true,\"x\":[0.21832848245869993,0.16500326068535162,0.1529625721909321,0.0677996456730763,0.0954510709766883,0.07677008161119243,0.08173165205728271,0.07120721782449538,0.07069904268928257,0.06939906475307822,0.06939906475307822,0.06939906475307822,0.06939906475307822,0.06939906475307822,0.06753798735602995,0.05837607261219795,0.1352362414735514,0.056639577493062795,0.08391131520016223,0.07435385482364909,0.07211434304908759,0.15032301602526177,0.07897907004833025,0.03921649192797574,0.0759695385175074,0.07464564914933511,0.057829966669870385,-0.06462566221749172,-0.08595132144236195],\"y\":[-0.1062382912001136,-0.11246657209862526,-0.11340411724038574,-0.10078789806124494,-0.1279684019956724,-0.129412752265568,-0.13000289216709307,-0.11619673654710419,-0.1348966377560651,-0.13607088984603108,-0.13607088984603108,-0.13607088984603108,-0.13607088984603108,-0.13607088984603108,-0.13782215126040087,-0.11147217045192573,-0.1197927024323937,-0.1439996142067083,-0.1427037391593514,-0.1447820169940564,-0.14726785335528644,-0.1305102915970421,-0.1416378576297219,-0.15920876861899022,-0.15380942233510755,-0.1668259210719754,-0.17468706578456428,-0.22742353687140834,-0.2163700046535148],\"z\":[0.62904684876331,0.7030695404022593,0.7191434168823343,0.8048202502824354,0.809684478670151,0.8346096869571004,0.8293183663230296,0.8224395599108423,0.8495522624493939,0.8527518825967701,0.8527518825967701,0.8527518825967701,0.8527518825967701,0.8527518825967701,0.845075690047883,0.8141970747236382,0.7245888236426262,0.8250120761761461,0.7548313208996779,0.7649391963044302,0.7546347445636737,0.6277582521925393,0.7126204720295761,0.7579890284601201,0.6732547973179323,0.6839850434497772,0.6741519017954627,0.5032318417754723,0.4387432781048669],\"type\":\"scatter3d\"},{\"hovertemplate\":\"Population=Kirgiz\\u003cbr\\u003ePC1=%{x}\\u003cbr\\u003ePC2=%{y}\\u003cbr\\u003ePC3=%{z}\\u003cextra\\u003e\\u003c\\u002fextra\\u003e\",\"legendgroup\":\"Kirgiz\",\"marker\":{\"color\":\"#FECB52\",\"opacity\":0.8,\"symbol\":\"cross\",\"size\":4},\"mode\":\"markers\",\"name\":\"Kirgiz\",\"scene\":\"scene\",\"showlegend\":true,\"x\":[0.5092595591152687,0.5130221321334516,0.5245008374029084,0.49744170120423903,0.44821339434112645,0.4395211170075069,0.41513326946531054,0.44158154281074624,0.4256044297534926,0.47995058330852497,0.4638773481441763,0.46808894024258174,0.47019693882674357,0.4794954220916826,0.47283579351176375,0.47350069746240436,0.38354301270959706,0.4298972175324718,0.4622619837518363,0.49257500223375134,0.39012761945064733,0.45812492630038176,0.45241172162718046,0.44118526828944626,0.3514766444637952,0.32245586527899356,-0.34260908073381496,-0.36472710359535887],\"y\":[0.034489795354964076,0.0443764310354609,0.011437648655270253,-0.012512005650106777,0.03678577665944437,0.030134289157536222,0.06181997986271786,0.055991626428621204,0.07405814317721227,0.024239041863750116,0.036068343787342964,0.008761956648582613,0.007866621206434665,0.008359607545675787,0.01609780794601989,0.009557498252865167,0.06002960127241703,0.04719461042818449,0.0011018299807038952,-0.014728857795914842,0.04138074891259417,-0.005940818963203465,-0.010960712781216013,-0.01937954257779432,-0.028358148508733753,0.009872379761557172,-0.35483968374346286,-0.34048005217404814],\"z\":[-0.05256019945349205,-0.0732606175660846,-0.08227146291265336,-0.049086373156384866,-0.0648970375025848,-0.04588929627452576,-0.061682760300742545,-0.0886534428396184,-0.09530503109193067,-0.09657570420069655,-0.09863463316815152,-0.07204216601417862,-0.07427542653600805,-0.08937013678448175,-0.09302603056018727,-0.08907139999213343,-0.06549637407328235,-0.10571452611504006,-0.09317124584804315,-0.12159754331665018,-0.08030948825827611,-0.10017948231562268,-0.08710502946671378,-0.10332091372897179,-0.06869399785885671,-0.09638148157306703,-0.12657690666976323,-0.13162936774724676],\"type\":\"scatter3d\"},{\"hovertemplate\":\"Population=Kazakh\\u003cbr\\u003ePC1=%{x}\\u003cbr\\u003ePC2=%{y}\\u003cbr\\u003ePC3=%{z}\\u003cextra\\u003e\\u003c\\u002fextra\\u003e\",\"legendgroup\":\"Kazakh\",\"marker\":{\"color\":\"#636efa\",\"opacity\":0.8,\"symbol\":\"circle\",\"size\":4},\"mode\":\"markers\",\"name\":\"Kazakh\",\"scene\":\"scene\",\"showlegend\":true,\"x\":[0.5145718439098932,0.4753456700428796,0.4333467798093204,0.43881422345245974,0.43555300383209455,0.3998345422627294,0.4433933871031773,0.4776800432925967,0.3493072908831512,0.38194720833909135,0.4168414388720602,0.4019770050745782,0.37671032298066437,0.38698706675409283,0.37022602482798384,0.3657766121992,0.40252550216168165,0.35315785348789897,0.38872822693339987,0.4054386198388421,0.3578715607697424,0.38365118338740456,0.3771520505585429,0.3915088424617816,0.4266754313534694,0.38802131350224633,0.39013136129935105,0.3903303998687796,0.3128752919060891,0.3748611252138821,0.3434267208442714,0.3624105462023389,0.3933899373650551,0.39705566043266477,0.38194204656416436,0.42051075775720276,0.37264686358155863,0.4036867698426949,0.3524053712208814,0.29107377500390214,0.36543567269098737,0.395691037601573,0.33790341188378764,0.22482926211155685,0.030924074559914305],\"y\":[0.04782737120652214,0.05098510916613702,0.038367159168245187,0.024386084484206115,0.04634460337836694,0.04388289071174527,0.035407821679102454,0.021184596941742347,0.06321815439136039,0.048285471239633525,0.0020588310819854606,0.030328660778116627,0.052245268533591176,0.027479685353602477,0.02163913617645181,0.01529050637479763,0.02898450272622005,0.04459577938583891,0.034699282748836276,0.014918084167840732,0.02930323648767446,0.013446862337942723,0.03702631138546453,0.014817097897664031,-0.005674433471676631,0.005415875473914124,0.021746943729762908,0.016388546837759282,0.03837458461343004,0.009008701049185629,0.03806067765109831,0.015281507251245996,0.0002803243152677132,0.0036774383977567424,0.005377631596779328,-0.015050516905824481,-0.006547252313114819,-0.01205367004666107,-0.004250475682993079,0.04765202035474818,-0.011031722786204862,-0.03311591255993391,-0.01572494361786797,0.07530628432392703,-0.2270894733941999],\"z\":[-0.079426264787883,-0.09942674069515378,-0.07309327416612976,-0.0760188472929006,-0.1075687922450202,-0.07152910096737841,-0.11482226670409051,-0.13845930787801264,-0.05695942696946252,-0.07591124033874008,-0.058634219462012804,-0.08346956950903545,-0.09037380624813368,-0.07043272033877612,-0.04698568915943374,-0.033759054685084916,-0.09850959494355316,-0.06283052218300234,-0.09490299291983179,-0.08937263354192876,-0.056271777100856346,-0.06701478009553669,-0.09327216391743881,-0.0853080855505789,-0.10222245787752138,-0.07195463656510037,-0.09967095834467843,-0.09885614775178703,-0.03785617682028908,-0.0738679672882982,-0.07856165622480377,-0.06930736500077195,-0.0881393894005047,-0.10821115573739026,-0.09519224628685685,-0.11732768785411912,-0.07352412906452976,-0.10519936916952333,-0.08126340347952943,-0.08062537179315526,-0.10383361430357096,-0.11119320882116124,-0.07034111372075191,-0.06247586757197321,-0.11479675236996412],\"type\":\"scatter3d\"},{\"hovertemplate\":\"Population=Karachay\\u003cbr\\u003ePC1=%{x}\\u003cbr\\u003ePC2=%{y}\\u003cbr\\u003ePC3=%{z}\\u003cextra\\u003e\\u003c\\u002fextra\\u003e\",\"legendgroup\":\"Karachay\",\"marker\":{\"color\":\"#EF553B\",\"opacity\":0.8,\"symbol\":\"diamond\",\"size\":4},\"mode\":\"markers\",\"name\":\"Karachay\",\"scene\":\"scene\",\"showlegend\":true,\"x\":[-0.19775338716875163,-0.13796059375192196,-0.19375316965722028,-0.21031202816195183,-0.20573438820856083,-0.20484216263935917,-0.20737193527907338,-0.18452086174420756,-0.1849196573419657,-0.19441507464298985,-0.2371315106358532,-0.18248591402066533,-0.19250130184457875,-0.21396270539920043,-0.2177757983634816,-0.21513780669214821,-0.18369250777495605,0.11885986360099965,-0.20115038545631503,-0.17541899763761448,-0.21290555624506413,-0.19867481770304046,-0.21274021867293863],\"y\":[0.5964722755224079,0.5673702382344293,0.568792218833475,0.5791292891922557,0.5823877128940264,0.5710107838800015,0.558706794938295,0.543045894634785,0.5381793217514141,0.540928619875568,0.5606665761169533,0.5430239989074507,0.542665782376568,0.5422718494872937,0.5541189535277756,0.5295707598015462,0.5126826873944736,0.2776188618319106,0.5087188378638404,0.49887951055643687,0.5083797120291108,0.48409104626180366,0.45366509159227963],\"z\":[0.008012339588920114,-0.0357540910375973,0.00870057511753139,-0.0005804318007882614,-0.01259994944022777,0.00019112919497790704,0.018190755291087574,-0.01221223857152473,-0.0062153900778882665,-0.005398702176218767,0.017577511928769024,-0.02540259881728793,-0.020735024782227107,0.0043947798934931,-0.00875709512824005,0.015506286226013993,-0.017880957515098328,-0.06065661306225323,-0.006402398419003336,-0.03315504274901365,-0.004316268727727696,-0.04316584313694055,-0.05017217307320296],\"type\":\"scatter3d\"},{\"hovertemplate\":\"Population=Cherkes\\u003cbr\\u003ePC1=%{x}\\u003cbr\\u003ePC2=%{y}\\u003cbr\\u003ePC3=%{z}\\u003cextra\\u003e\\u003c\\u002fextra\\u003e\",\"legendgroup\":\"Cherkes\",\"marker\":{\"color\":\"#00cc96\",\"opacity\":0.8,\"symbol\":\"square\",\"size\":4},\"mode\":\"markers\",\"name\":\"Cherkes\",\"scene\":\"scene\",\"showlegend\":true,\"x\":[-0.18577155340396373,-0.20733672037234357,-0.18665953427652232,-0.17843556638057528,-0.20912522177558196,-0.22643204196953215,-0.21206881243667058,-0.19048894641779007,-0.24070773628134456,-0.24949606276175268,-0.16227509966037817,-0.17596828875183462,-0.21681763425702683,-0.21023699101886967,-0.2175385179362721,-0.19390661033305523,-0.17481724177635705,-0.2179170495595662,-0.2109041255294996,-0.18935708141071556,-0.20785499509853006,-0.23357761474483224,-0.21456760578580625,-0.23623560617027595,-0.2183649359485174,-0.20802170629692063,-0.1845625997009122,-0.1873688207617225,-0.2239190658994888,-0.2229732477303088,-0.2232720562583524,-0.20483503013077975,-0.21571163429692614],\"y\":[0.5890981640754868,0.5495161865366639,0.49991619748083316,0.49084105459970806,0.4953039205395361,0.5078976236999916,0.49143578947999883,0.4627150711787838,0.4698967418559231,0.5046543792958512,0.445231257624677,0.4558737239348377,0.476267524545219,0.4641043122976019,0.47447515994302636,0.47089299677550805,0.4473216080782084,0.47119772411618066,0.4650546657156976,0.4537910688413987,0.45214352359213106,0.45903001360200524,0.44943110220896215,0.46108474585836007,0.43307478840131947,0.4302379841220298,0.4168065613271116,0.4116882315923406,0.4003079392767634,0.4380640705613939,0.4140650736657719,0.4103355618051252,0.38922572838129726],\"z\":[0.0015980491980558398,-0.0006074667079504215,0.0006133513516607958,-0.019467734407192294,-0.001318888645643418,-0.007155035790134406,-0.0030352642946158415,0.004005655830625232,0.040277726225176,0.0015279842180112302,-0.027643709602332867,-0.027373004466092588,-0.009186378484423385,-0.0003633261564169876,-0.011101153316605744,-0.0355097412806053,-0.02590303118237644,-0.023446462966968534,-0.02989539023429094,-0.053686009885232006,-0.03276953245351069,-0.012397420266834908,-0.027878074604000075,-0.022243407936764825,-0.019400505850810296,-0.04014619581363288,-0.053592638054993064,-0.04651113726718728,0.007593581213803741,-0.04840953805249654,-0.030928434957764983,-0.05934083882152283,-0.024104200797251146],\"type\":\"scatter3d\"},{\"hovertemplate\":\"Population=Adygei\\u003cbr\\u003ePC1=%{x}\\u003cbr\\u003ePC2=%{y}\\u003cbr\\u003ePC3=%{z}\\u003cextra\\u003e\\u003c\\u002fextra\\u003e\",\"legendgroup\":\"Adygei\",\"marker\":{\"color\":\"#ab63fa\",\"opacity\":0.8,\"symbol\":\"x\",\"size\":4},\"mode\":\"markers\",\"name\":\"Adygei\",\"scene\":\"scene\",\"showlegend\":true,\"x\":[-0.23224633870096012,-0.24573672174389732,-0.2329764438863614,-0.22690661640553683,-0.24094746439098574,-0.2487815791359702,-0.25086542074325213,-0.2391950858532803,-0.2457011192455127,-0.255129226495541,-0.24416453235777635,-0.25160003811273973,-0.2404330384506408,-0.23719392413003143,-0.2504855523394923,-0.2290018759292327,-0.25291885262128333,-0.2268758689527347,-0.26545860270489674,-0.23394522479621338,-0.22364444322082633,-0.26568995100249265,-0.2540271777176232,-0.2399123170461821,-0.22226787902851164,-0.19073358700768994,-0.260542807880851,-0.25902849272358114,-0.22725187381654743,-0.24676039298496905,-0.22968563588609997],\"y\":[0.5973095856291886,0.60120826924663,0.5867116021098184,0.5731410028752654,0.577184078729396,0.5736326639819173,0.5768534735973835,0.5768389460361466,0.5734780139286637,0.567119923673811,0.5784793470051852,0.5904548273560085,0.5731395084034051,0.5505238178068173,0.5697597528654843,0.543184183750413,0.560467892488231,0.5361070168378949,0.5673940644948954,0.5496336961464334,0.5312260118481706,0.5654211582831441,0.5356428747163332,0.5373422063298039,0.5100481927588618,0.48820013940541823,0.5433947479122594,0.5217852144005225,0.4845554278225453,0.47126248704792084,0.1253058243311216],\"z\":[0.015820957302804278,0.01311553899571996,0.016347208457177576,0.015023994103451538,0.010532973228388809,0.008609869309894602,0.00454277651817081,-0.022175472252498718,-0.011366688067246528,0.004478964778373035,-0.02615010205572732,-0.034673357742623284,-0.03019316043901618,-0.00809555734758488,-0.023414641547386705,-0.01201341475267581,-0.01572119221332982,-0.017305582629389304,-0.01687501362306887,-0.031036402887291203,-0.020245937771974837,-0.02445377451326136,0.0025882725734596157,-0.027105366417135235,-0.011809169275206116,-0.026459373036749056,-0.02469082447993698,-0.030514741774690907,-0.029908740763107233,-0.027307371637335848,-0.03654620699209843],\"type\":\"scatter3d\"},{\"hovertemplate\":\"Population=Kabardin\\u003cbr\\u003ePC1=%{x}\\u003cbr\\u003ePC2=%{y}\\u003cbr\\u003ePC3=%{z}\\u003cextra\\u003e\\u003c\\u002fextra\\u003e\",\"legendgroup\":\"Kabardin\",\"marker\":{\"color\":\"#FFA15A\",\"opacity\":0.8,\"symbol\":\"cross\",\"size\":4},\"mode\":\"markers\",\"name\":\"Kabardin\",\"scene\":\"scene\",\"showlegend\":true,\"x\":[-0.19322160485703638,-0.19199979156596486,-0.20532064344875867,-0.21088884757785015,-0.1944763944649151,-0.1948758846884096,-0.21053874188993643,-0.2066671220564693,-0.20801262066215576,-0.2098022022510705,-0.2185446456570112,-0.19623781497098336,-0.20791439844263654,-0.18713881210333894,-0.21503150587099606,-0.2193566795938386,-0.2252759093247027,-0.16958528667796557,-0.21013596298891596,-0.1898195115481104,-0.19216777244857913,-0.20897078658384233,-0.19978401167015386,-0.22603468197145982,-0.24121038294247216,-0.1779579368148756,-0.19208784277443136,-0.18346449408786186,-0.2163628400091786,-0.20161435967974883,-0.22473586076173485,-0.1890168524460752,-0.23116273021424333,-0.24321165184422083,-0.21995655263280772],\"y\":[0.5405311667761694,0.5173950532988155,0.5127439502888955,0.5093191495690319,0.5108155108065614,0.463011350019151,0.49302292989173224,0.471186257664663,0.494627728982695,0.4854662181879465,0.488183424273389,0.46618314394093796,0.46657976483822866,0.46614687500675717,0.48173008291211405,0.48608954282299904,0.48572146487403595,0.4430764907809494,0.4494362355571232,0.4312009896977737,0.4260290711173297,0.4403260854681277,0.437070365621835,0.45188435503709673,0.4409639860070083,0.40616315471438,0.41911743112009126,0.3972773416152871,0.42336243284317526,0.3926798884909831,0.4011969094501692,0.3943482723574907,0.4162818606278217,0.4205331823892264,0.3961721455545055],\"z\":[-0.0005202925598229435,-0.009056934280952278,-9.170857493440154e-06,-0.006675888656992479,-0.029300172616723075,0.012161581801598376,-0.01519100653819938,0.01025551413853279,-0.024833248530649277,-0.021336474037962183,-0.014571240889293402,-0.023145544004033625,-0.010580244746306894,-0.03802808182935494,-0.026007913049038794,-0.027970433117190302,-0.020547012957504274,-0.04990631702120202,-0.031807671742652616,-0.034514389281052854,-0.02971628491096598,-0.029526156546225896,-0.039977235520999826,-0.03344898779620198,-0.009453120324316805,-0.03836828468052589,-0.0459940511677881,-0.037937921305202904,-0.03565504355453361,-0.016935065485268297,-0.011095562924034852,-0.0460174809814822,-0.04351176932168513,-0.037989865541171036,-0.04572990333819291],\"type\":\"scatter3d\"},{\"hovertemplate\":\"Population=Uzbek\\u003cbr\\u003ePC1=%{x}\\u003cbr\\u003ePC2=%{y}\\u003cbr\\u003ePC3=%{z}\\u003cextra\\u003e\\u003c\\u002fextra\\u003e\",\"legendgroup\":\"Uzbek\",\"marker\":{\"color\":\"#19d3f3\",\"opacity\":0.8,\"symbol\":\"circle\",\"size\":4},\"mode\":\"markers\",\"name\":\"Uzbek\",\"scene\":\"scene\",\"showlegend\":true,\"x\":[0.1843267313503814,0.46351160714930223,0.1374390773312182,0.21724970254496295,0.13801091242648336,0.22190907934720583,0.16427697455963985,0.19825513232069764,0.20503888797019607,0.08643897497607689,0.1914771918651864,0.23423081943800245,0.25096814404869117,0.2069391022165692,0.19546376519687286,0.1553057273926685,0.23829505897325245,0.16637138349616215,0.13202629449415293,0.17004544526808313,0.15856603876975253,0.13851150555472488,0.18297624338395935,0.16061720657235706,0.15252859633969068,0.13723916024085234,0.10199336914739271,0.13677045100062296,0.2003995772745084,0.1853490040956867,0.19475975195489578,0.1499972603895099,0.1287110939403566,0.1675802096361702,0.13891439493541158,0.06271567902683339,0.0017534590988433074,0.01640228527218568,-0.03237287105455472],\"y\":[0.21120439710462663,-0.0070584386968216735,0.23088699525559328,0.17920199527409256,0.22207915629651906,0.1887460297169694,0.19407712592503829,0.18159179368262843,0.15419820512881457,0.24214742703256814,0.17757792459449262,0.12915298820430707,0.12026339876154984,0.15017971539948602,0.1684521327281995,0.16532029644923382,0.13813940990379153,0.18390543460324363,0.17035128294841237,0.16601583310266999,0.17409133380517558,0.17067713065382784,0.1463842210069281,0.17421473233273768,0.15988937410628473,0.17233692829316685,0.189455047791451,0.160032478042616,0.13091669795488725,0.14214175913245736,0.11739150334139065,0.1384439961640029,0.14544035807024067,0.1455091830322881,0.13957941371353438,0.02874591368637478,0.010732047487409548,-0.051149130231137,0.005899979697799075],\"z\":[-0.043375241843260554,-0.07579846635647663,-0.03091847269240605,-0.07134887718517402,-0.035992331868823335,-0.0942835422651272,-0.03569443756831586,-0.0611971559798265,-0.034460220080559406,-0.016177479811448653,-0.061645829490349136,-0.048164768982822126,-0.06292796426775338,-0.05239572680673826,-0.06641550068780488,-0.01340064427778434,-0.08523854156223942,-0.06289946501603594,-0.00926118125124642,-0.051966984321224374,-0.056345842062260953,-0.032619496067432086,-0.05690450991199511,-0.0704724168091142,-0.04844194443352451,-0.05059909181785649,-0.03269772137044377,-0.035510478276518626,-0.07940736278875837,-0.07796912836225928,-0.055125482598798015,-0.049625980730781505,-0.03776199172749556,-0.09282263355445569,-0.0725155125641424,-0.06466695819364099,-0.029468526168154763,0.02393681232217737,-0.05281867322551076],\"type\":\"scatter3d\"},{\"hovertemplate\":\"Population=Chechen\\u003cbr\\u003ePC1=%{x}\\u003cbr\\u003ePC2=%{y}\\u003cbr\\u003ePC3=%{z}\\u003cextra\\u003e\\u003c\\u002fextra\\u003e\",\"legendgroup\":\"Chechen\",\"marker\":{\"color\":\"#FF6692\",\"opacity\":0.8,\"symbol\":\"diamond\",\"size\":4},\"mode\":\"markers\",\"name\":\"Chechen\",\"scene\":\"scene\",\"showlegend\":true,\"x\":[-0.25412841244072915,-0.23859995853187943,-0.2498612286992843,-0.24558716164536182,-0.26016867188697695,-0.24477594113258488,-0.23636276380798504,-0.2728268698383506,-0.2621823934839318,-0.24590066855345633,-0.24482336097684904,-0.2662717874024568,-0.24300856679558935,-0.2437509301738428,-0.2737759980483893,-0.25715640623728686,-0.2671043611464258,-0.27985390730076926],\"y\":[0.5105265857572578,0.483785074650375,0.47627438579351233,0.47427681931156074,0.47041627731711866,0.4660454961953416,0.44633985677563015,0.47770045379061254,0.45361878991402854,0.46157269687580615,0.4465040304543272,0.44022747170569687,0.41910755718919357,0.42566433697726985,0.4509576333713158,0.42749771562126565,0.4211505051522376,0.35012184796310647],\"z\":[0.04894074044255842,0.01652379100178908,0.014996023692498972,0.005085819399619551,0.003257502480053076,-0.009837118287939206,0.006584561794547805,-0.003975904855427925,0.013246896806699743,-0.02317217265171173,-0.005466757645471693,0.00958452990042219,-0.014011057552005213,-0.027439602788634943,-0.031654963077921844,-0.02088217307077389,-0.028123264792678987,-0.01006446701931868],\"type\":\"scatter3d\"},{\"hovertemplate\":\"Population=Bashkir\\u003cbr\\u003ePC1=%{x}\\u003cbr\\u003ePC2=%{y}\\u003cbr\\u003ePC3=%{z}\\u003cextra\\u003e\\u003c\\u002fextra\\u003e\",\"legendgroup\":\"Bashkir\",\"marker\":{\"color\":\"#B6E880\",\"opacity\":0.8,\"symbol\":\"square\",\"size\":4},\"mode\":\"markers\",\"name\":\"Bashkir\",\"scene\":\"scene\",\"showlegend\":true,\"x\":[0.16079175607226537,0.13134822573359248,0.13773214129531308,0.08258433948684776,0.14431117641965205,0.09909984595129367,0.11071402262005775,0.15146046934485688,0.0976632504073254,0.11625758400701261,0.10096028851626712,0.08737904243851813,0.11795037142487338,0.11130104347799333,0.04973216089419788,0.09135948049074322,0.0902151848913594,0.06155051891174232,0.07393879178453605,0.07385016502438718,0.11127675119745781,0.08373579832235822,0.09554737248132122,0.09074742146091697,0.10013332945228562,0.06753070556665955,0.05012793487077294,0.054951800938363826,0.030693869149786696,0.06479503906901765,0.08466880289676929,0.023253341006842537,-0.0362757770721201,-0.04397216958220085],\"y\":[-0.06919899478077474,-0.051453744178775955,-0.07157795561616373,-0.03601126644924494,-0.08221947969734417,-0.05199927657350729,-0.062495614312775095,-0.09459848565724038,-0.054413498759671046,-0.08940030869135551,-0.07480499093908996,-0.08211593411538429,-0.09378829950582107,-0.10437671521030209,-0.08993505949156236,-0.09188473392381188,-0.09245257408908669,-0.09229326691535383,-0.10179383424621172,-0.08956364701198863,-0.13512387337356174,-0.10729347611167003,-0.12128209181349756,-0.1461236585861206,-0.11733437700525942,-0.09832058300926536,-0.11198565576031522,-0.12369321571848263,-0.13029638129248095,-0.1276188146153666,-0.1701960401066793,-0.12652079933291321,-0.12718298608805123,-0.20466907405062643],\"z\":[0.14029175411662062,0.10120087038959871,0.10717829435070318,0.10977055076553563,0.09723062815793024,0.10385450355355785,0.10193778219550703,0.07834214855730556,0.08670986150193233,0.11208791887876166,0.10609459591618373,0.11512309684253665,0.09364916508443943,0.09932758492238847,0.15247514352028088,0.10098022510037592,0.10320955035021842,0.12617783206818908,0.11388073788617556,0.09050029632797227,0.10836857566004765,0.0795328777793317,0.0841030588352693,0.11589249804333696,0.06108536557745228,0.07245424425648073,0.11214691202768537,0.11140868109495948,0.09593994059083319,0.04849372393925955,0.08143329870176808,0.06279567223971627,0.057249790904380066,0.04533465135809259],\"type\":\"scatter3d\"},{\"hovertemplate\":\"Population=Russian_NSK\\u003cbr\\u003ePC1=%{x}\\u003cbr\\u003ePC2=%{y}\\u003cbr\\u003ePC3=%{z}\\u003cextra\\u003e\\u003c\\u002fextra\\u003e\",\"legendgroup\":\"Russian_NSK\",\"marker\":{\"color\":\"#FF97FF\",\"opacity\":0.8,\"symbol\":\"x\",\"size\":4},\"mode\":\"markers\",\"name\":\"Russian_NSK\",\"scene\":\"scene\",\"showlegend\":true,\"x\":[0.10320221215285275,0.14128475419694464,-0.10110997207318523,-0.1234142040562976,-0.15297209561074954,-0.27169602465247195,-0.28261585698710506,-0.27467383445824084,-0.297975755026148,-0.31997364729123,-0.2875950130127762,-0.295063920814194,-0.29250004114669853,-0.37819176549812517,-0.30490479035815393,-0.33442604062579884,-0.3162994694301541,-0.3120463526602223,-0.3309709902460194,-0.33797142802499847,-0.2962206941030539,-0.3272057414519142,-0.3188491459403104,-0.3327874769401833,-0.35966311854125627,-0.2974092837655451,-0.3580563502671296,-0.35761241384483017,-0.34369653116582205,-0.3428974741668939,-0.37002500197145544,-0.3574539866215344,-0.36633631064112177,-0.3306044107940084,-0.3324262404378333,-0.3704377766987162,-0.36519250235242057,-0.3882838790828019],\"y\":[-0.03408232410345965,-0.03656276323829906,-0.24307335635252927,-0.2536697956980698,-0.25993360917365027,-0.10939541756913451,-0.3013557617104674,-0.2660342012562647,-0.34276057266356125,-0.29126128655957817,-0.3605737362496351,-0.36451903479915354,-0.3874140451057034,-0.24830460717817218,-0.3383087850457852,-0.29564477745141515,-0.3576219886698521,-0.37736016699915725,-0.36341718111724386,-0.34936341678023813,-0.41785490562231586,-0.33691078718851447,-0.37650874908350074,-0.3531351332638333,-0.3548184660277816,-0.38846907888041776,-0.33928640723714615,-0.3355895053896187,-0.3726329719619003,-0.3536553706128914,-0.3162623749586074,-0.3618651467958535,-0.35434993122102104,-0.3880879619805935,-0.35038046063578615,-0.3631907104843378,-0.4026022231321608,-0.4378113937818648],\"z\":[0.13720477258480393,0.0573209553354771,0.060923312208258806,0.031838138557060525,0.06929196611297699,-0.11581476905539578,-0.027904204422790124,-0.09362959181010205,-0.042918319739500166,-0.10267985941938451,-0.06579008907494954,-0.05774578734172933,-0.042777273665854515,-0.1398178282837264,-0.11129640300250837,-0.14264953145482628,-0.08350931738529288,-0.06289334010886838,-0.06725124701663066,-0.08999982044622235,-0.044867279908096,-0.13211990994324485,-0.0915363451785195,-0.11751271322214013,-0.08743234166781605,-0.1301857290076462,-0.12800929294878677,-0.13947672640217212,-0.10475863415140785,-0.13484341413360557,-0.16448787921194225,-0.11508022645045651,-0.11806744314943374,-0.11661335985098004,-0.17197111617626798,-0.1851995140500015,-0.15221421087570935,-0.15754700375293795],\"type\":\"scatter3d\"},{\"hovertemplate\":\"Population=Udmurt\\u003cbr\\u003ePC1=%{x}\\u003cbr\\u003ePC2=%{y}\\u003cbr\\u003ePC3=%{z}\\u003cextra\\u003e\\u003c\\u002fextra\\u003e\",\"legendgroup\":\"Udmurt\",\"marker\":{\"color\":\"#FECB52\",\"opacity\":0.8,\"symbol\":\"cross\",\"size\":4},\"mode\":\"markers\",\"name\":\"Udmurt\",\"scene\":\"scene\",\"showlegend\":true,\"x\":[-0.13095810248770617,-0.13889309451293916,-0.11668030268418969,-0.15459588161068719,-0.15887047183726086,-0.15631066085578232,-0.1412653008337321,-0.13790254770678625,-0.1305823141437958,-0.13695058742633792,-0.14410005779507973,-0.13463660563754482,-0.14266822481779537,-0.13658239759744983,-0.14963685525318693,-0.16047703600439736,-0.12485458642725081,-0.14127131627599465,-0.15746211945144192,-0.15807801396658472,-0.17121401696920613,-0.17030118277638873,-0.2196856258586083,-0.24044304682649037,-0.24139794060067232],\"y\":[-0.17905703384316404,-0.20811024633657554,-0.20707893111151407,-0.18773139445978987,-0.1777788952790904,-0.1949504368607792,-0.22347828353863572,-0.21251781314429288,-0.21785077566543418,-0.23391319291502358,-0.2293160045158559,-0.24985114468798206,-0.22959197787490537,-0.2576658202737064,-0.2539175056047309,-0.2225006648484166,-0.27678617761723545,-0.25755142269415215,-0.27288457662532345,-0.28617082168307967,-0.297281477122689,-0.3039765380717317,-0.31460818239126515,-0.302201936487228,-0.29174941067994764],\"z\":[0.28445637386332473,0.31156804723189024,0.2609486874217435,0.276057153258231,0.26448859405234537,0.2780242526578541,0.2876908054089663,0.26753516125646515,0.2575764617890706,0.25283824682224065,0.2311851610692035,0.2359927742314007,0.20500255698627595,0.23652678895624263,0.23633629237614692,0.19975564878113722,0.21490976498235406,0.18963120267790168,0.23091083046507768,0.23436705080678097,0.1669681256094542,0.11200264188469909,0.1495992394420944,0.0740650887002973,0.026078913673650672],\"type\":\"scatter3d\"},{\"hovertemplate\":\"Population=Mordva\\u003cbr\\u003ePC1=%{x}\\u003cbr\\u003ePC2=%{y}\\u003cbr\\u003ePC3=%{z}\\u003cextra\\u003e\\u003c\\u002fextra\\u003e\",\"legendgroup\":\"Mordva\",\"marker\":{\"color\":\"#636efa\",\"opacity\":0.8,\"symbol\":\"circle\",\"size\":4},\"mode\":\"markers\",\"name\":\"Mordva\",\"scene\":\"scene\",\"showlegend\":true,\"x\":[-0.26391588693999857,-0.29463932944080373,-0.29875012353233327,-0.298444827235466,-0.28859053234628856,-0.28225363644271984,-0.3035514700224552,-0.288958748744582,-0.311722458539068,-0.30566216901023935,-0.3002865663178582,-0.31291208574388724,-0.29833325168469754,-0.2826083466175234,-0.3052608542305584,-0.2788278423039448,-0.27241794150213355,-0.3064124524696872,-0.27961454658706125,-0.284347144899896,-0.2972201984375358,-0.3104873263497579,-0.29138155033961866,-0.308584051643055,-0.279215825027684,-0.3021538128260414,-0.2944067473891539,-0.30077090973895526,-0.3083945040351212,-0.3209191142745677,-0.3215623140297068,-0.318178441353071,-0.3203201067294042],\"y\":[0.11255954259140377,-0.26914832418908635,-0.2817467891265856,-0.28787135723983276,-0.3076103043446226,-0.3177715286600527,-0.2955792350585776,-0.3044849169481877,-0.28698420907163996,-0.3074041725356201,-0.3248216825555888,-0.3095036883857568,-0.3218954980263031,-0.3023717079163016,-0.3262463359917866,-0.3415235267274133,-0.31549780713820297,-0.31337494430696633,-0.3225270201295283,-0.3395778307971462,-0.34604748065864815,-0.3105072348732998,-0.3403574271096565,-0.3302981303109056,-0.3259540266397405,-0.33298478122255304,-0.3284563236834122,-0.34168977376513004,-0.35166145403998833,-0.3571456664294245,-0.3547910385806127,-0.3755515657625459,-0.3623805694251999],\"z\":[-0.060331253623071984,-0.05493300433851539,-0.06412998450602997,-0.07954120998243747,-0.07157240063557502,-0.07082097848898589,-0.09398916212554753,-0.1007651907398357,-0.09872630377615949,-0.09081217461313024,-0.07383829690443022,-0.08032421347189322,-0.08159134141142604,-0.12978808807745135,-0.06869365772589059,-0.08099153934864578,-0.12739049166354577,-0.09187328059235894,-0.11500073596465371,-0.09139225090323472,-0.06826481167778348,-0.1064434153929012,-0.08925563452367119,-0.08797873900384717,-0.1356079230728986,-0.09753488709697722,-0.1169524244019412,-0.10569047149055388,-0.10503967828156913,-0.08959170023740143,-0.11434013266917431,-0.10872443735847653,-0.13006665952752128],\"type\":\"scatter3d\"},{\"hovertemplate\":\"Population=Chuvash\\u003cbr\\u003ePC1=%{x}\\u003cbr\\u003ePC2=%{y}\\u003cbr\\u003ePC3=%{z}\\u003cextra\\u003e\\u003c\\u002fextra\\u003e\",\"legendgroup\":\"Chuvash\",\"marker\":{\"color\":\"#EF553B\",\"opacity\":0.8,\"symbol\":\"diamond\",\"size\":4},\"mode\":\"markers\",\"name\":\"Chuvash\",\"scene\":\"scene\",\"showlegend\":true,\"x\":[-0.12163772401065692,-0.14495134044936542,-0.10219857552360706,-0.11960852906689423,-0.1444066695472337,-0.12687716629159784,-0.11844624356187702,-0.12911733541125903,-0.12016966894485107,-0.15108784170951112,-0.12240156426767729,-0.12522367470834583,-0.13140296160370976,-0.10416467390905082,-0.16060508627775918,-0.13626254865564064,-0.14410867583158576,-0.14447274635546198,-0.1409903616049018,-0.15636795920828644,-0.13947891045893987,-0.16450366561603247,-0.14656710344144774,-0.16927715893887169,-0.1593697117071095,-0.18045772268862204,-0.16088475581658412,-0.33820780549528695],\"y\":[-0.18328237667744912,-0.1891603120219097,-0.19874662678800065,-0.2035380349870476,-0.2011031125356521,-0.19909161311002552,-0.2588940741372521,-0.22740579845027362,-0.23280717041709253,-0.217959956817279,-0.2232878533512543,-0.26034635388839833,-0.245233217260929,-0.2676743287029765,-0.21592989603273008,-0.2610579268657898,-0.2475088753071183,-0.25487590835737245,-0.24355632690090953,-0.2556352912671789,-0.24887927282057348,-0.24256973120457762,-0.2609894089034895,-0.25724010517558205,-0.2443289639890547,-0.2487179314359847,-0.27143945178702006,-0.3441458922044752],\"z\":[0.11013939834562728,0.11668950822006506,0.07722509391819152,0.10536041981744623,0.10591847717127453,0.07139943213719199,0.11940637733871046,0.07331779147330911,0.06986221696746658,0.08317065201897905,0.04917158684979134,0.10173664045779197,0.08750719963172711,0.08528138073572415,0.07939626518217494,0.11317948649757897,0.09187090296872083,0.10222360305216649,0.07821575349815399,0.09644219586100009,0.06541160091700654,0.07521305290647479,0.07375183637324983,0.05960381876128662,0.02442410899987349,0.03808297287822618,0.02051152171139431,-0.13456727866158763],\"type\":\"scatter3d\"},{\"hovertemplate\":\"Population=Moldovan\\u003cbr\\u003ePC1=%{x}\\u003cbr\\u003ePC2=%{y}\\u003cbr\\u003ePC3=%{z}\\u003cextra\\u003e\\u003c\\u002fextra\\u003e\",\"legendgroup\":\"Moldovan\",\"marker\":{\"color\":\"#00cc96\",\"opacity\":0.8,\"symbol\":\"square\",\"size\":4},\"mode\":\"markers\",\"name\":\"Moldovan\",\"scene\":\"scene\",\"showlegend\":true,\"x\":[-0.33032306206259576,-0.2939075602122647,-0.3363839708813878,-0.3492906341691679,-0.3227463707721276,-0.324099842686244,-0.3402522356569151,-0.33027260308952916,-0.33209842342990337,-0.34777753441964104,-0.34694883644510105,-0.3434994557903457,-0.339553395832582,-0.3377313709044728,-0.3364485224805336,-0.3141770317877539,-0.3306190888143314,-0.3306998389490982,-0.3326192443775232,-0.34914511972655166,-0.35722520979419475,-0.3201220704919167,-0.34831001326452743,-0.3318881205900868,-0.33361173910358943,-0.34394529756636183,-0.33380372336084674,-0.3398704842962396,-0.34969570096084485,-0.3497259420407452,-0.3396222540420348,-0.34433717666409513],\"y\":[0.01445989170265213,-0.06702547163525358,-0.06914437794249934,-0.05874110537588859,-0.07967545715802218,-0.09082382693600236,-0.08761069929892187,-0.0976649708170163,-0.10060429189631725,-0.1027570034211594,-0.0978792266833502,-0.11512010802556993,-0.09702928870237068,-0.10919547239052216,-0.12915214646283663,-0.13781728744408975,-0.12755964237383283,-0.13720871326844192,-0.14467671776727592,-0.1300741316385579,-0.1388001947763752,-0.15509929824777327,-0.1324274530533271,-0.1614185055959066,-0.15610934922983563,-0.15720034219060108,-0.15709762279123593,-0.15760829555016115,-0.15745076857572143,-0.1844766725865318,-0.17145364406697938,-0.21196482822224946],\"z\":[-0.11792166357359607,-0.15027403692374147,-0.12720605648600813,-0.12678318875560796,-0.1522881151297666,-0.13884947788759255,-0.12930631605945753,-0.12885211663558044,-0.1334684456200017,-0.11420578539016285,-0.1377987865671032,-0.11929218864021462,-0.15279263659335274,-0.1457220226901862,-0.13397934390177224,-0.15008558771073688,-0.14601898545032294,-0.13997427168895327,-0.13355979455450828,-0.13968205898435399,-0.1192843746686787,-0.1443542791268289,-0.14512275633303107,-0.13114761875601655,-0.15043965278087934,-0.13729214127894446,-0.16090881225089682,-0.1650146648443842,-0.1623986683689148,-0.12816026105622025,-0.1600863632427566,-0.1505347235614919],\"type\":\"scatter3d\"},{\"hovertemplate\":\"Population=Russian_STV\\u003cbr\\u003ePC1=%{x}\\u003cbr\\u003ePC2=%{y}\\u003cbr\\u003ePC3=%{z}\\u003cextra\\u003e\\u003c\\u002fextra\\u003e\",\"legendgroup\":\"Russian_STV\",\"marker\":{\"color\":\"#ab63fa\",\"opacity\":0.8,\"symbol\":\"x\",\"size\":4},\"mode\":\"markers\",\"name\":\"Russian_STV\",\"scene\":\"scene\",\"showlegend\":true,\"x\":[-0.18997278113967592,-0.31646641675843123,-0.26249910436367646,-0.2648488898334463,-0.27804620435975563,-0.28697857310443786,-0.2923077780156251,-0.32347196135529804,-0.3155091886567961,-0.2901811459659887,-0.29178558116404163,-0.32398918695866785,-0.32532393916023084,-0.32207061230394024,-0.3107377325312771,-0.32126451254154215,-0.3085240726660573,-0.2905252755071481,-0.3108962366639059,-0.3112325419467993,-0.30163121327453274,-0.3300561825424414,-0.3102799113299231,-0.3051575041896177,-0.28705576520848963,-0.2851723943221376,-0.3425155322672811,-0.2991910119855896,-0.3204576118356653,-0.3252118780961137,-0.3096521163277446,-0.32184824553885605,-0.3190528373244071,-0.32967879223156205,-0.30776080475165773,-0.32702992386066065,-0.36021996443275595,-0.34286191187381815,-0.36097021544796026],\"y\":[-0.174918752065054,-0.20457489632476566,-0.333450192456102,-0.31327815036166123,-0.36046180443706105,-0.36439258886118764,-0.3727473685229059,-0.3505418354095203,-0.35369256828028633,-0.34352231277794576,-0.3743490369803289,-0.35113573049358515,-0.3560427871228307,-0.3408407845809214,-0.3791246672694977,-0.34069610910561626,-0.3848920203001588,-0.3873172782525738,-0.3727555209915094,-0.38188376869663465,-0.38940408766179296,-0.36022013507712675,-0.3781032470246817,-0.39794891786776637,-0.39728603379603117,-0.42320976799618104,-0.34255214500618386,-0.40266168917635253,-0.37833692880027914,-0.3761653810156148,-0.4150902839287367,-0.4311621303401388,-0.4243907446267222,-0.4069286826335538,-0.4478846362064887,-0.408435744200753,-0.40077394775090003,-0.4032950424194758,-0.40161827395288674],\"z\":[-0.10153266773442599,-0.10410796871333244,-0.02077164045511873,-0.06816560577746855,-0.04886300054067902,-0.04389174488044964,-0.03587130215710016,-0.032764802717814706,-0.04164051900532817,-0.10745631861819588,-0.068986193013792,-0.06416344166450644,-0.05674870586764408,-0.09361787720672538,-0.05854759001971707,-0.10411243839495354,-0.05808328093706158,-0.0841537316549299,-0.08090602303928401,-0.068679193792331,-0.07116226061298092,-0.0824842978759977,-0.08569030858241583,-0.07433915430674165,-0.09856581283626498,-0.06947917544069304,-0.11858574267179434,-0.087704127802681,-0.10031117931094569,-0.10594674782895652,-0.0762007266375897,-0.042629775202779524,-0.059702730084633254,-0.09170813698110047,-0.06877634681444167,-0.10603380205243806,-0.086930089796734,-0.12074264763996378,-0.14466936396200086],\"type\":\"scatter3d\"},{\"hovertemplate\":\"Population=Komi\\u003cbr\\u003ePC1=%{x}\\u003cbr\\u003ePC2=%{y}\\u003cbr\\u003ePC3=%{z}\\u003cextra\\u003e\\u003c\\u002fextra\\u003e\",\"legendgroup\":\"Komi\",\"marker\":{\"color\":\"#FFA15A\",\"opacity\":0.8,\"symbol\":\"cross\",\"size\":4},\"mode\":\"markers\",\"name\":\"Komi\",\"scene\":\"scene\",\"showlegend\":true,\"x\":[-0.2378584117458163,-0.21570462274966312,-0.22860071963521494,-0.2384494265955185,-0.23824954451406405,-0.23896015687738775,-0.22105219927473385,-0.21486520146600663,-0.24555387311179233,-0.23907946504005995,-0.2277269266060939,-0.23367180155666006,-0.25597643579806334,-0.2285553400341795,-0.2496809453680784,-0.24453213433133958,-0.2322403352630107,-0.24293357302002222,-0.23681377595085096,-0.2526638997848934,-0.2406472284207971,-0.24554808385874743,-0.2162497741923627,-0.24083738560807338,-0.2565342151716334,-0.2433987161124862,-0.25174313776167734,-0.2508722136542574,-0.2345292320440357,-0.24811376556670722,-0.2351524084982663,-0.24834724508889627],\"y\":[-0.27180644521096553,-0.31338943549662246,-0.2963098846348414,-0.3124275445566187,-0.32390295260962465,-0.31441080907546776,-0.3452014367093722,-0.3674550947273764,-0.32847084751676775,-0.35017686394805825,-0.3641092821320399,-0.3574448615346945,-0.34717510255393086,-0.3622204354489698,-0.3494294741439854,-0.38633418534686753,-0.37556975024583744,-0.3793950706786522,-0.3777961663275833,-0.3608516419552694,-0.37627085794753345,-0.3815795284142904,-0.4083534264184003,-0.3815193787686199,-0.3592144225923573,-0.4019853556490338,-0.41889284388401427,-0.4027504937190133,-0.40937627644304986,-0.41657268031816896,-0.41546063172313535,-0.4021775089616009],\"z\":[0.07193196553460475,0.10190289121235149,0.08043257607514961,0.09529259980845955,0.09191826767103396,0.0575786127658503,0.06514869271759892,0.07676617017835353,0.05608556654187688,0.07711262428145975,0.07102227801947214,0.06312284669964287,0.0659266675578173,0.052508843939667815,0.053377785936293776,0.09707064876368167,0.06556136019537212,0.07290755963002979,0.05088546368477498,0.04288206738863792,0.03978331380032915,0.04916137594899522,0.05106266987891522,0.03518679590879742,0.020396842831144596,0.05566094872052363,0.0862252564446899,0.05388398413530979,0.039666022648640165,0.0625173413131882,0.04187016116024539,0.011657406932103404],\"type\":\"scatter3d\"},{\"hovertemplate\":\"Population=Ukrainian\\u003cbr\\u003ePC1=%{x}\\u003cbr\\u003ePC2=%{y}\\u003cbr\\u003ePC3=%{z}\\u003cextra\\u003e\\u003c\\u002fextra\\u003e\",\"legendgroup\":\"Ukrainian\",\"marker\":{\"color\":\"#19d3f3\",\"opacity\":0.8,\"symbol\":\"circle\",\"size\":4},\"mode\":\"markers\",\"name\":\"Ukrainian\",\"scene\":\"scene\",\"showlegend\":true,\"x\":[-0.23943446884469127,-0.3371811872247953,-0.3672745469072899,-0.368082220594975,-0.3555022859986472,-0.3584794175935573,-0.3741837576961608,-0.3432415680545423,-0.34990570112523006,-0.34784315644096214,-0.36628159708228664,-0.38238245544229954,-0.3546648552568512,-0.34514329037086694,-0.37528608643457695,-0.3748188929625476,-0.36690062936203177,-0.37535451989634966,-0.3730063887196537,-0.37479851066418196,-0.37496187476049814,-0.3691915030244931,-0.3573407185438295,-0.37318685687190056,-0.3768649858067205,-0.3723422528482462,-0.35043866686112557,-0.38425748186420844,-0.37878206435283734],\"y\":[-0.24756102153487924,-0.11333241605653716,-0.1902989061643798,-0.19975446293497892,-0.24530823216685377,-0.2452489887024468,-0.2613815624098916,-0.30166394970189464,-0.2793669657802706,-0.2742918756957434,-0.2657843683100638,-0.2647816883075072,-0.2797178620869743,-0.2982522306905979,-0.29168392821097533,-0.27880866411979505,-0.288838370302717,-0.310406088704869,-0.31967705935100443,-0.3040881333779615,-0.32072448350038607,-0.3191903206287642,-0.31891470636390645,-0.3472820504677753,-0.325484582260558,-0.34715522859004855,-0.36399383995598306,-0.3504119341872906,-0.3504898115260766],\"z\":[0.013310104999313926,-0.08061916590863699,-0.13064850780253678,-0.1457071044417425,-0.10922842032431379,-0.15452580711479513,-0.12904962821630667,-0.11681558556085336,-0.14779628310915494,-0.1617836388159325,-0.15908987211849912,-0.14605566732331365,-0.16030683765660114,-0.14780890265908736,-0.12959492012776164,-0.16261920336742258,-0.1619685953701418,-0.13226420206822548,-0.12553529044476386,-0.16563158598150557,-0.14773366461443288,-0.15716792701115812,-0.17670645423288323,-0.13140285907911042,-0.16920870982050462,-0.1516150059178571,-0.15902312358718174,-0.1614634942323256,-0.1754107775034789],\"type\":\"scatter3d\"},{\"hovertemplate\":\"Population=Belarus\\u003cbr\\u003ePC1=%{x}\\u003cbr\\u003ePC2=%{y}\\u003cbr\\u003ePC3=%{z}\\u003cextra\\u003e\\u003c\\u002fextra\\u003e\",\"legendgroup\":\"Belarus\",\"marker\":{\"color\":\"#FF6692\",\"opacity\":0.8,\"symbol\":\"diamond\",\"size\":4},\"mode\":\"markers\",\"name\":\"Belarus\",\"scene\":\"scene\",\"showlegend\":true,\"x\":[-0.3204151456885667,-0.36322435949082577,-0.35582414283329405,-0.3788657693357196,-0.36281984891507585,-0.3679509079955365,-0.365162699795134,-0.37991377901791257,-0.3815785382699065,-0.35920783532099426,-0.37698890873730945,-0.3740698225418551,-0.381715425246588,-0.36861529858058456,-0.3740996610216335,-0.38138824708517705,-0.3731234771320331,-0.36524165423087424,-0.3675568227730429,-0.3729135527735724,-0.3787013795551028,-0.3819294185673762,-0.3565190798493605,-0.39187423430235085,-0.3825073283296164,-0.3791699411041158,-0.39401831930331566,-0.3830644016052381],\"y\":[-0.10779066932387393,-0.1964351896097242,-0.3203177529493098,-0.3168000992971867,-0.3214495123786453,-0.3228787903592167,-0.3443031221005331,-0.3512922346928577,-0.33542634949557676,-0.34083842319839613,-0.32907613868406477,-0.35536712141442356,-0.34358951245641933,-0.3633909580785487,-0.3562179723838854,-0.3750300767411271,-0.365429317665717,-0.3871762493913371,-0.36874611166614435,-0.38661618121847746,-0.38929137088373034,-0.37573842516548484,-0.3932502241245578,-0.3979447747637684,-0.41552926313585625,-0.4207891239030653,-0.40418089212886815,-0.43311089877536796],\"z\":[-0.1308126510854884,-0.14565892374522754,-0.15913050677961083,-0.13739833445299565,-0.15389621061745967,-0.16635420270869167,-0.1588410240135144,-0.13101799848014895,-0.1562801366806224,-0.17845788222054532,-0.17435663079832792,-0.1562655814583916,-0.16636965568951506,-0.15711507986305362,-0.1708871959304723,-0.13745777086796923,-0.1685759993051026,-0.15314660075647452,-0.17974789679158865,-0.15397092318808814,-0.14700594279696355,-0.1667989590403537,-0.20472539838853898,-0.16456542023734377,-0.1542660748119286,-0.1583447667091593,-0.16560795339840795,-0.17736845878818136],\"type\":\"scatter3d\"},{\"hovertemplate\":\"Population=Karel\\u003cbr\\u003ePC1=%{x}\\u003cbr\\u003ePC2=%{y}\\u003cbr\\u003ePC3=%{z}\\u003cextra\\u003e\\u003c\\u002fextra\\u003e\",\"legendgroup\":\"Karel\",\"marker\":{\"color\":\"#B6E880\",\"opacity\":0.8,\"symbol\":\"square\",\"size\":4},\"mode\":\"markers\",\"name\":\"Karel\",\"scene\":\"scene\",\"showlegend\":true,\"x\":[-0.29728277180429963,-0.3169669993145118,-0.3279535977969108,-0.3224608438377828,-0.3469027880784775,-0.33243370345023565,-0.28469552579504376,-0.3199587491364675,-0.33750349747601033,-0.3014426810633341,-0.31072081481015734,-0.346616006404171,-0.3114687825275906,-0.3333331075769356,-0.3109467225183031,-0.2982447509467149,-0.3040424291127401,-0.34295082791364695,-0.3201617555702449,-0.34966344451149317,-0.32084434259831635,-0.30244391307477586,-0.3090121167201567,-0.31820493783111337,-0.31019594448100235,-0.31457538408883184],\"y\":[-0.3919294012570269,-0.42460367963671897,-0.4380203778089256,-0.4338097535449073,-0.41637775126020804,-0.3696563649316718,-0.4659319479928691,-0.46396990046965697,-0.46126821176264654,-0.4911454757813743,-0.49228098347565186,-0.40890006332826323,-0.4763987504655373,-0.4663241742449437,-0.47121700526137716,-0.5064837856262616,-0.5042275882551333,-0.4847454660064801,-0.48150861874235795,-0.4438940887954254,-0.4890600625226087,-0.5097671440155951,-0.5020953478288732,-0.49910413873916604,-0.5065021375874852,-0.5046897699314183],\"z\":[-0.07970314731878697,-0.05694753599286098,-0.0354687590416308,-0.06497717437770356,-0.06971352428852895,-0.15529139805379438,-0.07763649870220335,-0.0860041104679567,-0.07414133341152235,-0.08482487683000761,-0.07210219543425328,-0.1482661086429622,-0.09544326136503767,-0.08456740540660906,-0.1097183164626141,-0.07637885931992633,-0.08048931461663622,-0.060915536149555555,-0.09573217365804665,-0.11598875168582279,-0.08889118147544406,-0.09021690164934293,-0.09680603206247551,-0.09101375342150442,-0.09641933132498015,-0.10533635279768416],\"type\":\"scatter3d\"}],                        {\"template\":{\"data\":{\"histogram2dcontour\":[{\"type\":\"histogram2dcontour\",\"colorbar\":{\"outlinewidth\":0,\"ticks\":\"\"},\"colorscale\":[[0.0,\"#0d0887\"],[0.1111111111111111,\"#46039f\"],[0.2222222222222222,\"#7201a8\"],[0.3333333333333333,\"#9c179e\"],[0.4444444444444444,\"#bd3786\"],[0.5555555555555556,\"#d8576b\"],[0.6666666666666666,\"#ed7953\"],[0.7777777777777778,\"#fb9f3a\"],[0.8888888888888888,\"#fdca26\"],[1.0,\"#f0f921\"]]}],\"choropleth\":[{\"type\":\"choropleth\",\"colorbar\":{\"outlinewidth\":0,\"ticks\":\"\"}}],\"histogram2d\":[{\"type\":\"histogram2d\",\"colorbar\":{\"outlinewidth\":0,\"ticks\":\"\"},\"colorscale\":[[0.0,\"#0d0887\"],[0.1111111111111111,\"#46039f\"],[0.2222222222222222,\"#7201a8\"],[0.3333333333333333,\"#9c179e\"],[0.4444444444444444,\"#bd3786\"],[0.5555555555555556,\"#d8576b\"],[0.6666666666666666,\"#ed7953\"],[0.7777777777777778,\"#fb9f3a\"],[0.8888888888888888,\"#fdca26\"],[1.0,\"#f0f921\"]]}],\"heatmap\":[{\"type\":\"heatmap\",\"colorbar\":{\"outlinewidth\":0,\"ticks\":\"\"},\"colorscale\":[[0.0,\"#0d0887\"],[0.1111111111111111,\"#46039f\"],[0.2222222222222222,\"#7201a8\"],[0.3333333333333333,\"#9c179e\"],[0.4444444444444444,\"#bd3786\"],[0.5555555555555556,\"#d8576b\"],[0.6666666666666666,\"#ed7953\"],[0.7777777777777778,\"#fb9f3a\"],[0.8888888888888888,\"#fdca26\"],[1.0,\"#f0f921\"]]}],\"heatmapgl\":[{\"type\":\"heatmapgl\",\"colorbar\":{\"outlinewidth\":0,\"ticks\":\"\"},\"colorscale\":[[0.0,\"#0d0887\"],[0.1111111111111111,\"#46039f\"],[0.2222222222222222,\"#7201a8\"],[0.3333333333333333,\"#9c179e\"],[0.4444444444444444,\"#bd3786\"],[0.5555555555555556,\"#d8576b\"],[0.6666666666666666,\"#ed7953\"],[0.7777777777777778,\"#fb9f3a\"],[0.8888888888888888,\"#fdca26\"],[1.0,\"#f0f921\"]]}],\"contourcarpet\":[{\"type\":\"contourcarpet\",\"colorbar\":{\"outlinewidth\":0,\"ticks\":\"\"}}],\"contour\":[{\"type\":\"contour\",\"colorbar\":{\"outlinewidth\":0,\"ticks\":\"\"},\"colorscale\":[[0.0,\"#0d0887\"],[0.1111111111111111,\"#46039f\"],[0.2222222222222222,\"#7201a8\"],[0.3333333333333333,\"#9c179e\"],[0.4444444444444444,\"#bd3786\"],[0.5555555555555556,\"#d8576b\"],[0.6666666666666666,\"#ed7953\"],[0.7777777777777778,\"#fb9f3a\"],[0.8888888888888888,\"#fdca26\"],[1.0,\"#f0f921\"]]}],\"surface\":[{\"type\":\"surface\",\"colorbar\":{\"outlinewidth\":0,\"ticks\":\"\"},\"colorscale\":[[0.0,\"#0d0887\"],[0.1111111111111111,\"#46039f\"],[0.2222222222222222,\"#7201a8\"],[0.3333333333333333,\"#9c179e\"],[0.4444444444444444,\"#bd3786\"],[0.5555555555555556,\"#d8576b\"],[0.6666666666666666,\"#ed7953\"],[0.7777777777777778,\"#fb9f3a\"],[0.8888888888888888,\"#fdca26\"],[1.0,\"#f0f921\"]]}],\"mesh3d\":[{\"type\":\"mesh3d\",\"colorbar\":{\"outlinewidth\":0,\"ticks\":\"\"}}],\"scatter\":[{\"fillpattern\":{\"fillmode\":\"overlay\",\"size\":10,\"solidity\":0.2},\"type\":\"scatter\"}],\"parcoords\":[{\"type\":\"parcoords\",\"line\":{\"colorbar\":{\"outlinewidth\":0,\"ticks\":\"\"}}}],\"scatterpolargl\":[{\"type\":\"scatterpolargl\",\"marker\":{\"colorbar\":{\"outlinewidth\":0,\"ticks\":\"\"}}}],\"bar\":[{\"error_x\":{\"color\":\"#2a3f5f\"},\"error_y\":{\"color\":\"#2a3f5f\"},\"marker\":{\"line\":{\"color\":\"#E5ECF6\",\"width\":0.5},\"pattern\":{\"fillmode\":\"overlay\",\"size\":10,\"solidity\":0.2}},\"type\":\"bar\"}],\"scattergeo\":[{\"type\":\"scattergeo\",\"marker\":{\"colorbar\":{\"outlinewidth\":0,\"ticks\":\"\"}}}],\"scatterpolar\":[{\"type\":\"scatterpolar\",\"marker\":{\"colorbar\":{\"outlinewidth\":0,\"ticks\":\"\"}}}],\"histogram\":[{\"marker\":{\"pattern\":{\"fillmode\":\"overlay\",\"size\":10,\"solidity\":0.2}},\"type\":\"histogram\"}],\"scattergl\":[{\"type\":\"scattergl\",\"marker\":{\"colorbar\":{\"outlinewidth\":0,\"ticks\":\"\"}}}],\"scatter3d\":[{\"type\":\"scatter3d\",\"line\":{\"colorbar\":{\"outlinewidth\":0,\"ticks\":\"\"}},\"marker\":{\"colorbar\":{\"outlinewidth\":0,\"ticks\":\"\"}}}],\"scattermapbox\":[{\"type\":\"scattermapbox\",\"marker\":{\"colorbar\":{\"outlinewidth\":0,\"ticks\":\"\"}}}],\"scatterternary\":[{\"type\":\"scatterternary\",\"marker\":{\"colorbar\":{\"outlinewidth\":0,\"ticks\":\"\"}}}],\"scattercarpet\":[{\"type\":\"scattercarpet\",\"marker\":{\"colorbar\":{\"outlinewidth\":0,\"ticks\":\"\"}}}],\"carpet\":[{\"aaxis\":{\"endlinecolor\":\"#2a3f5f\",\"gridcolor\":\"white\",\"linecolor\":\"white\",\"minorgridcolor\":\"white\",\"startlinecolor\":\"#2a3f5f\"},\"baxis\":{\"endlinecolor\":\"#2a3f5f\",\"gridcolor\":\"white\",\"linecolor\":\"white\",\"minorgridcolor\":\"white\",\"startlinecolor\":\"#2a3f5f\"},\"type\":\"carpet\"}],\"table\":[{\"cells\":{\"fill\":{\"color\":\"#EBF0F8\"},\"line\":{\"color\":\"white\"}},\"header\":{\"fill\":{\"color\":\"#C8D4E3\"},\"line\":{\"color\":\"white\"}},\"type\":\"table\"}],\"barpolar\":[{\"marker\":{\"line\":{\"color\":\"#E5ECF6\",\"width\":0.5},\"pattern\":{\"fillmode\":\"overlay\",\"size\":10,\"solidity\":0.2}},\"type\":\"barpolar\"}],\"pie\":[{\"automargin\":true,\"type\":\"pie\"}]},\"layout\":{\"autotypenumbers\":\"strict\",\"colorway\":[\"#636efa\",\"#EF553B\",\"#00cc96\",\"#ab63fa\",\"#FFA15A\",\"#19d3f3\",\"#FF6692\",\"#B6E880\",\"#FF97FF\",\"#FECB52\"],\"font\":{\"color\":\"#2a3f5f\"},\"hovermode\":\"closest\",\"hoverlabel\":{\"align\":\"left\"},\"paper_bgcolor\":\"white\",\"plot_bgcolor\":\"#E5ECF6\",\"polar\":{\"bgcolor\":\"#E5ECF6\",\"angularaxis\":{\"gridcolor\":\"white\",\"linecolor\":\"white\",\"ticks\":\"\"},\"radialaxis\":{\"gridcolor\":\"white\",\"linecolor\":\"white\",\"ticks\":\"\"}},\"ternary\":{\"bgcolor\":\"#E5ECF6\",\"aaxis\":{\"gridcolor\":\"white\",\"linecolor\":\"white\",\"ticks\":\"\"},\"baxis\":{\"gridcolor\":\"white\",\"linecolor\":\"white\",\"ticks\":\"\"},\"caxis\":{\"gridcolor\":\"white\",\"linecolor\":\"white\",\"ticks\":\"\"}},\"coloraxis\":{\"colorbar\":{\"outlinewidth\":0,\"ticks\":\"\"}},\"colorscale\":{\"sequential\":[[0.0,\"#0d0887\"],[0.1111111111111111,\"#46039f\"],[0.2222222222222222,\"#7201a8\"],[0.3333333333333333,\"#9c179e\"],[0.4444444444444444,\"#bd3786\"],[0.5555555555555556,\"#d8576b\"],[0.6666666666666666,\"#ed7953\"],[0.7777777777777778,\"#fb9f3a\"],[0.8888888888888888,\"#fdca26\"],[1.0,\"#f0f921\"]],\"sequentialminus\":[[0.0,\"#0d0887\"],[0.1111111111111111,\"#46039f\"],[0.2222222222222222,\"#7201a8\"],[0.3333333333333333,\"#9c179e\"],[0.4444444444444444,\"#bd3786\"],[0.5555555555555556,\"#d8576b\"],[0.6666666666666666,\"#ed7953\"],[0.7777777777777778,\"#fb9f3a\"],[0.8888888888888888,\"#fdca26\"],[1.0,\"#f0f921\"]],\"diverging\":[[0,\"#8e0152\"],[0.1,\"#c51b7d\"],[0.2,\"#de77ae\"],[0.3,\"#f1b6da\"],[0.4,\"#fde0ef\"],[0.5,\"#f7f7f7\"],[0.6,\"#e6f5d0\"],[0.7,\"#b8e186\"],[0.8,\"#7fbc41\"],[0.9,\"#4d9221\"],[1,\"#276419\"]]},\"xaxis\":{\"gridcolor\":\"white\",\"linecolor\":\"white\",\"ticks\":\"\",\"title\":{\"standoff\":15},\"zerolinecolor\":\"white\",\"automargin\":true,\"zerolinewidth\":2},\"yaxis\":{\"gridcolor\":\"white\",\"linecolor\":\"white\",\"ticks\":\"\",\"title\":{\"standoff\":15},\"zerolinecolor\":\"white\",\"automargin\":true,\"zerolinewidth\":2},\"scene\":{\"xaxis\":{\"backgroundcolor\":\"#E5ECF6\",\"gridcolor\":\"white\",\"linecolor\":\"white\",\"showbackground\":true,\"ticks\":\"\",\"zerolinecolor\":\"white\",\"gridwidth\":2},\"yaxis\":{\"backgroundcolor\":\"#E5ECF6\",\"gridcolor\":\"white\",\"linecolor\":\"white\",\"showbackground\":true,\"ticks\":\"\",\"zerolinecolor\":\"white\",\"gridwidth\":2},\"zaxis\":{\"backgroundcolor\":\"#E5ECF6\",\"gridcolor\":\"white\",\"linecolor\":\"white\",\"showbackground\":true,\"ticks\":\"\",\"zerolinecolor\":\"white\",\"gridwidth\":2}},\"shapedefaults\":{\"line\":{\"color\":\"#2a3f5f\"}},\"annotationdefaults\":{\"arrowcolor\":\"#2a3f5f\",\"arrowhead\":0,\"arrowwidth\":1},\"geo\":{\"bgcolor\":\"white\",\"landcolor\":\"#E5ECF6\",\"subunitcolor\":\"white\",\"showland\":true,\"showlakes\":true,\"lakecolor\":\"white\"},\"title\":{\"x\":0.05},\"mapbox\":{\"style\":\"light\"}}},\"scene\":{\"domain\":{\"x\":[0.0,1.0],\"y\":[0.0,1.0]},\"xaxis\":{\"title\":{\"text\":\"PC1\"}},\"yaxis\":{\"title\":{\"text\":\"PC2\"}},\"zaxis\":{\"title\":{\"text\":\"PC3\"}}},\"legend\":{\"title\":{\"text\":\"Population\"},\"tracegroupgap\":0,\"x\":1.05,\"y\":1,\"bgcolor\":\"rgba(255, 255, 255, 0.8)\"},\"title\":{\"text\":\"PCA Scatter Plot by Population (Admixure)\"},\"margin\":{\"l\":0,\"r\":0,\"b\":0,\"t\":30}},                        {\"responsive\": true}                    ).then(function(){\n",
       "                            \n",
       "var gd = document.getElementById('f1fd82b0-ee1f-4372-be6f-cd2b399cb704');\n",
       "var x = new MutationObserver(function (mutations, observer) {{\n",
       "        var display = window.getComputedStyle(gd).display;\n",
       "        if (!display || display === 'none') {{\n",
       "            console.log([gd, 'removed!']);\n",
       "            Plotly.purge(gd);\n",
       "            observer.disconnect();\n",
       "        }}\n",
       "}});\n",
       "\n",
       "// Listen for the removal of the full notebook cells\n",
       "var notebookContainer = gd.closest('#notebook-container');\n",
       "if (notebookContainer) {{\n",
       "    x.observe(notebookContainer, {childList: true});\n",
       "}}\n",
       "\n",
       "// Listen for the clearing of the current output cell\n",
       "var outputEl = gd.closest('.output');\n",
       "if (outputEl) {{\n",
       "    x.observe(outputEl, {childList: true});\n",
       "}}\n",
       "\n",
       "                        })                };                });            </script>        </div>"
      ]
     },
     "metadata": {},
     "output_type": "display_data"
    }
   ],
   "source": [
    "plot_3d(data=data_admixure_pca, title='PCA Scatter Plot by Population (Admixure)', x='PC1', y='PC2', z='PC3', save_name=f\"{PREFIX}_3d_PCA\")"
   ]
  },
  {
   "cell_type": "code",
   "execution_count": null,
   "id": "f3ee81ee-c209-4cb4-a373-aa667d149fe3",
   "metadata": {},
   "outputs": [],
   "source": []
  }
 ],
 "metadata": {
  "kernelspec": {
   "display_name": "hw1",
   "language": "python",
   "name": "hw1"
  },
  "language_info": {
   "codemirror_mode": {
    "name": "ipython",
    "version": 3
   },
   "file_extension": ".py",
   "mimetype": "text/x-python",
   "name": "python",
   "nbconvert_exporter": "python",
   "pygments_lexer": "ipython3",
   "version": "3.12.5"
  }
 },
 "nbformat": 4,
 "nbformat_minor": 5
}
